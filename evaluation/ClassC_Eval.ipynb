{
 "cells": [
  {
   "cell_type": "code",
   "execution_count": null,
   "metadata": {
    "colab": {
     "base_uri": "https://localhost:8080/",
     "height": 992
    },
    "id": "DbRxKhF993Xs",
    "outputId": "859114dd-92c6-4b6d-d3ed-96b2c37a0d72"
   },
   "outputs": [
    {
     "name": "stdout",
     "output_type": "stream",
     "text": [
      "Collecting tensorflow-gpu==1.15\n",
      "\u001b[?25l  Downloading https://files.pythonhosted.org/packages/a5/ad/933140e74973fb917a194ab814785e7c23680ca5dee6d663a509fe9579b6/tensorflow_gpu-1.15.0-cp36-cp36m-manylinux2010_x86_64.whl (411.5MB)\n",
      "\u001b[K     |████████████████████████████████| 411.5MB 40kB/s \n",
      "\u001b[?25hCollecting keras-applications>=1.0.8\n",
      "\u001b[?25l  Downloading https://files.pythonhosted.org/packages/71/e3/19762fdfc62877ae9102edf6342d71b28fbfd9dea3d2f96a882ce099b03f/Keras_Applications-1.0.8-py3-none-any.whl (50kB)\n",
      "\u001b[K     |████████████████████████████████| 51kB 7.9MB/s \n",
      "\u001b[?25hRequirement already satisfied: termcolor>=1.1.0 in /usr/local/lib/python3.6/dist-packages (from tensorflow-gpu==1.15) (1.1.0)\n",
      "Requirement already satisfied: six>=1.10.0 in /usr/local/lib/python3.6/dist-packages (from tensorflow-gpu==1.15) (1.15.0)\n",
      "Requirement already satisfied: protobuf>=3.6.1 in /usr/local/lib/python3.6/dist-packages (from tensorflow-gpu==1.15) (3.12.4)\n",
      "Requirement already satisfied: google-pasta>=0.1.6 in /usr/local/lib/python3.6/dist-packages (from tensorflow-gpu==1.15) (0.2.0)\n",
      "Requirement already satisfied: wheel>=0.26 in /usr/local/lib/python3.6/dist-packages (from tensorflow-gpu==1.15) (0.35.1)\n",
      "Requirement already satisfied: opt-einsum>=2.3.2 in /usr/local/lib/python3.6/dist-packages (from tensorflow-gpu==1.15) (3.3.0)\n",
      "Requirement already satisfied: numpy<2.0,>=1.16.0 in /usr/local/lib/python3.6/dist-packages (from tensorflow-gpu==1.15) (1.18.5)\n",
      "Collecting tensorboard<1.16.0,>=1.15.0\n",
      "\u001b[?25l  Downloading https://files.pythonhosted.org/packages/1e/e9/d3d747a97f7188f48aa5eda486907f3b345cd409f0a0850468ba867db246/tensorboard-1.15.0-py3-none-any.whl (3.8MB)\n",
      "\u001b[K     |████████████████████████████████| 3.8MB 60.5MB/s \n",
      "\u001b[?25hCollecting tensorflow-estimator==1.15.1\n",
      "\u001b[?25l  Downloading https://files.pythonhosted.org/packages/de/62/2ee9cd74c9fa2fa450877847ba560b260f5d0fb70ee0595203082dafcc9d/tensorflow_estimator-1.15.1-py2.py3-none-any.whl (503kB)\n",
      "\u001b[K     |████████████████████████████████| 512kB 54.5MB/s \n",
      "\u001b[?25hRequirement already satisfied: grpcio>=1.8.6 in /usr/local/lib/python3.6/dist-packages (from tensorflow-gpu==1.15) (1.32.0)\n",
      "Collecting gast==0.2.2\n",
      "  Downloading https://files.pythonhosted.org/packages/4e/35/11749bf99b2d4e3cceb4d55ca22590b0d7c2c62b9de38ac4a4a7f4687421/gast-0.2.2.tar.gz\n",
      "Requirement already satisfied: absl-py>=0.7.0 in /usr/local/lib/python3.6/dist-packages (from tensorflow-gpu==1.15) (0.10.0)\n",
      "Requirement already satisfied: wrapt>=1.11.1 in /usr/local/lib/python3.6/dist-packages (from tensorflow-gpu==1.15) (1.12.1)\n",
      "Requirement already satisfied: astor>=0.6.0 in /usr/local/lib/python3.6/dist-packages (from tensorflow-gpu==1.15) (0.8.1)\n",
      "Requirement already satisfied: keras-preprocessing>=1.0.5 in /usr/local/lib/python3.6/dist-packages (from tensorflow-gpu==1.15) (1.1.2)\n",
      "Requirement already satisfied: h5py in /usr/local/lib/python3.6/dist-packages (from keras-applications>=1.0.8->tensorflow-gpu==1.15) (2.10.0)\n",
      "Requirement already satisfied: setuptools in /usr/local/lib/python3.6/dist-packages (from protobuf>=3.6.1->tensorflow-gpu==1.15) (50.3.0)\n",
      "Requirement already satisfied: markdown>=2.6.8 in /usr/local/lib/python3.6/dist-packages (from tensorboard<1.16.0,>=1.15.0->tensorflow-gpu==1.15) (3.2.2)\n",
      "Requirement already satisfied: werkzeug>=0.11.15 in /usr/local/lib/python3.6/dist-packages (from tensorboard<1.16.0,>=1.15.0->tensorflow-gpu==1.15) (1.0.1)\n",
      "Requirement already satisfied: importlib-metadata; python_version < \"3.8\" in /usr/local/lib/python3.6/dist-packages (from markdown>=2.6.8->tensorboard<1.16.0,>=1.15.0->tensorflow-gpu==1.15) (2.0.0)\n",
      "Requirement already satisfied: zipp>=0.5 in /usr/local/lib/python3.6/dist-packages (from importlib-metadata; python_version < \"3.8\"->markdown>=2.6.8->tensorboard<1.16.0,>=1.15.0->tensorflow-gpu==1.15) (3.2.0)\n",
      "Building wheels for collected packages: gast\n",
      "  Building wheel for gast (setup.py) ... \u001b[?25l\u001b[?25hdone\n",
      "  Created wheel for gast: filename=gast-0.2.2-cp36-none-any.whl size=7542 sha256=6dd074c23c10f8dbe9daed78397d280b6b6ca0fb81cd14ab39156a1b7098de86\n",
      "  Stored in directory: /root/.cache/pip/wheels/5c/2e/7e/a1d4d4fcebe6c381f378ce7743a3ced3699feb89bcfbdadadd\n",
      "Successfully built gast\n",
      "\u001b[31mERROR: tensorflow 2.3.0 has requirement gast==0.3.3, but you'll have gast 0.2.2 which is incompatible.\u001b[0m\n",
      "\u001b[31mERROR: tensorflow 2.3.0 has requirement tensorboard<3,>=2.3.0, but you'll have tensorboard 1.15.0 which is incompatible.\u001b[0m\n",
      "\u001b[31mERROR: tensorflow 2.3.0 has requirement tensorflow-estimator<2.4.0,>=2.3.0, but you'll have tensorflow-estimator 1.15.1 which is incompatible.\u001b[0m\n",
      "\u001b[31mERROR: tensorflow-probability 0.11.0 has requirement gast>=0.3.2, but you'll have gast 0.2.2 which is incompatible.\u001b[0m\n",
      "Installing collected packages: keras-applications, tensorboard, tensorflow-estimator, gast, tensorflow-gpu\n",
      "  Found existing installation: tensorboard 2.3.0\n",
      "    Uninstalling tensorboard-2.3.0:\n",
      "      Successfully uninstalled tensorboard-2.3.0\n",
      "  Found existing installation: tensorflow-estimator 2.3.0\n",
      "    Uninstalling tensorflow-estimator-2.3.0:\n",
      "      Successfully uninstalled tensorflow-estimator-2.3.0\n",
      "  Found existing installation: gast 0.3.3\n",
      "    Uninstalling gast-0.3.3:\n",
      "      Successfully uninstalled gast-0.3.3\n",
      "Successfully installed gast-0.2.2 keras-applications-1.0.8 tensorboard-1.15.0 tensorflow-estimator-1.15.1 tensorflow-gpu-1.15.0\n"
     ]
    }
   ],
   "source": [
    "!pip install tensorflow-gpu==1.15"
   ]
  },
  {
   "cell_type": "code",
   "execution_count": null,
   "metadata": {
    "colab": {
     "base_uri": "https://localhost:8080/",
     "height": 166
    },
    "id": "ff0SzpaU9_vs",
    "outputId": "80010f11-d49a-4670-a3e5-a1dabcde1efe"
   },
   "outputs": [
    {
     "name": "stdout",
     "output_type": "stream",
     "text": [
      "Collecting tensorflow-compression\n",
      "\u001b[?25l  Downloading https://files.pythonhosted.org/packages/78/7c/6303a295ac9e9040eaf11e1f7ed8c18cf94e4698c17e36541b4143fce1d5/tensorflow_compression-1.3-cp36-cp36m-manylinux2010_x86_64.whl (121kB)\n",
      "\u001b[K     |████████████████████████████████| 122kB 4.6MB/s \n",
      "\u001b[?25hRequirement already satisfied: scipy>=1 in /usr/local/lib/python3.6/dist-packages (from tensorflow-compression) (1.4.1)\n",
      "Requirement already satisfied: numpy>=1.13.3 in /usr/local/lib/python3.6/dist-packages (from scipy>=1->tensorflow-compression) (1.18.5)\n",
      "Installing collected packages: tensorflow-compression\n",
      "Successfully installed tensorflow-compression-1.3\n"
     ]
    }
   ],
   "source": [
    "!pip install tensorflow-compression"
   ]
  },
  {
   "cell_type": "code",
   "execution_count": null,
   "metadata": {
    "colab": {
     "base_uri": "https://localhost:8080/",
     "height": 35
    },
    "id": "fz74vesw-BJB",
    "outputId": "e70b4222-b368-497b-c723-c99edabf4ead"
   },
   "outputs": [
    {
     "name": "stdout",
     "output_type": "stream",
     "text": [
      "/content/drive/My Drive/Video_Compression_Using_Deep_Neural_Network/JCT-VC\n"
     ]
    }
   ],
   "source": [
    "%cd /content/drive/My Drive/Video_Compression_Using_Deep_Neural_Network/JCT-VC"
   ]
  },
  {
   "cell_type": "code",
   "execution_count": null,
   "metadata": {
    "id": "Umjfs6UR-CJp"
   },
   "outputs": [],
   "source": []
  },
  {
   "cell_type": "markdown",
   "metadata": {
    "id": "nF89RtxfQDcZ"
   },
   "source": [
    "# Test on JCT-VC Class C Datasets"
   ]
  },
  {
   "cell_type": "code",
   "execution_count": null,
   "metadata": {
    "id": "kon2r4PIs79j"
   },
   "outputs": [],
   "source": []
  },
  {
   "cell_type": "code",
   "execution_count": null,
   "metadata": {
    "id": "hxv54LoTs-Jy"
   },
   "outputs": [],
   "source": []
  },
  {
   "cell_type": "markdown",
   "metadata": {
    "id": "QYcTrX9_PQFV"
   },
   "source": [
    "**H.264** <br/>\n",
    "`sh JCT_VC_264.sh inputfile outputfile Width Height framerate crf gop`"
   ]
  },
  {
   "cell_type": "markdown",
   "metadata": {
    "id": "8CUKIDbVPVyT"
   },
   "source": [
    "**H.265** <br/>\n",
    "`sh JCT_VC_265.sh inputfile outputfile Width Height framerate crf gop`"
   ]
  },
  {
   "cell_type": "code",
   "execution_count": null,
   "metadata": {
    "colab": {
     "base_uri": "https://localhost:8080/",
     "height": 35
    },
    "id": "-4Se7HR8MOQ9",
    "outputId": "bcf897e9-4bc3-4b86-ec3b-3b70ced45e40"
   },
   "outputs": [
    {
     "name": "stdout",
     "output_type": "stream",
     "text": [
      "[libx264 @ 0x564df9a19900] PSNR Mean Y:40.407 U:42.332 V:42.720 Avg:40.998 Global:40.853 kb/s:9195.58\n"
     ]
    }
   ],
   "source": [
    "!sh JCT_VC_264.sh ClassC/BasketballDrill.yuv ClassC_mkv/BasketballDrill_H264_15.mkv 832 480 50 15 10"
   ]
  },
  {
   "cell_type": "code",
   "execution_count": null,
   "metadata": {
    "colab": {
     "base_uri": "https://localhost:8080/",
     "height": 35
    },
    "id": "-sueoIP6MeYm",
    "outputId": "ec7eb91a-f97a-4ad5-bce0-ead00eba2ef1"
   },
   "outputs": [
    {
     "name": "stdout",
     "output_type": "stream",
     "text": [
      "[libx264 @ 0x55b7dcb21900] PSNR Mean Y:37.854 U:40.389 V:40.466 Avg:38.549 Global:38.430 kb/s:5313.83\n"
     ]
    }
   ],
   "source": [
    "!sh JCT_VC_264.sh ClassC/BasketballDrill.yuv ClassC_mkv/BasketballDrill_H264_19.mkv 832 480 50 19 10"
   ]
  },
  {
   "cell_type": "code",
   "execution_count": null,
   "metadata": {
    "colab": {
     "base_uri": "https://localhost:8080/",
     "height": 35
    },
    "id": "xJaozfsyMe4g",
    "outputId": "a5c9b5c0-5c18-4da2-bedb-acaf686829d9"
   },
   "outputs": [
    {
     "name": "stdout",
     "output_type": "stream",
     "text": [
      "[libx264 @ 0x559b97f8d900] PSNR Mean Y:35.395 U:38.741 V:38.620 Avg:36.235 Global:36.130 kb/s:3126.14\n"
     ]
    }
   ],
   "source": [
    "!sh JCT_VC_264.sh ClassC/BasketballDrill.yuv ClassC_mkv/BasketballDrill_H264_23.mkv 832 480 50 23 10"
   ]
  },
  {
   "cell_type": "code",
   "execution_count": null,
   "metadata": {
    "colab": {
     "base_uri": "https://localhost:8080/",
     "height": 35
    },
    "id": "rrMOo24pMe8d",
    "outputId": "e4d0329b-0691-4450-fa5e-16d2a0d4f9cf"
   },
   "outputs": [
    {
     "name": "stdout",
     "output_type": "stream",
     "text": [
      "[libx264 @ 0x5567cfbb7900] PSNR Mean Y:33.068 U:37.305 V:37.007 Avg:34.050 Global:33.957 kb/s:1833.50\n"
     ]
    }
   ],
   "source": [
    "!sh JCT_VC_264.sh ClassC/BasketballDrill.yuv ClassC_mkv/BasketballDrill_H264_27.mkv 832 480 50 27 10"
   ]
  },
  {
   "cell_type": "code",
   "execution_count": null,
   "metadata": {
    "id": "93VzbRHNMe_u"
   },
   "outputs": [],
   "source": []
  },
  {
   "cell_type": "code",
   "execution_count": null,
   "metadata": {
    "colab": {
     "base_uri": "https://localhost:8080/",
     "height": 35
    },
    "id": "UFLK6-PYMnPM",
    "outputId": "8c7e34e4-76e4-4e92-d0d5-53a499db882f"
   },
   "outputs": [
    {
     "name": "stdout",
     "output_type": "stream",
     "text": [
      "encoded 100 frames in 9.18s (10.90 fps), 9699.68 kb/s, Avg QP:20.55, Global PSNR: 42.462\n"
     ]
    }
   ],
   "source": [
    "!sh JCT_VC_265.sh ClassC/BasketballDrill.yuv ClassC_mkv/BasketballDrill_H265_15.mkv 832 480 50 15 10"
   ]
  },
  {
   "cell_type": "code",
   "execution_count": null,
   "metadata": {
    "colab": {
     "base_uri": "https://localhost:8080/",
     "height": 35
    },
    "id": "UIi2Cs_-MnPl",
    "outputId": "9c3715a7-92ec-44ea-9930-f7000aebd605"
   },
   "outputs": [
    {
     "name": "stdout",
     "output_type": "stream",
     "text": [
      "encoded 100 frames in 7.33s (13.64 fps), 5462.24 kb/s, Avg QP:24.57, Global PSNR: 40.253\n"
     ]
    }
   ],
   "source": [
    "!sh JCT_VC_265.sh ClassC/BasketballDrill.yuv ClassC_mkv/BasketballDrill_H265_19.mkv 832 480 50 19 10"
   ]
  },
  {
   "cell_type": "code",
   "execution_count": null,
   "metadata": {
    "colab": {
     "base_uri": "https://localhost:8080/",
     "height": 35
    },
    "id": "vllt2DBTMnP2",
    "outputId": "09ad7b56-2e79-40c7-e3a6-7419b37518dd"
   },
   "outputs": [
    {
     "name": "stdout",
     "output_type": "stream",
     "text": [
      "encoded 100 frames in 6.23s (16.05 fps), 3216.18 kb/s, Avg QP:28.56, Global PSNR: 38.068\n"
     ]
    }
   ],
   "source": [
    "!sh JCT_VC_265.sh ClassC/BasketballDrill.yuv ClassC_mkv/BasketballDrill_H265_23.mkv 832 480 50 23 10"
   ]
  },
  {
   "cell_type": "code",
   "execution_count": null,
   "metadata": {
    "colab": {
     "base_uri": "https://localhost:8080/",
     "height": 35
    },
    "id": "AiVylSMTMnQB",
    "outputId": "c6db1cd3-0a97-45de-9dcb-dc8cff122bbe"
   },
   "outputs": [
    {
     "name": "stdout",
     "output_type": "stream",
     "text": [
      "encoded 100 frames in 5.40s (18.51 fps), 1900.33 kb/s, Avg QP:32.52, Global PSNR: 35.912\n"
     ]
    }
   ],
   "source": [
    "!sh JCT_VC_265.sh ClassC/BasketballDrill.yuv ClassC_mkv/BasketballDrill_H265_27.mkv 832 480 50 27 10"
   ]
  },
  {
   "cell_type": "code",
   "execution_count": null,
   "metadata": {
    "id": "I-43khVMMfC1"
   },
   "outputs": [],
   "source": []
  },
  {
   "cell_type": "code",
   "execution_count": null,
   "metadata": {
    "id": "qFb42PKMMfFf"
   },
   "outputs": [],
   "source": []
  },
  {
   "cell_type": "code",
   "execution_count": null,
   "metadata": {
    "colab": {
     "base_uri": "https://localhost:8080/",
     "height": 35
    },
    "id": "MMORZbUZMu6H",
    "outputId": "e06caf68-64d9-4ae6-f8b0-d23c3bc2575b"
   },
   "outputs": [
    {
     "name": "stdout",
     "output_type": "stream",
     "text": [
      "[libx264 @ 0x5636bab3f900] PSNR Mean Y:38.757 U:42.145 V:42.869 Avg:39.675 Global:39.560 kb/s:10808.91\n"
     ]
    }
   ],
   "source": [
    "!sh JCT_VC_264.sh ClassC/BQMall.yuv ClassC_mkv/BQMall_H264_15.mkv 832 480 60 15 10"
   ]
  },
  {
   "cell_type": "code",
   "execution_count": null,
   "metadata": {
    "colab": {
     "base_uri": "https://localhost:8080/",
     "height": 35
    },
    "id": "3TewPl91Mu6i",
    "outputId": "84729280-da90-40c0-abf0-9e438d1f0850"
   },
   "outputs": [
    {
     "name": "stdout",
     "output_type": "stream",
     "text": [
      "[libx264 @ 0x55fa15ee1900] PSNR Mean Y:36.460 U:40.747 V:40.986 Avg:37.489 Global:37.390 kb/s:6018.71\n"
     ]
    }
   ],
   "source": [
    "!sh JCT_VC_264.sh ClassC/BQMall.yuv ClassC_mkv/BQMall_H264_19.mkv 832 480 60 19 10"
   ]
  },
  {
   "cell_type": "code",
   "execution_count": null,
   "metadata": {
    "colab": {
     "base_uri": "https://localhost:8080/",
     "height": 35
    },
    "id": "ZtHCEz1FMu60",
    "outputId": "538257d7-31cc-482f-e9b6-b2b86d3de1b3"
   },
   "outputs": [
    {
     "name": "stdout",
     "output_type": "stream",
     "text": [
      "[libx264 @ 0x55c3276f7900] PSNR Mean Y:34.103 U:39.586 V:39.532 Avg:35.280 Global:35.174 kb/s:3617.94\n"
     ]
    }
   ],
   "source": [
    "!sh JCT_VC_264.sh ClassC/BQMall.yuv ClassC_mkv/BQMall_H264_23.mkv 832 480 60 23 10"
   ]
  },
  {
   "cell_type": "code",
   "execution_count": null,
   "metadata": {
    "colab": {
     "base_uri": "https://localhost:8080/",
     "height": 35
    },
    "id": "vwR8P3hwMu7A",
    "outputId": "a1e63f1c-56fc-4822-b455-4b8afe81f8d7"
   },
   "outputs": [
    {
     "name": "stdout",
     "output_type": "stream",
     "text": [
      "[libx264 @ 0x55b8e33c5900] PSNR Mean Y:31.688 U:38.495 V:38.270 Avg:33.002 Global:32.886 kb/s:2199.91\n"
     ]
    }
   ],
   "source": [
    "!sh JCT_VC_264.sh ClassC/BQMall.yuv ClassC_mkv/BQMall_H264_27.mkv 832 480 60 27 10"
   ]
  },
  {
   "cell_type": "code",
   "execution_count": null,
   "metadata": {
    "id": "UdPbNt6eMu7J"
   },
   "outputs": [],
   "source": []
  },
  {
   "cell_type": "code",
   "execution_count": null,
   "metadata": {
    "colab": {
     "base_uri": "https://localhost:8080/",
     "height": 35
    },
    "id": "9ZzBliBSMu7U",
    "outputId": "8b00f3d0-6f77-43d9-df6a-57fdeca8f13b"
   },
   "outputs": [
    {
     "name": "stdout",
     "output_type": "stream",
     "text": [
      "encoded 100 frames in 9.04s (11.06 fps), 12859.68 kb/s, Avg QP:22.04, Global PSNR: 40.858\n"
     ]
    }
   ],
   "source": [
    "!sh JCT_VC_265.sh ClassC/BQMall.yuv ClassC_mkv/BQMall_H265_15.mkv 832 480 60 15 10"
   ]
  },
  {
   "cell_type": "code",
   "execution_count": null,
   "metadata": {
    "colab": {
     "base_uri": "https://localhost:8080/",
     "height": 35
    },
    "id": "keVCb9HkMu7c",
    "outputId": "1f5de206-b1d3-437a-edfa-854c2fb3a8bf"
   },
   "outputs": [
    {
     "name": "stdout",
     "output_type": "stream",
     "text": [
      "encoded 100 frames in 7.12s (14.05 fps), 6884.21 kb/s, Avg QP:26.11, Global PSNR: 38.804\n"
     ]
    }
   ],
   "source": [
    "!sh JCT_VC_265.sh ClassC/BQMall.yuv ClassC_mkv/BQMall_H265_19.mkv 832 480 60 19 10"
   ]
  },
  {
   "cell_type": "code",
   "execution_count": null,
   "metadata": {
    "colab": {
     "base_uri": "https://localhost:8080/",
     "height": 35
    },
    "id": "-TdzQzIoMu7n",
    "outputId": "807ca656-27d1-40e0-c300-ea8d46b7f0e1"
   },
   "outputs": [
    {
     "name": "stdout",
     "output_type": "stream",
     "text": [
      "encoded 100 frames in 5.99s (16.69 fps), 4030.95 kb/s, Avg QP:30.29, Global PSNR: 36.730\n"
     ]
    }
   ],
   "source": [
    "!sh JCT_VC_265.sh ClassC/BQMall.yuv ClassC_mkv/BQMall_H265_23.mkv 832 480 60 23 10"
   ]
  },
  {
   "cell_type": "code",
   "execution_count": null,
   "metadata": {
    "colab": {
     "base_uri": "https://localhost:8080/",
     "height": 35
    },
    "id": "LrdmqYmyMu7x",
    "outputId": "cdee1383-cc89-41f9-a027-c46bbfa8bca6"
   },
   "outputs": [
    {
     "name": "stdout",
     "output_type": "stream",
     "text": [
      "encoded 100 frames in 5.11s (19.56 fps), 2410.39 kb/s, Avg QP:34.30, Global PSNR: 34.624\n"
     ]
    }
   ],
   "source": [
    "!sh JCT_VC_265.sh ClassC/BQMall.yuv ClassC_mkv/BQMall_H265_27.mkv 832 480 60 27 10"
   ]
  },
  {
   "cell_type": "code",
   "execution_count": null,
   "metadata": {
    "id": "QZdnV10FMfIg"
   },
   "outputs": [],
   "source": []
  },
  {
   "cell_type": "code",
   "execution_count": null,
   "metadata": {
    "id": "d79ixmieMfLD"
   },
   "outputs": [],
   "source": []
  },
  {
   "cell_type": "code",
   "execution_count": null,
   "metadata": {
    "colab": {
     "base_uri": "https://localhost:8080/",
     "height": 35
    },
    "id": "2Otx0Hp5MxDU",
    "outputId": "87bcbe2e-cd53-4bb2-a572-9ebe74765e84"
   },
   "outputs": [
    {
     "name": "stdout",
     "output_type": "stream",
     "text": [
      "[libx264 @ 0x560cb7b11900] PSNR Mean Y:36.394 U:39.421 V:39.861 Avg:37.218 Global:36.945 kb/s:13992.22\n"
     ]
    }
   ],
   "source": [
    "!sh JCT_VC_264.sh ClassC/PartyScene.yuv ClassC_mkv/PartyScene_H264_15.mkv 832 480 50 15 10"
   ]
  },
  {
   "cell_type": "code",
   "execution_count": null,
   "metadata": {
    "colab": {
     "base_uri": "https://localhost:8080/",
     "height": 35
    },
    "id": "7perWyrhMxDf",
    "outputId": "d7440dae-8308-40bf-8f28-503efe864795"
   },
   "outputs": [
    {
     "name": "stdout",
     "output_type": "stream",
     "text": [
      "[libx264 @ 0x559fd7be7900] PSNR Mean Y:33.421 U:37.671 V:37.993 Avg:34.445 Global:34.220 kb/s:8332.33\n"
     ]
    }
   ],
   "source": [
    "!sh JCT_VC_264.sh ClassC/PartyScene.yuv ClassC_mkv/PartyScene_H264_19.mkv 832 480 50 19 10"
   ]
  },
  {
   "cell_type": "code",
   "execution_count": null,
   "metadata": {
    "colab": {
     "base_uri": "https://localhost:8080/",
     "height": 35
    },
    "id": "kjkSp8VPMxDp",
    "outputId": "efc2e2df-9235-423d-a33d-79b31c08049b"
   },
   "outputs": [
    {
     "name": "stdout",
     "output_type": "stream",
     "text": [
      "[libx264 @ 0x562b34b05900] PSNR Mean Y:30.654 U:36.386 V:36.607 Avg:31.873 Global:31.701 kb/s:4871.64\n"
     ]
    }
   ],
   "source": [
    "!sh JCT_VC_264.sh ClassC/PartyScene.yuv ClassC_mkv/PartyScene_H264_23.mkv 832 480 50 23 10"
   ]
  },
  {
   "cell_type": "code",
   "execution_count": null,
   "metadata": {
    "colab": {
     "base_uri": "https://localhost:8080/",
     "height": 35
    },
    "id": "FaKtYvOcMxDy",
    "outputId": "8b7f8662-d2a2-4101-e284-79c1bf6851c4"
   },
   "outputs": [
    {
     "name": "stdout",
     "output_type": "stream",
     "text": [
      "[libx264 @ 0x55b682a0b900] PSNR Mean Y:28.102 U:35.279 V:35.437 Avg:29.466 Global:29.340 kb/s:2812.88\n"
     ]
    }
   ],
   "source": [
    "!sh JCT_VC_264.sh ClassC/PartyScene.yuv ClassC_mkv/PartyScene_H264_27.mkv 832 480 50 27 10"
   ]
  },
  {
   "cell_type": "code",
   "execution_count": null,
   "metadata": {
    "id": "GweImR6rMxD4"
   },
   "outputs": [],
   "source": []
  },
  {
   "cell_type": "code",
   "execution_count": null,
   "metadata": {
    "colab": {
     "base_uri": "https://localhost:8080/",
     "height": 35
    },
    "id": "jTmHst_1MxD_",
    "outputId": "90502e67-5f0f-46a1-91cc-4a9a81cbc5f9"
   },
   "outputs": [
    {
     "name": "stdout",
     "output_type": "stream",
     "text": [
      "encoded 100 frames in 11.08s (9.03 fps), 16756.47 kb/s, Avg QP:23.92, Global PSNR: 38.525\n"
     ]
    }
   ],
   "source": [
    "!sh JCT_VC_265.sh ClassC/PartyScene.yuv ClassC_mkv/PartyScene_H265_15.mkv 832 480 50 15 10"
   ]
  },
  {
   "cell_type": "code",
   "execution_count": null,
   "metadata": {
    "colab": {
     "base_uri": "https://localhost:8080/",
     "height": 35
    },
    "id": "wakJAcx6MxEE",
    "outputId": "fa5e9fc7-02f4-4b5d-c023-5159abc98e23"
   },
   "outputs": [
    {
     "name": "stdout",
     "output_type": "stream",
     "text": [
      "encoded 100 frames in 9.03s (11.07 fps), 9851.04 kb/s, Avg QP:27.92, Global PSNR: 35.811\n"
     ]
    }
   ],
   "source": [
    "!sh JCT_VC_265.sh ClassC/PartyScene.yuv ClassC_mkv/PartyScene_H265_19.mkv 832 480 50 19 10"
   ]
  },
  {
   "cell_type": "code",
   "execution_count": null,
   "metadata": {
    "colab": {
     "base_uri": "https://localhost:8080/",
     "height": 35
    },
    "id": "hoAJpZDlMxEM",
    "outputId": "bcade8ee-e0c4-4153-a7e3-a9c3095a64dc"
   },
   "outputs": [
    {
     "name": "stdout",
     "output_type": "stream",
     "text": [
      "encoded 100 frames in 7.52s (13.29 fps), 5653.26 kb/s, Avg QP:31.89, Global PSNR: 33.376\n"
     ]
    }
   ],
   "source": [
    "!sh JCT_VC_265.sh ClassC/PartyScene.yuv ClassC_mkv/PartyScene_H265_23.mkv 832 480 50 23 10"
   ]
  },
  {
   "cell_type": "code",
   "execution_count": null,
   "metadata": {
    "colab": {
     "base_uri": "https://localhost:8080/",
     "height": 35
    },
    "id": "5OPx5cR2MxES",
    "outputId": "22ad368f-6da7-47fd-bcee-f95e6a83f245"
   },
   "outputs": [
    {
     "name": "stdout",
     "output_type": "stream",
     "text": [
      "encoded 100 frames in 6.18s (16.17 fps), 3228.53 kb/s, Avg QP:35.84, Global PSNR: 31.065\n"
     ]
    }
   ],
   "source": [
    "!sh JCT_VC_265.sh ClassC/PartyScene.yuv ClassC_mkv/PartyScene_H265_27.mkv 832 480 50 27 10"
   ]
  },
  {
   "cell_type": "code",
   "execution_count": null,
   "metadata": {
    "id": "yRFWMGqQMwCT"
   },
   "outputs": [],
   "source": []
  },
  {
   "cell_type": "code",
   "execution_count": null,
   "metadata": {
    "id": "_IvJIlOYMwHH"
   },
   "outputs": [],
   "source": []
  },
  {
   "cell_type": "code",
   "execution_count": null,
   "metadata": {
    "colab": {
     "base_uri": "https://localhost:8080/",
     "height": 35
    },
    "id": "XQmtSCsgMyMs",
    "outputId": "b0f2f24a-0642-42fd-a425-9fd01cc57f0e"
   },
   "outputs": [
    {
     "name": "stdout",
     "output_type": "stream",
     "text": [
      "[libx264 @ 0x55914b59d900] PSNR Mean Y:39.172 U:40.978 V:41.901 Avg:39.795 Global:39.611 kb/s:10934.32\n"
     ]
    }
   ],
   "source": [
    "!sh JCT_VC_264.sh ClassC/RaceHorsesC.yuv ClassC_mkv/RaceHorsesC_H264_15.mkv 832 480 30 15 10"
   ]
  },
  {
   "cell_type": "code",
   "execution_count": null,
   "metadata": {
    "colab": {
     "base_uri": "https://localhost:8080/",
     "height": 35
    },
    "id": "8rS5Z_0lMyND",
    "outputId": "b889e3dd-fb00-45c1-edf4-e0eac6b079dd"
   },
   "outputs": [
    {
     "name": "stdout",
     "output_type": "stream",
     "text": [
      "[libx264 @ 0x562bf8bf7900] PSNR Mean Y:36.309 U:39.062 V:40.080 Avg:37.137 Global:36.995 kb/s:6247.75\n"
     ]
    }
   ],
   "source": [
    "!sh JCT_VC_264.sh ClassC/RaceHorsesC.yuv ClassC_mkv/RaceHorsesC_H264_19.mkv 832 480 30 19 10"
   ]
  },
  {
   "cell_type": "code",
   "execution_count": null,
   "metadata": {
    "colab": {
     "base_uri": "https://localhost:8080/",
     "height": 35
    },
    "id": "8cZgIoOzMyNT",
    "outputId": "817616e9-b397-478b-b61f-df6e3eb92ff7"
   },
   "outputs": [
    {
     "name": "stdout",
     "output_type": "stream",
     "text": [
      "[libx264 @ 0x56060b4f7900] PSNR Mean Y:33.647 U:37.649 V:38.633 Avg:34.686 Global:34.576 kb/s:3534.86\n"
     ]
    }
   ],
   "source": [
    "!sh JCT_VC_264.sh ClassC/RaceHorsesC.yuv ClassC_mkv/RaceHorsesC_H264_23.mkv 832 480 30 23 10"
   ]
  },
  {
   "cell_type": "code",
   "execution_count": null,
   "metadata": {
    "colab": {
     "base_uri": "https://localhost:8080/",
     "height": 35
    },
    "id": "F2jZEfTHMyNe",
    "outputId": "5576bc34-dc72-4e42-b94a-093c65353e4a"
   },
   "outputs": [
    {
     "name": "stdout",
     "output_type": "stream",
     "text": [
      "[libx264 @ 0x56042b821900] PSNR Mean Y:31.152 U:36.519 V:37.413 Avg:32.368 Global:32.281 kb/s:2021.68\n"
     ]
    }
   ],
   "source": [
    "!sh JCT_VC_264.sh ClassC/RaceHorsesC.yuv ClassC_mkv/RaceHorsesC_H264_27.mkv 832 480 30 27 10"
   ]
  },
  {
   "cell_type": "code",
   "execution_count": null,
   "metadata": {
    "id": "SO9O0NOuMyNp"
   },
   "outputs": [],
   "source": []
  },
  {
   "cell_type": "code",
   "execution_count": null,
   "metadata": {
    "colab": {
     "base_uri": "https://localhost:8080/",
     "height": 35
    },
    "id": "eFM_IqDVMyN3",
    "outputId": "c0224e8f-86ce-4c70-d9f1-0c045d7cb617"
   },
   "outputs": [
    {
     "name": "stdout",
     "output_type": "stream",
     "text": [
      "encoded 100 frames in 13.08s (7.65 fps), 12281.35 kb/s, Avg QP:20.80, Global PSNR: 41.150\n"
     ]
    }
   ],
   "source": [
    "!sh JCT_VC_265.sh ClassC/RaceHorsesC.yuv ClassC_mkv/RaceHorsesC_H265_15.mkv 832 480 30 15 10"
   ]
  },
  {
   "cell_type": "code",
   "execution_count": null,
   "metadata": {
    "colab": {
     "base_uri": "https://localhost:8080/",
     "height": 35
    },
    "id": "AdYrcV5XMyOB",
    "outputId": "63271059-95cb-4bfc-c9da-e8b9d8d0a4f2"
   },
   "outputs": [
    {
     "name": "stdout",
     "output_type": "stream",
     "text": [
      "encoded 100 frames in 10.38s (9.63 fps), 7208.82 kb/s, Avg QP:24.79, Global PSNR: 38.444\n"
     ]
    }
   ],
   "source": [
    "!sh JCT_VC_265.sh ClassC/RaceHorsesC.yuv ClassC_mkv/RaceHorsesC_H265_19.mkv 832 480 30 19 10"
   ]
  },
  {
   "cell_type": "code",
   "execution_count": null,
   "metadata": {
    "colab": {
     "base_uri": "https://localhost:8080/",
     "height": 35
    },
    "id": "STU3APivMyOM",
    "outputId": "b4b69abc-f69e-4710-9384-24142894d75d"
   },
   "outputs": [
    {
     "name": "stdout",
     "output_type": "stream",
     "text": [
      "encoded 100 frames in 8.60s (11.62 fps), 4094.13 kb/s, Avg QP:28.79, Global PSNR: 35.979\n"
     ]
    }
   ],
   "source": [
    "!sh JCT_VC_265.sh ClassC/RaceHorsesC.yuv ClassC_mkv/RaceHorsesC_H265_23.mkv 832 480 30 23 10"
   ]
  },
  {
   "cell_type": "code",
   "execution_count": null,
   "metadata": {
    "colab": {
     "base_uri": "https://localhost:8080/",
     "height": 35
    },
    "id": "FS4GoTDrMyOU",
    "outputId": "e2b8bcf8-c7f4-4f82-844a-33ac0fc28d60"
   },
   "outputs": [
    {
     "name": "stdout",
     "output_type": "stream",
     "text": [
      "encoded 100 frames in 7.25s (13.80 fps), 2260.18 kb/s, Avg QP:32.80, Global PSNR: 33.659\n"
     ]
    }
   ],
   "source": [
    "!sh JCT_VC_265.sh ClassC/RaceHorsesC.yuv ClassC_mkv/RaceHorsesC_H265_27.mkv 832 480 30 27 10"
   ]
  },
  {
   "cell_type": "code",
   "execution_count": null,
   "metadata": {
    "id": "9LWcT--cMwLL"
   },
   "outputs": [],
   "source": []
  },
  {
   "cell_type": "code",
   "execution_count": null,
   "metadata": {
    "id": "3O0FyJYxu949"
   },
   "outputs": [],
   "source": []
  },
  {
   "cell_type": "code",
   "execution_count": null,
   "metadata": {
    "id": "piG35xVfu95S"
   },
   "outputs": [],
   "source": []
  },
  {
   "cell_type": "markdown",
   "metadata": {
    "id": "iVBqy5QfPj43"
   },
   "source": [
    "**Extract pngs** <br/>\n",
    " sh JCT_VC_extract_png.sh inputfile outputfile Width Height framerate\n"
   ]
  },
  {
   "cell_type": "code",
   "execution_count": null,
   "metadata": {
    "colab": {
     "base_uri": "https://localhost:8080/",
     "height": 54
    },
    "id": "k_RlwcjPMwPE",
    "outputId": "c5677637-d57c-460d-acb7-9fddaa0fa2de"
   },
   "outputs": [
    {
     "name": "stdout",
     "output_type": "stream",
     "text": [
      "frame=   13 fps=0.0 q=-0.0 size=N/A time=00:00:00.44 bitrate=N/A speed=0.788x    \r",
      "frame=   23 fps= 22 q=-0.0 size=N/A time=00:00:00.84 bitrate=N/A speed=0.794x    \r",
      "frame=   33 fps= 21 q=-0.0 size=N/A time=00:00:01.24 bitrate=N/A speed=0.792x    \r",
      "frame=   43 fps= 21 q=-0.0 size=N/A time=00:00:01.64 bitrate=N/A speed=0.788x    \r",
      "frame=   54 fps= 20 q=-0.0 size=N/A time=00:00:02.08 bitrate=N/A speed=0.789x    \r",
      "frame=   65 fps= 21 q=-0.0 size=N/A time=00:00:02.52 bitrate=N/A speed=0.795x    \r",
      "frame=   75 fps= 20 q=-0.0 size=N/A time=00:00:02.92 bitrate=N/A speed=0.793x    \r",
      "frame=   86 fps= 20 q=-0.0 size=N/A time=00:00:03.36 bitrate=N/A speed=0.794x    \r",
      "frame=   96 fps= 20 q=-0.0 size=N/A time=00:00:03.76 bitrate=N/A speed=0.794x    \r",
      "frame=   99 fps= 19 q=-0.0 size=N/A time=00:00:03.88 bitrate=N/A speed=0.732x    \r",
      "frame=  100 fps= 18 q=-0.0 Lsize=N/A time=00:00:04.00 bitrate=N/A speed=0.736x    \n",
      "video:88166kB audio:0kB subtitle:0kB other streams:0kB global headers:0kB muxing overhead: unknown\n"
     ]
    }
   ],
   "source": [
    "!sh JCT_VC_extract_png.sh ClassC/BasketballDrill.yuv ClassC_frames/BasketballDrill/im%d.png 832 480 50"
   ]
  },
  {
   "cell_type": "code",
   "execution_count": null,
   "metadata": {
    "colab": {
     "base_uri": "https://localhost:8080/",
     "height": 54
    },
    "id": "FibjfKvATtPd",
    "outputId": "c6593203-6381-4ab6-b6c8-71d8d9e325e4"
   },
   "outputs": [
    {
     "name": "stdout",
     "output_type": "stream",
     "text": [
      "frame=   13 fps=0.0 q=-0.0 size=N/A time=00:00:00.44 bitrate=N/A speed=0.794x    \r",
      "frame=   24 fps= 23 q=-0.0 size=N/A time=00:00:00.88 bitrate=N/A speed=0.832x    \r",
      "frame=   34 fps= 21 q=-0.0 size=N/A time=00:00:01.28 bitrate=N/A speed=0.803x    \r",
      "frame=   45 fps= 21 q=-0.0 size=N/A time=00:00:01.72 bitrate=N/A speed=0.814x    \r",
      "frame=   56 fps= 21 q=-0.0 size=N/A time=00:00:02.16 bitrate=N/A speed=0.819x    \r",
      "frame=   67 fps= 21 q=-0.0 size=N/A time=00:00:02.60 bitrate=N/A speed=0.813x    \r",
      "frame=   78 fps= 21 q=-0.0 size=N/A time=00:00:03.04 bitrate=N/A speed=0.815x    \r",
      "frame=   88 fps= 21 q=-0.0 size=N/A time=00:00:03.44 bitrate=N/A speed=0.807x    \r",
      "frame=   97 fps= 20 q=-0.0 size=N/A time=00:00:03.80 bitrate=N/A speed=0.79x    \r",
      "frame=  100 fps= 20 q=-0.0 Lsize=N/A time=00:00:04.00 bitrate=N/A speed=0.781x    \n",
      "video:96481kB audio:0kB subtitle:0kB other streams:0kB global headers:0kB muxing overhead: unknown\n"
     ]
    }
   ],
   "source": [
    "!sh JCT_VC_extract_png.sh ClassC/BQMall.yuv ClassC_frames/BQMall/im%d.png 832 480 60"
   ]
  },
  {
   "cell_type": "code",
   "execution_count": null,
   "metadata": {
    "colab": {
     "base_uri": "https://localhost:8080/",
     "height": 54
    },
    "id": "x3juXDXATtxV",
    "outputId": "7c2206d1-d251-4dab-d423-a0193ce2d305"
   },
   "outputs": [
    {
     "name": "stdout",
     "output_type": "stream",
     "text": [
      "frame=   11 fps=0.0 q=-0.0 size=N/A time=00:00:00.36 bitrate=N/A speed=0.673x    \r",
      "frame=   21 fps= 20 q=-0.0 size=N/A time=00:00:00.76 bitrate=N/A speed=0.733x    \r",
      "frame=   32 fps= 20 q=-0.0 size=N/A time=00:00:01.20 bitrate=N/A speed=0.74x    \r",
      "frame=   43 fps= 20 q=-0.0 size=N/A time=00:00:01.64 bitrate=N/A speed=0.763x    \r",
      "frame=   53 fps= 20 q=-0.0 size=N/A time=00:00:02.04 bitrate=N/A speed=0.761x    \r",
      "frame=   63 fps= 20 q=-0.0 size=N/A time=00:00:02.44 bitrate=N/A speed=0.766x    \r",
      "frame=   74 fps= 20 q=-0.0 size=N/A time=00:00:02.88 bitrate=N/A speed=0.776x    \r",
      "frame=   81 fps= 18 q=-0.0 size=N/A time=00:00:03.16 bitrate=N/A speed=0.684x    \r",
      "frame=   92 fps= 18 q=-0.0 size=N/A time=00:00:03.60 bitrate=N/A speed= 0.7x    \r",
      "frame=  100 fps= 18 q=-0.0 Lsize=N/A time=00:00:04.00 bitrate=N/A speed=0.705x    \n",
      "video:103960kB audio:0kB subtitle:0kB other streams:0kB global headers:0kB muxing overhead: unknown\n"
     ]
    }
   ],
   "source": [
    "!sh JCT_VC_extract_png.sh ClassC/PartyScene.yuv ClassC_frames/PartyScene/im%d.png 832 480 50"
   ]
  },
  {
   "cell_type": "code",
   "execution_count": null,
   "metadata": {
    "colab": {
     "base_uri": "https://localhost:8080/",
     "height": 54
    },
    "id": "_2DYiDjETt2L",
    "outputId": "cc6a0377-fa58-4a9f-91fb-716024a8f3fa"
   },
   "outputs": [
    {
     "name": "stdout",
     "output_type": "stream",
     "text": [
      "frame=   13 fps=0.0 q=-0.0 size=N/A time=00:00:00.44 bitrate=N/A speed=0.856x    \r",
      "frame=   24 fps= 23 q=-0.0 size=N/A time=00:00:00.88 bitrate=N/A speed=0.844x    \r",
      "frame=   34 fps= 22 q=-0.0 size=N/A time=00:00:01.28 bitrate=N/A speed=0.822x    \r",
      "frame=   45 fps= 22 q=-0.0 size=N/A time=00:00:01.72 bitrate=N/A speed=0.836x    \r",
      "frame=   56 fps= 22 q=-0.0 size=N/A time=00:00:02.16 bitrate=N/A speed=0.841x    \r",
      "frame=   67 fps= 22 q=-0.0 size=N/A time=00:00:02.60 bitrate=N/A speed=0.843x    \r",
      "frame=   77 fps= 21 q=-0.0 size=N/A time=00:00:03.00 bitrate=N/A speed=0.823x    \r",
      "frame=   88 fps= 21 q=-0.0 size=N/A time=00:00:03.44 bitrate=N/A speed=0.825x    \r",
      "frame=  100 fps= 21 q=-0.0 size=N/A time=00:00:03.92 bitrate=N/A speed=0.829x    \r",
      "frame=  100 fps= 21 q=-0.0 Lsize=N/A time=00:00:04.00 bitrate=N/A speed=0.829x    \n",
      "video:86728kB audio:0kB subtitle:0kB other streams:0kB global headers:0kB muxing overhead: unknown\n"
     ]
    }
   ],
   "source": [
    "!sh JCT_VC_extract_png.sh ClassC/RaceHorsesC.yuv ClassC_frames/RaceHorsesC/im%d.png 832 480 30"
   ]
  },
  {
   "cell_type": "code",
   "execution_count": null,
   "metadata": {
    "id": "8Y3gQs-tTt5g"
   },
   "outputs": [],
   "source": []
  },
  {
   "cell_type": "code",
   "execution_count": null,
   "metadata": {
    "id": "SLTcLFygTt9W"
   },
   "outputs": [],
   "source": []
  },
  {
   "cell_type": "code",
   "execution_count": null,
   "metadata": {
    "colab": {
     "base_uri": "https://localhost:8080/",
     "height": 54
    },
    "id": "mbdx5NkZUHTc",
    "outputId": "15ab2f99-9042-45b9-fe51-b16fdfca3bab"
   },
   "outputs": [
    {
     "name": "stdout",
     "output_type": "stream",
     "text": [
      "frame=   12 fps=0.0 q=-0.0 size=N/A time=00:00:00.20 bitrate=N/A speed=0.363x    \r",
      "frame=   23 fps= 21 q=-0.0 size=N/A time=00:00:00.42 bitrate=N/A speed=0.377x    \r",
      "frame=   34 fps= 21 q=-0.0 size=N/A time=00:00:00.64 bitrate=N/A speed=0.39x    \r",
      "frame=   44 fps= 20 q=-0.0 size=N/A time=00:00:00.84 bitrate=N/A speed=0.388x    \r",
      "frame=   55 fps= 20 q=-0.0 size=N/A time=00:00:01.06 bitrate=N/A speed=0.394x    \r",
      "frame=   65 fps= 20 q=-0.0 size=N/A time=00:00:01.26 bitrate=N/A speed=0.394x    \r",
      "frame=   75 fps= 20 q=-0.0 size=N/A time=00:00:01.46 bitrate=N/A speed=0.394x    \r",
      "frame=   85 fps= 20 q=-0.0 size=N/A time=00:00:01.66 bitrate=N/A speed=0.392x    \r",
      "frame=   92 fps= 19 q=-0.0 size=N/A time=00:00:01.80 bitrate=N/A speed=0.377x    \r",
      "frame=  100 fps= 19 q=-0.0 Lsize=N/A time=00:00:02.00 bitrate=N/A speed=0.379x    \n",
      "video:78427kB audio:0kB subtitle:0kB other streams:0kB global headers:0kB muxing overhead: unknown\n"
     ]
    }
   ],
   "source": [
    "!sh JCT_VC_extract_compressed_pngs.sh ClassC_mkv/BasketballDrill_H264_15.mkv ClassC_compressed_PNGS/BasketballDrill/H264_15/im%d.png"
   ]
  },
  {
   "cell_type": "code",
   "execution_count": null,
   "metadata": {
    "colab": {
     "base_uri": "https://localhost:8080/",
     "height": 54
    },
    "id": "LheCGG-EU1zi",
    "outputId": "b6c6a1a4-d2b2-4f6e-b442-f3140cced26a"
   },
   "outputs": [
    {
     "name": "stdout",
     "output_type": "stream",
     "text": [
      "frame=    9 fps=0.0 q=-0.0 size=N/A time=00:00:00.14 bitrate=N/A speed=0.274x    \r",
      "frame=   19 fps= 18 q=-0.0 size=N/A time=00:00:00.34 bitrate=N/A speed=0.331x    \r",
      "frame=   31 fps= 20 q=-0.0 size=N/A time=00:00:00.58 bitrate=N/A speed=0.367x    \r",
      "frame=   42 fps= 20 q=-0.0 size=N/A time=00:00:00.80 bitrate=N/A speed=0.381x    \r",
      "frame=   53 fps= 20 q=-0.0 size=N/A time=00:00:01.02 bitrate=N/A speed=0.391x    \r",
      "frame=   61 fps= 20 q=-0.0 size=N/A time=00:00:01.18 bitrate=N/A speed=0.377x    \r",
      "frame=   71 fps= 19 q=-0.0 size=N/A time=00:00:01.38 bitrate=N/A speed=0.375x    \r",
      "frame=   82 fps= 18 q=-0.0 size=N/A time=00:00:01.60 bitrate=N/A speed=0.361x    \r",
      "frame=   95 fps= 19 q=-0.0 size=N/A time=00:00:01.86 bitrate=N/A speed=0.372x    \r",
      "frame=  100 fps= 19 q=-0.0 Lsize=N/A time=00:00:02.00 bitrate=N/A speed=0.374x    \n",
      "video:73019kB audio:0kB subtitle:0kB other streams:0kB global headers:0kB muxing overhead: unknown\n"
     ]
    }
   ],
   "source": [
    "!sh JCT_VC_extract_compressed_pngs.sh ClassC_mkv/BasketballDrill_H264_19.mkv ClassC_compressed_PNGS/BasketballDrill/H264_19/im%d.png"
   ]
  },
  {
   "cell_type": "code",
   "execution_count": null,
   "metadata": {
    "colab": {
     "base_uri": "https://localhost:8080/",
     "height": 54
    },
    "id": "dBZP4t2xU2NM",
    "outputId": "29b2ce6f-f5c4-4487-dd8d-4badf7108186"
   },
   "outputs": [
    {
     "name": "stdout",
     "output_type": "stream",
     "text": [
      "frame=   13 fps=0.0 q=-0.0 size=N/A time=00:00:00.22 bitrate=N/A speed=0.433x    \r",
      "frame=   24 fps= 23 q=-0.0 size=N/A time=00:00:00.44 bitrate=N/A speed=0.415x    \r",
      "frame=   36 fps= 23 q=-0.0 size=N/A time=00:00:00.68 bitrate=N/A speed=0.428x    \r",
      "frame=   48 fps= 22 q=-0.0 size=N/A time=00:00:00.92 bitrate=N/A speed=0.431x    \r",
      "frame=   59 fps= 22 q=-0.0 size=N/A time=00:00:01.14 bitrate=N/A speed=0.431x    \r",
      "frame=   71 fps= 22 q=-0.0 size=N/A time=00:00:01.38 bitrate=N/A speed=0.436x    \r",
      "frame=   82 fps= 22 q=-0.0 size=N/A time=00:00:01.60 bitrate=N/A speed=0.434x    \r",
      "frame=   94 fps= 22 q=-0.0 size=N/A time=00:00:01.84 bitrate=N/A speed=0.437x    \r",
      "frame=  100 fps= 22 q=-0.0 Lsize=N/A time=00:00:02.00 bitrate=N/A speed=0.436x    \n",
      "video:68881kB audio:0kB subtitle:0kB other streams:0kB global headers:0kB muxing overhead: unknown\n"
     ]
    }
   ],
   "source": [
    "!sh JCT_VC_extract_compressed_pngs.sh ClassC_mkv/BasketballDrill_H264_23.mkv ClassC_compressed_PNGS/BasketballDrill/H264_23/im%d.png"
   ]
  },
  {
   "cell_type": "code",
   "execution_count": null,
   "metadata": {
    "colab": {
     "base_uri": "https://localhost:8080/",
     "height": 54
    },
    "id": "Pr_kVnJ6U2Ri",
    "outputId": "0e53ccdd-6769-420e-969f-29e50e9e898e"
   },
   "outputs": [
    {
     "name": "stdout",
     "output_type": "stream",
     "text": [
      "frame=   12 fps=0.0 q=-0.0 size=N/A time=00:00:00.20 bitrate=N/A speed=0.394x    \r",
      "frame=   24 fps= 23 q=-0.0 size=N/A time=00:00:00.44 bitrate=N/A speed=0.422x    \r",
      "frame=   37 fps= 24 q=-0.0 size=N/A time=00:00:00.70 bitrate=N/A speed=0.446x    \r",
      "frame=   49 fps= 23 q=-0.0 size=N/A time=00:00:00.94 bitrate=N/A speed=0.449x    \r",
      "frame=   62 fps= 23 q=-0.0 size=N/A time=00:00:01.20 bitrate=N/A speed=0.449x    \r",
      "frame=   74 fps= 23 q=-0.0 size=N/A time=00:00:01.44 bitrate=N/A speed=0.453x    \r",
      "frame=   86 fps= 23 q=-0.0 size=N/A time=00:00:01.68 bitrate=N/A speed=0.452x    \r",
      "frame=   97 fps= 23 q=-0.0 size=N/A time=00:00:01.90 bitrate=N/A speed=0.448x    \r",
      "frame=  100 fps= 22 q=-0.0 Lsize=N/A time=00:00:02.00 bitrate=N/A speed=0.449x    \n",
      "video:63913kB audio:0kB subtitle:0kB other streams:0kB global headers:0kB muxing overhead: unknown\n"
     ]
    }
   ],
   "source": [
    "!sh JCT_VC_extract_compressed_pngs.sh ClassC_mkv/BasketballDrill_H264_27.mkv ClassC_compressed_PNGS/BasketballDrill/H264_27/im%d.png"
   ]
  },
  {
   "cell_type": "code",
   "execution_count": null,
   "metadata": {
    "id": "N9x6stFTU29_"
   },
   "outputs": [],
   "source": []
  },
  {
   "cell_type": "code",
   "execution_count": null,
   "metadata": {
    "colab": {
     "base_uri": "https://localhost:8080/",
     "height": 54
    },
    "id": "_LJOK2qbXPJ5",
    "outputId": "2335fc40-0ee6-4709-f192-45a3cf49dc4a"
   },
   "outputs": [
    {
     "name": "stdout",
     "output_type": "stream",
     "text": [
      "frame=   11 fps=0.0 q=-0.0 size=N/A time=00:00:00.18 bitrate=N/A speed=0.327x    \r",
      "frame=   21 fps= 19 q=-0.0 size=N/A time=00:00:00.38 bitrate=N/A speed=0.35x    \r",
      "frame=   30 fps= 19 q=-0.0 size=N/A time=00:00:00.56 bitrate=N/A speed=0.349x    \r",
      "frame=   41 fps= 19 q=-0.0 size=N/A time=00:00:00.78 bitrate=N/A speed=0.357x    \r",
      "frame=   51 fps= 19 q=-0.0 size=N/A time=00:00:00.98 bitrate=N/A speed=0.36x    \r",
      "frame=   61 fps= 18 q=-0.0 size=N/A time=00:00:01.18 bitrate=N/A speed=0.357x    \r",
      "frame=   71 fps= 18 q=-0.0 size=N/A time=00:00:01.38 bitrate=N/A speed=0.354x    \r",
      "frame=   81 fps= 18 q=-0.0 size=N/A time=00:00:01.58 bitrate=N/A speed=0.358x    \r",
      "frame=   90 fps= 18 q=-0.0 size=N/A time=00:00:01.76 bitrate=N/A speed=0.358x    \r",
      "frame=  100 fps= 18 q=-0.0 size=N/A time=00:00:01.96 bitrate=N/A speed=0.36x    \r",
      "frame=  100 fps= 18 q=-0.0 Lsize=N/A time=00:00:02.00 bitrate=N/A speed=0.358x    \n",
      "video:78592kB audio:0kB subtitle:0kB other streams:0kB global headers:0kB muxing overhead: unknown\n"
     ]
    }
   ],
   "source": [
    "!sh JCT_VC_extract_compressed_pngs.sh ClassC_mkv/BasketballDrill_H265_15.mkv ClassC_compressed_PNGS/BasketballDrill/H265_15/im%d.png"
   ]
  },
  {
   "cell_type": "code",
   "execution_count": null,
   "metadata": {
    "colab": {
     "base_uri": "https://localhost:8080/",
     "height": 54
    },
    "id": "oA89RF_fXPKe",
    "outputId": "6f4f78e6-1ae4-4ebc-b35b-59777be5229c"
   },
   "outputs": [
    {
     "name": "stdout",
     "output_type": "stream",
     "text": [
      "frame=   11 fps=0.0 q=-0.0 size=N/A time=00:00:00.18 bitrate=N/A speed=0.345x    \r",
      "frame=   20 fps= 19 q=-0.0 size=N/A time=00:00:00.36 bitrate=N/A speed=0.351x    \r",
      "frame=   30 fps= 19 q=-0.0 size=N/A time=00:00:00.56 bitrate=N/A speed=0.364x    \r",
      "frame=   41 fps= 19 q=-0.0 size=N/A time=00:00:00.78 bitrate=N/A speed=0.368x    \r",
      "frame=   50 fps= 19 q=-0.0 size=N/A time=00:00:00.96 bitrate=N/A speed=0.366x    \r",
      "frame=   58 fps= 19 q=-0.0 size=N/A time=00:00:01.12 bitrate=N/A speed=0.357x    \r",
      "frame=   69 fps= 19 q=-0.0 size=N/A time=00:00:01.34 bitrate=N/A speed=0.363x    \r",
      "frame=   80 fps= 19 q=-0.0 size=N/A time=00:00:01.56 bitrate=N/A speed=0.365x    \r",
      "frame=   90 fps= 19 q=-0.0 size=N/A time=00:00:01.76 bitrate=N/A speed=0.368x    \r",
      "frame=  100 fps= 19 q=-0.0 Lsize=N/A time=00:00:02.00 bitrate=N/A speed=0.37x    \n",
      "video:75859kB audio:0kB subtitle:0kB other streams:0kB global headers:0kB muxing overhead: unknown\n"
     ]
    }
   ],
   "source": [
    "!sh JCT_VC_extract_compressed_pngs.sh ClassC_mkv/BasketballDrill_H265_19.mkv ClassC_compressed_PNGS/BasketballDrill/H265_19/im%d.png"
   ]
  },
  {
   "cell_type": "code",
   "execution_count": null,
   "metadata": {
    "colab": {
     "base_uri": "https://localhost:8080/",
     "height": 54
    },
    "id": "FWwzDI7hXPKt",
    "outputId": "c978fee1-103c-42b1-a21e-a55999d998d4"
   },
   "outputs": [
    {
     "name": "stdout",
     "output_type": "stream",
     "text": [
      "frame=   12 fps=0.0 q=-0.0 size=N/A time=00:00:00.20 bitrate=N/A speed=0.363x    \r",
      "frame=   21 fps= 19 q=-0.0 size=N/A time=00:00:00.38 bitrate=N/A speed=0.347x    \r",
      "frame=   32 fps= 20 q=-0.0 size=N/A time=00:00:00.60 bitrate=N/A speed=0.367x    \r",
      "frame=   42 fps= 19 q=-0.0 size=N/A time=00:00:00.80 bitrate=N/A speed=0.361x    \r",
      "frame=   49 fps= 18 q=-0.0 size=N/A time=00:00:00.94 bitrate=N/A speed=0.336x    \r",
      "frame=   59 fps= 18 q=-0.0 size=N/A time=00:00:01.14 bitrate=N/A speed=0.34x    \r",
      "frame=   69 fps= 18 q=-0.0 size=N/A time=00:00:01.34 bitrate=N/A speed=0.347x    \r",
      "frame=   79 fps= 18 q=-0.0 size=N/A time=00:00:01.54 bitrate=N/A speed=0.352x    \r",
      "frame=   89 fps= 18 q=-0.0 size=N/A time=00:00:01.74 bitrate=N/A speed=0.351x    \r",
      "frame=   99 fps= 18 q=-0.0 size=N/A time=00:00:01.94 bitrate=N/A speed=0.354x    \r",
      "frame=  100 fps= 18 q=-0.0 Lsize=N/A time=00:00:02.00 bitrate=N/A speed=0.354x    \n",
      "video:75859kB audio:0kB subtitle:0kB other streams:0kB global headers:0kB muxing overhead: unknown\n"
     ]
    }
   ],
   "source": [
    "!sh JCT_VC_extract_compressed_pngs.sh ClassC_mkv/BasketballDrill_H265_23.mkv ClassC_compressed_PNGS/BasketballDrill/H265_23/im%d.png"
   ]
  },
  {
   "cell_type": "code",
   "execution_count": null,
   "metadata": {
    "colab": {
     "base_uri": "https://localhost:8080/",
     "height": 54
    },
    "id": "GTefBMCKXPK9",
    "outputId": "929d59e1-ccc5-4e24-c704-81abac221c46"
   },
   "outputs": [
    {
     "name": "stdout",
     "output_type": "stream",
     "text": [
      "frame=   12 fps=0.0 q=-0.0 size=N/A time=00:00:00.20 bitrate=N/A speed=0.393x    \r",
      "frame=   23 fps= 22 q=-0.0 size=N/A time=00:00:00.42 bitrate=N/A speed=0.397x    \r",
      "frame=   34 fps= 22 q=-0.0 size=N/A time=00:00:00.64 bitrate=N/A speed=0.408x    \r",
      "frame=   45 fps= 22 q=-0.0 size=N/A time=00:00:00.86 bitrate=N/A speed=0.414x    \r",
      "frame=   56 fps= 21 q=-0.0 size=N/A time=00:00:01.08 bitrate=N/A speed=0.414x    \r",
      "frame=   66 fps= 21 q=-0.0 size=N/A time=00:00:01.28 bitrate=N/A speed=0.408x    \r",
      "frame=   77 fps= 21 q=-0.0 size=N/A time=00:00:01.50 bitrate=N/A speed=0.412x    \r",
      "frame=   88 fps= 21 q=-0.0 size=N/A time=00:00:01.72 bitrate=N/A speed=0.412x    \r",
      "frame=   97 fps= 20 q=-0.0 size=N/A time=00:00:01.90 bitrate=N/A speed=0.385x    \r",
      "frame=  100 fps= 19 q=-0.0 Lsize=N/A time=00:00:02.00 bitrate=N/A speed=0.39x    \n",
      "video:72241kB audio:0kB subtitle:0kB other streams:0kB global headers:0kB muxing overhead: unknown\n"
     ]
    }
   ],
   "source": [
    "!sh JCT_VC_extract_compressed_pngs.sh ClassC_mkv/BasketballDrill_H265_27.mkv ClassC_compressed_PNGS/BasketballDrill/H265_27/im%d.png"
   ]
  },
  {
   "cell_type": "code",
   "execution_count": null,
   "metadata": {
    "id": "6-eFmJtxU3By"
   },
   "outputs": [],
   "source": []
  },
  {
   "cell_type": "code",
   "execution_count": null,
   "metadata": {
    "id": "r-a3_QqQU3E9"
   },
   "outputs": [],
   "source": []
  },
  {
   "cell_type": "code",
   "execution_count": null,
   "metadata": {
    "colab": {
     "base_uri": "https://localhost:8080/",
     "height": 54
    },
    "id": "Di2MtxjpXWom",
    "outputId": "177b0eaa-b3f7-4e57-eaa5-a4ae8bcebd02"
   },
   "outputs": [
    {
     "name": "stdout",
     "output_type": "stream",
     "text": [
      "frame=    8 fps=0.0 q=-0.0 size=N/A time=00:00:00.10 bitrate=N/A speed=0.199x    \r",
      "frame=   17 fps= 16 q=-0.0 size=N/A time=00:00:00.25 bitrate=N/A speed=0.241x    \r",
      "frame=   28 fps= 18 q=-0.0 size=N/A time=00:00:00.43 bitrate=N/A speed=0.274x    \r",
      "frame=   39 fps= 19 q=-0.0 size=N/A time=00:00:00.61 bitrate=N/A speed=0.293x    \r",
      "frame=   49 fps= 19 q=-0.0 size=N/A time=00:00:00.78 bitrate=N/A speed=0.299x    \r",
      "frame=   60 fps= 19 q=-0.0 size=N/A time=00:00:00.96 bitrate=N/A speed=0.307x    \r",
      "frame=   71 fps= 19 q=-0.0 size=N/A time=00:00:01.15 bitrate=N/A speed=0.311x    \r",
      "frame=   82 fps= 19 q=-0.0 size=N/A time=00:00:01.33 bitrate=N/A speed=0.316x    \r",
      "frame=   93 fps= 20 q=-0.0 size=N/A time=00:00:01.51 bitrate=N/A speed=0.32x    \r",
      "frame=  100 fps= 19 q=-0.0 Lsize=N/A time=00:00:01.66 bitrate=N/A speed=0.322x    \n",
      "video:79882kB audio:0kB subtitle:0kB other streams:0kB global headers:0kB muxing overhead: unknown\n"
     ]
    }
   ],
   "source": [
    "!sh JCT_VC_extract_compressed_pngs.sh ClassC_mkv/BQMall_H264_15.mkv ClassC_compressed_PNGS/BQMall/H264_15/im%d.png"
   ]
  },
  {
   "cell_type": "code",
   "execution_count": null,
   "metadata": {
    "colab": {
     "base_uri": "https://localhost:8080/",
     "height": 54
    },
    "id": "G1EHrreNXWo1",
    "outputId": "31912210-b46a-4082-f9eb-87ea51566ef5"
   },
   "outputs": [
    {
     "name": "stdout",
     "output_type": "stream",
     "text": [
      "frame=    9 fps=0.0 q=-0.0 size=N/A time=00:00:00.11 bitrate=N/A speed=0.212x    \r",
      "frame=   18 fps= 14 q=-0.0 size=N/A time=00:00:00.26 bitrate=N/A speed=0.204x    \r",
      "frame=   31 fps= 17 q=-0.0 size=N/A time=00:00:00.48 bitrate=N/A speed=0.263x    \r",
      "frame=   43 fps= 18 q=-0.0 size=N/A time=00:00:00.68 bitrate=N/A speed=0.289x    \r",
      "frame=   54 fps= 19 q=-0.0 size=N/A time=00:00:00.86 bitrate=N/A speed=0.302x    \r",
      "frame=   66 fps= 19 q=-0.0 size=N/A time=00:00:01.06 bitrate=N/A speed=0.315x    \r",
      "frame=   78 fps= 20 q=-0.0 size=N/A time=00:00:01.26 bitrate=N/A speed=0.322x    \r",
      "frame=   90 fps= 20 q=-0.0 size=N/A time=00:00:01.46 bitrate=N/A speed=0.329x    \r",
      "frame=  100 fps= 20 q=-0.0 Lsize=N/A time=00:00:01.66 bitrate=N/A speed=0.334x    \n",
      "video:73442kB audio:0kB subtitle:0kB other streams:0kB global headers:0kB muxing overhead: unknown\n"
     ]
    }
   ],
   "source": [
    "!sh JCT_VC_extract_compressed_pngs.sh ClassC_mkv/BQMall_H264_19.mkv ClassC_compressed_PNGS/BQMall/H264_19/im%d.png"
   ]
  },
  {
   "cell_type": "code",
   "execution_count": null,
   "metadata": {
    "colab": {
     "base_uri": "https://localhost:8080/",
     "height": 54
    },
    "id": "U5-glZPBXWo9",
    "outputId": "d9f5dad9-44d8-4ccf-d630-98639d2cfef0"
   },
   "outputs": [
    {
     "name": "stdout",
     "output_type": "stream",
     "text": [
      "frame=   14 fps=0.0 q=-0.0 size=N/A time=00:00:00.20 bitrate=N/A speed=0.363x    \r",
      "frame=   26 fps= 25 q=-0.0 size=N/A time=00:00:00.40 bitrate=N/A speed=0.38x    \r",
      "frame=   38 fps= 24 q=-0.0 size=N/A time=00:00:00.60 bitrate=N/A speed=0.372x    \r",
      "frame=   51 fps= 24 q=-0.0 size=N/A time=00:00:00.81 bitrate=N/A speed=0.383x    \r",
      "frame=   63 fps= 24 q=-0.0 size=N/A time=00:00:01.01 bitrate=N/A speed=0.385x    \r",
      "frame=   74 fps= 24 q=-0.0 size=N/A time=00:00:01.20 bitrate=N/A speed=0.382x    \r",
      "frame=   87 fps= 24 q=-0.0 size=N/A time=00:00:01.41 bitrate=N/A speed=0.388x    \r",
      "frame=   99 fps= 24 q=-0.0 size=N/A time=00:00:01.61 bitrate=N/A speed=0.388x    \r",
      "frame=  100 fps= 23 q=-0.0 Lsize=N/A time=00:00:01.66 bitrate=N/A speed=0.387x    \n",
      "video:68483kB audio:0kB subtitle:0kB other streams:0kB global headers:0kB muxing overhead: unknown\n"
     ]
    }
   ],
   "source": [
    "!sh JCT_VC_extract_compressed_pngs.sh ClassC_mkv/BQMall_H264_23.mkv ClassC_compressed_PNGS/BQMall/H264_23/im%d.png"
   ]
  },
  {
   "cell_type": "code",
   "execution_count": null,
   "metadata": {
    "colab": {
     "base_uri": "https://localhost:8080/",
     "height": 54
    },
    "id": "eTkn-cJXXWpI",
    "outputId": "24a8d619-a997-4699-fc5f-c836bc02bdfc"
   },
   "outputs": [
    {
     "name": "stdout",
     "output_type": "stream",
     "text": [
      "frame=   14 fps=0.0 q=-0.0 size=N/A time=00:00:00.20 bitrate=N/A speed=0.373x    \r",
      "frame=   28 fps= 26 q=-0.0 size=N/A time=00:00:00.43 bitrate=N/A speed=0.398x    \r",
      "frame=   41 fps= 25 q=-0.0 size=N/A time=00:00:00.65 bitrate=N/A speed=0.404x    \r",
      "frame=   53 fps= 25 q=-0.0 size=N/A time=00:00:00.85 bitrate=N/A speed=0.398x    \r",
      "frame=   66 fps= 25 q=-0.0 size=N/A time=00:00:01.06 bitrate=N/A speed=0.401x    \r",
      "frame=   78 fps= 25 q=-0.0 size=N/A time=00:00:01.26 bitrate=N/A speed= 0.4x    \r",
      "frame=   91 fps= 25 q=-0.0 size=N/A time=00:00:01.48 bitrate=N/A speed=0.401x    \r",
      "frame=  100 fps= 24 q=-0.0 Lsize=N/A time=00:00:01.66 bitrate=N/A speed=0.403x    \n",
      "video:64549kB audio:0kB subtitle:0kB other streams:0kB global headers:0kB muxing overhead: unknown\n"
     ]
    }
   ],
   "source": [
    "!sh JCT_VC_extract_compressed_pngs.sh ClassC_mkv/BQMall_H264_27.mkv ClassC_compressed_PNGS/BQMall/H264_27/im%d.png"
   ]
  },
  {
   "cell_type": "code",
   "execution_count": null,
   "metadata": {
    "id": "HO-yClSSXWpP"
   },
   "outputs": [],
   "source": []
  },
  {
   "cell_type": "code",
   "execution_count": null,
   "metadata": {
    "colab": {
     "base_uri": "https://localhost:8080/",
     "height": 54
    },
    "id": "jdX6CkhzXWpb",
    "outputId": "a9f586f3-93d0-4d36-8e63-9659f0757856"
   },
   "outputs": [
    {
     "name": "stdout",
     "output_type": "stream",
     "text": [
      "frame=    4 fps=0.0 q=-0.0 size=N/A time=00:00:00.03 bitrate=N/A speed=0.0366x    \r",
      "frame=   15 fps= 10 q=-0.0 size=N/A time=00:00:00.21 bitrate=N/A speed=0.151x    \r",
      "frame=   25 fps= 13 q=-0.0 size=N/A time=00:00:00.38 bitrate=N/A speed=0.194x    \r",
      "frame=   35 fps= 14 q=-0.0 size=N/A time=00:00:00.55 bitrate=N/A speed=0.219x    \r",
      "frame=   45 fps= 15 q=-0.0 size=N/A time=00:00:00.71 bitrate=N/A speed=0.235x    \r",
      "frame=   55 fps= 15 q=-0.0 size=N/A time=00:00:00.88 bitrate=N/A speed=0.247x    \r",
      "frame=   65 fps= 16 q=-0.0 size=N/A time=00:00:01.05 bitrate=N/A speed=0.255x    \r",
      "frame=   74 fps= 16 q=-0.0 size=N/A time=00:00:01.20 bitrate=N/A speed=0.259x    \r",
      "frame=   84 fps= 16 q=-0.0 size=N/A time=00:00:01.36 bitrate=N/A speed=0.265x    \r",
      "frame=   92 fps= 16 q=-0.0 size=N/A time=00:00:01.50 bitrate=N/A speed=0.265x    \r",
      "frame=   97 fps= 16 q=-0.0 size=N/A time=00:00:01.58 bitrate=N/A speed=0.255x    \r",
      "frame=  100 fps= 15 q=-0.0 Lsize=N/A time=00:00:01.66 bitrate=N/A speed=0.258x    \n",
      "video:81335kB audio:0kB subtitle:0kB other streams:0kB global headers:0kB muxing overhead: unknown\n"
     ]
    }
   ],
   "source": [
    "!sh JCT_VC_extract_compressed_pngs.sh ClassC_mkv/BQMall_H265_15.mkv ClassC_compressed_PNGS/BQMall/H265_15/im%d.png"
   ]
  },
  {
   "cell_type": "code",
   "execution_count": null,
   "metadata": {
    "colab": {
     "base_uri": "https://localhost:8080/",
     "height": 54
    },
    "id": "WHaLYPYmXWpk",
    "outputId": "779c6709-330d-441b-8ead-90b57904348e"
   },
   "outputs": [
    {
     "name": "stdout",
     "output_type": "stream",
     "text": [
      "frame=    4 fps=0.0 q=-0.0 size=N/A time=00:00:00.03 bitrate=N/A speed=0.0406x    \r",
      "frame=   16 fps= 12 q=-0.0 size=N/A time=00:00:00.23 bitrate=N/A speed=0.172x    \r",
      "frame=   27 fps= 14 q=-0.0 size=N/A time=00:00:00.41 bitrate=N/A speed=0.221x    \r",
      "frame=   38 fps= 16 q=-0.0 size=N/A time=00:00:00.60 bitrate=N/A speed=0.25x    \r",
      "frame=   49 fps= 17 q=-0.0 size=N/A time=00:00:00.78 bitrate=N/A speed=0.268x    \r",
      "frame=   60 fps= 17 q=-0.0 size=N/A time=00:00:00.96 bitrate=N/A speed=0.278x    \r",
      "frame=   70 fps= 17 q=-0.0 size=N/A time=00:00:01.13 bitrate=N/A speed=0.282x    \r",
      "frame=   80 fps= 18 q=-0.0 size=N/A time=00:00:01.30 bitrate=N/A speed=0.288x    \r",
      "frame=   90 fps= 18 q=-0.0 size=N/A time=00:00:01.46 bitrate=N/A speed=0.291x    \r",
      "frame=  100 fps= 18 q=-0.0 Lsize=N/A time=00:00:01.66 bitrate=N/A speed=0.295x    \n",
      "video:77209kB audio:0kB subtitle:0kB other streams:0kB global headers:0kB muxing overhead: unknown\n"
     ]
    }
   ],
   "source": [
    "!sh JCT_VC_extract_compressed_pngs.sh ClassC_mkv/BQMall_H265_19.mkv ClassC_compressed_PNGS/BQMall/H265_19/im%d.png"
   ]
  },
  {
   "cell_type": "code",
   "execution_count": null,
   "metadata": {
    "colab": {
     "base_uri": "https://localhost:8080/",
     "height": 54
    },
    "id": "GYo9Qn6XXWpt",
    "outputId": "fe85a948-bea8-4407-be2f-73e849c1539f"
   },
   "outputs": [
    {
     "name": "stdout",
     "output_type": "stream",
     "text": [
      "frame=   13 fps=0.0 q=-0.0 size=N/A time=00:00:00.18 bitrate=N/A speed=0.344x    \r",
      "frame=   24 fps= 22 q=-0.0 size=N/A time=00:00:00.36 bitrate=N/A speed=0.332x    \r",
      "frame=   36 fps= 22 q=-0.0 size=N/A time=00:00:00.56 bitrate=N/A speed=0.344x    \r",
      "frame=   47 fps= 21 q=-0.0 size=N/A time=00:00:00.75 bitrate=N/A speed=0.341x    \r",
      "frame=   54 fps= 20 q=-0.0 size=N/A time=00:00:00.86 bitrate=N/A speed=0.321x    \r",
      "frame=   64 fps= 20 q=-0.0 size=N/A time=00:00:01.03 bitrate=N/A speed=0.318x    \r",
      "frame=   71 fps= 18 q=-0.0 size=N/A time=00:00:01.15 bitrate=N/A speed=0.295x    \r",
      "frame=   83 fps= 19 q=-0.0 size=N/A time=00:00:01.35 bitrate=N/A speed=0.304x    \r",
      "frame=   94 fps= 19 q=-0.0 size=N/A time=00:00:01.53 bitrate=N/A speed=0.309x    \r",
      "frame=  100 fps= 18 q=-0.0 Lsize=N/A time=00:00:01.66 bitrate=N/A speed=0.308x    \n",
      "video:74954kB audio:0kB subtitle:0kB other streams:0kB global headers:0kB muxing overhead: unknown\n"
     ]
    }
   ],
   "source": [
    "!sh JCT_VC_extract_compressed_pngs.sh ClassC_mkv/BQMall_H265_23.mkv ClassC_compressed_PNGS/BQMall/H265_23/im%d.png"
   ]
  },
  {
   "cell_type": "code",
   "execution_count": null,
   "metadata": {
    "colab": {
     "base_uri": "https://localhost:8080/",
     "height": 54
    },
    "id": "dPnOtyQQXWp4",
    "outputId": "d0b3975d-9182-4838-b99e-866edbf3130b"
   },
   "outputs": [
    {
     "name": "stdout",
     "output_type": "stream",
     "text": [
      "frame=   13 fps=0.0 q=-0.0 size=N/A time=00:00:00.18 bitrate=N/A speed=0.363x    \r",
      "frame=   22 fps= 21 q=-0.0 size=N/A time=00:00:00.33 bitrate=N/A speed=0.324x    \r",
      "frame=   33 fps= 21 q=-0.0 size=N/A time=00:00:00.51 bitrate=N/A speed=0.336x    \r",
      "frame=   44 fps= 21 q=-0.0 size=N/A time=00:00:00.70 bitrate=N/A speed=0.341x    \r",
      "frame=   55 fps= 22 q=-0.0 size=N/A time=00:00:00.88 bitrate=N/A speed=0.346x    \r",
      "frame=   66 fps= 21 q=-0.0 size=N/A time=00:00:01.06 bitrate=N/A speed=0.347x    \r",
      "frame=   72 fps= 20 q=-0.0 size=N/A time=00:00:01.16 bitrate=N/A speed=0.325x    \r",
      "frame=   84 fps= 20 q=-0.0 size=N/A time=00:00:01.36 bitrate=N/A speed=0.333x    \r",
      "frame=   96 fps= 21 q=-0.0 size=N/A time=00:00:01.56 bitrate=N/A speed=0.337x    \r",
      "frame=  100 fps= 20 q=-0.0 Lsize=N/A time=00:00:01.66 bitrate=N/A speed=0.338x    \n",
      "video:73455kB audio:0kB subtitle:0kB other streams:0kB global headers:0kB muxing overhead: unknown\n"
     ]
    }
   ],
   "source": [
    "!sh JCT_VC_extract_compressed_pngs.sh ClassC_mkv/BQMall_H265_27.mkv ClassC_compressed_PNGS/BQMall/H265_27/im%d.png"
   ]
  },
  {
   "cell_type": "code",
   "execution_count": null,
   "metadata": {
    "id": "-Xhm_SDpU3I1"
   },
   "outputs": [],
   "source": []
  },
  {
   "cell_type": "code",
   "execution_count": null,
   "metadata": {
    "id": "LYBEx_sQXYGe"
   },
   "outputs": [],
   "source": []
  },
  {
   "cell_type": "code",
   "execution_count": null,
   "metadata": {
    "colab": {
     "base_uri": "https://localhost:8080/",
     "height": 54
    },
    "id": "N9p79pQ9XYn-",
    "outputId": "8bf57a98-4241-486f-f281-35c468837acb"
   },
   "outputs": [
    {
     "name": "stdout",
     "output_type": "stream",
     "text": [
      "frame=    5 fps=0.0 q=-0.0 size=N/A time=00:00:00.06 bitrate=N/A speed=0.117x    \r",
      "frame=   15 fps= 14 q=-0.0 size=N/A time=00:00:00.26 bitrate=N/A speed=0.249x    \r",
      "frame=   24 fps= 15 q=-0.0 size=N/A time=00:00:00.44 bitrate=N/A speed=0.279x    \r",
      "frame=   35 fps= 17 q=-0.0 size=N/A time=00:00:00.66 bitrate=N/A speed=0.313x    \r",
      "frame=   46 fps= 18 q=-0.0 size=N/A time=00:00:00.88 bitrate=N/A speed=0.337x    \r",
      "frame=   56 fps= 18 q=-0.0 size=N/A time=00:00:01.08 bitrate=N/A speed=0.345x    \r",
      "frame=   66 fps= 18 q=-0.0 size=N/A time=00:00:01.28 bitrate=N/A speed=0.349x    \r",
      "frame=   76 fps= 18 q=-0.0 size=N/A time=00:00:01.48 bitrate=N/A speed=0.354x    \r",
      "frame=   87 fps= 18 q=-0.0 size=N/A time=00:00:01.70 bitrate=N/A speed=0.359x    \r",
      "frame=   98 fps= 18 q=-0.0 size=N/A time=00:00:01.92 bitrate=N/A speed=0.362x    \r",
      "frame=  100 fps= 18 q=-0.0 Lsize=N/A time=00:00:02.00 bitrate=N/A speed=0.364x    \n",
      "video:95604kB audio:0kB subtitle:0kB other streams:0kB global headers:0kB muxing overhead: unknown\n"
     ]
    }
   ],
   "source": [
    "!sh JCT_VC_extract_compressed_pngs.sh ClassC_mkv/PartyScene_H264_15.mkv ClassC_compressed_PNGS/PartyScene/H264_15/im%d.png"
   ]
  },
  {
   "cell_type": "code",
   "execution_count": null,
   "metadata": {
    "colab": {
     "base_uri": "https://localhost:8080/",
     "height": 54
    },
    "id": "JOO_7C-NXYoT",
    "outputId": "95783127-9091-4c45-e0c7-2f42cc7a469c"
   },
   "outputs": [
    {
     "name": "stdout",
     "output_type": "stream",
     "text": [
      "frame=    7 fps=0.0 q=-0.0 size=N/A time=00:00:00.10 bitrate=N/A speed=0.176x    \r",
      "frame=   13 fps= 12 q=-0.0 size=N/A time=00:00:00.22 bitrate=N/A speed=0.201x    \r",
      "frame=   25 fps= 15 q=-0.0 size=N/A time=00:00:00.46 bitrate=N/A speed=0.282x    \r",
      "frame=   35 fps= 16 q=-0.0 size=N/A time=00:00:00.66 bitrate=N/A speed=0.307x    \r",
      "frame=   46 fps= 17 q=-0.0 size=N/A time=00:00:00.88 bitrate=N/A speed=0.325x    \r",
      "frame=   57 fps= 18 q=-0.0 size=N/A time=00:00:01.10 bitrate=N/A speed=0.34x    \r",
      "frame=   68 fps= 18 q=-0.0 size=N/A time=00:00:01.32 bitrate=N/A speed=0.349x    \r",
      "frame=   79 fps= 18 q=-0.0 size=N/A time=00:00:01.54 bitrate=N/A speed=0.359x    \r",
      "frame=   90 fps= 19 q=-0.0 size=N/A time=00:00:01.76 bitrate=N/A speed=0.365x    \r",
      "frame=  100 fps= 18 q=-0.0 Lsize=N/A time=00:00:02.00 bitrate=N/A speed=0.369x    \n",
      "video:91785kB audio:0kB subtitle:0kB other streams:0kB global headers:0kB muxing overhead: unknown\n"
     ]
    }
   ],
   "source": [
    "!sh JCT_VC_extract_compressed_pngs.sh ClassC_mkv/PartyScene_H264_19.mkv ClassC_compressed_PNGS/PartyScene/H264_19/im%d.png"
   ]
  },
  {
   "cell_type": "code",
   "execution_count": null,
   "metadata": {
    "colab": {
     "base_uri": "https://localhost:8080/",
     "height": 54
    },
    "id": "P_lERBXGXYom",
    "outputId": "75235984-7dfb-4342-f406-fbd7b5a13aa9"
   },
   "outputs": [
    {
     "name": "stdout",
     "output_type": "stream",
     "text": [
      "frame=   13 fps=0.0 q=-0.0 size=N/A time=00:00:00.22 bitrate=N/A speed=0.394x    \r",
      "frame=   24 fps= 21 q=-0.0 size=N/A time=00:00:00.44 bitrate=N/A speed=0.385x    \r",
      "frame=   37 fps= 21 q=-0.0 size=N/A time=00:00:00.70 bitrate=N/A speed=0.406x    \r",
      "frame=   49 fps= 21 q=-0.0 size=N/A time=00:00:00.94 bitrate=N/A speed=0.411x    \r",
      "frame=   60 fps= 21 q=-0.0 size=N/A time=00:00:01.16 bitrate=N/A speed=0.413x    \r",
      "frame=   71 fps= 21 q=-0.0 size=N/A time=00:00:01.38 bitrate=N/A speed=0.415x    \r",
      "frame=   82 fps= 21 q=-0.0 size=N/A time=00:00:01.60 bitrate=N/A speed=0.414x    \r",
      "frame=   93 fps= 21 q=-0.0 size=N/A time=00:00:01.82 bitrate=N/A speed=0.416x    \r",
      "frame=  100 fps= 20 q=-0.0 Lsize=N/A time=00:00:02.00 bitrate=N/A speed=0.407x    \n",
      "video:88338kB audio:0kB subtitle:0kB other streams:0kB global headers:0kB muxing overhead: unknown\n"
     ]
    }
   ],
   "source": [
    "!sh JCT_VC_extract_compressed_pngs.sh ClassC_mkv/PartyScene_H264_23.mkv ClassC_compressed_PNGS/PartyScene/H264_23/im%d.png"
   ]
  },
  {
   "cell_type": "code",
   "execution_count": null,
   "metadata": {
    "colab": {
     "base_uri": "https://localhost:8080/",
     "height": 54
    },
    "id": "oDMOl1AsXYox",
    "outputId": "57f0cfdf-053e-4898-8f98-5e78e8fc152d"
   },
   "outputs": [
    {
     "name": "stdout",
     "output_type": "stream",
     "text": [
      "frame=   13 fps=0.0 q=-0.0 size=N/A time=00:00:00.22 bitrate=N/A speed=0.406x    \r",
      "frame=   23 fps= 22 q=-0.0 size=N/A time=00:00:00.42 bitrate=N/A speed=0.394x    \r",
      "frame=   34 fps= 21 q=-0.0 size=N/A time=00:00:00.64 bitrate=N/A speed=0.398x    \r",
      "frame=   46 fps= 22 q=-0.0 size=N/A time=00:00:00.88 bitrate=N/A speed=0.413x    \r",
      "frame=   57 fps= 22 q=-0.0 size=N/A time=00:00:01.10 bitrate=N/A speed=0.417x    \r",
      "frame=   68 fps= 22 q=-0.0 size=N/A time=00:00:01.32 bitrate=N/A speed=0.418x    \r",
      "frame=   79 fps= 22 q=-0.0 size=N/A time=00:00:01.54 bitrate=N/A speed=0.419x    \r",
      "frame=   88 fps= 21 q=-0.0 size=N/A time=00:00:01.72 bitrate=N/A speed=0.409x    \r",
      "frame=   94 fps= 20 q=-0.0 size=N/A time=00:00:01.84 bitrate=N/A speed=0.385x    \r",
      "frame=  100 fps= 20 q=-0.0 Lsize=N/A time=00:00:02.00 bitrate=N/A speed=0.39x    \n",
      "video:84549kB audio:0kB subtitle:0kB other streams:0kB global headers:0kB muxing overhead: unknown\n"
     ]
    }
   ],
   "source": [
    "!sh JCT_VC_extract_compressed_pngs.sh ClassC_mkv/PartyScene_H264_27.mkv ClassC_compressed_PNGS/PartyScene/H264_27/im%d.png"
   ]
  },
  {
   "cell_type": "code",
   "execution_count": null,
   "metadata": {
    "id": "OeWB0b13XYo7"
   },
   "outputs": [],
   "source": []
  },
  {
   "cell_type": "code",
   "execution_count": null,
   "metadata": {
    "colab": {
     "base_uri": "https://localhost:8080/",
     "height": 54
    },
    "id": "qTwdZO7VXYpG",
    "outputId": "b3ec0ca7-2e99-4f81-e731-18cb4edab5cc"
   },
   "outputs": [
    {
     "name": "stdout",
     "output_type": "stream",
     "text": [
      "frame=    7 fps=0.0 q=-0.0 size=N/A time=00:00:00.10 bitrate=N/A speed= 0.2x    \r",
      "frame=   17 fps= 16 q=-0.0 size=N/A time=00:00:00.30 bitrate=N/A speed=0.289x    \r",
      "frame=   25 fps= 16 q=-0.0 size=N/A time=00:00:00.46 bitrate=N/A speed=0.297x    \r",
      "frame=   34 fps= 16 q=-0.0 size=N/A time=00:00:00.64 bitrate=N/A speed=0.307x    \r",
      "frame=   43 fps= 16 q=-0.0 size=N/A time=00:00:00.82 bitrate=N/A speed=0.311x    \r",
      "frame=   53 fps= 17 q=-0.0 size=N/A time=00:00:01.02 bitrate=N/A speed=0.325x    \r",
      "frame=   62 fps= 17 q=-0.0 size=N/A time=00:00:01.20 bitrate=N/A speed=0.327x    \r",
      "frame=   71 fps= 17 q=-0.0 size=N/A time=00:00:01.38 bitrate=N/A speed=0.323x    \r",
      "frame=   81 fps= 17 q=-0.0 size=N/A time=00:00:01.58 bitrate=N/A speed=0.331x    \r",
      "frame=   90 fps= 17 q=-0.0 size=N/A time=00:00:01.76 bitrate=N/A speed=0.332x    \r",
      "frame=  100 fps= 17 q=-0.0 size=N/A time=00:00:01.96 bitrate=N/A speed=0.334x    \r",
      "frame=  100 fps= 17 q=-0.0 Lsize=N/A time=00:00:02.00 bitrate=N/A speed=0.334x    \n",
      "video:97922kB audio:0kB subtitle:0kB other streams:0kB global headers:0kB muxing overhead: unknown\n"
     ]
    }
   ],
   "source": [
    "!sh JCT_VC_extract_compressed_pngs.sh ClassC_mkv/PartyScene_H265_15.mkv ClassC_compressed_PNGS/PartyScene/H265_15/im%d.png"
   ]
  },
  {
   "cell_type": "code",
   "execution_count": null,
   "metadata": {
    "colab": {
     "base_uri": "https://localhost:8080/",
     "height": 54
    },
    "id": "5Bkb8QjKXYpO",
    "outputId": "f25dbcf9-1637-4ced-9fb8-c1daea500570"
   },
   "outputs": [
    {
     "name": "stdout",
     "output_type": "stream",
     "text": [
      "frame=    4 fps=0.0 q=-0.0 size=N/A time=00:00:00.04 bitrate=N/A speed=0.0471x    \r",
      "frame=   15 fps=9.3 q=-0.0 size=N/A time=00:00:00.26 bitrate=N/A speed=0.162x    \r",
      "frame=   26 fps= 12 q=-0.0 size=N/A time=00:00:00.48 bitrate=N/A speed=0.222x    \r",
      "frame=   36 fps= 13 q=-0.0 size=N/A time=00:00:00.68 bitrate=N/A speed=0.252x    \r",
      "frame=   47 fps= 14 q=-0.0 size=N/A time=00:00:00.90 bitrate=N/A speed=0.277x    \r",
      "frame=   57 fps= 15 q=-0.0 size=N/A time=00:00:01.10 bitrate=N/A speed=0.286x    \r",
      "frame=   67 fps= 15 q=-0.0 size=N/A time=00:00:01.30 bitrate=N/A speed=0.297x    \r",
      "frame=   77 fps= 16 q=-0.0 size=N/A time=00:00:01.50 bitrate=N/A speed=0.304x    \r",
      "frame=   87 fps= 16 q=-0.0 size=N/A time=00:00:01.70 bitrate=N/A speed=0.313x    \r",
      "frame=   95 fps= 16 q=-0.0 size=N/A time=00:00:01.86 bitrate=N/A speed=0.307x    \r",
      "frame=  100 fps= 15 q=-0.0 Lsize=N/A time=00:00:02.00 bitrate=N/A speed=0.31x    \n",
      "video:95042kB audio:0kB subtitle:0kB other streams:0kB global headers:0kB muxing overhead: unknown\n"
     ]
    }
   ],
   "source": [
    "!sh JCT_VC_extract_compressed_pngs.sh ClassC_mkv/PartyScene_H265_19.mkv ClassC_compressed_PNGS/PartyScene/H265_19/im%d.png"
   ]
  },
  {
   "cell_type": "code",
   "execution_count": null,
   "metadata": {
    "colab": {
     "base_uri": "https://localhost:8080/",
     "height": 54
    },
    "id": "hBr3S7xUXYpY",
    "outputId": "3e582578-b411-406c-a30f-06c895ae8b79"
   },
   "outputs": [
    {
     "name": "stdout",
     "output_type": "stream",
     "text": [
      "frame=   11 fps=0.0 q=-0.0 size=N/A time=00:00:00.18 bitrate=N/A speed=0.355x    \r",
      "frame=   21 fps= 19 q=-0.0 size=N/A time=00:00:00.38 bitrate=N/A speed=0.349x    \r",
      "frame=   31 fps= 19 q=-0.0 size=N/A time=00:00:00.58 bitrate=N/A speed=0.359x    \r",
      "frame=   42 fps= 19 q=-0.0 size=N/A time=00:00:00.80 bitrate=N/A speed=0.367x    \r",
      "frame=   53 fps= 19 q=-0.0 size=N/A time=00:00:01.02 bitrate=N/A speed=0.371x    \r",
      "frame=   63 fps= 19 q=-0.0 size=N/A time=00:00:01.22 bitrate=N/A speed=0.374x    \r",
      "frame=   73 fps= 19 q=-0.0 size=N/A time=00:00:01.42 bitrate=N/A speed=0.376x    \r",
      "frame=   83 fps= 19 q=-0.0 size=N/A time=00:00:01.62 bitrate=N/A speed=0.378x    \r",
      "frame=   93 fps= 19 q=-0.0 size=N/A time=00:00:01.82 bitrate=N/A speed=0.379x    \r",
      "frame=  100 fps= 19 q=-0.0 Lsize=N/A time=00:00:02.00 bitrate=N/A speed=0.38x    \n",
      "video:92364kB audio:0kB subtitle:0kB other streams:0kB global headers:0kB muxing overhead: unknown\n"
     ]
    }
   ],
   "source": [
    "!sh JCT_VC_extract_compressed_pngs.sh ClassC_mkv/PartyScene_H265_23.mkv ClassC_compressed_PNGS/PartyScene/H265_23/im%d.png"
   ]
  },
  {
   "cell_type": "code",
   "execution_count": null,
   "metadata": {
    "colab": {
     "base_uri": "https://localhost:8080/",
     "height": 54
    },
    "id": "_vXsBdttXYph",
    "outputId": "c170e37c-fb2e-4fd5-e023-02910a5b5921"
   },
   "outputs": [
    {
     "name": "stdout",
     "output_type": "stream",
     "text": [
      "frame=   11 fps=0.0 q=-0.0 size=N/A time=00:00:00.18 bitrate=N/A speed=0.349x    \r",
      "frame=   22 fps= 21 q=-0.0 size=N/A time=00:00:00.40 bitrate=N/A speed=0.386x    \r",
      "frame=   32 fps= 20 q=-0.0 size=N/A time=00:00:00.60 bitrate=N/A speed=0.372x    \r",
      "frame=   42 fps= 18 q=-0.0 size=N/A time=00:00:00.80 bitrate=N/A speed=0.341x    \r",
      "frame=   54 fps= 19 q=-0.0 size=N/A time=00:00:01.04 bitrate=N/A speed=0.361x    \r",
      "frame=   65 fps= 19 q=-0.0 size=N/A time=00:00:01.26 bitrate=N/A speed=0.364x    \r",
      "frame=   75 fps= 19 q=-0.0 size=N/A time=00:00:01.46 bitrate=N/A speed=0.368x    \r",
      "frame=   86 fps= 19 q=-0.0 size=N/A time=00:00:01.68 bitrate=N/A speed=0.374x    \r",
      "frame=   97 fps= 19 q=-0.0 size=N/A time=00:00:01.90 bitrate=N/A speed=0.377x    \r",
      "frame=  100 fps= 19 q=-0.0 Lsize=N/A time=00:00:02.00 bitrate=N/A speed=0.378x    \n",
      "video:89645kB audio:0kB subtitle:0kB other streams:0kB global headers:0kB muxing overhead: unknown\n"
     ]
    }
   ],
   "source": [
    "!sh JCT_VC_extract_compressed_pngs.sh ClassC_mkv/PartyScene_H265_27.mkv ClassC_compressed_PNGS/PartyScene/H265_27/im%d.png"
   ]
  },
  {
   "cell_type": "code",
   "execution_count": null,
   "metadata": {
    "id": "ffLNly1HXZ7L"
   },
   "outputs": [],
   "source": []
  },
  {
   "cell_type": "code",
   "execution_count": null,
   "metadata": {
    "id": "cOMPFOCIXZoX"
   },
   "outputs": [],
   "source": []
  },
  {
   "cell_type": "code",
   "execution_count": null,
   "metadata": {
    "colab": {
     "base_uri": "https://localhost:8080/",
     "height": 54
    },
    "id": "Dk4myntUXaZr",
    "outputId": "2ab4cefb-3af5-4229-e2e7-6f4a0d84fae3"
   },
   "outputs": [
    {
     "name": "stdout",
     "output_type": "stream",
     "text": [
      "frame=   12 fps=0.0 q=-0.0 size=N/A time=00:00:00.33 bitrate=N/A speed=0.596x    \r",
      "frame=   22 fps= 20 q=-0.0 size=N/A time=00:00:00.66 bitrate=N/A speed=0.62x    \r",
      "frame=   30 fps= 19 q=-0.0 size=N/A time=00:00:00.93 bitrate=N/A speed=0.589x    \r",
      "frame=   35 fps= 16 q=-0.0 size=N/A time=00:00:01.10 bitrate=N/A speed=0.512x    \r",
      "frame=   45 fps= 17 q=-0.0 size=N/A time=00:00:01.43 bitrate=N/A speed=0.54x    \r",
      "frame=   55 fps= 17 q=-0.0 size=N/A time=00:00:01.76 bitrate=N/A speed=0.557x    \r",
      "frame=   65 fps= 17 q=-0.0 size=N/A time=00:00:02.10 bitrate=N/A speed=0.565x    \r",
      "frame=   75 fps= 18 q=-0.0 size=N/A time=00:00:02.43 bitrate=N/A speed=0.574x    \r",
      "frame=   85 fps= 18 q=-0.0 size=N/A time=00:00:02.76 bitrate=N/A speed=0.581x    \r",
      "frame=   95 fps= 18 q=-0.0 size=N/A time=00:00:03.10 bitrate=N/A speed=0.587x    \r",
      "frame=  100 fps= 18 q=-0.0 Lsize=N/A time=00:00:03.33 bitrate=N/A speed=0.586x    \n",
      "video:82976kB audio:0kB subtitle:0kB other streams:0kB global headers:0kB muxing overhead: unknown\n"
     ]
    }
   ],
   "source": [
    "!sh JCT_VC_extract_compressed_pngs.sh ClassC_mkv/RaceHorsesC_H265_19.mkv ClassC_compressed_PNGS/RaceHorsesC/H264_15/im%d.png"
   ]
  },
  {
   "cell_type": "code",
   "execution_count": null,
   "metadata": {
    "colab": {
     "base_uri": "https://localhost:8080/",
     "height": 54
    },
    "id": "2medarqLXaZ4",
    "outputId": "65766bf6-0776-4432-cf71-f1bdd2f98c50"
   },
   "outputs": [
    {
     "name": "stdout",
     "output_type": "stream",
     "text": [
      "frame=   12 fps=0.0 q=-0.0 size=N/A time=00:00:00.33 bitrate=N/A speed=0.665x    \r",
      "frame=   20 fps= 16 q=-0.0 size=N/A time=00:00:00.60 bitrate=N/A speed=0.476x    \r",
      "frame=   31 fps= 17 q=-0.0 size=N/A time=00:00:00.96 bitrate=N/A speed=0.542x    \r",
      "frame=   42 fps= 18 q=-0.0 size=N/A time=00:00:01.33 bitrate=N/A speed=0.57x    \r",
      "frame=   52 fps= 18 q=-0.0 size=N/A time=00:00:01.66 bitrate=N/A speed=0.585x    \r",
      "frame=   63 fps= 19 q=-0.0 size=N/A time=00:00:02.03 bitrate=N/A speed=0.605x    \r",
      "frame=   73 fps= 19 q=-0.0 size=N/A time=00:00:02.36 bitrate=N/A speed=0.612x    \r",
      "frame=   84 fps= 19 q=-0.0 size=N/A time=00:00:02.73 bitrate=N/A speed=0.624x    \r",
      "frame=   95 fps= 19 q=-0.0 size=N/A time=00:00:03.10 bitrate=N/A speed=0.633x    \r",
      "frame=  100 fps= 19 q=-0.0 Lsize=N/A time=00:00:03.33 bitrate=N/A speed=0.639x    \n",
      "video:78882kB audio:0kB subtitle:0kB other streams:0kB global headers:0kB muxing overhead: unknown\n"
     ]
    }
   ],
   "source": [
    "!sh JCT_VC_extract_compressed_pngs.sh ClassC_mkv/RaceHorsesC_H264_19.mkv ClassC_compressed_PNGS/RaceHorsesC/H264_19/im%d.png"
   ]
  },
  {
   "cell_type": "code",
   "execution_count": null,
   "metadata": {
    "colab": {
     "base_uri": "https://localhost:8080/",
     "height": 54
    },
    "id": "5FA5kmZ1XaaB",
    "outputId": "f66ef167-83c6-4750-c53d-701996033a16"
   },
   "outputs": [
    {
     "name": "stdout",
     "output_type": "stream",
     "text": [
      "frame=   12 fps=0.0 q=-0.0 size=N/A time=00:00:00.33 bitrate=N/A speed=0.569x    \r",
      "frame=   24 fps= 17 q=-0.0 size=N/A time=00:00:00.73 bitrate=N/A speed=0.529x    \r",
      "frame=   37 fps= 19 q=-0.0 size=N/A time=00:00:01.16 bitrate=N/A speed=0.604x    \r",
      "frame=   49 fps= 20 q=-0.0 size=N/A time=00:00:01.56 bitrate=N/A speed=0.625x    \r",
      "frame=   60 fps= 20 q=-0.0 size=N/A time=00:00:01.93 bitrate=N/A speed=0.643x    \r",
      "frame=   71 fps= 20 q=-0.0 size=N/A time=00:00:02.30 bitrate=N/A speed=0.651x    \r",
      "frame=   82 fps= 20 q=-0.0 size=N/A time=00:00:02.66 bitrate=N/A speed=0.657x    \r",
      "frame=   94 fps= 20 q=-0.0 size=N/A time=00:00:03.06 bitrate=N/A speed=0.666x    \r",
      "frame=  100 fps= 20 q=-0.0 Lsize=N/A time=00:00:03.33 bitrate=N/A speed=0.675x    \n",
      "video:75533kB audio:0kB subtitle:0kB other streams:0kB global headers:0kB muxing overhead: unknown\n"
     ]
    }
   ],
   "source": [
    "!sh JCT_VC_extract_compressed_pngs.sh ClassC_mkv/RaceHorsesC_H264_23.mkv ClassC_compressed_PNGS/RaceHorsesC/H264_23/im%d.png"
   ]
  },
  {
   "cell_type": "code",
   "execution_count": null,
   "metadata": {
    "colab": {
     "base_uri": "https://localhost:8080/",
     "height": 54
    },
    "id": "YYY-MaSQXaaK",
    "outputId": "b36a8e0e-cb2d-4650-9e5c-9cfedd5a054d"
   },
   "outputs": [
    {
     "name": "stdout",
     "output_type": "stream",
     "text": [
      "frame=   11 fps=0.0 q=-0.0 size=N/A time=00:00:00.30 bitrate=N/A speed=0.568x    \r",
      "frame=   23 fps= 22 q=-0.0 size=N/A time=00:00:00.70 bitrate=N/A speed=0.678x    \r",
      "frame=   35 fps= 22 q=-0.0 size=N/A time=00:00:01.10 bitrate=N/A speed=0.697x    \r",
      "frame=   47 fps= 22 q=-0.0 size=N/A time=00:00:01.50 bitrate=N/A speed=0.706x    \r",
      "frame=   60 fps= 22 q=-0.0 size=N/A time=00:00:01.93 bitrate=N/A speed=0.721x    \r",
      "frame=   72 fps= 23 q=-0.0 size=N/A time=00:00:02.33 bitrate=N/A speed=0.733x    \r",
      "frame=   84 fps= 23 q=-0.0 size=N/A time=00:00:02.73 bitrate=N/A speed=0.735x    \r",
      "frame=   96 fps= 23 q=-0.0 size=N/A time=00:00:03.13 bitrate=N/A speed=0.74x    \r",
      "frame=  100 fps= 22 q=-0.0 Lsize=N/A time=00:00:03.33 bitrate=N/A speed=0.739x    \n",
      "video:72147kB audio:0kB subtitle:0kB other streams:0kB global headers:0kB muxing overhead: unknown\n"
     ]
    }
   ],
   "source": [
    "!sh JCT_VC_extract_compressed_pngs.sh ClassC_mkv/RaceHorsesC_H264_27.mkv ClassC_compressed_PNGS/RaceHorsesC/H264_27/im%d.png"
   ]
  },
  {
   "cell_type": "code",
   "execution_count": null,
   "metadata": {
    "id": "XoPTcS0WXaaU"
   },
   "outputs": [],
   "source": []
  },
  {
   "cell_type": "code",
   "execution_count": null,
   "metadata": {
    "colab": {
     "base_uri": "https://localhost:8080/",
     "height": 54
    },
    "id": "GoI8sKsGXaaZ",
    "outputId": "22a32791-88af-4581-e827-056efa1c3ffe"
   },
   "outputs": [
    {
     "name": "stdout",
     "output_type": "stream",
     "text": [
      "frame=   11 fps=0.0 q=-0.0 size=N/A time=00:00:00.30 bitrate=N/A speed=0.524x    \r",
      "frame=   18 fps= 16 q=-0.0 size=N/A time=00:00:00.53 bitrate=N/A speed=0.476x    \r",
      "frame=   29 fps= 17 q=-0.0 size=N/A time=00:00:00.90 bitrate=N/A speed=0.533x    \r",
      "frame=   34 fps= 15 q=-0.0 size=N/A time=00:00:01.06 bitrate=N/A speed=0.472x    \r",
      "frame=   44 fps= 16 q=-0.0 size=N/A time=00:00:01.40 bitrate=N/A speed=0.499x    \r",
      "frame=   54 fps= 16 q=-0.0 size=N/A time=00:00:01.73 bitrate=N/A speed=0.523x    \r",
      "frame=   64 fps= 16 q=-0.0 size=N/A time=00:00:02.06 bitrate=N/A speed=0.522x    \r",
      "frame=   73 fps= 16 q=-0.0 size=N/A time=00:00:02.36 bitrate=N/A speed=0.527x    \r",
      "frame=   84 fps= 17 q=-0.0 size=N/A time=00:00:02.73 bitrate=N/A speed=0.541x    \r",
      "frame=   94 fps= 17 q=-0.0 size=N/A time=00:00:03.06 bitrate=N/A speed=0.546x    \r",
      "frame=  100 fps= 17 q=-0.0 Lsize=N/A time=00:00:03.33 bitrate=N/A speed=0.552x    \n",
      "video:83800kB audio:0kB subtitle:0kB other streams:0kB global headers:0kB muxing overhead: unknown\n"
     ]
    }
   ],
   "source": [
    "!sh JCT_VC_extract_compressed_pngs.sh ClassC_mkv/RaceHorsesC_H265_15.mkv ClassC_compressed_PNGS/RaceHorsesC/H265_15/im%d.png"
   ]
  },
  {
   "cell_type": "code",
   "execution_count": null,
   "metadata": {
    "colab": {
     "base_uri": "https://localhost:8080/",
     "height": 54
    },
    "id": "9GjKkW2MXaag",
    "outputId": "be0f7f60-031e-46be-a599-5c0ddbce084d"
   },
   "outputs": [
    {
     "name": "stdout",
     "output_type": "stream",
     "text": [
      "frame=   10 fps=0.0 q=-0.0 size=N/A time=00:00:00.26 bitrate=N/A speed=0.476x    \r",
      "frame=   20 fps= 15 q=-0.0 size=N/A time=00:00:00.60 bitrate=N/A speed=0.441x    \r",
      "frame=   30 fps= 16 q=-0.0 size=N/A time=00:00:00.93 bitrate=N/A speed=0.499x    \r",
      "frame=   40 fps= 17 q=-0.0 size=N/A time=00:00:01.26 bitrate=N/A speed=0.531x    \r",
      "frame=   49 fps= 16 q=-0.0 size=N/A time=00:00:01.56 bitrate=N/A speed=0.527x    \r",
      "frame=   59 fps= 17 q=-0.0 size=N/A time=00:00:01.90 bitrate=N/A speed=0.54x    \r",
      "frame=   70 fps= 17 q=-0.0 size=N/A time=00:00:02.26 bitrate=N/A speed=0.553x    \r",
      "frame=   80 fps= 17 q=-0.0 size=N/A time=00:00:02.60 bitrate=N/A speed=0.564x    \r",
      "frame=   90 fps= 17 q=-0.0 size=N/A time=00:00:02.93 bitrate=N/A speed=0.568x    \r",
      "frame=  100 fps= 17 q=-0.0 size=N/A time=00:00:03.26 bitrate=N/A speed=0.571x    \r",
      "frame=  100 fps= 17 q=-0.0 Lsize=N/A time=00:00:03.33 bitrate=N/A speed=0.574x    \n",
      "video:82976kB audio:0kB subtitle:0kB other streams:0kB global headers:0kB muxing overhead: unknown\n"
     ]
    }
   ],
   "source": [
    "!sh JCT_VC_extract_compressed_pngs.sh ClassC_mkv/RaceHorsesC_H265_19.mkv ClassC_compressed_PNGS/RaceHorsesC/H265_19/im%d.png"
   ]
  },
  {
   "cell_type": "code",
   "execution_count": null,
   "metadata": {
    "colab": {
     "base_uri": "https://localhost:8080/",
     "height": 54
    },
    "id": "9IhDuAFBXaao",
    "outputId": "03f49520-5e44-4b6a-d2de-5db9d2e81b26"
   },
   "outputs": [
    {
     "name": "stdout",
     "output_type": "stream",
     "text": [
      "frame=   11 fps=0.0 q=-0.0 size=N/A time=00:00:00.30 bitrate=N/A speed=0.595x    \r",
      "frame=   23 fps= 21 q=-0.0 size=N/A time=00:00:00.70 bitrate=N/A speed=0.647x    \r",
      "frame=   28 fps= 17 q=-0.0 size=N/A time=00:00:00.86 bitrate=N/A speed=0.54x    \r",
      "frame=   30 fps= 12 q=-0.0 size=N/A time=00:00:00.93 bitrate=N/A speed=0.386x    \r",
      "frame=   32 fps= 10 q=-0.0 size=N/A time=00:00:01.00 bitrate=N/A speed=0.314x    \r",
      "frame=   34 fps=8.7 q=-0.0 size=N/A time=00:00:01.06 bitrate=N/A speed=0.272x    \r",
      "frame=   36 fps=7.8 q=-0.0 size=N/A time=00:00:01.13 bitrate=N/A speed=0.244x    \r",
      "frame=   38 fps=6.8 q=-0.0 size=N/A time=00:00:01.20 bitrate=N/A speed=0.213x    \r",
      "frame=   40 fps=6.2 q=-0.0 size=N/A time=00:00:01.26 bitrate=N/A speed=0.197x    \r",
      "frame=   42 fps=5.8 q=-0.0 size=N/A time=00:00:01.33 bitrate=N/A speed=0.184x    \r",
      "frame=   44 fps=5.1 q=-0.0 size=N/A time=00:00:01.40 bitrate=N/A speed=0.163x    \r",
      "frame=   46 fps=4.9 q=-0.0 size=N/A time=00:00:01.46 bitrate=N/A speed=0.155x    \r",
      "frame=   47 fps=4.7 q=-0.0 size=N/A time=00:00:01.50 bitrate=N/A speed=0.151x    \r",
      "frame=   49 fps=4.5 q=-0.0 size=N/A time=00:00:01.56 bitrate=N/A speed=0.144x    \r",
      "frame=   50 fps=4.4 q=-0.0 size=N/A time=00:00:01.60 bitrate=N/A speed=0.141x    \r",
      "frame=   52 fps=4.2 q=-0.0 size=N/A time=00:00:01.66 bitrate=N/A speed=0.135x    \r",
      "frame=   54 fps=4.1 q=-0.0 size=N/A time=00:00:01.73 bitrate=N/A speed=0.131x    \r",
      "frame=   56 fps=4.0 q=-0.0 size=N/A time=00:00:01.80 bitrate=N/A speed=0.128x    \r",
      "frame=   58 fps=3.9 q=-0.0 size=N/A time=00:00:01.86 bitrate=N/A speed=0.124x    \r",
      "frame=   59 fps=3.8 q=-0.0 size=N/A time=00:00:01.90 bitrate=N/A speed=0.122x    \r",
      "frame=   61 fps=3.7 q=-0.0 size=N/A time=00:00:01.96 bitrate=N/A speed=0.118x    \r",
      "frame=   63 fps=3.6 q=-0.0 size=N/A time=00:00:02.03 bitrate=N/A speed=0.116x    \r",
      "frame=   65 fps=3.5 q=-0.0 size=N/A time=00:00:02.10 bitrate=N/A speed=0.114x    \r",
      "frame=   67 fps=3.5 q=-0.0 size=N/A time=00:00:02.16 bitrate=N/A speed=0.113x    \r",
      "frame=   68 fps=3.4 q=-0.0 size=N/A time=00:00:02.20 bitrate=N/A speed=0.111x    \r",
      "frame=   70 fps=3.3 q=-0.0 size=N/A time=00:00:02.26 bitrate=N/A speed=0.108x    \r",
      "frame=   71 fps=3.2 q=-0.0 size=N/A time=00:00:02.30 bitrate=N/A speed=0.105x    \r",
      "frame=   72 fps=3.2 q=-0.0 size=N/A time=00:00:02.33 bitrate=N/A speed=0.104x    \r",
      "frame=   73 fps=3.1 q=-0.0 size=N/A time=00:00:02.36 bitrate=N/A speed=0.101x    \r",
      "frame=   75 fps=3.1 q=-0.0 size=N/A time=00:00:02.43 bitrate=N/A speed= 0.1x    \r",
      "frame=   76 fps=3.1 q=-0.0 size=N/A time=00:00:02.46 bitrate=N/A speed=0.099x    \r",
      "frame=   78 fps=3.0 q=-0.0 size=N/A time=00:00:02.53 bitrate=N/A speed=0.0986x    \r",
      "frame=   80 fps=3.0 q=-0.0 size=N/A time=00:00:02.60 bitrate=N/A speed=0.0983x    \r",
      "frame=   81 fps=3.0 q=-0.0 size=N/A time=00:00:02.63 bitrate=N/A speed=0.0976x    \r",
      "frame=   83 fps=3.0 q=-0.0 size=N/A time=00:00:02.70 bitrate=N/A speed=0.0974x    \r",
      "frame=   84 fps=3.0 q=-0.0 size=N/A time=00:00:02.73 bitrate=N/A speed=0.0967x    \r",
      "frame=   86 fps=3.0 q=-0.0 size=N/A time=00:00:02.80 bitrate=N/A speed=0.0962x    \r",
      "frame=   88 fps=2.9 q=-0.0 size=N/A time=00:00:02.86 bitrate=N/A speed=0.0955x    \r",
      "frame=   90 fps=2.9 q=-0.0 size=N/A time=00:00:02.93 bitrate=N/A speed=0.0955x    \r",
      "frame=   91 fps=2.9 q=-0.0 size=N/A time=00:00:02.96 bitrate=N/A speed=0.0949x    \r",
      "frame=   93 fps=2.9 q=-0.0 size=N/A time=00:00:03.03 bitrate=N/A speed=0.0947x    \r",
      "frame=   95 fps=2.9 q=-0.0 size=N/A time=00:00:03.10 bitrate=N/A speed=0.0946x    \r",
      "frame=   96 fps=2.9 q=-0.0 size=N/A time=00:00:03.13 bitrate=N/A speed=0.094x    \r",
      "frame=   98 fps=2.9 q=-0.0 size=N/A time=00:00:03.20 bitrate=N/A speed=0.0933x    \r",
      "frame=  100 fps=2.8 q=-0.0 size=N/A time=00:00:03.26 bitrate=N/A speed=0.0928x    \r",
      "frame=  100 fps=2.7 q=-0.0 Lsize=N/A time=00:00:03.33 bitrate=N/A speed=0.0915x    \n",
      "video:82043kB audio:0kB subtitle:0kB other streams:0kB global headers:0kB muxing overhead: unknown\n"
     ]
    }
   ],
   "source": [
    "!sh JCT_VC_extract_compressed_pngs.sh ClassC_mkv/RaceHorsesC_H265_23.mkv ClassC_compressed_PNGS/RaceHorsesC/H265_23/im%d.png"
   ]
  },
  {
   "cell_type": "code",
   "execution_count": null,
   "metadata": {
    "colab": {
     "base_uri": "https://localhost:8080/",
     "height": 54
    },
    "id": "2VKD9s9TXaau",
    "outputId": "77818a3a-5758-4dc5-d553-204a10248c7b"
   },
   "outputs": [
    {
     "name": "stdout",
     "output_type": "stream",
     "text": [
      "frame=   12 fps=0.0 q=-0.0 size=N/A time=00:00:00.33 bitrate=N/A speed=0.585x    \r",
      "frame=   26 fps= 23 q=-0.0 size=N/A time=00:00:00.80 bitrate=N/A speed=0.717x    \r",
      "frame=   38 fps= 23 q=-0.0 size=N/A time=00:00:01.20 bitrate=N/A speed=0.74x    \r",
      "frame=   47 fps= 22 q=-0.0 size=N/A time=00:00:01.50 bitrate=N/A speed=0.702x    \r",
      "frame=   61 fps= 23 q=-0.0 size=N/A time=00:00:01.96 bitrate=N/A speed=0.739x    \r",
      "frame=   71 fps= 22 q=-0.0 size=N/A time=00:00:02.30 bitrate=N/A speed=0.72x    \r",
      "frame=   82 fps= 22 q=-0.0 size=N/A time=00:00:02.66 bitrate=N/A speed=0.706x    \r",
      "frame=   96 fps= 22 q=-0.0 size=N/A time=00:00:03.13 bitrate=N/A speed=0.729x    \r",
      "frame=  100 fps= 22 q=-0.0 Lsize=N/A time=00:00:03.33 bitrate=N/A speed=0.723x    \n",
      "video:81073kB audio:0kB subtitle:0kB other streams:0kB global headers:0kB muxing overhead: unknown\n"
     ]
    }
   ],
   "source": [
    "!sh JCT_VC_extract_compressed_pngs.sh ClassC_mkv/RaceHorsesC_H265_27.mkv ClassC_compressed_PNGS/RaceHorsesC/H265_27/im%d.png"
   ]
  },
  {
   "cell_type": "code",
   "execution_count": null,
   "metadata": {
    "id": "SEAYFcr_Xbk_"
   },
   "outputs": [],
   "source": []
  },
  {
   "cell_type": "code",
   "execution_count": null,
   "metadata": {
    "id": "hr41XthEfuPA"
   },
   "outputs": [],
   "source": []
  },
  {
   "cell_type": "code",
   "execution_count": null,
   "metadata": {
    "colab": {
     "base_uri": "https://localhost:8080/",
     "height": 54
    },
    "id": "8j6py1zvfuZ-",
    "outputId": "9758fdfa-32fe-4e0d-e21d-fcd34e1a0fe0"
   },
   "outputs": [
    {
     "name": "stdout",
     "output_type": "stream",
     "text": [
      "Average\n",
      "psnr = 36.67508920, ms-ssim =0.98447942\n"
     ]
    }
   ],
   "source": [
    "!python psnr_msssim_calc.py -i ClassC_frames/BasketballDrill/ -o ClassC_compressed_PNGS/BasketballDrill/H264_15/ "
   ]
  },
  {
   "cell_type": "code",
   "execution_count": null,
   "metadata": {
    "colab": {
     "base_uri": "https://localhost:8080/",
     "height": 54
    },
    "id": "9xfnSxEHXbYR",
    "outputId": "ad35ca18-1e8f-4791-8f63-750c0bc4ff86"
   },
   "outputs": [
    {
     "name": "stdout",
     "output_type": "stream",
     "text": [
      "Average\n",
      "psnr = 34.53096819, ms-ssim =0.97728508\n"
     ]
    }
   ],
   "source": [
    "!python psnr_msssim_calc.py -i ClassC_frames/BasketballDrill/ -o ClassC_compressed_PNGS/BasketballDrill/H264_19/ "
   ]
  },
  {
   "cell_type": "code",
   "execution_count": null,
   "metadata": {
    "colab": {
     "base_uri": "https://localhost:8080/",
     "height": 54
    },
    "id": "c8i_FguAf7fG",
    "outputId": "c9091483-5b70-4c64-8b34-a25fef2ff201"
   },
   "outputs": [
    {
     "name": "stdout",
     "output_type": "stream",
     "text": [
      "Average\n",
      "psnr = 32.47727760, ms-ssim =0.96604616\n"
     ]
    }
   ],
   "source": [
    "!python psnr_msssim_calc.py -i ClassC_frames/BasketballDrill/ -o ClassC_compressed_PNGS/BasketballDrill/H264_23/ "
   ]
  },
  {
   "cell_type": "code",
   "execution_count": null,
   "metadata": {
    "colab": {
     "base_uri": "https://localhost:8080/",
     "height": 54
    },
    "id": "kkOpUQxlf7m1",
    "outputId": "714afb54-93f8-4f70-9fc9-2d4dfc3df213"
   },
   "outputs": [
    {
     "name": "stdout",
     "output_type": "stream",
     "text": [
      "Average\n",
      "psnr = 30.45242469, ms-ssim =0.94918472\n"
     ]
    }
   ],
   "source": [
    "!python psnr_msssim_calc.py -i ClassC_frames/BasketballDrill/ -o ClassC_compressed_PNGS/BasketballDrill/H264_27/ "
   ]
  },
  {
   "cell_type": "code",
   "execution_count": null,
   "metadata": {
    "id": "9U0oZI0zf7rh"
   },
   "outputs": [],
   "source": []
  },
  {
   "cell_type": "code",
   "execution_count": null,
   "metadata": {
    "colab": {
     "base_uri": "https://localhost:8080/",
     "height": 54
    },
    "id": "yfOTrdFvgDnj",
    "outputId": "440a5ad8-ff8e-4d30-e131-8e61b1690025"
   },
   "outputs": [
    {
     "name": "stdout",
     "output_type": "stream",
     "text": [
      "Average\n",
      "psnr = 38.08663066, ms-ssim =0.98778484\n"
     ]
    }
   ],
   "source": [
    "!python psnr_msssim_calc.py -i ClassC_frames/BasketballDrill/ -o ClassC_compressed_PNGS/BasketballDrill/H265_15/ "
   ]
  },
  {
   "cell_type": "code",
   "execution_count": null,
   "metadata": {
    "colab": {
     "base_uri": "https://localhost:8080/",
     "height": 54
    },
    "id": "xvJFT8FsgDoA",
    "outputId": "86fbe7ab-90dd-41a4-8feb-01631276b32a"
   },
   "outputs": [
    {
     "name": "stdout",
     "output_type": "stream",
     "text": [
      "Average\n",
      "psnr = 36.09351714, ms-ssim =0.98270610\n"
     ]
    }
   ],
   "source": [
    "!python psnr_msssim_calc.py -i ClassC_frames/BasketballDrill/ -o ClassC_compressed_PNGS/BasketballDrill/H265_19/ "
   ]
  },
  {
   "cell_type": "code",
   "execution_count": null,
   "metadata": {
    "colab": {
     "base_uri": "https://localhost:8080/",
     "height": 54
    },
    "id": "_N-oZAdqgDoY",
    "outputId": "0143519c-167f-4099-f4eb-86ab7bc91609"
   },
   "outputs": [
    {
     "name": "stdout",
     "output_type": "stream",
     "text": [
      "Average\n",
      "psnr = 36.09351714, ms-ssim =0.98270610\n"
     ]
    }
   ],
   "source": [
    "!python psnr_msssim_calc.py -i ClassC_frames/BasketballDrill/ -o ClassC_compressed_PNGS/BasketballDrill/H265_23/ "
   ]
  },
  {
   "cell_type": "code",
   "execution_count": null,
   "metadata": {
    "colab": {
     "base_uri": "https://localhost:8080/",
     "height": 54
    },
    "id": "hA8RAeqIgDon",
    "outputId": "b0fdf9c8-db14-4454-8040-9e410ca3708f"
   },
   "outputs": [
    {
     "name": "stdout",
     "output_type": "stream",
     "text": [
      "Average\n",
      "psnr = 32.00380087, ms-ssim =0.96232307\n"
     ]
    }
   ],
   "source": [
    "!python psnr_msssim_calc.py -i ClassC_frames/BasketballDrill/ -o ClassC_compressed_PNGS/BasketballDrill/H265_27/ "
   ]
  },
  {
   "cell_type": "code",
   "execution_count": null,
   "metadata": {
    "id": "82_iuPFrf8D4"
   },
   "outputs": [],
   "source": []
  },
  {
   "cell_type": "code",
   "execution_count": null,
   "metadata": {
    "id": "CCt9WA1kgHxt"
   },
   "outputs": [],
   "source": []
  },
  {
   "cell_type": "code",
   "execution_count": null,
   "metadata": {
    "colab": {
     "base_uri": "https://localhost:8080/",
     "height": 54
    },
    "id": "-h6hgiCGgIbs",
    "outputId": "0a79c6e3-6842-4a3e-8830-6adbdd5fbc64"
   },
   "outputs": [
    {
     "name": "stdout",
     "output_type": "stream",
     "text": [
      "Average\n",
      "psnr = 35.70380449, ms-ssim =0.98755785\n"
     ]
    }
   ],
   "source": [
    "!python psnr_msssim_calc.py -i ClassC_frames/BQMall/ -o ClassC_compressed_PNGS/BQMall/H264_15/ "
   ]
  },
  {
   "cell_type": "code",
   "execution_count": null,
   "metadata": {
    "colab": {
     "base_uri": "https://localhost:8080/",
     "height": 54
    },
    "id": "VbXER4OqgIcF",
    "outputId": "02da5c03-0c22-4a9d-b1f5-c3733ec956c3"
   },
   "outputs": [
    {
     "name": "stdout",
     "output_type": "stream",
     "text": [
      "Average\n",
      "psnr = 33.95233663, ms-ssim =0.98366419\n"
     ]
    }
   ],
   "source": [
    "!python psnr_msssim_calc.py -i ClassC_frames/BQMall/ -o ClassC_compressed_PNGS/BQMall/H264_19/ "
   ]
  },
  {
   "cell_type": "code",
   "execution_count": null,
   "metadata": {
    "colab": {
     "base_uri": "https://localhost:8080/",
     "height": 54
    },
    "id": "9ZSeOblsgIcR",
    "outputId": "ba294c56-56c5-48b6-aff2-4d6360fcc7b5"
   },
   "outputs": [
    {
     "name": "stdout",
     "output_type": "stream",
     "text": [
      "Average\n",
      "psnr = 32.15914226, ms-ssim =0.97796110\n"
     ]
    }
   ],
   "source": [
    "!python psnr_msssim_calc.py -i ClassC_frames/BQMall/ -o ClassC_compressed_PNGS/BQMall/H264_23/ "
   ]
  },
  {
   "cell_type": "code",
   "execution_count": null,
   "metadata": {
    "colab": {
     "base_uri": "https://localhost:8080/",
     "height": 54
    },
    "id": "6cdVJAfdgIcd",
    "outputId": "e37bbf8c-5cdf-449a-d5b4-ac0a45f6e54f"
   },
   "outputs": [
    {
     "name": "stdout",
     "output_type": "stream",
     "text": [
      "Average\n",
      "psnr = 30.22261349, ms-ssim =0.96837298\n"
     ]
    }
   ],
   "source": [
    "!python psnr_msssim_calc.py -i ClassC_frames/BQMall/ -o ClassC_compressed_PNGS/BQMall/H264_27/ "
   ]
  },
  {
   "cell_type": "code",
   "execution_count": null,
   "metadata": {
    "id": "Q6mv1q7xgIcn"
   },
   "outputs": [],
   "source": []
  },
  {
   "cell_type": "code",
   "execution_count": null,
   "metadata": {
    "colab": {
     "base_uri": "https://localhost:8080/",
     "height": 54
    },
    "id": "sNROMmXCgIcy",
    "outputId": "1db3b7fc-f73e-4c77-f6a5-d27df2e618d4"
   },
   "outputs": [
    {
     "name": "stdout",
     "output_type": "stream",
     "text": [
      "Average\n",
      "psnr = 36.64038229, ms-ssim =0.98915621\n"
     ]
    }
   ],
   "source": [
    "!python psnr_msssim_calc.py -i ClassC_frames/BQMall/ -o ClassC_compressed_PNGS/BQMall/H265_15/ "
   ]
  },
  {
   "cell_type": "code",
   "execution_count": null,
   "metadata": {
    "colab": {
     "base_uri": "https://localhost:8080/",
     "height": 54
    },
    "id": "AeIrHZttgIc9",
    "outputId": "d88f1397-9812-4d58-b00d-82171e7c87d7"
   },
   "outputs": [
    {
     "name": "stdout",
     "output_type": "stream",
     "text": [
      "Average\n",
      "psnr = 34.89706087, ms-ssim =0.98583673\n"
     ]
    }
   ],
   "source": [
    "!python psnr_msssim_calc.py -i ClassC_frames/BQMall/ -o ClassC_compressed_PNGS/BQMall/H265_19/ "
   ]
  },
  {
   "cell_type": "code",
   "execution_count": null,
   "metadata": {
    "colab": {
     "base_uri": "https://localhost:8080/",
     "height": 54
    },
    "id": "__4IhmGWgIdL",
    "outputId": "e53d6568-61f4-4fb4-d749-045ffcc27e13"
   },
   "outputs": [
    {
     "name": "stdout",
     "output_type": "stream",
     "text": [
      "Average\n",
      "psnr = 33.05790186, ms-ssim =0.98077024\n"
     ]
    }
   ],
   "source": [
    "!python psnr_msssim_calc.py -i ClassC_frames/BQMall/ -o ClassC_compressed_PNGS/BQMall/H265_23/ "
   ]
  },
  {
   "cell_type": "code",
   "execution_count": null,
   "metadata": {
    "colab": {
     "base_uri": "https://localhost:8080/",
     "height": 54
    },
    "id": "4ST0uYTCgIdV",
    "outputId": "c6bb4141-0ae2-4dca-930b-d468324c5c3c"
   },
   "outputs": [
    {
     "name": "stdout",
     "output_type": "stream",
     "text": [
      "Average\n",
      "psnr = 31.10950677, ms-ssim =0.97262848\n"
     ]
    }
   ],
   "source": [
    "!python psnr_msssim_calc.py -i ClassC_frames/BQMall/ -o ClassC_compressed_PNGS/BQMall/H265_27/ "
   ]
  },
  {
   "cell_type": "code",
   "execution_count": null,
   "metadata": {
    "id": "mnyMLB1kgJq6"
   },
   "outputs": [],
   "source": []
  },
  {
   "cell_type": "code",
   "execution_count": null,
   "metadata": {
    "id": "Y2ZRu8OqgKGg"
   },
   "outputs": [],
   "source": []
  },
  {
   "cell_type": "code",
   "execution_count": null,
   "metadata": {
    "colab": {
     "base_uri": "https://localhost:8080/",
     "height": 54
    },
    "id": "fv1JCKjngK7l",
    "outputId": "3825c247-d048-409c-e018-12a98481cdf6"
   },
   "outputs": [
    {
     "name": "stdout",
     "output_type": "stream",
     "text": [
      "Average\n",
      "psnr = 33.22514375, ms-ssim =0.98654696\n"
     ]
    }
   ],
   "source": [
    "!python psnr_msssim_calc.py -i ClassC_frames/PartyScene/ -o ClassC_compressed_PNGS/PartyScene/H264_15/ "
   ]
  },
  {
   "cell_type": "code",
   "execution_count": null,
   "metadata": {
    "colab": {
     "base_uri": "https://localhost:8080/",
     "height": 54
    },
    "id": "Hqr40as5gK7x",
    "outputId": "bc440b67-3394-4150-87d0-d4ba1f018b90"
   },
   "outputs": [
    {
     "name": "stdout",
     "output_type": "stream",
     "text": [
      "Average\n",
      "psnr = 30.75770386, ms-ssim =0.97875823\n"
     ]
    }
   ],
   "source": [
    "!python psnr_msssim_calc.py -i ClassC_frames/PartyScene/ -o ClassC_compressed_PNGS/PartyScene/H264_19/ "
   ]
  },
  {
   "cell_type": "code",
   "execution_count": null,
   "metadata": {
    "colab": {
     "base_uri": "https://localhost:8080/",
     "height": 54
    },
    "id": "EPjvEF1XgK75",
    "outputId": "ff9f260a-b04e-46d5-ca26-27a0f635d7bc"
   },
   "outputs": [
    {
     "name": "stdout",
     "output_type": "stream",
     "text": [
      "Average\n",
      "psnr = 28.40765580, ms-ssim =0.96672948\n"
     ]
    }
   ],
   "source": [
    "!python psnr_msssim_calc.py -i ClassC_frames/PartyScene/ -o ClassC_compressed_PNGS/PartyScene/H264_23/ "
   ]
  },
  {
   "cell_type": "code",
   "execution_count": null,
   "metadata": {
    "colab": {
     "base_uri": "https://localhost:8080/",
     "height": 54
    },
    "id": "-bLfI2AggK8D",
    "outputId": "3acb143f-6100-4ebc-ec46-094e0a9d0a67"
   },
   "outputs": [
    {
     "name": "stdout",
     "output_type": "stream",
     "text": [
      "Average\n",
      "psnr = 26.14934731, ms-ssim =0.94628908\n"
     ]
    }
   ],
   "source": [
    "!python psnr_msssim_calc.py -i ClassC_frames/PartyScene/ -o ClassC_compressed_PNGS/PartyScene/H264_27/ "
   ]
  },
  {
   "cell_type": "code",
   "execution_count": null,
   "metadata": {
    "id": "FhZ7evZJgK8L"
   },
   "outputs": [],
   "source": []
  },
  {
   "cell_type": "code",
   "execution_count": null,
   "metadata": {
    "colab": {
     "base_uri": "https://localhost:8080/",
     "height": 54
    },
    "id": "mZH0R04jgK8U",
    "outputId": "dc8adcc6-fdbc-4583-e05b-0e640b906b09"
   },
   "outputs": [
    {
     "name": "stdout",
     "output_type": "stream",
     "text": [
      "Average\n",
      "psnr = 34.45642042, ms-ssim =0.98935773\n"
     ]
    }
   ],
   "source": [
    "!python psnr_msssim_calc.py -i ClassC_frames/PartyScene/ -o ClassC_compressed_PNGS/PartyScene/H265_15/ "
   ]
  },
  {
   "cell_type": "code",
   "execution_count": null,
   "metadata": {
    "colab": {
     "base_uri": "https://localhost:8080/",
     "height": 54
    },
    "id": "3uQkWBzvgK8c",
    "outputId": "a3f47998-c9fc-4e8d-8710-0dca44e46c9e"
   },
   "outputs": [
    {
     "name": "stdout",
     "output_type": "stream",
     "text": [
      "Average\n",
      "psnr = 31.92479666, ms-ssim =0.98317061\n"
     ]
    }
   ],
   "source": [
    "!python psnr_msssim_calc.py -i ClassC_frames/PartyScene/ -o ClassC_compressed_PNGS/PartyScene/H265_19/ "
   ]
  },
  {
   "cell_type": "code",
   "execution_count": null,
   "metadata": {
    "colab": {
     "base_uri": "https://localhost:8080/",
     "height": 54
    },
    "id": "5oETqwtZgK8n",
    "outputId": "0d4a1978-8a3f-4990-92c6-46d22ab6a9dc"
   },
   "outputs": [
    {
     "name": "stdout",
     "output_type": "stream",
     "text": [
      "Average\n",
      "psnr = 29.54762896, ms-ssim =0.97331741\n"
     ]
    }
   ],
   "source": [
    "!python psnr_msssim_calc.py -i ClassC_frames/PartyScene/ -o ClassC_compressed_PNGS/PartyScene/H265_23/ "
   ]
  },
  {
   "cell_type": "code",
   "execution_count": null,
   "metadata": {
    "colab": {
     "base_uri": "https://localhost:8080/",
     "height": 54
    },
    "id": "llK34NwigK8s",
    "outputId": "cc5f5812-0531-42fb-f7e0-840ecb68798d"
   },
   "outputs": [
    {
     "name": "stdout",
     "output_type": "stream",
     "text": [
      "Average\n",
      "psnr = 27.24226530, ms-ssim =0.95669889\n"
     ]
    }
   ],
   "source": [
    "!python psnr_msssim_calc.py -i ClassC_frames/PartyScene/ -o ClassC_compressed_PNGS/PartyScene/H265_27/ "
   ]
  },
  {
   "cell_type": "code",
   "execution_count": null,
   "metadata": {
    "id": "GNoQKjjugKOn"
   },
   "outputs": [],
   "source": []
  },
  {
   "cell_type": "code",
   "execution_count": null,
   "metadata": {
    "id": "nPmQ4Z4zgMB4"
   },
   "outputs": [],
   "source": []
  },
  {
   "cell_type": "code",
   "execution_count": null,
   "metadata": {
    "colab": {
     "base_uri": "https://localhost:8080/",
     "height": 54
    },
    "id": "VuFiLDd7gNUu",
    "outputId": "68c6173c-4137-4bc1-d40f-c2bed3ce3ba1"
   },
   "outputs": [
    {
     "name": "stdout",
     "output_type": "stream",
     "text": [
      "Average\n",
      "psnr = 33.68474181, ms-ssim =0.97947214\n"
     ]
    }
   ],
   "source": [
    "!python psnr_msssim_calc.py -i ClassC_frames/RaceHorsesC/ -o ClassC_compressed_PNGS/RaceHorsesC/H264_15/ "
   ]
  },
  {
   "cell_type": "code",
   "execution_count": null,
   "metadata": {
    "colab": {
     "base_uri": "https://localhost:8080/",
     "height": 54
    },
    "id": "f3Js9LVLgNU5",
    "outputId": "3aecebea-1d8b-4f8f-ab9c-0c640e789dff"
   },
   "outputs": [
    {
     "name": "stdout",
     "output_type": "stream",
     "text": [
      "Average\n",
      "psnr = 32.46999311, ms-ssim =0.97464516\n"
     ]
    }
   ],
   "source": [
    "!python psnr_msssim_calc.py -i ClassC_frames/RaceHorsesC/ -o ClassC_compressed_PNGS/RaceHorsesC/H264_19/ "
   ]
  },
  {
   "cell_type": "code",
   "execution_count": null,
   "metadata": {
    "colab": {
     "base_uri": "https://localhost:8080/",
     "height": 54
    },
    "id": "-y9ka2L6gNVB",
    "outputId": "5a2ad97e-68c2-4360-de46-678b0d593096"
   },
   "outputs": [
    {
     "name": "stdout",
     "output_type": "stream",
     "text": [
      "Average\n",
      "psnr = 30.46767068, ms-ssim =0.96336220\n"
     ]
    }
   ],
   "source": [
    "!python psnr_msssim_calc.py -i ClassC_frames/RaceHorsesC/ -o ClassC_compressed_PNGS/RaceHorsesC/H264_23/ "
   ]
  },
  {
   "cell_type": "code",
   "execution_count": null,
   "metadata": {
    "colab": {
     "base_uri": "https://localhost:8080/",
     "height": 54
    },
    "id": "LK_BivSTgNVH",
    "outputId": "47aaf9da-a9fb-4715-c9eb-fc4c97e748a7"
   },
   "outputs": [
    {
     "name": "stdout",
     "output_type": "stream",
     "text": [
      "Average\n",
      "psnr = 28.52203353, ms-ssim =0.94605719\n"
     ]
    }
   ],
   "source": [
    "!python psnr_msssim_calc.py -i ClassC_frames/RaceHorsesC/ -o ClassC_compressed_PNGS/RaceHorsesC/H264_27/ "
   ]
  },
  {
   "cell_type": "code",
   "execution_count": null,
   "metadata": {
    "id": "J1E8eGmBgNVO"
   },
   "outputs": [],
   "source": []
  },
  {
   "cell_type": "code",
   "execution_count": null,
   "metadata": {
    "colab": {
     "base_uri": "https://localhost:8080/",
     "height": 54
    },
    "id": "gKXRz37rgNVV",
    "outputId": "c8c02d63-880d-4823-d87c-271d27884af6"
   },
   "outputs": [
    {
     "name": "stdout",
     "output_type": "stream",
     "text": [
      "Average\n",
      "psnr = 36.11241357, ms-ssim =0.98696676\n"
     ]
    }
   ],
   "source": [
    "!python psnr_msssim_calc.py -i ClassC_frames/RaceHorsesC/ -o ClassC_compressed_PNGS/RaceHorsesC/H265_15/ "
   ]
  },
  {
   "cell_type": "code",
   "execution_count": null,
   "metadata": {
    "colab": {
     "base_uri": "https://localhost:8080/",
     "height": 54
    },
    "id": "u1F9wLsbgNVa",
    "outputId": "4779bf91-6c5c-421b-dacb-e0a8d8ad9e8e"
   },
   "outputs": [
    {
     "name": "stdout",
     "output_type": "stream",
     "text": [
      "Average\n",
      "psnr = 33.68474181, ms-ssim =0.97947214\n"
     ]
    }
   ],
   "source": [
    "!python psnr_msssim_calc.py -i ClassC_frames/RaceHorsesC/ -o ClassC_compressed_PNGS/RaceHorsesC/H265_19/ "
   ]
  },
  {
   "cell_type": "code",
   "execution_count": null,
   "metadata": {
    "colab": {
     "base_uri": "https://localhost:8080/",
     "height": 54
    },
    "id": "qibitQucgNVg",
    "outputId": "b7732bc4-1410-4acd-ddd1-c2751fcb3af8"
   },
   "outputs": [
    {
     "name": "stdout",
     "output_type": "stream",
     "text": [
      "Average\n",
      "psnr = 31.51754371, ms-ssim =0.96940856\n"
     ]
    }
   ],
   "source": [
    "!python psnr_msssim_calc.py -i ClassC_frames/RaceHorsesC/ -o ClassC_compressed_PNGS/RaceHorsesC/H265_23/ "
   ]
  },
  {
   "cell_type": "code",
   "execution_count": null,
   "metadata": {
    "colab": {
     "base_uri": "https://localhost:8080/",
     "height": 54
    },
    "id": "o_X8S7_LgNVm",
    "outputId": "b96ea17d-64d4-481b-ce82-da0f29cd68c3"
   },
   "outputs": [
    {
     "name": "stdout",
     "output_type": "stream",
     "text": [
      "Average\n",
      "psnr = 29.43455164, ms-ssim =0.95416944\n"
     ]
    }
   ],
   "source": [
    "!python psnr_msssim_calc.py -i ClassC_frames/RaceHorsesC/ -o ClassC_compressed_PNGS/RaceHorsesC/H265_27/ "
   ]
  },
  {
   "cell_type": "code",
   "execution_count": null,
   "metadata": {
    "id": "J0EcpuG2gMx9"
   },
   "outputs": [],
   "source": []
  },
  {
   "cell_type": "code",
   "execution_count": null,
   "metadata": {
    "id": "EGjZ6HnT04aC"
   },
   "outputs": [],
   "source": []
  },
  {
   "cell_type": "markdown",
   "metadata": {
    "id": "EcwvC5EOvH7z"
   },
   "source": [
    "## Ours"
   ]
  },
  {
   "cell_type": "code",
   "execution_count": null,
   "metadata": {
    "colab": {
     "base_uri": "https://localhost:8080/",
     "height": 54
    },
    "id": "ESQBoEFoxfVg",
    "outputId": "b59c4126-3bd0-4506-e0d4-33ee27288b4e"
   },
   "outputs": [
    {
     "name": "stdout",
     "output_type": "stream",
     "text": [
      "Average\n",
      "psnr = 36.23833275,  bpp = 0.56979448, ms-ssim =0.98746680\n"
     ]
    }
   ],
   "source": [
    "!python experiment.py -i ClassC_frames/BasketballDrill/ -m checkpoints/videocompressor8192.pkl -g 10"
   ]
  },
  {
   "cell_type": "code",
   "execution_count": null,
   "metadata": {
    "colab": {
     "base_uri": "https://localhost:8080/",
     "height": 54
    },
    "id": "pW__p92qySXN",
    "outputId": "4bcc301f-90e3-4b49-a662-2baeb06bb03f"
   },
   "outputs": [
    {
     "name": "stdout",
     "output_type": "stream",
     "text": [
      "Average\n",
      "psnr = 35.40925312,  bpp = 0.34313805, ms-ssim =0.98358869\n"
     ]
    }
   ],
   "source": [
    "!python experiment.py -i ClassC_frames/BasketballDrill/ -m checkpoints/videocompressor4096.pkl -g 10"
   ]
  },
  {
   "cell_type": "code",
   "execution_count": null,
   "metadata": {
    "colab": {
     "base_uri": "https://localhost:8080/",
     "height": 54
    },
    "id": "SjsKx2KqyYRm",
    "outputId": "73ddf2b0-6d02-43f1-872d-bced7fdb90bc"
   },
   "outputs": [
    {
     "name": "stdout",
     "output_type": "stream",
     "text": [
      "Average\n",
      "psnr = 34.20292449,  bpp = 0.21976785, ms-ssim =0.97841998\n"
     ]
    }
   ],
   "source": [
    "!python experiment.py -i ClassC_frames/BasketballDrill/ -m checkpoints/videocompressor2048.pkl -g 10"
   ]
  },
  {
   "cell_type": "code",
   "execution_count": null,
   "metadata": {
    "colab": {
     "base_uri": "https://localhost:8080/",
     "height": 54
    },
    "id": "GArPqRHqyYwX",
    "outputId": "84b05479-53ef-4f69-94ee-500c10dbaa20"
   },
   "outputs": [
    {
     "name": "stdout",
     "output_type": "stream",
     "text": [
      "Average\n",
      "psnr = 32.96816158,  bpp = 0.13019203, ms-ssim =0.97264762\n"
     ]
    }
   ],
   "source": [
    "!python experiment.py -i ClassC_frames/BasketballDrill/ -m checkpoints/videocompressor1024.pkl -g 10"
   ]
  },
  {
   "cell_type": "code",
   "execution_count": null,
   "metadata": {
    "colab": {
     "base_uri": "https://localhost:8080/",
     "height": 54
    },
    "id": "tjjnRUj4yY6D",
    "outputId": "ae414382-311e-4478-8ff8-34130efa3a7b"
   },
   "outputs": [
    {
     "name": "stdout",
     "output_type": "stream",
     "text": [
      "Average\n",
      "psnr = 32.60426950,  bpp = 0.08060589, ms-ssim =0.96716195\n"
     ]
    }
   ],
   "source": [
    "!python experiment.py -i ClassC_frames/BasketballDrill/ -m checkpoints/videocompressor512.pkl -g 10"
   ]
  },
  {
   "cell_type": "code",
   "execution_count": null,
   "metadata": {
    "colab": {
     "base_uri": "https://localhost:8080/",
     "height": 54
    },
    "id": "GpbDcZZ4yZR4",
    "outputId": "6de6797f-8035-4e46-8412-a81f05e522c2"
   },
   "outputs": [
    {
     "name": "stdout",
     "output_type": "stream",
     "text": [
      "Average\n",
      "psnr = 32.74861693,  bpp = 0.04972070, ms-ssim =0.96089249\n"
     ]
    }
   ],
   "source": [
    "!python experiment.py -i ClassC_frames/BasketballDrill/ -m checkpoints/videocompressor256.pkl -g 10"
   ]
  },
  {
   "cell_type": "code",
   "execution_count": null,
   "metadata": {
    "colab": {
     "base_uri": "https://localhost:8080/",
     "height": 54
    },
    "id": "pBTEiMm-yZsB",
    "outputId": "5b3b0c44-4c9a-4a75-d128-64112dfbe2fe"
   },
   "outputs": [
    {
     "name": "stdout",
     "output_type": "stream",
     "text": [
      "Average\n",
      "psnr = 31.76245689,  bpp = 0.03100182, ms-ssim =0.95012393\n"
     ]
    }
   ],
   "source": [
    "!python experiment.py -i ClassC_frames/BasketballDrill/ -m checkpoints/videocompressor128.pkl -g 10"
   ]
  },
  {
   "cell_type": "code",
   "execution_count": null,
   "metadata": {
    "colab": {
     "base_uri": "https://localhost:8080/",
     "height": 54
    },
    "id": "X2v-XlkDyZxQ",
    "outputId": "4e576468-6344-44a7-a767-e065b671f46e"
   },
   "outputs": [
    {
     "name": "stdout",
     "output_type": "stream",
     "text": [
      "Average\n",
      "psnr = 33.40617061,  bpp = 0.39494879, ms-ssim =0.98976087\n"
     ]
    }
   ],
   "source": [
    "!python experiment.py -i ClassC_frames/BasketballDrill/ -m checkpoints/videocompressor256-msssim.pkl -g 10"
   ]
  },
  {
   "cell_type": "code",
   "execution_count": null,
   "metadata": {
    "colab": {
     "base_uri": "https://localhost:8080/",
     "height": 54
    },
    "id": "WGllaszqyaAy",
    "outputId": "519f2a80-2868-4ff0-dd61-62b393f20bb1"
   },
   "outputs": [
    {
     "name": "stdout",
     "output_type": "stream",
     "text": [
      "Average\n",
      "psnr = 30.81681919,  bpp = 0.19397809, ms-ssim =0.97725149\n"
     ]
    }
   ],
   "source": [
    "!python experiment.py -i ClassC_frames/BasketballDrill/ -m checkpoints/videocompressor128-msssim.pkl -g 10"
   ]
  },
  {
   "cell_type": "code",
   "execution_count": null,
   "metadata": {
    "colab": {
     "base_uri": "https://localhost:8080/",
     "height": 54
    },
    "id": "EJkuH_ZSyaD0",
    "outputId": "6ac7e7cf-6f19-42a9-b06c-8e32f7fe1d10"
   },
   "outputs": [
    {
     "name": "stdout",
     "output_type": "stream",
     "text": [
      "Average\n",
      "psnr = 30.84385967,  bpp = 0.13706877, ms-ssim =0.97483664\n"
     ]
    }
   ],
   "source": [
    "!python experiment.py -i ClassC_frames/BasketballDrill/ -m checkpoints/videocompressor64-msssim.pkl -g 10"
   ]
  },
  {
   "cell_type": "code",
   "execution_count": null,
   "metadata": {
    "colab": {
     "base_uri": "https://localhost:8080/",
     "height": 54
    },
    "id": "p2S2kA5syaLy",
    "outputId": "fa14af28-5033-402b-a2f4-6d6bbb04b03e"
   },
   "outputs": [
    {
     "name": "stdout",
     "output_type": "stream",
     "text": [
      "Average\n",
      "psnr = 30.58101296,  bpp = 0.10384820, ms-ssim =0.96957621\n"
     ]
    }
   ],
   "source": [
    "!python experiment.py -i ClassC_frames/BasketballDrill/ -m checkpoints/videocompressor32-msssim.pkl -g 10"
   ]
  },
  {
   "cell_type": "code",
   "execution_count": null,
   "metadata": {
    "colab": {
     "base_uri": "https://localhost:8080/",
     "height": 54
    },
    "id": "PVQIjn1xyaO7",
    "outputId": "03e3d3cc-4f5e-4664-cd2b-33a7e4a65192"
   },
   "outputs": [
    {
     "name": "stdout",
     "output_type": "stream",
     "text": [
      "Average\n",
      "psnr = 30.42715597,  bpp = 0.07564421, ms-ssim =0.96806691\n"
     ]
    }
   ],
   "source": [
    "!python experiment.py -i ClassC_frames/BasketballDrill/ -m checkpoints/videocompressor16-msssim.pkl -g 10"
   ]
  },
  {
   "cell_type": "code",
   "execution_count": null,
   "metadata": {
    "colab": {
     "base_uri": "https://localhost:8080/",
     "height": 54
    },
    "id": "YCQe3k1nyaR-",
    "outputId": "2cab3c2f-973a-443b-fa00-d13aa160eecb"
   },
   "outputs": [
    {
     "name": "stdout",
     "output_type": "stream",
     "text": [
      "Average\n",
      "psnr = 29.85749936,  bpp = 0.05016116, ms-ssim =0.96418633\n"
     ]
    }
   ],
   "source": [
    "!python experiment.py -i ClassC_frames/BasketballDrill/ -m checkpoints/videocompressor8-msssim.pkl -g 10"
   ]
  },
  {
   "cell_type": "code",
   "execution_count": null,
   "metadata": {
    "id": "4Ck6_0-4yaU0"
   },
   "outputs": [],
   "source": []
  },
  {
   "cell_type": "code",
   "execution_count": null,
   "metadata": {
    "id": "1jDNUVMPyaX7"
   },
   "outputs": [],
   "source": []
  },
  {
   "cell_type": "code",
   "execution_count": null,
   "metadata": {
    "colab": {
     "base_uri": "https://localhost:8080/",
     "height": 54
    },
    "id": "qh_GVFxX1h-H",
    "outputId": "fbad2abb-1038-43db-b526-9562457863d1"
   },
   "outputs": [
    {
     "name": "stdout",
     "output_type": "stream",
     "text": [
      "Average\n",
      "psnr = 35.31097746,  bpp = 0.60471819, ms-ssim =0.99039618\n"
     ]
    }
   ],
   "source": [
    "!python experiment.py -i ClassC_frames/BQMall/ -m checkpoints/videocompressor8192.pkl -g 10"
   ]
  },
  {
   "cell_type": "code",
   "execution_count": null,
   "metadata": {
    "colab": {
     "base_uri": "https://localhost:8080/",
     "height": 54
    },
    "id": "4tIaQ5gY1h-e",
    "outputId": "8d6f66b9-8d48-4815-d1bd-5b2d325c63a3"
   },
   "outputs": [
    {
     "name": "stdout",
     "output_type": "stream",
     "text": [
      "Average\n",
      "psnr = 34.08958626,  bpp = 0.38423341, ms-ssim =0.98750482\n"
     ]
    }
   ],
   "source": [
    "!python experiment.py -i ClassC_frames/BQMall/ -m checkpoints/videocompressor4096.pkl -g 10"
   ]
  },
  {
   "cell_type": "code",
   "execution_count": null,
   "metadata": {
    "colab": {
     "base_uri": "https://localhost:8080/",
     "height": 54
    },
    "id": "FkIzzF011h-z",
    "outputId": "89d04e1c-c5dc-48c7-bc61-72f077e2cf03"
   },
   "outputs": [
    {
     "name": "stdout",
     "output_type": "stream",
     "text": [
      "Average\n",
      "psnr = 32.81212068,  bpp = 0.23833404, ms-ssim =0.98444003\n"
     ]
    }
   ],
   "source": [
    "!python experiment.py -i ClassC_frames/BQMall/ -m checkpoints/videocompressor2048.pkl -g 10"
   ]
  },
  {
   "cell_type": "code",
   "execution_count": null,
   "metadata": {
    "colab": {
     "base_uri": "https://localhost:8080/",
     "height": 54
    },
    "id": "52i89oqx1h_A",
    "outputId": "431b2042-dac0-4c2f-dfa5-735b024c3ec2"
   },
   "outputs": [
    {
     "name": "stdout",
     "output_type": "stream",
     "text": [
      "Average\n",
      "psnr = 31.20648050,  bpp = 0.14041275, ms-ssim =0.98070075\n"
     ]
    }
   ],
   "source": [
    "!python experiment.py -i ClassC_frames/BQMall/ -m checkpoints/videocompressor1024.pkl -g 10"
   ]
  },
  {
   "cell_type": "code",
   "execution_count": null,
   "metadata": {
    "colab": {
     "base_uri": "https://localhost:8080/",
     "height": 54
    },
    "id": "nyjuuHAc1h_N",
    "outputId": "bea3f4b6-35ba-4244-c2ad-0fd49734a83a"
   },
   "outputs": [
    {
     "name": "stdout",
     "output_type": "stream",
     "text": [
      "Average\n",
      "psnr = 30.52384353,  bpp = 0.07343789, ms-ssim =0.97799318\n"
     ]
    }
   ],
   "source": [
    "!python experiment.py -i ClassC_frames/BQMall/ -m checkpoints/videocompressor512.pkl -g 10"
   ]
  },
  {
   "cell_type": "code",
   "execution_count": null,
   "metadata": {
    "colab": {
     "base_uri": "https://localhost:8080/",
     "height": 54
    },
    "id": "7dUCp90G1h_b",
    "outputId": "090cbeec-88ad-42b8-b4da-a12a2261ca80"
   },
   "outputs": [
    {
     "name": "stdout",
     "output_type": "stream",
     "text": [
      "Average\n",
      "psnr = 30.23643279,  bpp = 0.04106417, ms-ssim =0.97509035\n"
     ]
    }
   ],
   "source": [
    "!python experiment.py -i ClassC_frames/BQMall/ -m checkpoints/videocompressor256.pkl -g 10"
   ]
  },
  {
   "cell_type": "code",
   "execution_count": null,
   "metadata": {
    "colab": {
     "base_uri": "https://localhost:8080/",
     "height": 54
    },
    "id": "xGbBhAJg1h_l",
    "outputId": "ac2cc4ee-9305-4793-bf4d-4caab39f89dc"
   },
   "outputs": [
    {
     "name": "stdout",
     "output_type": "stream",
     "text": [
      "Average\n",
      "psnr = 29.25386953,  bpp = 0.02506225, ms-ssim =0.96940662\n"
     ]
    }
   ],
   "source": [
    "!python experiment.py -i ClassC_frames/BQMall/ -m checkpoints/videocompressor128.pkl -g 10"
   ]
  },
  {
   "cell_type": "code",
   "execution_count": null,
   "metadata": {
    "colab": {
     "base_uri": "https://localhost:8080/",
     "height": 54
    },
    "id": "9ZdsxYIh1h_w",
    "outputId": "d58f1b85-9d0d-4341-c618-fe13aacd5d5e"
   },
   "outputs": [
    {
     "name": "stdout",
     "output_type": "stream",
     "text": [
      "Average\n",
      "psnr = 31.01141858,  bpp = 0.41941725, ms-ssim =0.98943455\n"
     ]
    }
   ],
   "source": [
    "!python experiment.py -i ClassC_frames/BQMall/ -m checkpoints/videocompressor256-msssim.pkl -g 10"
   ]
  },
  {
   "cell_type": "code",
   "execution_count": null,
   "metadata": {
    "colab": {
     "base_uri": "https://localhost:8080/",
     "height": 54
    },
    "id": "wTEfVlQk1h_4",
    "outputId": "7a831389-79a4-4dbf-fc67-2ac8227b769a"
   },
   "outputs": [
    {
     "name": "stdout",
     "output_type": "stream",
     "text": [
      "Average\n",
      "psnr = 29.10600376,  bpp = 0.19335427, ms-ssim =0.98678391\n"
     ]
    }
   ],
   "source": [
    "!python experiment.py -i ClassC_frames/BQMall/ -m checkpoints/videocompressor128-msssim.pkl -g 10"
   ]
  },
  {
   "cell_type": "code",
   "execution_count": null,
   "metadata": {
    "colab": {
     "base_uri": "https://localhost:8080/",
     "height": 54
    },
    "id": "BKtSgEDg1iAC",
    "outputId": "2dd526cc-7b1a-4d75-9a46-95f4d4c1e67b"
   },
   "outputs": [
    {
     "name": "stdout",
     "output_type": "stream",
     "text": [
      "Average\n",
      "psnr = 29.06351995,  bpp = 0.13280086, ms-ssim =0.98553190\n"
     ]
    }
   ],
   "source": [
    "!python experiment.py -i ClassC_frames/BQMall/ -m checkpoints/videocompressor64-msssim.pkl -g 10"
   ]
  },
  {
   "cell_type": "code",
   "execution_count": null,
   "metadata": {
    "colab": {
     "base_uri": "https://localhost:8080/",
     "height": 54
    },
    "id": "QbzklfVS1iAL",
    "outputId": "9810ef4c-34c8-4c1a-fad0-0a90bb776c98"
   },
   "outputs": [
    {
     "name": "stdout",
     "output_type": "stream",
     "text": [
      "Average\n",
      "psnr = 28.67592692,  bpp = 0.09603871, ms-ssim =0.97949967\n"
     ]
    }
   ],
   "source": [
    "!python experiment.py -i ClassC_frames/BQMall/ -m checkpoints/videocompressor32-msssim.pkl -g 10"
   ]
  },
  {
   "cell_type": "code",
   "execution_count": null,
   "metadata": {
    "colab": {
     "base_uri": "https://localhost:8080/",
     "height": 54
    },
    "id": "ALcogFtF1iAU",
    "outputId": "a92d6518-9bca-4b11-accb-98e307d6f863"
   },
   "outputs": [
    {
     "name": "stdout",
     "output_type": "stream",
     "text": [
      "Average\n",
      "psnr = 28.37445021,  bpp = 0.06555675, ms-ssim =0.97806294\n"
     ]
    }
   ],
   "source": [
    "!python experiment.py -i ClassC_frames/BQMall/ -m checkpoints/videocompressor16-msssim.pkl -g 10"
   ]
  },
  {
   "cell_type": "code",
   "execution_count": null,
   "metadata": {
    "colab": {
     "base_uri": "https://localhost:8080/",
     "height": 54
    },
    "id": "hlY0luJO1iAd",
    "outputId": "92aa13e2-4cdd-4850-9940-9a82e6d037b2"
   },
   "outputs": [
    {
     "name": "stdout",
     "output_type": "stream",
     "text": [
      "Average\n",
      "psnr = 27.73530078,  bpp = 0.04067247, ms-ssim =0.97535403\n"
     ]
    }
   ],
   "source": [
    "!python experiment.py -i ClassC_frames/BQMall/ -m checkpoints/videocompressor8-msssim.pkl -g 10"
   ]
  },
  {
   "cell_type": "code",
   "execution_count": null,
   "metadata": {
    "id": "Wy_Q3rVc1mCf"
   },
   "outputs": [],
   "source": []
  },
  {
   "cell_type": "code",
   "execution_count": null,
   "metadata": {
    "id": "5HP5aVJt1mcq"
   },
   "outputs": [],
   "source": []
  },
  {
   "cell_type": "code",
   "execution_count": null,
   "metadata": {
    "colab": {
     "base_uri": "https://localhost:8080/",
     "height": 54
    },
    "id": "wo0EEwkY1nAl",
    "outputId": "c762e7cc-7def-4372-bfb5-805ea37f4cd6"
   },
   "outputs": [
    {
     "name": "stdout",
     "output_type": "stream",
     "text": [
      "Average\n",
      "psnr = 32.39240000,  bpp = 0.88047620, ms-ssim =0.98909447\n"
     ]
    }
   ],
   "source": [
    "!python experiment.py -i ClassC_frames/PartyScene/ -m checkpoints/videocompressor8192.pkl -g 10"
   ]
  },
  {
   "cell_type": "code",
   "execution_count": null,
   "metadata": {
    "colab": {
     "base_uri": "https://localhost:8080/",
     "height": 54
    },
    "id": "kkoaFLHr1nA3",
    "outputId": "e089d3c0-6a6e-4940-c9dd-7569cd4e8c9f"
   },
   "outputs": [
    {
     "name": "stdout",
     "output_type": "stream",
     "text": [
      "Average\n",
      "psnr = 31.62949159,  bpp = 0.74202044, ms-ssim =0.97061435\n"
     ]
    }
   ],
   "source": [
    "!python experiment.py -i ClassC_frames/PartyScene/ -m checkpoints/videocompressor4096.pkl -g 10"
   ]
  },
  {
   "cell_type": "code",
   "execution_count": null,
   "metadata": {
    "colab": {
     "base_uri": "https://localhost:8080/",
     "height": 54
    },
    "id": "CWPDvMRj1nBC",
    "outputId": "f6fc7d27-d326-41bf-c9f6-28f4aaad204a"
   },
   "outputs": [
    {
     "name": "stdout",
     "output_type": "stream",
     "text": [
      "Average\n",
      "psnr = 30.92530199,  bpp = 0.51672931, ms-ssim =0.97061435\n"
     ]
    }
   ],
   "source": [
    "!python experiment.py -i ClassC_frames/PartyScene/ -m checkpoints/videocompressor2048.pkl -g 10"
   ]
  },
  {
   "cell_type": "code",
   "execution_count": null,
   "metadata": {
    "colab": {
     "base_uri": "https://localhost:8080/",
     "height": 54
    },
    "id": "pBxNAkoD1nBR",
    "outputId": "cbee70ae-ca62-4ee5-db39-db4866ba588a"
   },
   "outputs": [
    {
     "name": "stdout",
     "output_type": "stream",
     "text": [
      "Average\n",
      "psnr = 30.51924310,  bpp = 0.27229760, ms-ssim =0.96614347\n"
     ]
    }
   ],
   "source": [
    "!python experiment.py -i ClassC_frames/PartyScene/ -m checkpoints/videocompressor1024.pkl -g 10"
   ]
  },
  {
   "cell_type": "code",
   "execution_count": null,
   "metadata": {
    "colab": {
     "base_uri": "https://localhost:8080/",
     "height": 54
    },
    "id": "43oEGCiV1nBb",
    "outputId": "307bb397-91f6-4b3c-f05b-e1d5c92bc26e"
   },
   "outputs": [
    {
     "name": "stdout",
     "output_type": "stream",
     "text": [
      "Average\n",
      "psnr = 30.01924312,  bpp = 0.13378000, ms-ssim =0.96109447\n"
     ]
    }
   ],
   "source": [
    "!python experiment.py -i ClassC_frames/PartyScene/ -m checkpoints/videocompressor512.pkl -g 10"
   ]
  },
  {
   "cell_type": "code",
   "execution_count": null,
   "metadata": {
    "colab": {
     "base_uri": "https://localhost:8080/",
     "height": 54
    },
    "id": "Bwhv8dnD1nBm",
    "outputId": "71b57bca-26a4-4d3e-87d0-223dd63cf7d7"
   },
   "outputs": [
    {
     "name": "stdout",
     "output_type": "stream",
     "text": [
      "Average\n",
      "psnr = 29.66005421,  bpp = 0.06270809, ms-ssim =0.95703506\n"
     ]
    }
   ],
   "source": [
    "!python experiment.py -i ClassC_frames/PartyScene/ -m checkpoints/videocompressor256.pkl -g 10"
   ]
  },
  {
   "cell_type": "code",
   "execution_count": null,
   "metadata": {
    "colab": {
     "base_uri": "https://localhost:8080/",
     "height": 54
    },
    "id": "ishAHoRE1nBu",
    "outputId": "c6eae716-3fd1-4e49-fa0a-99fc13424e3c"
   },
   "outputs": [
    {
     "name": "stdout",
     "output_type": "stream",
     "text": [
      "Average\n",
      "psnr = 29.37197042,  bpp = 0.03238540, ms-ssim =0.94567128\n"
     ]
    }
   ],
   "source": [
    "!python experiment.py -i ClassC_frames/PartyScene/ -m checkpoints/videocompressor128.pkl -g 10"
   ]
  },
  {
   "cell_type": "code",
   "execution_count": null,
   "metadata": {
    "colab": {
     "base_uri": "https://localhost:8080/",
     "height": 54
    },
    "id": "XjY68de11nB7",
    "outputId": "4429facd-56f6-47a2-e8bc-447657b0fd79"
   },
   "outputs": [
    {
     "name": "stdout",
     "output_type": "stream",
     "text": [
      "Average\n",
      "psnr = 29.09569693,  bpp = 0.43701505, ms-ssim =0.98169635\n"
     ]
    }
   ],
   "source": [
    "!python experiment.py -i ClassC_frames/PartyScene/ -m checkpoints/videocompressor256-msssim.pkl -g 10"
   ]
  },
  {
   "cell_type": "code",
   "execution_count": null,
   "metadata": {
    "colab": {
     "base_uri": "https://localhost:8080/",
     "height": 54
    },
    "id": "_n0jBFYX1nCB",
    "outputId": "96d9fe60-5d78-45c6-99f3-ebe241dd4fa5"
   },
   "outputs": [
    {
     "name": "stdout",
     "output_type": "stream",
     "text": [
      "Average\n",
      "psnr = 26.97795038,  bpp = 0.20774336, ms-ssim =0.96996432\n"
     ]
    }
   ],
   "source": [
    "!python experiment.py -i ClassC_frames/PartyScene/ -m checkpoints/videocompressor128-msssim.pkl -g 10"
   ]
  },
  {
   "cell_type": "code",
   "execution_count": null,
   "metadata": {
    "colab": {
     "base_uri": "https://localhost:8080/",
     "height": 54
    },
    "id": "OMFjLgmC1nCK",
    "outputId": "ee2f6310-0d31-4684-b245-379c73ce036a"
   },
   "outputs": [
    {
     "name": "stdout",
     "output_type": "stream",
     "text": [
      "Average\n",
      "psnr = 26.82967210,  bpp = 0.14504214, ms-ssim =0.96705912\n"
     ]
    }
   ],
   "source": [
    "!python experiment.py -i ClassC_frames/PartyScene/ -m checkpoints/videocompressor64-msssim.pkl -g 10"
   ]
  },
  {
   "cell_type": "code",
   "execution_count": null,
   "metadata": {
    "colab": {
     "base_uri": "https://localhost:8080/",
     "height": 54
    },
    "id": "GTXLdqxj1nCS",
    "outputId": "c068a34c-74f7-4850-e480-4a33b77da470"
   },
   "outputs": [
    {
     "name": "stdout",
     "output_type": "stream",
     "text": [
      "Average\n",
      "psnr = 26.27943397,  bpp = 0.11162836, ms-ssim =0.96085174\n"
     ]
    }
   ],
   "source": [
    "!python experiment.py -i ClassC_frames/PartyScene/ -m checkpoints/videocompressor32-msssim.pkl -g 10"
   ]
  },
  {
   "cell_type": "code",
   "execution_count": null,
   "metadata": {
    "colab": {
     "base_uri": "https://localhost:8080/",
     "height": 54
    },
    "id": "P7s7OgVI1nCc",
    "outputId": "65c8ec77-4a74-43af-986c-3c3dc7346ba6"
   },
   "outputs": [
    {
     "name": "stdout",
     "output_type": "stream",
     "text": [
      "Average\n",
      "psnr = 26.02116370,  bpp = 0.08299296, ms-ssim =0.95827498\n"
     ]
    }
   ],
   "source": [
    "!python experiment.py -i ClassC_frames/PartyScene/ -m checkpoints/videocompressor16-msssim.pkl -g 10"
   ]
  },
  {
   "cell_type": "code",
   "execution_count": null,
   "metadata": {
    "colab": {
     "base_uri": "https://localhost:8080/",
     "height": 54
    },
    "id": "QQoyi8Im1nCl",
    "outputId": "1e00a7d5-59ab-4c77-b7bb-e51d96e86a33"
   },
   "outputs": [
    {
     "name": "stdout",
     "output_type": "stream",
     "text": [
      "Average\n",
      "psnr = 25.39711308,  bpp = 0.05396444, ms-ssim =0.95289069\n"
     ]
    }
   ],
   "source": [
    "!python experiment.py -i ClassC_frames/PartyScene/ -m checkpoints/videocompressor8-msssim.pkl -g 10"
   ]
  },
  {
   "cell_type": "code",
   "execution_count": null,
   "metadata": {
    "id": "8HUE6z081mhB"
   },
   "outputs": [],
   "source": []
  },
  {
   "cell_type": "code",
   "execution_count": null,
   "metadata": {
    "id": "FOpbm3Lm1oIf"
   },
   "outputs": [],
   "source": []
  },
  {
   "cell_type": "code",
   "execution_count": null,
   "metadata": {
    "colab": {
     "base_uri": "https://localhost:8080/",
     "height": 54
    },
    "id": "6HhA9LQJ1o0W",
    "outputId": "3ddff672-88cc-468a-a431-151c269dfe43"
   },
   "outputs": [
    {
     "name": "stdout",
     "output_type": "stream",
     "text": [
      "Average\n",
      "psnr = 31.02396107,  bpp = 1.14800908, ms-ssim =0.97958900\n"
     ]
    }
   ],
   "source": [
    "!python experiment.py -i ClassC_frames/RaceHorsesC/ -m checkpoints/videocompressor8192.pkl -g 10"
   ]
  },
  {
   "cell_type": "code",
   "execution_count": null,
   "metadata": {
    "colab": {
     "base_uri": "https://localhost:8080/",
     "height": 54
    },
    "id": "YECMe3891o0e",
    "outputId": "cc6d9d72-a1a4-4de7-c8ff-59c9f2b061aa"
   },
   "outputs": [
    {
     "name": "stdout",
     "output_type": "stream",
     "text": [
      "Average\n",
      "psnr = 30.63001180,  bpp = 0.86287462, ms-ssim =0.97473416\n"
     ]
    }
   ],
   "source": [
    "!python experiment.py -i ClassC_frames/RaceHorsesC/ -m checkpoints/videocompressor4096.pkl -g 10"
   ]
  },
  {
   "cell_type": "code",
   "execution_count": null,
   "metadata": {
    "colab": {
     "base_uri": "https://localhost:8080/",
     "height": 54
    },
    "id": "KDmf1lgt1o0l",
    "outputId": "b384bfad-bacc-4881-e036-f0c1a0dc755e"
   },
   "outputs": [
    {
     "name": "stdout",
     "output_type": "stream",
     "text": [
      "Average\n",
      "psnr = 29.39552164,  bpp = 0.59629489, ms-ssim =0.96432108\n"
     ]
    }
   ],
   "source": [
    "!python experiment.py -i ClassC_frames/RaceHorsesC/ -m checkpoints/videocompressor2048.pkl -g 10"
   ]
  },
  {
   "cell_type": "code",
   "execution_count": null,
   "metadata": {
    "colab": {
     "base_uri": "https://localhost:8080/",
     "height": 54
    },
    "id": "Mc5krIkj1o0q",
    "outputId": "23499c03-d5a5-47f3-c8b0-ca1036ce5a5a"
   },
   "outputs": [
    {
     "name": "stdout",
     "output_type": "stream",
     "text": [
      "Average\n",
      "psnr = 27.80333114,  bpp = 0.35560150, ms-ssim =0.94903330\n"
     ]
    }
   ],
   "source": [
    "!python experiment.py -i ClassC_frames/RaceHorsesC/ -m checkpoints/videocompressor1024.pkl -g 10"
   ]
  },
  {
   "cell_type": "code",
   "execution_count": null,
   "metadata": {
    "colab": {
     "base_uri": "https://localhost:8080/",
     "height": 54
    },
    "id": "gR931hVw1o0y",
    "outputId": "61750178-463d-45d1-c959-9c1d6c5c4e75"
   },
   "outputs": [
    {
     "name": "stdout",
     "output_type": "stream",
     "text": [
      "Average\n",
      "psnr = 26.45813346,  bpp = 0.21537712, ms-ssim =0.93095661\n"
     ]
    }
   ],
   "source": [
    "!python experiment.py -i ClassC_frames/RaceHorsesC/ -m checkpoints/videocompressor512.pkl -g 10"
   ]
  },
  {
   "cell_type": "code",
   "execution_count": null,
   "metadata": {
    "colab": {
     "base_uri": "https://localhost:8080/",
     "height": 54
    },
    "id": "hmp1LeMc1o03",
    "outputId": "e303aa88-bbd8-459a-cbc3-2825d263312f"
   },
   "outputs": [
    {
     "name": "stdout",
     "output_type": "stream",
     "text": [
      "Average\n",
      "psnr = 25.25281262,  bpp = 0.13303073, ms-ssim =0.90944251\n"
     ]
    }
   ],
   "source": [
    "!python experiment.py -i ClassC_frames/RaceHorsesC/ -m checkpoints/videocompressor256.pkl -g 10"
   ]
  },
  {
   "cell_type": "code",
   "execution_count": null,
   "metadata": {
    "colab": {
     "base_uri": "https://localhost:8080/",
     "height": 54
    },
    "id": "2KxAbT141o08",
    "outputId": "c9ea0fad-176d-4896-e093-cc7b5056bf17"
   },
   "outputs": [
    {
     "name": "stdout",
     "output_type": "stream",
     "text": [
      "Average\n",
      "psnr = 23.71726060,  bpp = 0.07726361, ms-ssim =0.87715542\n"
     ]
    }
   ],
   "source": [
    "!python experiment.py -i ClassC_frames/RaceHorsesC/ -m checkpoints/videocompressor128.pkl -g 10"
   ]
  },
  {
   "cell_type": "code",
   "execution_count": null,
   "metadata": {
    "colab": {
     "base_uri": "https://localhost:8080/",
     "height": 54
    },
    "id": "I6tCNhN71o1B",
    "outputId": "52860bfc-632d-4069-b5cd-81a43ade7b4d"
   },
   "outputs": [
    {
     "name": "stdout",
     "output_type": "stream",
     "text": [
      "Average\n",
      "psnr = 27.13233948,  bpp = 0.62127482, ms-ssim =0.96968576\n"
     ]
    }
   ],
   "source": [
    "!python experiment.py -i ClassC_frames/RaceHorsesC/ -m checkpoints/videocompressor256-msssim.pkl -g 10"
   ]
  },
  {
   "cell_type": "code",
   "execution_count": null,
   "metadata": {
    "colab": {
     "base_uri": "https://localhost:8080/",
     "height": 54
    },
    "id": "gCEGI3sb1o1J",
    "outputId": "299efb65-1b44-4321-914a-5ce1dce89761"
   },
   "outputs": [
    {
     "name": "stdout",
     "output_type": "stream",
     "text": [
      "Average\n",
      "psnr = 24.75623989,  bpp = 0.32777823, ms-ssim =0.94216308\n"
     ]
    }
   ],
   "source": [
    "!python experiment.py -i ClassC_frames/RaceHorsesC/ -m checkpoints/videocompressor128-msssim.pkl -g 10"
   ]
  },
  {
   "cell_type": "code",
   "execution_count": null,
   "metadata": {
    "colab": {
     "base_uri": "https://localhost:8080/",
     "height": 54
    },
    "id": "NhruX0PD1o1R",
    "outputId": "b03a2d47-774c-4e47-b521-8bb9d26c585f"
   },
   "outputs": [
    {
     "name": "stdout",
     "output_type": "stream",
     "text": [
      "Average\n",
      "psnr = 24.44368911,  bpp = 0.23392215, ms-ssim =0.93483900\n"
     ]
    }
   ],
   "source": [
    "!python experiment.py -i ClassC_frames/RaceHorsesC/ -m checkpoints/videocompressor64-msssim.pkl -g 10"
   ]
  },
  {
   "cell_type": "code",
   "execution_count": null,
   "metadata": {
    "colab": {
     "base_uri": "https://localhost:8080/",
     "height": 54
    },
    "id": "8DF0_oci1o1X",
    "outputId": "c2f84b65-d783-4557-d1fb-1534a8e3effd"
   },
   "outputs": [
    {
     "name": "stdout",
     "output_type": "stream",
     "text": [
      "Average\n",
      "psnr = 24.54497886,  bpp = 0.19350511, ms-ssim =0.93091257\n"
     ]
    }
   ],
   "source": [
    "!python experiment.py -i ClassC_frames/RaceHorsesC/ -m checkpoints/videocompressor32-msssim.pkl -g 10"
   ]
  },
  {
   "cell_type": "code",
   "execution_count": null,
   "metadata": {
    "colab": {
     "base_uri": "https://localhost:8080/",
     "height": 54
    },
    "id": "R-S1vp1y1o1b",
    "outputId": "b5bb1011-bdf4-46f6-e113-870f4e091de1"
   },
   "outputs": [
    {
     "name": "stdout",
     "output_type": "stream",
     "text": [
      "Average\n",
      "psnr = 24.41718006,  bpp = 0.15337733, ms-ssim =0.92722932\n"
     ]
    }
   ],
   "source": [
    "!python experiment.py -i ClassC_frames/RaceHorsesC/ -m checkpoints/videocompressor16-msssim.pkl -g 10"
   ]
  },
  {
   "cell_type": "code",
   "execution_count": null,
   "metadata": {
    "colab": {
     "base_uri": "https://localhost:8080/",
     "height": 54
    },
    "id": "0asYj7e-1o1g",
    "outputId": "77043346-e3e0-4854-cbbd-0f55665d6e39"
   },
   "outputs": [
    {
     "name": "stdout",
     "output_type": "stream",
     "text": [
      "Average\n",
      "psnr = 24.18932438,  bpp = 0.10808362, ms-ssim =0.91901065\n"
     ]
    }
   ],
   "source": [
    "!python experiment.py -i ClassC_frames/RaceHorsesC/ -m checkpoints/videocompressor8-msssim.pkl -g 10"
   ]
  },
  {
   "cell_type": "code",
   "execution_count": null,
   "metadata": {
    "id": "B5hzKF0H1oWO"
   },
   "outputs": [],
   "source": []
  }
 ],
 "metadata": {
  "accelerator": "GPU",
  "colab": {
   "name": "ClassC_Eval.ipynb",
   "provenance": []
  },
  "kernelspec": {
   "display_name": "Python 3",
   "language": "python",
   "name": "python3"
  },
  "language_info": {
   "codemirror_mode": {
    "name": "ipython",
    "version": 3
   },
   "file_extension": ".py",
   "mimetype": "text/x-python",
   "name": "python",
   "nbconvert_exporter": "python",
   "pygments_lexer": "ipython3",
   "version": "3.6.9"
  }
 },
 "nbformat": 4,
 "nbformat_minor": 1
}
