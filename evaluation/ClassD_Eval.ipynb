{
  "nbformat": 4,
  "nbformat_minor": 0,
  "metadata": {
    "colab": {
      "name": "ClassD_Eval.ipynb",
      "provenance": [],
      "collapsed_sections": []
    },
    "kernelspec": {
      "name": "python3",
      "display_name": "Python 3"
    },
    "accelerator": "GPU"
  },
  "cells": [
    {
      "cell_type": "code",
      "metadata": {
        "id": "nnk9lcG8zOWu",
        "outputId": "bd2b9158-ea7b-4fb0-f327-cd2abcaa9a98",
        "colab": {
          "base_uri": "https://localhost:8080/",
          "height": 992
        }
      },
      "source": [
        "!pip install tensorflow-gpu==1.15"
      ],
      "execution_count": null,
      "outputs": [
        {
          "output_type": "stream",
          "text": [
            "Collecting tensorflow-gpu==1.15\n",
            "\u001b[?25l  Downloading https://files.pythonhosted.org/packages/a5/ad/933140e74973fb917a194ab814785e7c23680ca5dee6d663a509fe9579b6/tensorflow_gpu-1.15.0-cp36-cp36m-manylinux2010_x86_64.whl (411.5MB)\n",
            "\u001b[K     |████████████████████████████████| 411.5MB 22kB/s \n",
            "\u001b[?25hRequirement already satisfied: astor>=0.6.0 in /usr/local/lib/python3.6/dist-packages (from tensorflow-gpu==1.15) (0.8.1)\n",
            "Requirement already satisfied: wheel>=0.26 in /usr/local/lib/python3.6/dist-packages (from tensorflow-gpu==1.15) (0.35.1)\n",
            "Requirement already satisfied: opt-einsum>=2.3.2 in /usr/local/lib/python3.6/dist-packages (from tensorflow-gpu==1.15) (3.3.0)\n",
            "Collecting tensorboard<1.16.0,>=1.15.0\n",
            "\u001b[?25l  Downloading https://files.pythonhosted.org/packages/1e/e9/d3d747a97f7188f48aa5eda486907f3b345cd409f0a0850468ba867db246/tensorboard-1.15.0-py3-none-any.whl (3.8MB)\n",
            "\u001b[K     |████████████████████████████████| 3.8MB 53.9MB/s \n",
            "\u001b[?25hRequirement already satisfied: absl-py>=0.7.0 in /usr/local/lib/python3.6/dist-packages (from tensorflow-gpu==1.15) (0.10.0)\n",
            "Requirement already satisfied: six>=1.10.0 in /usr/local/lib/python3.6/dist-packages (from tensorflow-gpu==1.15) (1.15.0)\n",
            "Requirement already satisfied: keras-preprocessing>=1.0.5 in /usr/local/lib/python3.6/dist-packages (from tensorflow-gpu==1.15) (1.1.2)\n",
            "Requirement already satisfied: google-pasta>=0.1.6 in /usr/local/lib/python3.6/dist-packages (from tensorflow-gpu==1.15) (0.2.0)\n",
            "Requirement already satisfied: wrapt>=1.11.1 in /usr/local/lib/python3.6/dist-packages (from tensorflow-gpu==1.15) (1.12.1)\n",
            "Collecting keras-applications>=1.0.8\n",
            "\u001b[?25l  Downloading https://files.pythonhosted.org/packages/71/e3/19762fdfc62877ae9102edf6342d71b28fbfd9dea3d2f96a882ce099b03f/Keras_Applications-1.0.8-py3-none-any.whl (50kB)\n",
            "\u001b[K     |████████████████████████████████| 51kB 8.3MB/s \n",
            "\u001b[?25hRequirement already satisfied: grpcio>=1.8.6 in /usr/local/lib/python3.6/dist-packages (from tensorflow-gpu==1.15) (1.32.0)\n",
            "Requirement already satisfied: protobuf>=3.6.1 in /usr/local/lib/python3.6/dist-packages (from tensorflow-gpu==1.15) (3.12.4)\n",
            "Collecting gast==0.2.2\n",
            "  Downloading https://files.pythonhosted.org/packages/4e/35/11749bf99b2d4e3cceb4d55ca22590b0d7c2c62b9de38ac4a4a7f4687421/gast-0.2.2.tar.gz\n",
            "Requirement already satisfied: termcolor>=1.1.0 in /usr/local/lib/python3.6/dist-packages (from tensorflow-gpu==1.15) (1.1.0)\n",
            "Requirement already satisfied: numpy<2.0,>=1.16.0 in /usr/local/lib/python3.6/dist-packages (from tensorflow-gpu==1.15) (1.18.5)\n",
            "Collecting tensorflow-estimator==1.15.1\n",
            "\u001b[?25l  Downloading https://files.pythonhosted.org/packages/de/62/2ee9cd74c9fa2fa450877847ba560b260f5d0fb70ee0595203082dafcc9d/tensorflow_estimator-1.15.1-py2.py3-none-any.whl (503kB)\n",
            "\u001b[K     |████████████████████████████████| 512kB 50.1MB/s \n",
            "\u001b[?25hRequirement already satisfied: markdown>=2.6.8 in /usr/local/lib/python3.6/dist-packages (from tensorboard<1.16.0,>=1.15.0->tensorflow-gpu==1.15) (3.2.2)\n",
            "Requirement already satisfied: werkzeug>=0.11.15 in /usr/local/lib/python3.6/dist-packages (from tensorboard<1.16.0,>=1.15.0->tensorflow-gpu==1.15) (1.0.1)\n",
            "Requirement already satisfied: setuptools>=41.0.0 in /usr/local/lib/python3.6/dist-packages (from tensorboard<1.16.0,>=1.15.0->tensorflow-gpu==1.15) (50.3.0)\n",
            "Requirement already satisfied: h5py in /usr/local/lib/python3.6/dist-packages (from keras-applications>=1.0.8->tensorflow-gpu==1.15) (2.10.0)\n",
            "Requirement already satisfied: importlib-metadata; python_version < \"3.8\" in /usr/local/lib/python3.6/dist-packages (from markdown>=2.6.8->tensorboard<1.16.0,>=1.15.0->tensorflow-gpu==1.15) (2.0.0)\n",
            "Requirement already satisfied: zipp>=0.5 in /usr/local/lib/python3.6/dist-packages (from importlib-metadata; python_version < \"3.8\"->markdown>=2.6.8->tensorboard<1.16.0,>=1.15.0->tensorflow-gpu==1.15) (3.2.0)\n",
            "Building wheels for collected packages: gast\n",
            "  Building wheel for gast (setup.py) ... \u001b[?25l\u001b[?25hdone\n",
            "  Created wheel for gast: filename=gast-0.2.2-cp36-none-any.whl size=7542 sha256=2a1064ec180aedc43f82a948c57f47f706be6b2350526f9c19bd5341de35f427\n",
            "  Stored in directory: /root/.cache/pip/wheels/5c/2e/7e/a1d4d4fcebe6c381f378ce7743a3ced3699feb89bcfbdadadd\n",
            "Successfully built gast\n",
            "\u001b[31mERROR: tensorflow 2.3.0 has requirement gast==0.3.3, but you'll have gast 0.2.2 which is incompatible.\u001b[0m\n",
            "\u001b[31mERROR: tensorflow 2.3.0 has requirement tensorboard<3,>=2.3.0, but you'll have tensorboard 1.15.0 which is incompatible.\u001b[0m\n",
            "\u001b[31mERROR: tensorflow 2.3.0 has requirement tensorflow-estimator<2.4.0,>=2.3.0, but you'll have tensorflow-estimator 1.15.1 which is incompatible.\u001b[0m\n",
            "\u001b[31mERROR: tensorflow-probability 0.11.0 has requirement gast>=0.3.2, but you'll have gast 0.2.2 which is incompatible.\u001b[0m\n",
            "Installing collected packages: tensorboard, keras-applications, gast, tensorflow-estimator, tensorflow-gpu\n",
            "  Found existing installation: tensorboard 2.3.0\n",
            "    Uninstalling tensorboard-2.3.0:\n",
            "      Successfully uninstalled tensorboard-2.3.0\n",
            "  Found existing installation: gast 0.3.3\n",
            "    Uninstalling gast-0.3.3:\n",
            "      Successfully uninstalled gast-0.3.3\n",
            "  Found existing installation: tensorflow-estimator 2.3.0\n",
            "    Uninstalling tensorflow-estimator-2.3.0:\n",
            "      Successfully uninstalled tensorflow-estimator-2.3.0\n",
            "Successfully installed gast-0.2.2 keras-applications-1.0.8 tensorboard-1.15.0 tensorflow-estimator-1.15.1 tensorflow-gpu-1.15.0\n"
          ],
          "name": "stdout"
        }
      ]
    },
    {
      "cell_type": "code",
      "metadata": {
        "id": "hNV_U3XkzkPS",
        "outputId": "f1ac1190-a54c-4795-d870-97979f6a5276",
        "colab": {
          "base_uri": "https://localhost:8080/",
          "height": 166
        }
      },
      "source": [
        "!pip install tensorflow-compression"
      ],
      "execution_count": null,
      "outputs": [
        {
          "output_type": "stream",
          "text": [
            "Collecting tensorflow-compression\n",
            "\u001b[?25l  Downloading https://files.pythonhosted.org/packages/78/7c/6303a295ac9e9040eaf11e1f7ed8c18cf94e4698c17e36541b4143fce1d5/tensorflow_compression-1.3-cp36-cp36m-manylinux2010_x86_64.whl (121kB)\n",
            "\r\u001b[K     |██▊                             | 10kB 19.4MB/s eta 0:00:01\r\u001b[K     |█████▍                          | 20kB 3.0MB/s eta 0:00:01\r\u001b[K     |████████                        | 30kB 4.0MB/s eta 0:00:01\r\u001b[K     |██████████▉                     | 40kB 4.3MB/s eta 0:00:01\r\u001b[K     |█████████████▌                  | 51kB 3.5MB/s eta 0:00:01\r\u001b[K     |████████████████▏               | 61kB 3.8MB/s eta 0:00:01\r\u001b[K     |██████████████████▉             | 71kB 4.2MB/s eta 0:00:01\r\u001b[K     |█████████████████████▋          | 81kB 4.6MB/s eta 0:00:01\r\u001b[K     |████████████████████████▎       | 92kB 4.8MB/s eta 0:00:01\r\u001b[K     |███████████████████████████     | 102kB 4.7MB/s eta 0:00:01\r\u001b[K     |█████████████████████████████▋  | 112kB 4.7MB/s eta 0:00:01\r\u001b[K     |████████████████████████████████| 122kB 4.7MB/s \n",
            "\u001b[?25hRequirement already satisfied: scipy>=1 in /usr/local/lib/python3.6/dist-packages (from tensorflow-compression) (1.4.1)\n",
            "Requirement already satisfied: numpy>=1.13.3 in /usr/local/lib/python3.6/dist-packages (from scipy>=1->tensorflow-compression) (1.18.5)\n",
            "Installing collected packages: tensorflow-compression\n",
            "Successfully installed tensorflow-compression-1.3\n"
          ],
          "name": "stdout"
        }
      ]
    },
    {
      "cell_type": "code",
      "metadata": {
        "id": "0nlUuvyTzlnP",
        "outputId": "1805fdfd-43ce-4168-9caf-909a25047225",
        "colab": {
          "base_uri": "https://localhost:8080/",
          "height": 35
        }
      },
      "source": [
        "%cd /content/drive/My Drive/Video_Compression_Using_Deep_Neural_Network/JCT-VC"
      ],
      "execution_count": null,
      "outputs": [
        {
          "output_type": "stream",
          "text": [
            "/content/drive/My Drive/Video_Compression_Using_Deep_Neural_Network/JCT-VC\n"
          ],
          "name": "stdout"
        }
      ]
    },
    {
      "cell_type": "code",
      "metadata": {
        "id": "5rvXf4PNznB-"
      },
      "source": [
        ""
      ],
      "execution_count": null,
      "outputs": []
    },
    {
      "cell_type": "code",
      "metadata": {
        "id": "p3EFKSY21drb"
      },
      "source": [
        ""
      ],
      "execution_count": null,
      "outputs": []
    },
    {
      "cell_type": "markdown",
      "metadata": {
        "id": "nF89RtxfQDcZ"
      },
      "source": [
        "# Test on JCT-VC Class D Datasets"
      ]
    },
    {
      "cell_type": "code",
      "metadata": {
        "id": "kon2r4PIs79j"
      },
      "source": [
        ""
      ],
      "execution_count": null,
      "outputs": []
    },
    {
      "cell_type": "code",
      "metadata": {
        "id": "hxv54LoTs-Jy"
      },
      "source": [
        ""
      ],
      "execution_count": null,
      "outputs": []
    },
    {
      "cell_type": "markdown",
      "metadata": {
        "id": "QYcTrX9_PQFV"
      },
      "source": [
        "**H.264** <br/>\n",
        "`sh JCT_VC_264.sh inputfile outputfile Width Height framerate crf gop`"
      ]
    },
    {
      "cell_type": "markdown",
      "metadata": {
        "id": "8CUKIDbVPVyT"
      },
      "source": [
        "**H.265** <br/>\n",
        "`sh JCT_VC_265.sh inputfile outputfile Width Height framerate crf gop`"
      ]
    },
    {
      "cell_type": "code",
      "metadata": {
        "id": "ZsqILdF8tdkK"
      },
      "source": [
        ""
      ],
      "execution_count": null,
      "outputs": []
    },
    {
      "cell_type": "code",
      "metadata": {
        "id": "USIUDth41d0M",
        "outputId": "4f6b3d57-8cd1-4efd-f20f-51e7b1b46ab0",
        "colab": {
          "base_uri": "https://localhost:8080/",
          "height": 35
        }
      },
      "source": [
        "!sh JCT_VC_264.sh ClassD/BasketballPass.yuv ClassD_mkv/BasketballPass_H264_15.mkv 416 240 50 15 10"
      ],
      "execution_count": null,
      "outputs": [
        {
          "output_type": "stream",
          "text": [
            "[libx264 @ 0x55a113355900] PSNR Mean Y:41.709 U:43.990 V:43.546 Avg:42.287 Global:41.992 kb/s:2255.98\n"
          ],
          "name": "stdout"
        }
      ]
    },
    {
      "cell_type": "code",
      "metadata": {
        "id": "1w6WXQkL3KAO",
        "outputId": "0c657f59-d1c5-40f5-c959-c40fed23acda",
        "colab": {
          "base_uri": "https://localhost:8080/",
          "height": 35
        }
      },
      "source": [
        "!sh JCT_VC_264.sh ClassD/BasketballPass.yuv ClassD_mkv/BasketballPass_H264_19.mkv 416 240 50 19 10"
      ],
      "execution_count": null,
      "outputs": [
        {
          "output_type": "stream",
          "text": [
            "[libx264 @ 0x556b9c093900] PSNR Mean Y:38.905 U:41.993 V:41.207 Avg:39.621 Global:39.341 kb/s:1407.13\n"
          ],
          "name": "stdout"
        }
      ]
    },
    {
      "cell_type": "code",
      "metadata": {
        "id": "wuE_nlYz3Kii",
        "outputId": "0a50ec34-60c2-448c-cd3e-973ac6b4334d",
        "colab": {
          "base_uri": "https://localhost:8080/",
          "height": 35
        }
      },
      "source": [
        "!sh JCT_VC_264.sh ClassD/BasketballPass.yuv ClassD_mkv/BasketballPass_H264_23.mkv 416 240 50 23 10"
      ],
      "execution_count": null,
      "outputs": [
        {
          "output_type": "stream",
          "text": [
            "[libx264 @ 0x563cbb197900] PSNR Mean Y:36.214 U:40.313 V:39.281 Avg:37.100 Global:36.842 kb/s:867.14\n"
          ],
          "name": "stdout"
        }
      ]
    },
    {
      "cell_type": "code",
      "metadata": {
        "id": "scrrg0pT3Kmy",
        "outputId": "286c9016-6861-46cc-85e6-c165525ae942",
        "colab": {
          "base_uri": "https://localhost:8080/",
          "height": 35
        }
      },
      "source": [
        "!sh JCT_VC_264.sh ClassD/BasketballPass.yuv ClassD_mkv/BasketballPass_H264_27.mkv 416 240 50 27 10"
      ],
      "execution_count": null,
      "outputs": [
        {
          "output_type": "stream",
          "text": [
            "[libx264 @ 0x55807bbaf900] PSNR Mean Y:33.630 U:38.829 V:37.628 Avg:34.681 Global:34.447 kb/s:525.63\n"
          ],
          "name": "stdout"
        }
      ]
    },
    {
      "cell_type": "code",
      "metadata": {
        "id": "3TYUfeaN3KqY"
      },
      "source": [
        ""
      ],
      "execution_count": null,
      "outputs": []
    },
    {
      "cell_type": "code",
      "metadata": {
        "id": "ubK_a3183T6f",
        "outputId": "8e6b5a67-4c76-41e3-ec11-e6736871de49",
        "colab": {
          "base_uri": "https://localhost:8080/",
          "height": 35
        }
      },
      "source": [
        "!sh JCT_VC_265.sh ClassD/BasketballPass.yuv ClassD_mkv/BasketballPass_H265_15.mkv 416 240 50 15 10"
      ],
      "execution_count": null,
      "outputs": [
        {
          "output_type": "stream",
          "text": [
            "encoded 100 frames in 2.37s (42.25 fps), 2544.95 kb/s, Avg QP:19.81, Global PSNR: 43.947\n"
          ],
          "name": "stdout"
        }
      ]
    },
    {
      "cell_type": "code",
      "metadata": {
        "id": "Sl_8uTDA3T69",
        "outputId": "ab6406e6-fb75-4054-9b42-119ae3681ebb",
        "colab": {
          "base_uri": "https://localhost:8080/",
          "height": 35
        }
      },
      "source": [
        "!sh JCT_VC_265.sh ClassD/BasketballPass.yuv ClassD_mkv/BasketballPass_H265_19.mkv 416 240 50 19 10"
      ],
      "execution_count": null,
      "outputs": [
        {
          "output_type": "stream",
          "text": [
            "encoded 100 frames in 2.02s (49.57 fps), 1617.53 kb/s, Avg QP:23.91, Global PSNR: 41.354\n"
          ],
          "name": "stdout"
        }
      ]
    },
    {
      "cell_type": "code",
      "metadata": {
        "id": "0b9VoTEr3T7P",
        "outputId": "00e39db0-8fe4-421b-edf9-10fc8711d732",
        "colab": {
          "base_uri": "https://localhost:8080/",
          "height": 35
        }
      },
      "source": [
        "!sh JCT_VC_265.sh ClassD/BasketballPass.yuv ClassD_mkv/BasketballPass_H265_23.mkv 416 240 50 23 10"
      ],
      "execution_count": null,
      "outputs": [
        {
          "output_type": "stream",
          "text": [
            "encoded 100 frames in 1.82s (54.96 fps), 1000.43 kb/s, Avg QP:28.01, Global PSNR: 38.829\n"
          ],
          "name": "stdout"
        }
      ]
    },
    {
      "cell_type": "code",
      "metadata": {
        "id": "8DlkBSGf3T7Z",
        "outputId": "74ce0378-578d-4f19-f687-aabf8578f908",
        "colab": {
          "base_uri": "https://localhost:8080/",
          "height": 35
        }
      },
      "source": [
        "!sh JCT_VC_265.sh ClassD/BasketballPass.yuv ClassD_mkv/BasketballPass_H265_27.mkv 416 240 50 27 10"
      ],
      "execution_count": null,
      "outputs": [
        {
          "output_type": "stream",
          "text": [
            "encoded 100 frames in 1.54s (65.14 fps), 604.81 kb/s, Avg QP:32.19, Global PSNR: 36.377\n"
          ],
          "name": "stdout"
        }
      ]
    },
    {
      "cell_type": "code",
      "metadata": {
        "id": "dwYXc0Wx3Kta"
      },
      "source": [
        ""
      ],
      "execution_count": null,
      "outputs": []
    },
    {
      "cell_type": "code",
      "metadata": {
        "id": "iXwlkWXc3cC4"
      },
      "source": [
        ""
      ],
      "execution_count": null,
      "outputs": []
    },
    {
      "cell_type": "code",
      "metadata": {
        "id": "ce3LuPlH3cqG",
        "outputId": "a1c0f3e8-a169-44b0-9c8e-5d1df75f3a3e",
        "colab": {
          "base_uri": "https://localhost:8080/",
          "height": 35
        }
      },
      "source": [
        "!sh JCT_VC_264.sh ClassD/BlowingBubbles.yuv ClassD_mkv/BlowingBubbles_H264_15.mkv 416 240 50 15 10"
      ],
      "execution_count": null,
      "outputs": [
        {
          "output_type": "stream",
          "text": [
            "[libx264 @ 0x55f5dadd3900] PSNR Mean Y:37.935 U:40.610 V:41.588 Avg:38.740 Global:38.591 kb/s:3296.31\n"
          ],
          "name": "stdout"
        }
      ]
    },
    {
      "cell_type": "code",
      "metadata": {
        "id": "E5ubLZnP3cqY",
        "outputId": "222bd07b-41f0-4ec4-af08-f5c0b7dfb0fd",
        "colab": {
          "base_uri": "https://localhost:8080/",
          "height": 35
        }
      },
      "source": [
        "!sh JCT_VC_264.sh ClassD/BlowingBubbles.yuv ClassD_mkv/BlowingBubbles_H264_19.mkv 416 240 50 19 10"
      ],
      "execution_count": null,
      "outputs": [
        {
          "output_type": "stream",
          "text": [
            "[libx264 @ 0x562a7db5b900] PSNR Mean Y:35.152 U:38.811 V:39.648 Avg:36.123 Global:36.016 kb/s:1865.26\n"
          ],
          "name": "stdout"
        }
      ]
    },
    {
      "cell_type": "code",
      "metadata": {
        "id": "Gg3Ec0Ob3cqj",
        "outputId": "b34be4be-21b8-4b23-fa2d-8773ff425157",
        "colab": {
          "base_uri": "https://localhost:8080/",
          "height": 35
        }
      },
      "source": [
        "!sh JCT_VC_264.sh ClassD/BlowingBubbles.yuv ClassD_mkv/BlowingBubbles_H264_23.mkv 416 240 50 23 10"
      ],
      "execution_count": null,
      "outputs": [
        {
          "output_type": "stream",
          "text": [
            "[libx264 @ 0x5613ac01b900] PSNR Mean Y:32.591 U:37.436 V:38.180 Avg:33.732 Global:33.648 kb/s:1067.31\n"
          ],
          "name": "stdout"
        }
      ]
    },
    {
      "cell_type": "code",
      "metadata": {
        "id": "cyPaAtXJ3cqs",
        "outputId": "6f217c0b-f47b-4219-a512-ac83da021d1e",
        "colab": {
          "base_uri": "https://localhost:8080/",
          "height": 35
        }
      },
      "source": [
        "!sh JCT_VC_264.sh ClassD/BlowingBubbles.yuv ClassD_mkv/BlowingBubbles_H264_27.mkv 416 240 50 27 10"
      ],
      "execution_count": null,
      "outputs": [
        {
          "output_type": "stream",
          "text": [
            "[libx264 @ 0x55883f5f5900] PSNR Mean Y:30.208 U:36.215 V:36.794 Avg:31.479 Global:31.408 kb/s:610.33\n"
          ],
          "name": "stdout"
        }
      ]
    },
    {
      "cell_type": "code",
      "metadata": {
        "id": "h2HcDnio3cq1"
      },
      "source": [
        ""
      ],
      "execution_count": null,
      "outputs": []
    },
    {
      "cell_type": "code",
      "metadata": {
        "id": "mojo1off3cq8",
        "outputId": "1cd5b109-9ea6-42f8-c783-1e3a52f204e6",
        "colab": {
          "base_uri": "https://localhost:8080/",
          "height": 35
        }
      },
      "source": [
        "!sh JCT_VC_265.sh ClassD/BlowingBubbles.yuv ClassD_mkv/BlowingBubbles_H265_15.mkv 416 240 50 15 10"
      ],
      "execution_count": null,
      "outputs": [
        {
          "output_type": "stream",
          "text": [
            "encoded 100 frames in 2.94s (34.04 fps), 4033.62 kb/s, Avg QP:22.14, Global PSNR: 40.116\n"
          ],
          "name": "stdout"
        }
      ]
    },
    {
      "cell_type": "code",
      "metadata": {
        "id": "wwacRL_W3crQ",
        "outputId": "c7b5ff5d-1356-4597-ebc6-0f296bf2872b",
        "colab": {
          "base_uri": "https://localhost:8080/",
          "height": 35
        }
      },
      "source": [
        "!sh JCT_VC_265.sh ClassD/BlowingBubbles.yuv ClassD_mkv/BlowingBubbles_H265_19.mkv 416 240 50 19 10"
      ],
      "execution_count": null,
      "outputs": [
        {
          "output_type": "stream",
          "text": [
            "encoded 100 frames in 2.45s (40.87 fps), 2258.27 kb/s, Avg QP:26.18, Global PSNR: 37.504\n"
          ],
          "name": "stdout"
        }
      ]
    },
    {
      "cell_type": "code",
      "metadata": {
        "id": "2y3aMUth3crY",
        "outputId": "00603719-4156-4904-ae17-786308181a05",
        "colab": {
          "base_uri": "https://localhost:8080/",
          "height": 35
        }
      },
      "source": [
        "!sh JCT_VC_265.sh ClassD/BlowingBubbles.yuv ClassD_mkv/BlowingBubbles_H265_23.mkv 416 240 50 23 10"
      ],
      "execution_count": null,
      "outputs": [
        {
          "output_type": "stream",
          "text": [
            "encoded 100 frames in 1.97s (50.74 fps), 1256.90 kb/s, Avg QP:30.20, Global PSNR: 35.112\n"
          ],
          "name": "stdout"
        }
      ]
    },
    {
      "cell_type": "code",
      "metadata": {
        "id": "94gLpPBs3crh",
        "outputId": "1ced39ae-2ddc-4076-c366-ff2fce34a44e",
        "colab": {
          "base_uri": "https://localhost:8080/",
          "height": 35
        }
      },
      "source": [
        "!sh JCT_VC_265.sh ClassD/BlowingBubbles.yuv ClassD_mkv/BlowingBubbles_H265_27.mkv 416 240 50 27 10"
      ],
      "execution_count": null,
      "outputs": [
        {
          "output_type": "stream",
          "text": [
            "encoded 100 frames in 1.65s (60.43 fps), 697.76 kb/s, Avg QP:34.18, Global PSNR: 32.882\n"
          ],
          "name": "stdout"
        }
      ]
    },
    {
      "cell_type": "code",
      "metadata": {
        "id": "eoRj9te03cO9"
      },
      "source": [
        ""
      ],
      "execution_count": null,
      "outputs": []
    },
    {
      "cell_type": "code",
      "metadata": {
        "id": "uWKv662h3duH"
      },
      "source": [
        ""
      ],
      "execution_count": null,
      "outputs": []
    },
    {
      "cell_type": "code",
      "metadata": {
        "id": "KjqQ6xX43eUT",
        "outputId": "63ccc630-ad01-4c6f-e3f4-ea177a5ad23a",
        "colab": {
          "base_uri": "https://localhost:8080/",
          "height": 35
        }
      },
      "source": [
        "!sh JCT_VC_264.sh ClassD/BQSquare.yuv ClassD_mkv/BQSquare_H264_15.mkv 416 240 60 15 10"
      ],
      "execution_count": null,
      "outputs": [
        {
          "output_type": "stream",
          "text": [
            "[libx264 @ 0x5603e4741900] PSNR Mean Y:35.995 U:41.717 V:42.448 Avg:37.229 Global:37.064 kb/s:3112.97\n"
          ],
          "name": "stdout"
        }
      ]
    },
    {
      "cell_type": "code",
      "metadata": {
        "id": "cgtAUSbb3eUg",
        "outputId": "7263ff54-f894-4cf1-98ec-a0af76996485",
        "colab": {
          "base_uri": "https://localhost:8080/",
          "height": 35
        }
      },
      "source": [
        "!sh JCT_VC_264.sh ClassD/BQSquare.yuv ClassD_mkv/BQSquare_H264_19.mkv 416 240 60 19 10"
      ],
      "execution_count": null,
      "outputs": [
        {
          "output_type": "stream",
          "text": [
            "[libx264 @ 0x55bf43577900] PSNR Mean Y:33.021 U:40.385 V:41.059 Avg:34.413 Global:34.268 kb/s:1821.67\n"
          ],
          "name": "stdout"
        }
      ]
    },
    {
      "cell_type": "code",
      "metadata": {
        "id": "WIEmw8fj3eUq",
        "outputId": "2e16be27-0e49-4d0f-d0f9-e191aa56a457",
        "colab": {
          "base_uri": "https://localhost:8080/",
          "height": 35
        }
      },
      "source": [
        "!sh JCT_VC_264.sh ClassD/BQSquare.yuv ClassD_mkv/BQSquare_H264_23.mkv 416 240 60 23 10"
      ],
      "execution_count": null,
      "outputs": [
        {
          "output_type": "stream",
          "text": [
            "[libx264 @ 0x562068c11900] PSNR Mean Y:30.252 U:39.356 V:39.941 Avg:31.762 Global:31.638 kb/s:1048.56\n"
          ],
          "name": "stdout"
        }
      ]
    },
    {
      "cell_type": "code",
      "metadata": {
        "id": "noevfiXT3eUy",
        "outputId": "7f0aec71-0bb7-47e1-aabd-94aa8fcae6ce",
        "colab": {
          "base_uri": "https://localhost:8080/",
          "height": 35
        }
      },
      "source": [
        "!sh JCT_VC_264.sh ClassD/BQSquare.yuv ClassD_mkv/BQSquare_H264_27.mkv 416 240 60 27 10"
      ],
      "execution_count": null,
      "outputs": [
        {
          "output_type": "stream",
          "text": [
            "[libx264 @ 0x55b4883ff900] PSNR Mean Y:27.784 U:38.606 V:39.080 Avg:29.374 Global:29.265 kb/s:615.89\n"
          ],
          "name": "stdout"
        }
      ]
    },
    {
      "cell_type": "code",
      "metadata": {
        "id": "kWH5fkFe3eU4"
      },
      "source": [
        ""
      ],
      "execution_count": null,
      "outputs": []
    },
    {
      "cell_type": "code",
      "metadata": {
        "id": "ICPZwANd3eU-",
        "outputId": "5b1ae4ea-2cd7-4632-bbfb-18d7e3b26d03",
        "colab": {
          "base_uri": "https://localhost:8080/",
          "height": 35
        }
      },
      "source": [
        "!sh JCT_VC_265.sh ClassD/BQSquare.yuv ClassD_mkv/BQSquare_H265_15.mkv 416 240 60 15 10"
      ],
      "execution_count": null,
      "outputs": [
        {
          "output_type": "stream",
          "text": [
            "encoded 100 frames in 2.47s (40.47 fps), 4447.22 kb/s, Avg QP:23.53, Global PSNR: 39.061\n"
          ],
          "name": "stdout"
        }
      ]
    },
    {
      "cell_type": "code",
      "metadata": {
        "id": "o9QrdUH63eVE",
        "outputId": "4474556d-a9b7-40f6-dc1c-2369966477ad",
        "colab": {
          "base_uri": "https://localhost:8080/",
          "height": 35
        }
      },
      "source": [
        "!sh JCT_VC_265.sh ClassD/BQSquare.yuv ClassD_mkv/BQSquare_H265_19.mkv 416 240 60 19 10"
      ],
      "execution_count": null,
      "outputs": [
        {
          "output_type": "stream",
          "text": [
            "encoded 100 frames in 2.11s (47.41 fps), 2544.16 kb/s, Avg QP:27.67, Global PSNR: 36.399\n"
          ],
          "name": "stdout"
        }
      ]
    },
    {
      "cell_type": "code",
      "metadata": {
        "id": "0yRL_a643eVK",
        "outputId": "d28e7349-f590-4d0a-b544-5ee7a696853d",
        "colab": {
          "base_uri": "https://localhost:8080/",
          "height": 35
        }
      },
      "source": [
        "!sh JCT_VC_265.sh ClassD/BQSquare.yuv ClassD_mkv/BQSquare_H265_23.mkv 416 240 60 23 10"
      ],
      "execution_count": null,
      "outputs": [
        {
          "output_type": "stream",
          "text": [
            "encoded 100 frames in 1.74s (57.35 fps), 1397.21 kb/s, Avg QP:31.54, Global PSNR: 33.951\n"
          ],
          "name": "stdout"
        }
      ]
    },
    {
      "cell_type": "code",
      "metadata": {
        "id": "_AchIA-B3eVR",
        "outputId": "310134d9-48da-4f13-9748-464a7d47fd59",
        "colab": {
          "base_uri": "https://localhost:8080/",
          "height": 35
        }
      },
      "source": [
        "!sh JCT_VC_265.sh ClassD/BQSquare.yuv ClassD_mkv/BQSquare_H265_27.mkv 416 240 60 27 10"
      ],
      "execution_count": null,
      "outputs": [
        {
          "output_type": "stream",
          "text": [
            "encoded 100 frames in 1.40s (71.24 fps), 766.44 kb/s, Avg QP:35.21, Global PSNR: 31.666\n"
          ],
          "name": "stdout"
        }
      ]
    },
    {
      "cell_type": "code",
      "metadata": {
        "id": "ctpsLonU3d3G"
      },
      "source": [
        ""
      ],
      "execution_count": null,
      "outputs": []
    },
    {
      "cell_type": "code",
      "metadata": {
        "id": "uYV178pB3fPO"
      },
      "source": [
        ""
      ],
      "execution_count": null,
      "outputs": []
    },
    {
      "cell_type": "code",
      "metadata": {
        "id": "kuj5yL3b3fzh",
        "outputId": "d897d15c-d366-4a95-cff3-45f0915cb7c7",
        "colab": {
          "base_uri": "https://localhost:8080/",
          "height": 35
        }
      },
      "source": [
        "!sh JCT_VC_264.sh ClassD/RaceHorsesD.yuv ClassD_mkv/RaceHorsesD_H264_15.mkv 416 240 30 15 10"
      ],
      "execution_count": null,
      "outputs": [
        {
          "output_type": "stream",
          "text": [
            "[libx264 @ 0x563d9c135900] PSNR Mean Y:38.900 U:40.735 V:41.114 Avg:39.472 Global:39.315 kb/s:2489.07\n"
          ],
          "name": "stdout"
        }
      ]
    },
    {
      "cell_type": "code",
      "metadata": {
        "id": "VirHwJDD3fzp",
        "outputId": "1a412d83-0a6b-4f95-ac0e-038005f637b6",
        "colab": {
          "base_uri": "https://localhost:8080/",
          "height": 35
        }
      },
      "source": [
        "!sh JCT_VC_264.sh ClassD/RaceHorsesD.yuv ClassD_mkv/RaceHorsesD_H264_19.mkv 416 240 30 19 10"
      ],
      "execution_count": null,
      "outputs": [
        {
          "output_type": "stream",
          "text": [
            "[libx264 @ 0x5581b6c8b900] PSNR Mean Y:35.989 U:38.640 V:38.969 Avg:36.736 Global:36.615 kb/s:1524.53\n"
          ],
          "name": "stdout"
        }
      ]
    },
    {
      "cell_type": "code",
      "metadata": {
        "id": "LuR5rshe3fzx",
        "outputId": "af032751-d2d5-416f-a4d9-953ad987329a",
        "colab": {
          "base_uri": "https://localhost:8080/",
          "height": 35
        }
      },
      "source": [
        "!sh JCT_VC_264.sh ClassD/RaceHorsesD.yuv ClassD_mkv/RaceHorsesD_H264_23.mkv 416 240 30 23 10"
      ],
      "execution_count": null,
      "outputs": [
        {
          "output_type": "stream",
          "text": [
            "[libx264 @ 0x56056209d900] PSNR Mean Y:33.238 U:37.083 V:37.295 Avg:34.197 Global:34.099 kb/s:923.18\n"
          ],
          "name": "stdout"
        }
      ]
    },
    {
      "cell_type": "code",
      "metadata": {
        "id": "JoJ149FK3fz3",
        "outputId": "4cce06aa-d751-4308-f6f9-eb333b924220",
        "colab": {
          "base_uri": "https://localhost:8080/",
          "height": 35
        }
      },
      "source": [
        "!sh JCT_VC_264.sh ClassD/RaceHorsesD.yuv ClassD_mkv/RaceHorsesD_H264_27.mkv 416 240 30 27 10"
      ],
      "execution_count": null,
      "outputs": [
        {
          "output_type": "stream",
          "text": [
            "[libx264 @ 0x55c7659b7900] PSNR Mean Y:30.624 U:35.817 V:35.867 Avg:31.771 Global:31.688 kb/s:545.68\n"
          ],
          "name": "stdout"
        }
      ]
    },
    {
      "cell_type": "code",
      "metadata": {
        "id": "rM4nZ1Gd3fz-"
      },
      "source": [
        ""
      ],
      "execution_count": null,
      "outputs": []
    },
    {
      "cell_type": "code",
      "metadata": {
        "id": "0Rv-Lnej3f0E",
        "outputId": "496bd622-72f4-40c4-9f29-0cac24668e20",
        "colab": {
          "base_uri": "https://localhost:8080/",
          "height": 35
        }
      },
      "source": [
        "!sh JCT_VC_265.sh ClassD/RaceHorsesD.yuv ClassD_mkv/RaceHorsesD_H265_15.mkv 416 240 30 15 10"
      ],
      "execution_count": null,
      "outputs": [
        {
          "output_type": "stream",
          "text": [
            "encoded 100 frames in 3.20s (31.26 fps), 2867.23 kb/s, Avg QP:21.51, Global PSNR: 40.977\n"
          ],
          "name": "stdout"
        }
      ]
    },
    {
      "cell_type": "code",
      "metadata": {
        "id": "cugJb9DR3f0J",
        "outputId": "212b7891-bb04-4fc5-88b8-2661aa986354",
        "colab": {
          "base_uri": "https://localhost:8080/",
          "height": 35
        }
      },
      "source": [
        "!sh JCT_VC_265.sh ClassD/RaceHorsesD.yuv ClassD_mkv/RaceHorsesD_H265_19.mkv 416 240 30 19 10"
      ],
      "execution_count": null,
      "outputs": [
        {
          "output_type": "stream",
          "text": [
            "encoded 100 frames in 2.74s (36.48 fps), 1764.86 kb/s, Avg QP:25.51, Global PSNR: 38.178\n"
          ],
          "name": "stdout"
        }
      ]
    },
    {
      "cell_type": "code",
      "metadata": {
        "id": "8PNyeX933f0P",
        "outputId": "1e9b5bb1-d06c-48f6-92f5-047fd5812a72",
        "colab": {
          "base_uri": "https://localhost:8080/",
          "height": 35
        }
      },
      "source": [
        "!sh JCT_VC_265.sh ClassD/RaceHorsesD.yuv ClassD_mkv/RaceHorsesD_H265_23.mkv 416 240 30 23 10"
      ],
      "execution_count": null,
      "outputs": [
        {
          "output_type": "stream",
          "text": [
            "encoded 100 frames in 2.34s (42.66 fps), 1066.05 kb/s, Avg QP:29.52, Global PSNR: 35.572\n"
          ],
          "name": "stdout"
        }
      ]
    },
    {
      "cell_type": "code",
      "metadata": {
        "id": "VP3H-T5D3f0V",
        "outputId": "92d1a1c2-c094-4500-e581-8e16d3459368",
        "colab": {
          "base_uri": "https://localhost:8080/",
          "height": 35
        }
      },
      "source": [
        "!sh JCT_VC_265.sh ClassD/RaceHorsesD.yuv ClassD_mkv/RaceHorsesD_H265_27.mkv 416 240 30 27 10"
      ],
      "execution_count": null,
      "outputs": [
        {
          "output_type": "stream",
          "text": [
            "encoded 100 frames in 2.01s (49.77 fps), 616.34 kb/s, Avg QP:33.54, Global PSNR: 33.122\n"
          ],
          "name": "stdout"
        }
      ]
    },
    {
      "cell_type": "code",
      "metadata": {
        "id": "UHcx6wTi3faW"
      },
      "source": [
        ""
      ],
      "execution_count": null,
      "outputs": []
    },
    {
      "cell_type": "code",
      "metadata": {
        "id": "s-fYRH9othXx"
      },
      "source": [
        ""
      ],
      "execution_count": null,
      "outputs": []
    },
    {
      "cell_type": "markdown",
      "metadata": {
        "id": "iVBqy5QfPj43"
      },
      "source": [
        "**Extract pngs** <br/>\n",
        " sh JCT_VC_extract_png.sh inputfile outputfile Width Height framerate\n"
      ]
    },
    {
      "cell_type": "code",
      "metadata": {
        "id": "P6P_IEuR7P9-"
      },
      "source": [
        ""
      ],
      "execution_count": null,
      "outputs": []
    },
    {
      "cell_type": "code",
      "metadata": {
        "id": "ag1HS8Xw7QEI",
        "outputId": "3a4f9abc-331b-411e-997e-85ee4ac713d0",
        "colab": {
          "base_uri": "https://localhost:8080/",
          "height": 54
        }
      },
      "source": [
        "!sh JCT_VC_extract_png.sh ClassD/BasketballPass.yuv ClassD_frames/BasketballPass/im%d.png 416 240 50"
      ],
      "execution_count": null,
      "outputs": [
        {
          "output_type": "stream",
          "text": [
            "frame=   24 fps=0.0 q=-0.0 size=N/A time=00:00:00.88 bitrate=N/A speed= 1.7x    \rframe=   55 fps= 54 q=-0.0 size=N/A time=00:00:02.12 bitrate=N/A speed=2.07x    \rframe=   86 fps= 56 q=-0.0 size=N/A time=00:00:03.36 bitrate=N/A speed=2.19x    \rframe=  100 fps= 55 q=-0.0 Lsize=N/A time=00:00:04.00 bitrate=N/A speed=2.21x    \n",
            "video:18791kB audio:0kB subtitle:0kB other streams:0kB global headers:0kB muxing overhead: unknown\n"
          ],
          "name": "stdout"
        }
      ]
    },
    {
      "cell_type": "code",
      "metadata": {
        "id": "3x67YZxX8bN4",
        "outputId": "e10d0b03-b8f5-467d-c435-e95a06703310",
        "colab": {
          "base_uri": "https://localhost:8080/",
          "height": 54
        }
      },
      "source": [
        "!sh JCT_VC_extract_png.sh ClassD/BlowingBubbles.yuv ClassD_frames/BlowingBubbles/im%d.png 416 240 50"
      ],
      "execution_count": null,
      "outputs": [
        {
          "output_type": "stream",
          "text": [
            "frame=   38 fps=0.0 q=-0.0 size=N/A time=00:00:01.44 bitrate=N/A speed=2.88x    \rframe=   73 fps= 72 q=-0.0 size=N/A time=00:00:02.84 bitrate=N/A speed=2.81x    \rframe=  100 fps= 70 q=-0.0 Lsize=N/A time=00:00:04.00 bitrate=N/A speed=2.79x    \n",
            "video:25828kB audio:0kB subtitle:0kB other streams:0kB global headers:0kB muxing overhead: unknown\n"
          ],
          "name": "stdout"
        }
      ]
    },
    {
      "cell_type": "code",
      "metadata": {
        "id": "LS56A3sr8bp1",
        "outputId": "40b12aaa-c265-42ff-9efc-856bc0874c70",
        "colab": {
          "base_uri": "https://localhost:8080/",
          "height": 54
        }
      },
      "source": [
        "!sh JCT_VC_extract_png.sh ClassD/BQSquare.yuv ClassD_frames/BQSquare/im%d.png 416 240 60"
      ],
      "execution_count": null,
      "outputs": [
        {
          "output_type": "stream",
          "text": [
            "frame=   36 fps=0.0 q=-0.0 size=N/A time=00:00:01.36 bitrate=N/A speed=2.64x    \rframe=   64 fps= 63 q=-0.0 size=N/A time=00:00:02.48 bitrate=N/A speed=2.42x    \rframe=   97 fps= 63 q=-0.0 size=N/A time=00:00:03.80 bitrate=N/A speed=2.46x    \rframe=  100 fps= 60 q=-0.0 Lsize=N/A time=00:00:04.00 bitrate=N/A speed= 2.4x    \n",
            "video:21287kB audio:0kB subtitle:0kB other streams:0kB global headers:0kB muxing overhead: unknown\n"
          ],
          "name": "stdout"
        }
      ]
    },
    {
      "cell_type": "code",
      "metadata": {
        "id": "1R_FIHs18cfp",
        "outputId": "dc98aa9a-990d-45c4-d261-f1479e434928",
        "colab": {
          "base_uri": "https://localhost:8080/",
          "height": 54
        }
      },
      "source": [
        "!sh JCT_VC_extract_png.sh ClassD/RaceHorsesD.yuv ClassD_frames/RaceHorsesD/im%d.png 416 240 30"
      ],
      "execution_count": null,
      "outputs": [
        {
          "output_type": "stream",
          "text": [
            "frame=   34 fps=0.0 q=-0.0 size=N/A time=00:00:01.28 bitrate=N/A speed=2.54x    \rframe=   70 fps= 70 q=-0.0 size=N/A time=00:00:02.72 bitrate=N/A speed= 2.7x    \rframe=  100 fps= 68 q=-0.0 Lsize=N/A time=00:00:04.00 bitrate=N/A speed=2.73x    \n",
            "video:22578kB audio:0kB subtitle:0kB other streams:0kB global headers:0kB muxing overhead: unknown\n"
          ],
          "name": "stdout"
        }
      ]
    },
    {
      "cell_type": "code",
      "metadata": {
        "id": "2eeKqXDq8ckP"
      },
      "source": [
        ""
      ],
      "execution_count": null,
      "outputs": []
    },
    {
      "cell_type": "code",
      "metadata": {
        "id": "O70s_4TO856K"
      },
      "source": [
        ""
      ],
      "execution_count": null,
      "outputs": []
    },
    {
      "cell_type": "code",
      "metadata": {
        "id": "3EcshJLV86S3"
      },
      "source": [
        ""
      ],
      "execution_count": null,
      "outputs": []
    },
    {
      "cell_type": "code",
      "metadata": {
        "id": "v5Z_Q3w9886G",
        "outputId": "e2922307-8b06-4e1d-979a-7fca7d515d37",
        "colab": {
          "base_uri": "https://localhost:8080/",
          "height": 54
        }
      },
      "source": [
        "!sh JCT_VC_extract_compressed_pngs.sh ClassD_mkv/BasketballPass_H264_15.mkv ClassD_compressed_PNGS/BasketballPass/H264_15/im%d.png"
      ],
      "execution_count": null,
      "outputs": [
        {
          "output_type": "stream",
          "text": [
            "frame=    4 fps=0.0 q=-0.0 size=N/A time=00:00:00.04 bitrate=N/A speed=0.0539x    \rframe=   47 fps= 37 q=-0.0 size=N/A time=00:00:00.90 bitrate=N/A speed=0.718x    \rframe=   88 fps= 50 q=-0.0 size=N/A time=00:00:01.72 bitrate=N/A speed=0.971x    \rframe=  100 fps= 52 q=-0.0 Lsize=N/A time=00:00:02.00 bitrate=N/A speed=1.03x    \n",
            "video:17201kB audio:0kB subtitle:0kB other streams:0kB global headers:0kB muxing overhead: unknown\n"
          ],
          "name": "stdout"
        }
      ]
    },
    {
      "cell_type": "code",
      "metadata": {
        "id": "PHammvWX9HL8",
        "outputId": "35f10c05-c5d0-49d5-ee62-01e5603d5a09",
        "colab": {
          "base_uri": "https://localhost:8080/",
          "height": 54
        }
      },
      "source": [
        "!sh JCT_VC_extract_compressed_pngs.sh ClassD_mkv/BasketballPass_H264_19.mkv ClassD_compressed_PNGS/BasketballPass/H264_19/im%d.png"
      ],
      "execution_count": null,
      "outputs": [
        {
          "output_type": "stream",
          "text": [
            "frame=   46 fps=0.0 q=-0.0 size=N/A time=00:00:00.88 bitrate=N/A speed=1.76x    \rframe=   91 fps= 90 q=-0.0 size=N/A time=00:00:01.78 bitrate=N/A speed=1.77x    \rframe=  100 fps= 88 q=-0.0 Lsize=N/A time=00:00:02.00 bitrate=N/A speed=1.76x    \n",
            "video:16182kB audio:0kB subtitle:0kB other streams:0kB global headers:0kB muxing overhead: unknown\n"
          ],
          "name": "stdout"
        }
      ]
    },
    {
      "cell_type": "code",
      "metadata": {
        "id": "jBt8PpQs9H0H",
        "outputId": "ba9276fb-0eb8-4059-9464-5d99c1d2bb23",
        "colab": {
          "base_uri": "https://localhost:8080/",
          "height": 54
        }
      },
      "source": [
        "!sh JCT_VC_extract_compressed_pngs.sh ClassD_mkv/BasketballPass_H264_23.mkv ClassD_compressed_PNGS/BasketballPass/H264_23/im%d.png"
      ],
      "execution_count": null,
      "outputs": [
        {
          "output_type": "stream",
          "text": [
            "frame=   46 fps=0.0 q=-0.0 size=N/A time=00:00:00.88 bitrate=N/A speed=1.71x    \rframe=   93 fps= 91 q=-0.0 size=N/A time=00:00:01.82 bitrate=N/A speed=1.78x    \rframe=  100 fps= 89 q=-0.0 Lsize=N/A time=00:00:02.00 bitrate=N/A speed=1.78x    \n",
            "video:15278kB audio:0kB subtitle:0kB other streams:0kB global headers:0kB muxing overhead: unknown\n"
          ],
          "name": "stdout"
        }
      ]
    },
    {
      "cell_type": "code",
      "metadata": {
        "id": "5j_2tOb89H31",
        "outputId": "186f6482-f8a7-4047-819b-42b130d78a77",
        "colab": {
          "base_uri": "https://localhost:8080/",
          "height": 54
        }
      },
      "source": [
        "!sh JCT_VC_extract_compressed_pngs.sh ClassD_mkv/BasketballPass_H264_27.mkv ClassD_compressed_PNGS/BasketballPass/H264_27/im%d.png"
      ],
      "execution_count": null,
      "outputs": [
        {
          "output_type": "stream",
          "text": [
            "frame=   50 fps=0.0 q=-0.0 size=N/A time=00:00:00.96 bitrate=N/A speed=1.88x    \rframe=   93 fps= 92 q=-0.0 size=N/A time=00:00:01.82 bitrate=N/A speed=1.79x    \rframe=  100 fps= 90 q=-0.0 Lsize=N/A time=00:00:02.00 bitrate=N/A speed=1.79x    \n",
            "video:14194kB audio:0kB subtitle:0kB other streams:0kB global headers:0kB muxing overhead: unknown\n"
          ],
          "name": "stdout"
        }
      ]
    },
    {
      "cell_type": "code",
      "metadata": {
        "id": "Yh5lew4R9H7J"
      },
      "source": [
        ""
      ],
      "execution_count": null,
      "outputs": []
    },
    {
      "cell_type": "code",
      "metadata": {
        "id": "gVM-CR_c9S3C",
        "outputId": "f67d9919-e1d8-4ff7-f36d-7d4ecf13956d",
        "colab": {
          "base_uri": "https://localhost:8080/",
          "height": 54
        }
      },
      "source": [
        "!sh JCT_VC_extract_compressed_pngs.sh ClassD_mkv/BasketballPass_H265_15.mkv ClassD_compressed_PNGS/BasketballPass/H265_15/im%d.png"
      ],
      "execution_count": null,
      "outputs": [
        {
          "output_type": "stream",
          "text": [
            "frame=   36 fps=0.0 q=-0.0 size=N/A time=00:00:00.68 bitrate=N/A speed=1.33x    \rframe=   73 fps= 72 q=-0.0 size=N/A time=00:00:01.42 bitrate=N/A speed=1.39x    \rframe=  100 fps= 69 q=-0.0 Lsize=N/A time=00:00:02.00 bitrate=N/A speed=1.37x    \n",
            "video:17389kB audio:0kB subtitle:0kB other streams:0kB global headers:0kB muxing overhead: unknown\n"
          ],
          "name": "stdout"
        }
      ]
    },
    {
      "cell_type": "code",
      "metadata": {
        "id": "9oNE8F0X9S3Z",
        "outputId": "168635cb-b6f3-41e5-d400-b924188deab9",
        "colab": {
          "base_uri": "https://localhost:8080/",
          "height": 54
        }
      },
      "source": [
        "!sh JCT_VC_extract_compressed_pngs.sh ClassD_mkv/BasketballPass_H265_19.mkv ClassD_compressed_PNGS/BasketballPass/H265_19/im%d.png"
      ],
      "execution_count": null,
      "outputs": [
        {
          "output_type": "stream",
          "text": [
            "frame=   40 fps=0.0 q=-0.0 size=N/A time=00:00:00.76 bitrate=N/A speed=1.46x    \rframe=   78 fps= 76 q=-0.0 size=N/A time=00:00:01.52 bitrate=N/A speed=1.48x    \rframe=  100 fps= 73 q=-0.0 Lsize=N/A time=00:00:02.00 bitrate=N/A speed=1.46x    \n",
            "video:16983kB audio:0kB subtitle:0kB other streams:0kB global headers:0kB muxing overhead: unknown\n"
          ],
          "name": "stdout"
        }
      ]
    },
    {
      "cell_type": "code",
      "metadata": {
        "id": "fZboCc1h9S3s",
        "outputId": "a605a06f-5def-4b6c-c75b-ba4a1ce87f35",
        "colab": {
          "base_uri": "https://localhost:8080/",
          "height": 54
        }
      },
      "source": [
        "!sh JCT_VC_extract_compressed_pngs.sh ClassD_mkv/BasketballPass_H265_23.mkv ClassD_compressed_PNGS/BasketballPass/H265_23/im%d.png"
      ],
      "execution_count": null,
      "outputs": [
        {
          "output_type": "stream",
          "text": [
            "frame=   37 fps=0.0 q=-0.0 size=N/A time=00:00:00.70 bitrate=N/A speed=1.37x    \rframe=   79 fps= 78 q=-0.0 size=N/A time=00:00:01.54 bitrate=N/A speed=1.52x    \rframe=  100 fps= 76 q=-0.0 Lsize=N/A time=00:00:02.00 bitrate=N/A speed=1.52x    \n",
            "video:16667kB audio:0kB subtitle:0kB other streams:0kB global headers:0kB muxing overhead: unknown\n"
          ],
          "name": "stdout"
        }
      ]
    },
    {
      "cell_type": "code",
      "metadata": {
        "id": "1EUx5Vkb9S33",
        "outputId": "b67537e6-6750-4a3e-ea1a-479e9b7ac980",
        "colab": {
          "base_uri": "https://localhost:8080/",
          "height": 54
        }
      },
      "source": [
        "!sh JCT_VC_extract_compressed_pngs.sh ClassD_mkv/BasketballPass_H265_27.mkv ClassD_compressed_PNGS/BasketballPass/H265_27/im%d.png"
      ],
      "execution_count": null,
      "outputs": [
        {
          "output_type": "stream",
          "text": [
            "frame=   41 fps=0.0 q=-0.0 size=N/A time=00:00:00.78 bitrate=N/A speed=1.56x    \rframe=   79 fps= 78 q=-0.0 size=N/A time=00:00:01.54 bitrate=N/A speed=1.52x    \rframe=  100 fps= 72 q=-0.0 Lsize=N/A time=00:00:02.00 bitrate=N/A speed=1.43x    \n",
            "video:16196kB audio:0kB subtitle:0kB other streams:0kB global headers:0kB muxing overhead: unknown\n"
          ],
          "name": "stdout"
        }
      ]
    },
    {
      "cell_type": "code",
      "metadata": {
        "id": "YVKF0cvh9a-n"
      },
      "source": [
        ""
      ],
      "execution_count": null,
      "outputs": []
    },
    {
      "cell_type": "code",
      "metadata": {
        "id": "f5Ioy9aO9ba7"
      },
      "source": [
        ""
      ],
      "execution_count": null,
      "outputs": []
    },
    {
      "cell_type": "code",
      "metadata": {
        "id": "sslNZ1Lg9cG6",
        "outputId": "802de8d4-422d-4816-a10a-8e626b025f08",
        "colab": {
          "base_uri": "https://localhost:8080/",
          "height": 54
        }
      },
      "source": [
        "!sh JCT_VC_extract_compressed_pngs.sh ClassD_mkv/BlowingBubbles_H264_15.mkv ClassD_compressed_PNGS/BlowingBubbles/H264_15/im%d.png"
      ],
      "execution_count": null,
      "outputs": [
        {
          "output_type": "stream",
          "text": [
            "frame=   27 fps=0.0 q=-0.0 size=N/A time=00:00:00.50 bitrate=N/A speed=0.997x    \rframe=   60 fps= 60 q=-0.0 size=N/A time=00:00:01.16 bitrate=N/A speed=1.16x    \rframe=   94 fps= 61 q=-0.0 size=N/A time=00:00:01.84 bitrate=N/A speed=1.19x    \rframe=  100 fps= 60 q=-0.0 Lsize=N/A time=00:00:02.00 bitrate=N/A speed= 1.2x    \n",
            "video:24444kB audio:0kB subtitle:0kB other streams:0kB global headers:0kB muxing overhead: unknown\n"
          ],
          "name": "stdout"
        }
      ]
    },
    {
      "cell_type": "code",
      "metadata": {
        "id": "oEcUVqDI9cHK",
        "outputId": "a32c6dfa-d77e-40f4-f236-0388479a6462",
        "colab": {
          "base_uri": "https://localhost:8080/",
          "height": 54
        }
      },
      "source": [
        "!sh JCT_VC_extract_compressed_pngs.sh ClassD_mkv/BlowingBubbles_H264_19.mkv ClassD_compressed_PNGS/BlowingBubbles/H264_19/im%d.png"
      ],
      "execution_count": null,
      "outputs": [
        {
          "output_type": "stream",
          "text": [
            "frame=   37 fps=0.0 q=-0.0 size=N/A time=00:00:00.70 bitrate=N/A speed= 1.4x    \rframe=   74 fps= 72 q=-0.0 size=N/A time=00:00:01.44 bitrate=N/A speed=1.41x    \rframe=  100 fps= 71 q=-0.0 Lsize=N/A time=00:00:02.00 bitrate=N/A speed=1.42x    \n",
            "video:23605kB audio:0kB subtitle:0kB other streams:0kB global headers:0kB muxing overhead: unknown\n"
          ],
          "name": "stdout"
        }
      ]
    },
    {
      "cell_type": "code",
      "metadata": {
        "id": "Ytf2pp_b9cHU",
        "outputId": "a19d8fa8-8f95-41fc-df5a-b289c02ffce8",
        "colab": {
          "base_uri": "https://localhost:8080/",
          "height": 54
        }
      },
      "source": [
        "!sh JCT_VC_extract_compressed_pngs.sh ClassD_mkv/BlowingBubbles_H264_23.mkv ClassD_compressed_PNGS/BlowingBubbles/H264_23/im%d.png"
      ],
      "execution_count": null,
      "outputs": [
        {
          "output_type": "stream",
          "text": [
            "frame=   36 fps=0.0 q=-0.0 size=N/A time=00:00:00.68 bitrate=N/A speed=1.34x    \rframe=   74 fps= 73 q=-0.0 size=N/A time=00:00:01.44 bitrate=N/A speed=1.43x    \rframe=  100 fps= 68 q=-0.0 Lsize=N/A time=00:00:02.00 bitrate=N/A speed=1.37x    \n",
            "video:22709kB audio:0kB subtitle:0kB other streams:0kB global headers:0kB muxing overhead: unknown\n"
          ],
          "name": "stdout"
        }
      ]
    },
    {
      "cell_type": "code",
      "metadata": {
        "id": "VoO32rlg9cHc",
        "outputId": "bbbbab73-9d85-41b1-9f51-d6bcea2b562e",
        "colab": {
          "base_uri": "https://localhost:8080/",
          "height": 54
        }
      },
      "source": [
        "!sh JCT_VC_extract_compressed_pngs.sh ClassD_mkv/BlowingBubbles_H264_27.mkv ClassD_compressed_PNGS/BlowingBubbles/H264_27/im%d.png"
      ],
      "execution_count": null,
      "outputs": [
        {
          "output_type": "stream",
          "text": [
            "frame=   39 fps=0.0 q=-0.0 size=N/A time=00:00:00.74 bitrate=N/A speed=1.44x    \rframe=   76 fps= 75 q=-0.0 size=N/A time=00:00:01.48 bitrate=N/A speed=1.45x    \rframe=  100 fps= 73 q=-0.0 Lsize=N/A time=00:00:02.00 bitrate=N/A speed=1.47x    \n",
            "video:21665kB audio:0kB subtitle:0kB other streams:0kB global headers:0kB muxing overhead: unknown\n"
          ],
          "name": "stdout"
        }
      ]
    },
    {
      "cell_type": "code",
      "metadata": {
        "id": "w952pL1t9cHm"
      },
      "source": [
        ""
      ],
      "execution_count": null,
      "outputs": []
    },
    {
      "cell_type": "code",
      "metadata": {
        "id": "RQKC6oJN9cHu",
        "outputId": "3e338885-79ed-4c1b-f3f8-bf19b53d0af4",
        "colab": {
          "base_uri": "https://localhost:8080/",
          "height": 54
        }
      },
      "source": [
        "!sh JCT_VC_extract_compressed_pngs.sh ClassD_mkv/BlowingBubbles_H265_15.mkv ClassD_compressed_PNGS/BlowingBubbles/H265_15/im%d.png"
      ],
      "execution_count": null,
      "outputs": [
        {
          "output_type": "stream",
          "text": [
            "frame=   32 fps=0.0 q=-0.0 size=N/A time=00:00:00.60 bitrate=N/A speed=1.19x    \rframe=   64 fps= 63 q=-0.0 size=N/A time=00:00:01.24 bitrate=N/A speed=1.21x    \rframe=   96 fps= 63 q=-0.0 size=N/A time=00:00:01.88 bitrate=N/A speed=1.23x    \rframe=  100 fps= 61 q=-0.0 Lsize=N/A time=00:00:02.00 bitrate=N/A speed=1.23x    \n",
            "video:24692kB audio:0kB subtitle:0kB other streams:0kB global headers:0kB muxing overhead: unknown\n"
          ],
          "name": "stdout"
        }
      ]
    },
    {
      "cell_type": "code",
      "metadata": {
        "id": "KxrmpVBH9cH2",
        "outputId": "02a47e61-27b0-4901-b6e1-710d06f70299",
        "colab": {
          "base_uri": "https://localhost:8080/",
          "height": 54
        }
      },
      "source": [
        "!sh JCT_VC_extract_compressed_pngs.sh ClassD_mkv/BlowingBubbles_H265_19.mkv ClassD_compressed_PNGS/BlowingBubbles/H265_19/im%d.png"
      ],
      "execution_count": null,
      "outputs": [
        {
          "output_type": "stream",
          "text": [
            "frame=   35 fps=0.0 q=-0.0 size=N/A time=00:00:00.66 bitrate=N/A speed=1.28x    \rframe=   70 fps= 68 q=-0.0 size=N/A time=00:00:01.36 bitrate=N/A speed=1.32x    \rframe=  100 fps= 66 q=-0.0 Lsize=N/A time=00:00:02.00 bitrate=N/A speed=1.31x    \n",
            "video:24189kB audio:0kB subtitle:0kB other streams:0kB global headers:0kB muxing overhead: unknown\n"
          ],
          "name": "stdout"
        }
      ]
    },
    {
      "cell_type": "code",
      "metadata": {
        "id": "-ilzhhXl9cH-",
        "outputId": "29185878-35f3-4724-c2b1-f09099d7e220",
        "colab": {
          "base_uri": "https://localhost:8080/",
          "height": 54
        }
      },
      "source": [
        "!sh JCT_VC_extract_compressed_pngs.sh ClassD_mkv/BlowingBubbles_H265_23.mkv ClassD_compressed_PNGS/BlowingBubbles/H265_23/im%d.png"
      ],
      "execution_count": null,
      "outputs": [
        {
          "output_type": "stream",
          "text": [
            "frame=   35 fps=0.0 q=-0.0 size=N/A time=00:00:00.66 bitrate=N/A speed=1.32x    \rframe=   68 fps= 67 q=-0.0 size=N/A time=00:00:01.32 bitrate=N/A speed=1.31x    \rframe=  100 fps= 66 q=-0.0 Lsize=N/A time=00:00:02.00 bitrate=N/A speed=1.32x    \n",
            "video:23693kB audio:0kB subtitle:0kB other streams:0kB global headers:0kB muxing overhead: unknown\n"
          ],
          "name": "stdout"
        }
      ]
    },
    {
      "cell_type": "code",
      "metadata": {
        "id": "8MqWVKgU9cIE",
        "outputId": "4118ddf8-bda4-470c-d780-de04713fbb70",
        "colab": {
          "base_uri": "https://localhost:8080/",
          "height": 54
        }
      },
      "source": [
        "!sh JCT_VC_extract_compressed_pngs.sh ClassD_mkv/BlowingBubbles_H265_27.mkv ClassD_compressed_PNGS/BlowingBubbles/H265_27/im%d.png"
      ],
      "execution_count": null,
      "outputs": [
        {
          "output_type": "stream",
          "text": [
            "frame=   38 fps=0.0 q=-0.0 size=N/A time=00:00:00.72 bitrate=N/A speed=1.42x    \rframe=   75 fps= 74 q=-0.0 size=N/A time=00:00:01.46 bitrate=N/A speed=1.44x    \rframe=  100 fps= 71 q=-0.0 Lsize=N/A time=00:00:02.00 bitrate=N/A speed=1.43x    \n",
            "video:23086kB audio:0kB subtitle:0kB other streams:0kB global headers:0kB muxing overhead: unknown\n"
          ],
          "name": "stdout"
        }
      ]
    },
    {
      "cell_type": "code",
      "metadata": {
        "id": "wDP9Vhvf9be_"
      },
      "source": [
        ""
      ],
      "execution_count": null,
      "outputs": []
    },
    {
      "cell_type": "code",
      "metadata": {
        "id": "DH_n7ijF9dFf"
      },
      "source": [
        ""
      ],
      "execution_count": null,
      "outputs": []
    },
    {
      "cell_type": "code",
      "metadata": {
        "id": "0p9pz95B9dte",
        "outputId": "44d6afe6-7bbf-423a-9762-ccdbc6e0812b",
        "colab": {
          "base_uri": "https://localhost:8080/",
          "height": 54
        }
      },
      "source": [
        "!sh JCT_VC_extract_compressed_pngs.sh ClassD_mkv/BQSquare_H264_15.mkv ClassD_compressed_PNGS/BQSquare/H264_15/im%d.png"
      ],
      "execution_count": null,
      "outputs": [
        {
          "output_type": "stream",
          "text": [
            "frame=   25 fps=0.0 q=-0.0 size=N/A time=00:00:00.38 bitrate=N/A speed=0.735x    \rframe=   59 fps= 57 q=-0.0 size=N/A time=00:00:00.95 bitrate=N/A speed=0.922x    \rframe=   90 fps= 58 q=-0.0 size=N/A time=00:00:01.46 bitrate=N/A speed=0.953x    \rframe=  100 fps= 58 q=-0.0 Lsize=N/A time=00:00:01.66 bitrate=N/A speed=0.966x    \n",
            "video:19264kB audio:0kB subtitle:0kB other streams:0kB global headers:0kB muxing overhead: unknown\n"
          ],
          "name": "stdout"
        }
      ]
    },
    {
      "cell_type": "code",
      "metadata": {
        "id": "MzRTirTv9dtn",
        "outputId": "8db1cf16-203f-421f-cf79-4e0b0ce2aa1a",
        "colab": {
          "base_uri": "https://localhost:8080/",
          "height": 54
        }
      },
      "source": [
        "!sh JCT_VC_extract_compressed_pngs.sh ClassD_mkv/BQSquare_H264_19.mkv ClassD_compressed_PNGS/BQSquare/H264_19/im%d.png"
      ],
      "execution_count": null,
      "outputs": [
        {
          "output_type": "stream",
          "text": [
            "frame=   19 fps=0.0 q=-0.0 size=N/A time=00:00:00.28 bitrate=N/A speed=0.518x    \rframe=   52 fps= 49 q=-0.0 size=N/A time=00:00:00.83 bitrate=N/A speed=0.78x    \rframe=   88 fps= 56 q=-0.0 size=N/A time=00:00:01.43 bitrate=N/A speed=0.908x    \rframe=  100 fps= 56 q=-0.0 Lsize=N/A time=00:00:01.66 bitrate=N/A speed=0.929x    \n",
            "video:18404kB audio:0kB subtitle:0kB other streams:0kB global headers:0kB muxing overhead: unknown\n"
          ],
          "name": "stdout"
        }
      ]
    },
    {
      "cell_type": "code",
      "metadata": {
        "id": "cKsWeHtu9dtv",
        "outputId": "858f9754-82ce-40ec-88c7-f135bf93ffe8",
        "colab": {
          "base_uri": "https://localhost:8080/",
          "height": 54
        }
      },
      "source": [
        "!sh JCT_VC_extract_compressed_pngs.sh ClassD_mkv/BQSquare_H264_23.mkv ClassD_compressed_PNGS/BQSquare/H264_23/im%d.png"
      ],
      "execution_count": null,
      "outputs": [
        {
          "output_type": "stream",
          "text": [
            "frame=   28 fps=0.0 q=-0.0 size=N/A time=00:00:00.43 bitrate=N/A speed=0.849x    \rframe=   64 fps= 62 q=-0.0 size=N/A time=00:00:01.03 bitrate=N/A speed=   1x    \rframe=  100 fps= 64 q=-0.0 Lsize=N/A time=00:00:01.66 bitrate=N/A speed=1.07x    \n",
            "video:17373kB audio:0kB subtitle:0kB other streams:0kB global headers:0kB muxing overhead: unknown\n"
          ],
          "name": "stdout"
        }
      ]
    },
    {
      "cell_type": "code",
      "metadata": {
        "id": "bmDFtrll9dt0",
        "outputId": "16e7fefc-e34c-4c31-8dbd-aaafb569d6db",
        "colab": {
          "base_uri": "https://localhost:8080/",
          "height": 54
        }
      },
      "source": [
        "!sh JCT_VC_extract_compressed_pngs.sh ClassD_mkv/BQSquare_H264_27.mkv ClassD_compressed_PNGS/BQSquare/H264_27/im%d.png"
      ],
      "execution_count": null,
      "outputs": [
        {
          "output_type": "stream",
          "text": [
            "frame=   31 fps=0.0 q=-0.0 size=N/A time=00:00:00.48 bitrate=N/A speed=0.943x    \rframe=   71 fps= 70 q=-0.0 size=N/A time=00:00:01.15 bitrate=N/A speed=1.13x    \rframe=  100 fps= 71 q=-0.0 Lsize=N/A time=00:00:01.66 bitrate=N/A speed=1.18x    \n",
            "video:16139kB audio:0kB subtitle:0kB other streams:0kB global headers:0kB muxing overhead: unknown\n"
          ],
          "name": "stdout"
        }
      ]
    },
    {
      "cell_type": "code",
      "metadata": {
        "id": "uR0QEZnq9dt7"
      },
      "source": [
        ""
      ],
      "execution_count": null,
      "outputs": []
    },
    {
      "cell_type": "code",
      "metadata": {
        "id": "WJMvM1FF9duC",
        "outputId": "303d1523-5c7a-4181-c1ab-ce9bd17ab5ef",
        "colab": {
          "base_uri": "https://localhost:8080/",
          "height": 54
        }
      },
      "source": [
        "!sh JCT_VC_extract_compressed_pngs.sh ClassD_mkv/BQSquare_H265_15.mkv ClassD_compressed_PNGS/BQSquare/H265_15/im%d.png"
      ],
      "execution_count": null,
      "outputs": [
        {
          "output_type": "stream",
          "text": [
            "frame=   21 fps=0.0 q=-0.0 size=N/A time=00:00:00.31 bitrate=N/A speed=0.618x    \rframe=   52 fps= 50 q=-0.0 size=N/A time=00:00:00.83 bitrate=N/A speed=0.803x    \rframe=   81 fps= 52 q=-0.0 size=N/A time=00:00:01.31 bitrate=N/A speed=0.851x    \rframe=  100 fps= 53 q=-0.0 Lsize=N/A time=00:00:01.66 bitrate=N/A speed=0.882x    \n",
            "video:19895kB audio:0kB subtitle:0kB other streams:0kB global headers:0kB muxing overhead: unknown\n"
          ],
          "name": "stdout"
        }
      ]
    },
    {
      "cell_type": "code",
      "metadata": {
        "id": "jlx0p-Vn9duJ",
        "outputId": "c47b3a20-2c69-4e15-8ee3-0fac8667ebbf",
        "colab": {
          "base_uri": "https://localhost:8080/",
          "height": 54
        }
      },
      "source": [
        "!sh JCT_VC_extract_compressed_pngs.sh ClassD_mkv/BQSquare_H265_19.mkv ClassD_compressed_PNGS/BQSquare/H265_19/im%d.png"
      ],
      "execution_count": null,
      "outputs": [
        {
          "output_type": "stream",
          "text": [
            "frame=   26 fps=0.0 q=-0.0 size=N/A time=00:00:00.40 bitrate=N/A speed=0.786x    \rframe=   58 fps= 57 q=-0.0 size=N/A time=00:00:00.93 bitrate=N/A speed=0.92x    \rframe=   90 fps= 59 q=-0.0 size=N/A time=00:00:01.46 bitrate=N/A speed=0.959x    \rframe=  100 fps= 58 q=-0.0 Lsize=N/A time=00:00:01.66 bitrate=N/A speed=0.972x    \n",
            "video:19564kB audio:0kB subtitle:0kB other streams:0kB global headers:0kB muxing overhead: unknown\n"
          ],
          "name": "stdout"
        }
      ]
    },
    {
      "cell_type": "code",
      "metadata": {
        "id": "wEnvS9vz9duP",
        "outputId": "15a04bd1-2f18-4b98-b2d8-ff7577d0c501",
        "colab": {
          "base_uri": "https://localhost:8080/",
          "height": 54
        }
      },
      "source": [
        "!sh JCT_VC_extract_compressed_pngs.sh ClassD_mkv/BQSquare_H265_23.mkv ClassD_compressed_PNGS/BQSquare/H265_23/im%d.png"
      ],
      "execution_count": null,
      "outputs": [
        {
          "output_type": "stream",
          "text": [
            "frame=   29 fps=0.0 q=-0.0 size=N/A time=00:00:00.45 bitrate=N/A speed=0.879x    \rframe=   62 fps= 61 q=-0.0 size=N/A time=00:00:01.00 bitrate=N/A speed=0.98x    \rframe=   97 fps= 63 q=-0.0 size=N/A time=00:00:01.58 bitrate=N/A speed=1.03x    \rframe=  100 fps= 62 q=-0.0 Lsize=N/A time=00:00:01.66 bitrate=N/A speed=1.03x    \n",
            "video:18970kB audio:0kB subtitle:0kB other streams:0kB global headers:0kB muxing overhead: unknown\n"
          ],
          "name": "stdout"
        }
      ]
    },
    {
      "cell_type": "code",
      "metadata": {
        "id": "r7P5Nf8f9duV",
        "outputId": "b6658889-6f04-42d2-a1d2-b62b4bb1b272",
        "colab": {
          "base_uri": "https://localhost:8080/",
          "height": 54
        }
      },
      "source": [
        "!sh JCT_VC_extract_compressed_pngs.sh ClassD_mkv/BQSquare_H265_27.mkv ClassD_compressed_PNGS/BQSquare/H265_27/im%d.png"
      ],
      "execution_count": null,
      "outputs": [
        {
          "output_type": "stream",
          "text": [
            "frame=   27 fps=0.0 q=-0.0 size=N/A time=00:00:00.41 bitrate=N/A speed=0.821x    \rframe=   62 fps= 61 q=-0.0 size=N/A time=00:00:01.00 bitrate=N/A speed=0.991x    \rframe=   99 fps= 65 q=-0.0 size=N/A time=00:00:01.61 bitrate=N/A speed=1.07x    \rframe=  100 fps= 64 q=-0.0 Lsize=N/A time=00:00:01.66 bitrate=N/A speed=1.07x    \n",
            "video:17638kB audio:0kB subtitle:0kB other streams:0kB global headers:0kB muxing overhead: unknown\n"
          ],
          "name": "stdout"
        }
      ]
    },
    {
      "cell_type": "code",
      "metadata": {
        "id": "2Fs_JUBr9dOW"
      },
      "source": [
        ""
      ],
      "execution_count": null,
      "outputs": []
    },
    {
      "cell_type": "code",
      "metadata": {
        "id": "rJcBW-RH9e5t"
      },
      "source": [
        ""
      ],
      "execution_count": null,
      "outputs": []
    },
    {
      "cell_type": "code",
      "metadata": {
        "id": "_HeVbDUg9fhp",
        "outputId": "f29c2e37-e588-4bdf-e3b5-86a44b659f7c",
        "colab": {
          "base_uri": "https://localhost:8080/",
          "height": 54
        }
      },
      "source": [
        "!sh JCT_VC_extract_compressed_pngs.sh ClassD_mkv/RaceHorsesD_H264_15.mkv ClassD_compressed_PNGS/RaceHorsesD/H264_15/im%d.png"
      ],
      "execution_count": null,
      "outputs": [
        {
          "output_type": "stream",
          "text": [
            "frame=   27 fps=0.0 q=-0.0 size=N/A time=00:00:00.83 bitrate=N/A speed=1.66x    \rframe=   62 fps= 62 q=-0.0 size=N/A time=00:00:02.00 bitrate=N/A speed=1.99x    \rframe=   97 fps= 64 q=-0.0 size=N/A time=00:00:03.16 bitrate=N/A speed=2.09x    \rframe=  100 fps= 62 q=-0.0 Lsize=N/A time=00:00:03.33 bitrate=N/A speed=2.06x    \n",
            "video:22031kB audio:0kB subtitle:0kB other streams:0kB global headers:0kB muxing overhead: unknown\n"
          ],
          "name": "stdout"
        }
      ]
    },
    {
      "cell_type": "code",
      "metadata": {
        "id": "lqIyIhFV9fh0",
        "outputId": "74e4b26f-da46-4842-defd-55c0338012c0",
        "colab": {
          "base_uri": "https://localhost:8080/",
          "height": 54
        }
      },
      "source": [
        "!sh JCT_VC_extract_compressed_pngs.sh ClassD_mkv/RaceHorsesD_H264_19.mkv ClassD_compressed_PNGS/RaceHorsesD/H264_19/im%d.png"
      ],
      "execution_count": null,
      "outputs": [
        {
          "output_type": "stream",
          "text": [
            "frame=   28 fps=0.0 q=-0.0 size=N/A time=00:00:00.86 bitrate=N/A speed=1.71x    \rframe=   64 fps= 63 q=-0.0 size=N/A time=00:00:02.06 bitrate=N/A speed=2.04x    \rframe=   99 fps= 64 q=-0.0 size=N/A time=00:00:03.23 bitrate=N/A speed=2.09x    \rframe=  100 fps= 62 q=-0.0 Lsize=N/A time=00:00:03.33 bitrate=N/A speed=2.07x    \n",
            "video:21428kB audio:0kB subtitle:0kB other streams:0kB global headers:0kB muxing overhead: unknown\n"
          ],
          "name": "stdout"
        }
      ]
    },
    {
      "cell_type": "code",
      "metadata": {
        "id": "icSdzQDj9fh5",
        "outputId": "9e9a5d10-6af5-4e49-8a72-ff932a2ef5c8",
        "colab": {
          "base_uri": "https://localhost:8080/",
          "height": 54
        }
      },
      "source": [
        "!sh JCT_VC_extract_compressed_pngs.sh ClassD_mkv/RaceHorsesD_H264_23.mkv ClassD_compressed_PNGS/RaceHorsesD/H264_23/im%d.png"
      ],
      "execution_count": null,
      "outputs": [
        {
          "output_type": "stream",
          "text": [
            "frame=   28 fps=0.0 q=-0.0 size=N/A time=00:00:00.86 bitrate=N/A speed=1.68x    \rframe=   64 fps= 63 q=-0.0 size=N/A time=00:00:02.06 bitrate=N/A speed=2.03x    \rframe=  100 fps= 65 q=-0.0 Lsize=N/A time=00:00:03.33 bitrate=N/A speed=2.16x    \n",
            "video:20810kB audio:0kB subtitle:0kB other streams:0kB global headers:0kB muxing overhead: unknown\n"
          ],
          "name": "stdout"
        }
      ]
    },
    {
      "cell_type": "code",
      "metadata": {
        "id": "-g07qm1r9fh-",
        "outputId": "157c93d1-4e4f-4ea9-fc23-959748476cb9",
        "colab": {
          "base_uri": "https://localhost:8080/",
          "height": 54
        }
      },
      "source": [
        "!sh JCT_VC_extract_compressed_pngs.sh ClassD_mkv/RaceHorsesD_H264_27.mkv ClassD_compressed_PNGS/RaceHorsesD/H264_27/im%d.png"
      ],
      "execution_count": null,
      "outputs": [
        {
          "output_type": "stream",
          "text": [
            "frame=   24 fps=0.0 q=-0.0 size=N/A time=00:00:00.73 bitrate=N/A speed=1.45x    \rframe=   58 fps= 58 q=-0.0 size=N/A time=00:00:01.86 bitrate=N/A speed=1.85x    \rframe=   98 fps= 65 q=-0.0 size=N/A time=00:00:03.20 bitrate=N/A speed=2.11x    \rframe=  100 fps= 64 q=-0.0 Lsize=N/A time=00:00:03.33 bitrate=N/A speed=2.12x    \n",
            "video:19830kB audio:0kB subtitle:0kB other streams:0kB global headers:0kB muxing overhead: unknown\n"
          ],
          "name": "stdout"
        }
      ]
    },
    {
      "cell_type": "code",
      "metadata": {
        "id": "UZb17sLt9fiE"
      },
      "source": [
        ""
      ],
      "execution_count": null,
      "outputs": []
    },
    {
      "cell_type": "code",
      "metadata": {
        "id": "SJgpXB_y9fiI",
        "outputId": "12c9e36d-98ce-44f7-aa5a-4329b0afd778",
        "colab": {
          "base_uri": "https://localhost:8080/",
          "height": 54
        }
      },
      "source": [
        "!sh JCT_VC_extract_compressed_pngs.sh ClassD_mkv/RaceHorsesD_H265_15.mkv ClassD_compressed_PNGS/RaceHorsesD/H265_15/im%d.png"
      ],
      "execution_count": null,
      "outputs": [
        {
          "output_type": "stream",
          "text": [
            "frame=   26 fps=0.0 q=-0.0 size=N/A time=00:00:00.80 bitrate=N/A speed=1.58x    \rframe=   56 fps= 55 q=-0.0 size=N/A time=00:00:01.80 bitrate=N/A speed=1.78x    \rframe=   84 fps= 55 q=-0.0 size=N/A time=00:00:02.73 bitrate=N/A speed=1.79x    \rframe=  100 fps= 55 q=-0.0 Lsize=N/A time=00:00:03.33 bitrate=N/A speed=1.83x    \n",
            "video:22352kB audio:0kB subtitle:0kB other streams:0kB global headers:0kB muxing overhead: unknown\n"
          ],
          "name": "stdout"
        }
      ]
    },
    {
      "cell_type": "code",
      "metadata": {
        "id": "FfNJqdC79fiO",
        "outputId": "e4a02216-c62e-4f14-8c66-16faad533fe6",
        "colab": {
          "base_uri": "https://localhost:8080/",
          "height": 54
        }
      },
      "source": [
        "!sh JCT_VC_extract_compressed_pngs.sh ClassD_mkv/RaceHorsesD_H265_19.mkv ClassD_compressed_PNGS/RaceHorsesD/H265_19/im%d.png"
      ],
      "execution_count": null,
      "outputs": [
        {
          "output_type": "stream",
          "text": [
            "frame=   22 fps=0.0 q=-0.0 size=N/A time=00:00:00.66 bitrate=N/A speed=1.31x    \rframe=   55 fps= 54 q=-0.0 size=N/A time=00:00:01.76 bitrate=N/A speed=1.73x    \rframe=   88 fps= 57 q=-0.0 size=N/A time=00:00:02.86 bitrate=N/A speed=1.86x    \rframe=  100 fps= 56 q=-0.0 Lsize=N/A time=00:00:03.33 bitrate=N/A speed=1.88x    \n",
            "video:22201kB audio:0kB subtitle:0kB other streams:0kB global headers:0kB muxing overhead: unknown\n"
          ],
          "name": "stdout"
        }
      ]
    },
    {
      "cell_type": "code",
      "metadata": {
        "id": "PDGFBxMh9fiS",
        "outputId": "d0d219f4-2a26-4013-acef-050ca910f492",
        "colab": {
          "base_uri": "https://localhost:8080/",
          "height": 54
        }
      },
      "source": [
        "!sh JCT_VC_extract_compressed_pngs.sh ClassD_mkv/RaceHorsesD_H265_23.mkv ClassD_compressed_PNGS/RaceHorsesD/H265_23/im%d.png"
      ],
      "execution_count": null,
      "outputs": [
        {
          "output_type": "stream",
          "text": [
            "frame=   21 fps=0.0 q=-0.0 size=N/A time=00:00:00.63 bitrate=N/A speed=1.26x    \rframe=   55 fps= 55 q=-0.0 size=N/A time=00:00:01.76 bitrate=N/A speed=1.76x    \rframe=   89 fps= 59 q=-0.0 size=N/A time=00:00:02.90 bitrate=N/A speed=1.92x    \rframe=  100 fps= 59 q=-0.0 Lsize=N/A time=00:00:03.33 bitrate=N/A speed=1.97x    \n",
            "video:22034kB audio:0kB subtitle:0kB other streams:0kB global headers:0kB muxing overhead: unknown\n"
          ],
          "name": "stdout"
        }
      ]
    },
    {
      "cell_type": "code",
      "metadata": {
        "id": "oN2ZvkKA9fiY",
        "outputId": "600ec621-55b5-49b6-f982-4970a68f802d",
        "colab": {
          "base_uri": "https://localhost:8080/",
          "height": 54
        }
      },
      "source": [
        "!sh JCT_VC_extract_compressed_pngs.sh ClassD_mkv/RaceHorsesD_H265_27.mkv ClassD_compressed_PNGS/RaceHorsesD/H265_27/im%d.png"
      ],
      "execution_count": null,
      "outputs": [
        {
          "output_type": "stream",
          "text": [
            "frame=   23 fps=0.0 q=-0.0 size=N/A time=00:00:00.70 bitrate=N/A speed=1.38x    \rframe=   55 fps= 54 q=-0.0 size=N/A time=00:00:01.76 bitrate=N/A speed=1.73x    \rframe=   89 fps= 59 q=-0.0 size=N/A time=00:00:02.90 bitrate=N/A speed=1.91x    \rframe=  100 fps= 57 q=-0.0 Lsize=N/A time=00:00:03.33 bitrate=N/A speed=1.91x    \n",
            "video:21682kB audio:0kB subtitle:0kB other streams:0kB global headers:0kB muxing overhead: unknown\n"
          ],
          "name": "stdout"
        }
      ]
    },
    {
      "cell_type": "code",
      "metadata": {
        "id": "RgpATkKc9fFA"
      },
      "source": [
        ""
      ],
      "execution_count": null,
      "outputs": []
    },
    {
      "cell_type": "code",
      "metadata": {
        "id": "wKMz8709-i7w"
      },
      "source": [
        ""
      ],
      "execution_count": null,
      "outputs": []
    },
    {
      "cell_type": "code",
      "metadata": {
        "id": "VRxFGt8r-jFQ",
        "outputId": "85cf0299-daea-414f-da09-672b9df0a041",
        "colab": {
          "base_uri": "https://localhost:8080/",
          "height": 54
        }
      },
      "source": [
        "!python psnr_msssim_calc.py -i ClassD_frames/BasketballPass/ -o ClassD_compressed_PNGS/BasketballPass/H264_15/ "
      ],
      "execution_count": null,
      "outputs": [
        {
          "output_type": "stream",
          "text": [
            "Average\n",
            "psnr = 38.16686678, ms-ssim =0.99051993\n"
          ],
          "name": "stdout"
        }
      ]
    },
    {
      "cell_type": "code",
      "metadata": {
        "id": "NwyungCl-nL3",
        "outputId": "c88065c8-bee4-44cb-e637-101bc7cd9b40",
        "colab": {
          "base_uri": "https://localhost:8080/",
          "height": 54
        }
      },
      "source": [
        "!python psnr_msssim_calc.py -i ClassD_frames/BasketballPass/ -o ClassD_compressed_PNGS/BasketballPass/H264_19/ "
      ],
      "execution_count": null,
      "outputs": [
        {
          "output_type": "stream",
          "text": [
            "Average\n",
            "psnr = 35.76728566, ms-ssim =0.98503422\n"
          ],
          "name": "stdout"
        }
      ]
    },
    {
      "cell_type": "code",
      "metadata": {
        "id": "3B4zxrgn-zVC",
        "outputId": "8c27359f-d7e3-44bc-8103-91752a3142bc",
        "colab": {
          "base_uri": "https://localhost:8080/",
          "height": 54
        }
      },
      "source": [
        "!python psnr_msssim_calc.py -i ClassD_frames/BasketballPass/ -o ClassD_compressed_PNGS/BasketballPass/H264_23/ "
      ],
      "execution_count": null,
      "outputs": [
        {
          "output_type": "stream",
          "text": [
            "Average\n",
            "psnr = 33.48978154, ms-ssim =0.97617932\n"
          ],
          "name": "stdout"
        }
      ]
    },
    {
      "cell_type": "code",
      "metadata": {
        "id": "ElsuD1rY-zYp",
        "outputId": "9ece284c-961e-460f-ba90-fad6597da838",
        "colab": {
          "base_uri": "https://localhost:8080/",
          "height": 54
        }
      },
      "source": [
        "!python psnr_msssim_calc.py -i ClassD_frames/BasketballPass/ -o ClassD_compressed_PNGS/BasketballPass/H264_27/ "
      ],
      "execution_count": null,
      "outputs": [
        {
          "output_type": "stream",
          "text": [
            "Average\n",
            "psnr = 31.24868234, ms-ssim =0.96107418\n"
          ],
          "name": "stdout"
        }
      ]
    },
    {
      "cell_type": "code",
      "metadata": {
        "id": "Pv0to4gV-zcB"
      },
      "source": [
        ""
      ],
      "execution_count": null,
      "outputs": []
    },
    {
      "cell_type": "code",
      "metadata": {
        "id": "UJt9Fdk2-5Cz",
        "outputId": "e969e295-57c0-47ef-9b42-f9bb8c4c17f1",
        "colab": {
          "base_uri": "https://localhost:8080/",
          "height": 54
        }
      },
      "source": [
        "!python psnr_msssim_calc.py -i ClassD_frames/BasketballPass/ -o ClassD_compressed_PNGS/BasketballPass/H265_15/ "
      ],
      "execution_count": null,
      "outputs": [
        {
          "output_type": "stream",
          "text": [
            "Average\n",
            "psnr = 39.75728623, ms-ssim =0.99254549\n"
          ],
          "name": "stdout"
        }
      ]
    },
    {
      "cell_type": "code",
      "metadata": {
        "id": "9yZ8_Bmy-5DQ",
        "outputId": "1b8c50d5-a106-4b1b-d187-d85adafe17ae",
        "colab": {
          "base_uri": "https://localhost:8080/",
          "height": 54
        }
      },
      "source": [
        "!python psnr_msssim_calc.py -i ClassD_frames/BasketballPass/ -o ClassD_compressed_PNGS/BasketballPass/H265_19/ "
      ],
      "execution_count": null,
      "outputs": [
        {
          "output_type": "stream",
          "text": [
            "Average\n",
            "psnr = 37.37368345, ms-ssim =0.98852661\n"
          ],
          "name": "stdout"
        }
      ]
    },
    {
      "cell_type": "code",
      "metadata": {
        "id": "-KOnPv0N-5Dh",
        "outputId": "e20659a1-c158-47dc-dc04-a115e3ad2e88",
        "colab": {
          "base_uri": "https://localhost:8080/",
          "height": 54
        }
      },
      "source": [
        "!python psnr_msssim_calc.py -i ClassD_frames/BasketballPass/ -o ClassD_compressed_PNGS/BasketballPass/H265_23/ "
      ],
      "execution_count": null,
      "outputs": [
        {
          "output_type": "stream",
          "text": [
            "Average\n",
            "psnr = 34.95298195, ms-ssim =0.98145599\n"
          ],
          "name": "stdout"
        }
      ]
    },
    {
      "cell_type": "code",
      "metadata": {
        "id": "8B3XZ3c1-5Ds",
        "outputId": "99a7aad5-c2bf-473f-85cc-eeb98fe771cc",
        "colab": {
          "base_uri": "https://localhost:8080/",
          "height": 54
        }
      },
      "source": [
        "!python psnr_msssim_calc.py -i ClassD_frames/BasketballPass/ -o ClassD_compressed_PNGS/BasketballPass/H265_27/ "
      ],
      "execution_count": null,
      "outputs": [
        {
          "output_type": "stream",
          "text": [
            "Average\n",
            "psnr = 32.62696608, ms-ssim =0.97024480\n"
          ],
          "name": "stdout"
        }
      ]
    },
    {
      "cell_type": "code",
      "metadata": {
        "id": "reVFGkM1-zey"
      },
      "source": [
        ""
      ],
      "execution_count": null,
      "outputs": []
    },
    {
      "cell_type": "code",
      "metadata": {
        "id": "K7QUcxZ9-9ir"
      },
      "source": [
        ""
      ],
      "execution_count": null,
      "outputs": []
    },
    {
      "cell_type": "code",
      "metadata": {
        "id": "bjop_GQ2--am",
        "outputId": "c2828dae-0ac8-4324-ce8a-fcf334796a5b",
        "colab": {
          "base_uri": "https://localhost:8080/",
          "height": 54
        }
      },
      "source": [
        "!python psnr_msssim_calc.py -i ClassD_frames/BlowingBubbles/ -o ClassD_compressed_PNGS/BlowingBubbles/H264_15/ "
      ],
      "execution_count": null,
      "outputs": [
        {
          "output_type": "stream",
          "text": [
            "Average\n",
            "psnr = 34.24561564, ms-ssim =0.98688946\n"
          ],
          "name": "stdout"
        }
      ]
    },
    {
      "cell_type": "code",
      "metadata": {
        "id": "PbxshvEt--a9",
        "outputId": "9a6cf951-a99b-4112-d4c9-9f19bf4e56c1",
        "colab": {
          "base_uri": "https://localhost:8080/",
          "height": 54
        }
      },
      "source": [
        "!python psnr_msssim_calc.py -i ClassD_frames/BlowingBubbles/ -o ClassD_compressed_PNGS/BlowingBubbles/H264_19/ "
      ],
      "execution_count": null,
      "outputs": [
        {
          "output_type": "stream",
          "text": [
            "Average\n",
            "psnr = 31.99973996, ms-ssim =0.97994218\n"
          ],
          "name": "stdout"
        }
      ]
    },
    {
      "cell_type": "code",
      "metadata": {
        "id": "mtMJFo4z--bJ",
        "outputId": "35d25fd6-5077-4842-8740-efa399ab6903",
        "colab": {
          "base_uri": "https://localhost:8080/",
          "height": 54
        }
      },
      "source": [
        "!python psnr_msssim_calc.py -i ClassD_frames/BlowingBubbles/ -o ClassD_compressed_PNGS/BlowingBubbles/H264_23/ "
      ],
      "execution_count": null,
      "outputs": [
        {
          "output_type": "stream",
          "text": [
            "Average\n",
            "psnr = 29.89326191, ms-ssim =0.96859343\n"
          ],
          "name": "stdout"
        }
      ]
    },
    {
      "cell_type": "code",
      "metadata": {
        "id": "D5iM5gA7--bT",
        "outputId": "1a2946b6-1d9e-494c-c117-9d1af67d8284",
        "colab": {
          "base_uri": "https://localhost:8080/",
          "height": 54
        }
      },
      "source": [
        "!python psnr_msssim_calc.py -i ClassD_frames/BlowingBubbles/ -o ClassD_compressed_PNGS/BlowingBubbles/H264_27/ "
      ],
      "execution_count": null,
      "outputs": [
        {
          "output_type": "stream",
          "text": [
            "Average\n",
            "psnr = 27.90155649, ms-ssim =0.95087930\n"
          ],
          "name": "stdout"
        }
      ]
    },
    {
      "cell_type": "code",
      "metadata": {
        "id": "KG-8pDYF--bd"
      },
      "source": [
        ""
      ],
      "execution_count": null,
      "outputs": []
    },
    {
      "cell_type": "code",
      "metadata": {
        "id": "6e03oX0b--bl",
        "outputId": "ad468d31-42ba-409e-b1f8-346e444c0b86",
        "colab": {
          "base_uri": "https://localhost:8080/",
          "height": 54
        }
      },
      "source": [
        "!python psnr_msssim_calc.py -i ClassD_frames/BlowingBubbles/ -o ClassD_compressed_PNGS/BlowingBubbles/H265_15/ "
      ],
      "execution_count": null,
      "outputs": [
        {
          "output_type": "stream",
          "text": [
            "Average\n",
            "psnr = 35.63977480, ms-ssim =0.98971306\n"
          ],
          "name": "stdout"
        }
      ]
    },
    {
      "cell_type": "code",
      "metadata": {
        "id": "FagevepF--bv",
        "outputId": "d81237c5-767e-4943-af36-99a2d4a14830",
        "colab": {
          "base_uri": "https://localhost:8080/",
          "height": 54
        }
      },
      "source": [
        "!python psnr_msssim_calc.py -i ClassD_frames/BlowingBubbles/ -o ClassD_compressed_PNGS/BlowingBubbles/H265_19/ "
      ],
      "execution_count": null,
      "outputs": [
        {
          "output_type": "stream",
          "text": [
            "Average\n",
            "psnr = 33.29556942, ms-ssim =0.98413942\n"
          ],
          "name": "stdout"
        }
      ]
    },
    {
      "cell_type": "code",
      "metadata": {
        "id": "Ho418bUk--b5",
        "outputId": "62c5123e-eac9-4796-ae19-4b8542c0bb2a",
        "colab": {
          "base_uri": "https://localhost:8080/",
          "height": 54
        }
      },
      "source": [
        "!python psnr_msssim_calc.py -i ClassD_frames/BlowingBubbles/ -o ClassD_compressed_PNGS/BlowingBubbles/H265_23/ "
      ],
      "execution_count": null,
      "outputs": [
        {
          "output_type": "stream",
          "text": [
            "Average\n",
            "psnr = 31.08692638, ms-ssim =0.97536428\n"
          ],
          "name": "stdout"
        }
      ]
    },
    {
      "cell_type": "code",
      "metadata": {
        "id": "qrnZCfAm--cD",
        "outputId": "44f9e8b2-b454-4646-aa9a-0eec64bb7913",
        "colab": {
          "base_uri": "https://localhost:8080/",
          "height": 54
        }
      },
      "source": [
        "!python psnr_msssim_calc.py -i ClassD_frames/BlowingBubbles/ -o ClassD_compressed_PNGS/BlowingBubbles/H265_27/ "
      ],
      "execution_count": null,
      "outputs": [
        {
          "output_type": "stream",
          "text": [
            "Average\n",
            "psnr = 28.94075473, ms-ssim =0.96102043\n"
          ],
          "name": "stdout"
        }
      ]
    },
    {
      "cell_type": "code",
      "metadata": {
        "id": "TYQKeEFf-9vQ"
      },
      "source": [
        ""
      ],
      "execution_count": null,
      "outputs": []
    },
    {
      "cell_type": "code",
      "metadata": {
        "id": "e0Urv5EF-_ih"
      },
      "source": [
        ""
      ],
      "execution_count": null,
      "outputs": []
    },
    {
      "cell_type": "code",
      "metadata": {
        "id": "8IdTipUG_AMM",
        "outputId": "1c11791f-c43e-4adb-d9bb-808810294616",
        "colab": {
          "base_uri": "https://localhost:8080/",
          "height": 54
        }
      },
      "source": [
        "!python psnr_msssim_calc.py -i ClassD_frames/BQSquare/ -o ClassD_compressed_PNGS/BQSquare/H264_15/ "
      ],
      "execution_count": null,
      "outputs": [
        {
          "output_type": "stream",
          "text": [
            "Average\n",
            "psnr = 33.91790533, ms-ssim =0.99243729\n"
          ],
          "name": "stdout"
        }
      ]
    },
    {
      "cell_type": "code",
      "metadata": {
        "id": "19C26qPQ_AMU",
        "outputId": "12f6ef8f-931c-4194-962b-ae2c498b7516",
        "colab": {
          "base_uri": "https://localhost:8080/",
          "height": 54
        }
      },
      "source": [
        "!python psnr_msssim_calc.py -i ClassD_frames/BQSquare/ -o ClassD_compressed_PNGS/BQSquare/H264_19/ "
      ],
      "execution_count": null,
      "outputs": [
        {
          "output_type": "stream",
          "text": [
            "Average\n",
            "psnr = 31.53027693, ms-ssim =0.98923791\n"
          ],
          "name": "stdout"
        }
      ]
    },
    {
      "cell_type": "code",
      "metadata": {
        "id": "ZPtNhB7u_AMg",
        "outputId": "6c2e93a1-da48-4667-bcfc-300915a1a4a8",
        "colab": {
          "base_uri": "https://localhost:8080/",
          "height": 54
        }
      },
      "source": [
        "!python psnr_msssim_calc.py -i ClassD_frames/BQSquare/ -o ClassD_compressed_PNGS/BQSquare/H264_23/ "
      ],
      "execution_count": null,
      "outputs": [
        {
          "output_type": "stream",
          "text": [
            "Average\n",
            "psnr = 29.18600249, ms-ssim =0.98399481\n"
          ],
          "name": "stdout"
        }
      ]
    },
    {
      "cell_type": "code",
      "metadata": {
        "id": "2Y2qIGNp_AMp",
        "outputId": "c5ecbc0f-52eb-40b7-f307-3ab6da30110a",
        "colab": {
          "base_uri": "https://localhost:8080/",
          "height": 54
        }
      },
      "source": [
        "!python psnr_msssim_calc.py -i ClassD_frames/BQSquare/ -o ClassD_compressed_PNGS/BQSquare/H264_27/ "
      ],
      "execution_count": null,
      "outputs": [
        {
          "output_type": "stream",
          "text": [
            "Average\n",
            "psnr = 27.06098557, ms-ssim =0.97499295\n"
          ],
          "name": "stdout"
        }
      ]
    },
    {
      "cell_type": "code",
      "metadata": {
        "id": "xcQGkLNw_AMu"
      },
      "source": [
        ""
      ],
      "execution_count": null,
      "outputs": []
    },
    {
      "cell_type": "code",
      "metadata": {
        "id": "eJfShayl_AM1",
        "outputId": "03b36bfc-921f-48b6-99d5-09bad1afced8",
        "colab": {
          "base_uri": "https://localhost:8080/",
          "height": 54
        }
      },
      "source": [
        "!python psnr_msssim_calc.py -i ClassD_frames/BQSquare/ -o ClassD_compressed_PNGS/BQSquare/H265_15/ "
      ],
      "execution_count": null,
      "outputs": [
        {
          "output_type": "stream",
          "text": [
            "Average\n",
            "psnr = 35.35989253, ms-ssim =0.99342360\n"
          ],
          "name": "stdout"
        }
      ]
    },
    {
      "cell_type": "code",
      "metadata": {
        "id": "sGxKRB_4_AM9",
        "outputId": "f6544a3b-eb0b-42a4-ab85-e0bc34c05ebc",
        "colab": {
          "base_uri": "https://localhost:8080/",
          "height": 54
        }
      },
      "source": [
        "!python psnr_msssim_calc.py -i ClassD_frames/BQSquare/ -o ClassD_compressed_PNGS/BQSquare/H265_19/ "
      ],
      "execution_count": null,
      "outputs": [
        {
          "output_type": "stream",
          "text": [
            "Average\n",
            "psnr = 32.84767016, ms-ssim =0.99083737\n"
          ],
          "name": "stdout"
        }
      ]
    },
    {
      "cell_type": "code",
      "metadata": {
        "id": "u0W6Nh2__AND",
        "outputId": "90c4de90-6171-4f7b-fb2f-74affcbdf960",
        "colab": {
          "base_uri": "https://localhost:8080/",
          "height": 54
        }
      },
      "source": [
        "!python psnr_msssim_calc.py -i ClassD_frames/BQSquare/ -o ClassD_compressed_PNGS/BQSquare/H265_23/ "
      ],
      "execution_count": null,
      "outputs": [
        {
          "output_type": "stream",
          "text": [
            "Average\n",
            "psnr = 30.45211665, ms-ssim =0.98637917\n"
          ],
          "name": "stdout"
        }
      ]
    },
    {
      "cell_type": "code",
      "metadata": {
        "id": "oVJOEbV-_ANJ",
        "outputId": "5d8eb50a-eff7-4877-f4b1-d10059ead432",
        "colab": {
          "base_uri": "https://localhost:8080/",
          "height": 54
        }
      },
      "source": [
        "!python psnr_msssim_calc.py -i ClassD_frames/BQSquare/ -o ClassD_compressed_PNGS/BQSquare/H265_27/ "
      ],
      "execution_count": null,
      "outputs": [
        {
          "output_type": "stream",
          "text": [
            "Average\n",
            "psnr = 28.19513663, ms-ssim =0.97940182\n"
          ],
          "name": "stdout"
        }
      ]
    },
    {
      "cell_type": "code",
      "metadata": {
        "id": "D5eJbV-r-_xD"
      },
      "source": [
        ""
      ],
      "execution_count": null,
      "outputs": []
    },
    {
      "cell_type": "code",
      "metadata": {
        "id": "Fy8Sjpk5_BhP"
      },
      "source": [
        ""
      ],
      "execution_count": null,
      "outputs": []
    },
    {
      "cell_type": "code",
      "metadata": {
        "id": "ZoH8HWvV_B9m",
        "outputId": "b01fc645-58c8-4031-cf53-50f609fe1101",
        "colab": {
          "base_uri": "https://localhost:8080/",
          "height": 54
        }
      },
      "source": [
        "!python psnr_msssim_calc.py -i ClassD_frames/RaceHorsesD/ -o ClassD_compressed_PNGS/RaceHorsesD/H264_15/ "
      ],
      "execution_count": null,
      "outputs": [
        {
          "output_type": "stream",
          "text": [
            "Average\n",
            "psnr = 34.14542898, ms-ssim =0.98654668\n"
          ],
          "name": "stdout"
        }
      ]
    },
    {
      "cell_type": "code",
      "metadata": {
        "id": "t0N5ZEUX_B9u",
        "outputId": "e103d6fa-ef66-44b0-bc11-b9ce7ebf2538",
        "colab": {
          "base_uri": "https://localhost:8080/",
          "height": 54
        }
      },
      "source": [
        "!python psnr_msssim_calc.py -i ClassD_frames/RaceHorsesD/ -o ClassD_compressed_PNGS/RaceHorsesD/H264_19/ "
      ],
      "execution_count": null,
      "outputs": [
        {
          "output_type": "stream",
          "text": [
            "Average\n",
            "psnr = 31.76722296, ms-ssim =0.97848205\n"
          ],
          "name": "stdout"
        }
      ]
    },
    {
      "cell_type": "code",
      "metadata": {
        "id": "qn03h5Qf_B90",
        "outputId": "300ae289-3498-4bd5-e1ca-984af136594b",
        "colab": {
          "base_uri": "https://localhost:8080/",
          "height": 54
        }
      },
      "source": [
        "!python psnr_msssim_calc.py -i ClassD_frames/RaceHorsesD/ -o ClassD_compressed_PNGS/RaceHorsesD/H264_23/ "
      ],
      "execution_count": null,
      "outputs": [
        {
          "output_type": "stream",
          "text": [
            "Average\n",
            "psnr = 29.58107456, ms-ssim =0.96643190\n"
          ],
          "name": "stdout"
        }
      ]
    },
    {
      "cell_type": "code",
      "metadata": {
        "id": "mwTSGbmn_B96",
        "outputId": "e8b17c68-dc87-4ffb-fdd7-fcbd94cb1b71",
        "colab": {
          "base_uri": "https://localhost:8080/",
          "height": 54
        }
      },
      "source": [
        "!python psnr_msssim_calc.py -i ClassD_frames/RaceHorsesD/ -o ClassD_compressed_PNGS/RaceHorsesD/H264_27/ "
      ],
      "execution_count": null,
      "outputs": [
        {
          "output_type": "stream",
          "text": [
            "Average\n",
            "psnr = 27.47148045, ms-ssim =0.94764377\n"
          ],
          "name": "stdout"
        }
      ]
    },
    {
      "cell_type": "code",
      "metadata": {
        "id": "LDRymqrb_B-C"
      },
      "source": [
        ""
      ],
      "execution_count": null,
      "outputs": []
    },
    {
      "cell_type": "code",
      "metadata": {
        "id": "Ma5DMOfB_B-G",
        "outputId": "d34a6a84-703b-4863-99f7-0ff669adbfa6",
        "colab": {
          "base_uri": "https://localhost:8080/",
          "height": 54
        }
      },
      "source": [
        "!python psnr_msssim_calc.py -i ClassD_frames/RaceHorsesD/ -o ClassD_compressed_PNGS/RaceHorsesD/H265_15/ "
      ],
      "execution_count": null,
      "outputs": [
        {
          "output_type": "stream",
          "text": [
            "Average\n",
            "psnr = 35.71179120, ms-ssim =0.98983232\n"
          ],
          "name": "stdout"
        }
      ]
    },
    {
      "cell_type": "code",
      "metadata": {
        "id": "vYwlajia_B-N",
        "outputId": "8a7a01f6-1625-4c5c-b7c2-a010f2eb6389",
        "colab": {
          "base_uri": "https://localhost:8080/",
          "height": 54
        }
      },
      "source": [
        "!python psnr_msssim_calc.py -i ClassD_frames/RaceHorsesD/ -o ClassD_compressed_PNGS/RaceHorsesD/H265_19/ "
      ],
      "execution_count": null,
      "outputs": [
        {
          "output_type": "stream",
          "text": [
            "Average\n",
            "psnr = 33.17925676, ms-ssim =0.98324417\n"
          ],
          "name": "stdout"
        }
      ]
    },
    {
      "cell_type": "code",
      "metadata": {
        "id": "EEwAWqKi_B-S",
        "outputId": "95092358-9f62-4e37-ee25-2b7022b60e6b",
        "colab": {
          "base_uri": "https://localhost:8080/",
          "height": 54
        }
      },
      "source": [
        "!python psnr_msssim_calc.py -i ClassD_frames/RaceHorsesD/ -o ClassD_compressed_PNGS/RaceHorsesD/H265_23/ "
      ],
      "execution_count": null,
      "outputs": [
        {
          "output_type": "stream",
          "text": [
            "Average\n",
            "psnr = 30.74510503, ms-ssim =0.97277570\n"
          ],
          "name": "stdout"
        }
      ]
    },
    {
      "cell_type": "code",
      "metadata": {
        "id": "iwwIPwfH_B-Y",
        "outputId": "b9294ae1-5551-491b-8cbc-1363a50dece9",
        "colab": {
          "base_uri": "https://localhost:8080/",
          "height": 54
        }
      },
      "source": [
        "!python psnr_msssim_calc.py -i ClassD_frames/RaceHorsesD/ -o ClassD_compressed_PNGS/RaceHorsesD/H265_27/ "
      ],
      "execution_count": null,
      "outputs": [
        {
          "output_type": "stream",
          "text": [
            "Average\n",
            "psnr = 28.43496156, ms-ssim =0.95592246\n"
          ],
          "name": "stdout"
        }
      ]
    },
    {
      "cell_type": "code",
      "metadata": {
        "id": "qos2o3rk_BlN"
      },
      "source": [
        ""
      ],
      "execution_count": null,
      "outputs": []
    },
    {
      "cell_type": "code",
      "metadata": {
        "id": "1NAauiea_sCO"
      },
      "source": [
        ""
      ],
      "execution_count": null,
      "outputs": []
    },
    {
      "cell_type": "code",
      "metadata": {
        "id": "G-8V5xYU_sKd",
        "outputId": "e7d7f12d-42b1-4c22-b163-b3ea4de61315",
        "colab": {
          "base_uri": "https://localhost:8080/",
          "height": 54
        }
      },
      "source": [
        "!python experiment.py -i ClassD_frames/BasketballPass/ -m checkpoints/videocompressor8192.pkl -g 10"
      ],
      "execution_count": null,
      "outputs": [
        {
          "output_type": "stream",
          "text": [
            "Average\n",
            "psnr = 34.63911533,  bpp = 0.47723641, ms-ssim =0.99181455\n"
          ],
          "name": "stdout"
        }
      ]
    },
    {
      "cell_type": "code",
      "metadata": {
        "id": "XPLJuQuDJmvD",
        "outputId": "7276adfc-7aaf-48e4-94b3-ae6dc7c1ce68",
        "colab": {
          "base_uri": "https://localhost:8080/",
          "height": 54
        }
      },
      "source": [
        "!python experiment.py -i ClassD_frames/BasketballPass/ -m checkpoints/videocompressor4096.pkl -g 10"
      ],
      "execution_count": null,
      "outputs": [
        {
          "output_type": "stream",
          "text": [
            "Average\n",
            "psnr = 33.92398453,  bpp = 0.31914883, ms-ssim =0.98916091\n"
          ],
          "name": "stdout"
        }
      ]
    },
    {
      "cell_type": "code",
      "metadata": {
        "id": "RiBpKrFnJnL5",
        "outputId": "6fe21a06-fd6a-408e-af1b-8d006d7a63e5",
        "colab": {
          "base_uri": "https://localhost:8080/",
          "height": 54
        }
      },
      "source": [
        "!python experiment.py -i ClassD_frames/BasketballPass/ -m checkpoints/videocompressor2048.pkl -g 10"
      ],
      "execution_count": null,
      "outputs": [
        {
          "output_type": "stream",
          "text": [
            "Average\n",
            "psnr = 32.71072030,  bpp = 0.20815131, ms-ssim =0.98559094\n"
          ],
          "name": "stdout"
        }
      ]
    },
    {
      "cell_type": "code",
      "metadata": {
        "id": "eriKMCslJnPP",
        "outputId": "7daba761-2b1e-4d55-ad39-b8b589246067",
        "colab": {
          "base_uri": "https://localhost:8080/",
          "height": 54
        }
      },
      "source": [
        "!python experiment.py -i ClassD_frames/BasketballPass/ -m checkpoints/videocompressor1024.pkl -g 10"
      ],
      "execution_count": null,
      "outputs": [
        {
          "output_type": "stream",
          "text": [
            "Average\n",
            "psnr = 31.41520047,  bpp = 0.11203096, ms-ssim =0.98162477\n"
          ],
          "name": "stdout"
        }
      ]
    },
    {
      "cell_type": "code",
      "metadata": {
        "id": "4MD5xefhJnSe",
        "outputId": "0f1d885d-7d2b-41bd-9348-852de0d503b7",
        "colab": {
          "base_uri": "https://localhost:8080/",
          "height": 54
        }
      },
      "source": [
        "!python experiment.py -i ClassD_frames/BasketballPass/ -m checkpoints/videocompressor512.pkl -g 10"
      ],
      "execution_count": null,
      "outputs": [
        {
          "output_type": "stream",
          "text": [
            "Average\n",
            "psnr = 30.81659698,  bpp = 0.06233845, ms-ssim =0.97908634\n"
          ],
          "name": "stdout"
        }
      ]
    },
    {
      "cell_type": "code",
      "metadata": {
        "id": "n2-wPmNQJnVB",
        "outputId": "1524edf3-eb7a-42b9-f69e-136d88f8af75",
        "colab": {
          "base_uri": "https://localhost:8080/",
          "height": 54
        }
      },
      "source": [
        "!python experiment.py -i ClassD_frames/BasketballPass/ -m checkpoints/videocompressor256.pkl -g 10"
      ],
      "execution_count": null,
      "outputs": [
        {
          "output_type": "stream",
          "text": [
            "Average\n",
            "psnr = 30.24751925,  bpp = 0.03538878, ms-ssim =0.97751923\n"
          ],
          "name": "stdout"
        }
      ]
    },
    {
      "cell_type": "code",
      "metadata": {
        "id": "J3InShlXJnYT",
        "outputId": "ffc65c58-92c4-424e-8712-e25aa5d10eb5",
        "colab": {
          "base_uri": "https://localhost:8080/",
          "height": 54
        }
      },
      "source": [
        "!python experiment.py -i ClassD_frames/BasketballPass/ -m checkpoints/videocompressor128.pkl -g 10"
      ],
      "execution_count": null,
      "outputs": [
        {
          "output_type": "stream",
          "text": [
            "Average\n",
            "psnr = 29.39444232,  bpp = 0.02044834, ms-ssim =0.97129990\n"
          ],
          "name": "stdout"
        }
      ]
    },
    {
      "cell_type": "code",
      "metadata": {
        "id": "qQb17FCEJzYf",
        "outputId": "47fb90e3-656a-4d34-bd07-61d97327785b",
        "colab": {
          "base_uri": "https://localhost:8080/",
          "height": 54
        }
      },
      "source": [
        "!python experiment.py -i ClassD_frames/BasketballPass/ -m checkpoints/videocompressor256-msssim.pkl -g 10"
      ],
      "execution_count": null,
      "outputs": [
        {
          "output_type": "stream",
          "text": [
            "Average\n",
            "psnr = 31.47162604,  bpp = 0.33817127, ms-ssim =0.99204531\n"
          ],
          "name": "stdout"
        }
      ]
    },
    {
      "cell_type": "code",
      "metadata": {
        "id": "zXpni_AuJ0Lh",
        "outputId": "f8216c42-de44-46ea-d30c-d855bb559f3d",
        "colab": {
          "base_uri": "https://localhost:8080/",
          "height": 54
        }
      },
      "source": [
        "!python experiment.py -i ClassD_frames/BasketballPass/ -m checkpoints/videocompressor128-msssim.pkl -g 10"
      ],
      "execution_count": null,
      "outputs": [
        {
          "output_type": "stream",
          "text": [
            "Average\n",
            "psnr = 29.98359060,  bpp = 0.15912626, ms-ssim =0.98973426\n"
          ],
          "name": "stdout"
        }
      ]
    },
    {
      "cell_type": "code",
      "metadata": {
        "id": "hFjjP4hzJ0R0",
        "outputId": "259f6682-4be7-453f-e76d-fdf18e887168",
        "colab": {
          "base_uri": "https://localhost:8080/",
          "height": 54
        }
      },
      "source": [
        "!python experiment.py -i ClassD_frames/BasketballPass/ -m checkpoints/videocompressor64-msssim.pkl -g 10"
      ],
      "execution_count": null,
      "outputs": [
        {
          "output_type": "stream",
          "text": [
            "Average\n",
            "psnr = 29.86911154,  bpp = 0.11222854, ms-ssim =0.98829970\n"
          ],
          "name": "stdout"
        }
      ]
    },
    {
      "cell_type": "code",
      "metadata": {
        "id": "QNTBgMhBJ06b",
        "outputId": "d6f5df44-69e7-492e-f1e7-53062ecbe94c",
        "colab": {
          "base_uri": "https://localhost:8080/",
          "height": 54
        }
      },
      "source": [
        "!python experiment.py -i ClassD_frames/BasketballPass/ -m checkpoints/videocompressor32-msssim.pkl -g 10"
      ],
      "execution_count": null,
      "outputs": [
        {
          "output_type": "stream",
          "text": [
            "Average\n",
            "psnr = 29.72775102,  bpp = 0.08286907, ms-ssim =0.98285531\n"
          ],
          "name": "stdout"
        }
      ]
    },
    {
      "cell_type": "code",
      "metadata": {
        "id": "mPtSptqhJ0_g",
        "outputId": "65152b51-b79d-43e9-ac2d-e5ec4d74654a",
        "colab": {
          "base_uri": "https://localhost:8080/",
          "height": 54
        }
      },
      "source": [
        "!python experiment.py -i ClassD_frames/BasketballPass/ -m checkpoints/videocompressor16-msssim.pkl -g 10"
      ],
      "execution_count": null,
      "outputs": [
        {
          "output_type": "stream",
          "text": [
            "Average\n",
            "psnr = 29.42542481,  bpp = 0.05938953, ms-ssim =0.98050948\n"
          ],
          "name": "stdout"
        }
      ]
    },
    {
      "cell_type": "code",
      "metadata": {
        "id": "etBwxoCOJ9AB",
        "outputId": "a4362226-8628-426e-c097-3657124d5f7c",
        "colab": {
          "base_uri": "https://localhost:8080/",
          "height": 54
        }
      },
      "source": [
        "!python experiment.py -i ClassD_frames/BasketballPass/ -m checkpoints/videocompressor8-msssim.pkl -g 10"
      ],
      "execution_count": null,
      "outputs": [
        {
          "output_type": "stream",
          "text": [
            "Average\n",
            "psnr = 28.91144204,  bpp = 0.03699648, ms-ssim =0.97826312\n"
          ],
          "name": "stdout"
        }
      ]
    },
    {
      "cell_type": "code",
      "metadata": {
        "id": "Fe0Uj1WCJ9ED"
      },
      "source": [
        ""
      ],
      "execution_count": null,
      "outputs": []
    },
    {
      "cell_type": "code",
      "metadata": {
        "id": "zOqlRYKBKDwd"
      },
      "source": [
        ""
      ],
      "execution_count": null,
      "outputs": []
    },
    {
      "cell_type": "code",
      "metadata": {
        "id": "2ycZ-UzOKFDQ",
        "outputId": "47c06704-092d-4702-cff9-309b6ec3c4a2",
        "colab": {
          "base_uri": "https://localhost:8080/",
          "height": 54
        }
      },
      "source": [
        "!python experiment.py -i ClassD_frames/BlowingBubbles/ -m checkpoints/videocompressor8192.pkl -g 10"
      ],
      "execution_count": null,
      "outputs": [
        {
          "output_type": "stream",
          "text": [
            "Average\n",
            "psnr = 31.59831309,  bpp = 0.79649824, ms-ssim =0.98861468\n"
          ],
          "name": "stdout"
        }
      ]
    },
    {
      "cell_type": "code",
      "metadata": {
        "id": "F00vVoRXKFDm",
        "outputId": "e895b548-7628-4b65-8cdd-474e2de79da6",
        "colab": {
          "base_uri": "https://localhost:8080/",
          "height": 54
        }
      },
      "source": [
        "!python experiment.py -i ClassD_frames/BlowingBubbles/ -m checkpoints/videocompressor4096.pkl -g 10"
      ],
      "execution_count": null,
      "outputs": [
        {
          "output_type": "stream",
          "text": [
            "Average\n",
            "psnr = 31.02525520,  bpp = 0.55869882, ms-ssim =0.98533583\n"
          ],
          "name": "stdout"
        }
      ]
    },
    {
      "cell_type": "code",
      "metadata": {
        "id": "g0k7dsXcKFDu",
        "outputId": "da995d3e-fe52-411d-94d3-ecd6865a8c6e",
        "colab": {
          "base_uri": "https://localhost:8080/",
          "height": 54
        }
      },
      "source": [
        "!python experiment.py -i ClassD_frames/BlowingBubbles/ -m checkpoints/videocompressor2048.pkl -g 10"
      ],
      "execution_count": null,
      "outputs": [
        {
          "output_type": "stream",
          "text": [
            "Average\n",
            "psnr = 29.81542945,  bpp = 0.35001724, ms-ssim =0.97927727\n"
          ],
          "name": "stdout"
        }
      ]
    },
    {
      "cell_type": "code",
      "metadata": {
        "id": "6vFMeU4BKFD3",
        "outputId": "bbd701e1-2fc2-4292-cae1-e35c596e2b5b",
        "colab": {
          "base_uri": "https://localhost:8080/",
          "height": 54
        }
      },
      "source": [
        "!python experiment.py -i ClassD_frames/BlowingBubbles/ -m checkpoints/videocompressor1024.pkl -g 10"
      ],
      "execution_count": null,
      "outputs": [
        {
          "output_type": "stream",
          "text": [
            "Average\n",
            "psnr = 28.53280616,  bpp = 0.17221961, ms-ssim =0.97232851\n"
          ],
          "name": "stdout"
        }
      ]
    },
    {
      "cell_type": "code",
      "metadata": {
        "id": "Lvn_R50uKFEA",
        "outputId": "ed21e4e6-25aa-40b2-c44b-f2c691010f1c",
        "colab": {
          "base_uri": "https://localhost:8080/",
          "height": 54
        }
      },
      "source": [
        "!python experiment.py -i ClassD_frames/BlowingBubbles/ -m checkpoints/videocompressor512.pkl -g 10"
      ],
      "execution_count": null,
      "outputs": [
        {
          "output_type": "stream",
          "text": [
            "Average\n",
            "psnr = 27.77397084,  bpp = 0.08736548, ms-ssim =0.96663478\n"
          ],
          "name": "stdout"
        }
      ]
    },
    {
      "cell_type": "code",
      "metadata": {
        "id": "6bQnKdLCKFEL",
        "outputId": "b571ea76-0d9d-40bf-f1fc-7c6b29c93140",
        "colab": {
          "base_uri": "https://localhost:8080/",
          "height": 54
        }
      },
      "source": [
        "!python experiment.py -i ClassD_frames/BlowingBubbles/ -m checkpoints/videocompressor256.pkl -g 10"
      ],
      "execution_count": null,
      "outputs": [
        {
          "output_type": "stream",
          "text": [
            "Average\n",
            "psnr = 27.21185946,  bpp = 0.04357649, ms-ssim =0.96094548\n"
          ],
          "name": "stdout"
        }
      ]
    },
    {
      "cell_type": "code",
      "metadata": {
        "id": "h1nkK-zgKFET",
        "outputId": "55f80c55-fead-48fd-a075-7f67bdb5a39b",
        "colab": {
          "base_uri": "https://localhost:8080/",
          "height": 54
        }
      },
      "source": [
        "!python experiment.py -i ClassD_frames/BlowingBubbles/ -m checkpoints/videocompressor128.pkl -g 10"
      ],
      "execution_count": null,
      "outputs": [
        {
          "output_type": "stream",
          "text": [
            "Average\n",
            "psnr = 26.60170341,  bpp = 0.02388772, ms-ssim =0.95391230\n"
          ],
          "name": "stdout"
        }
      ]
    },
    {
      "cell_type": "code",
      "metadata": {
        "id": "2jQvJbLwKFEc",
        "outputId": "5e3d6958-823f-41c5-8a39-bd1da971216c",
        "colab": {
          "base_uri": "https://localhost:8080/",
          "height": 54
        }
      },
      "source": [
        "!python experiment.py -i ClassD_frames/BlowingBubbles/ -m checkpoints/videocompressor256-msssim.pkl -g 10"
      ],
      "execution_count": null,
      "outputs": [
        {
          "output_type": "stream",
          "text": [
            "Average\n",
            "psnr = 28.32698631,  bpp = 0.44173580, ms-ssim =0.98249403\n"
          ],
          "name": "stdout"
        }
      ]
    },
    {
      "cell_type": "code",
      "metadata": {
        "id": "DM1T68S3KFEk",
        "outputId": "c79ac8f7-e3fc-411c-84b6-d656890273f2",
        "colab": {
          "base_uri": "https://localhost:8080/",
          "height": 54
        }
      },
      "source": [
        "!python experiment.py -i ClassD_frames/BlowingBubbles/ -m checkpoints/videocompressor128-msssim.pkl -g 10"
      ],
      "execution_count": null,
      "outputs": [
        {
          "output_type": "stream",
          "text": [
            "Average\n",
            "psnr = 27.22938848,  bpp = 0.20720078, ms-ssim =0.97642398\n"
          ],
          "name": "stdout"
        }
      ]
    },
    {
      "cell_type": "code",
      "metadata": {
        "id": "beYvSt_6KFEt",
        "outputId": "80b108d7-7f8a-48ad-982f-30886baa8ef2",
        "colab": {
          "base_uri": "https://localhost:8080/",
          "height": 54
        }
      },
      "source": [
        "!python experiment.py -i ClassD_frames/BlowingBubbles/ -m checkpoints/videocompressor64-msssim.pkl -g 10"
      ],
      "execution_count": null,
      "outputs": [
        {
          "output_type": "stream",
          "text": [
            "Average\n",
            "psnr = 27.11804748,  bpp = 0.14186065, ms-ssim =0.97383133\n"
          ],
          "name": "stdout"
        }
      ]
    },
    {
      "cell_type": "code",
      "metadata": {
        "id": "QXLHt2lzKFE2",
        "outputId": "4e62d17a-3d87-4039-f89d-7951ebc982ce",
        "colab": {
          "base_uri": "https://localhost:8080/",
          "height": 54
        }
      },
      "source": [
        "!python experiment.py -i ClassD_frames/BlowingBubbles/ -m checkpoints/videocompressor32-msssim.pkl -g 10"
      ],
      "execution_count": null,
      "outputs": [
        {
          "output_type": "stream",
          "text": [
            "Average\n",
            "psnr = 26.99970627,  bpp = 0.10804818, ms-ssim =0.96808557\n"
          ],
          "name": "stdout"
        }
      ]
    },
    {
      "cell_type": "code",
      "metadata": {
        "id": "-B6Cb3kpKFFL",
        "outputId": "a8e574af-828b-4b43-cfbe-49bacd456550",
        "colab": {
          "base_uri": "https://localhost:8080/",
          "height": 54
        }
      },
      "source": [
        "!python experiment.py -i ClassD_frames/BlowingBubbles/ -m checkpoints/videocompressor16-msssim.pkl -g 10"
      ],
      "execution_count": null,
      "outputs": [
        {
          "output_type": "stream",
          "text": [
            "Average\n",
            "psnr = 26.82241607,  bpp = 0.07638548, ms-ssim =0.96546923\n"
          ],
          "name": "stdout"
        }
      ]
    },
    {
      "cell_type": "code",
      "metadata": {
        "id": "3BLqos6aKFFW",
        "outputId": "84b333b9-910b-409c-c416-2dfbf400924c",
        "colab": {
          "base_uri": "https://localhost:8080/",
          "height": 54
        }
      },
      "source": [
        "!python experiment.py -i ClassD_frames/BlowingBubbles/ -m checkpoints/videocompressor8-msssim.pkl -g 10"
      ],
      "execution_count": null,
      "outputs": [
        {
          "output_type": "stream",
          "text": [
            "Average\n",
            "psnr = 26.51878333,  bpp = 0.04572173, ms-ssim =0.96243521\n"
          ],
          "name": "stdout"
        }
      ]
    },
    {
      "cell_type": "code",
      "metadata": {
        "id": "cVgk4MbyKD4i"
      },
      "source": [
        ""
      ],
      "execution_count": null,
      "outputs": []
    },
    {
      "cell_type": "code",
      "metadata": {
        "id": "YVfbCnALKGx8"
      },
      "source": [
        ""
      ],
      "execution_count": null,
      "outputs": []
    },
    {
      "cell_type": "code",
      "metadata": {
        "id": "Mrb4fQlMKHeE",
        "outputId": "70310e8e-1f53-4398-a124-aa6ef75abc02",
        "colab": {
          "base_uri": "https://localhost:8080/",
          "height": 54
        }
      },
      "source": [
        "!python experiment.py -i ClassD_frames/BQSquare/ -m checkpoints/videocompressor8192.pkl -g 10"
      ],
      "execution_count": null,
      "outputs": [
        {
          "output_type": "stream",
          "text": [
            "Average\n",
            "psnr = 29.73390269,  bpp = 0.77450053, ms-ssim =0.99228559\n"
          ],
          "name": "stdout"
        }
      ]
    },
    {
      "cell_type": "code",
      "metadata": {
        "id": "jVWC_6b5KHed",
        "outputId": "7cbb752a-be29-4101-fe20-0c30d554fd07",
        "colab": {
          "base_uri": "https://localhost:8080/",
          "height": 54
        }
      },
      "source": [
        "!python experiment.py -i ClassD_frames/BQSquare/ -m checkpoints/videocompressor4096.pkl -g 10"
      ],
      "execution_count": null,
      "outputs": [
        {
          "output_type": "stream",
          "text": [
            "Average\n",
            "psnr = 29.41931677,  bpp = 0.60337333, ms-ssim =0.99074492\n"
          ],
          "name": "stdout"
        }
      ]
    },
    {
      "cell_type": "code",
      "metadata": {
        "id": "-iJriP3_KHew",
        "outputId": "7600f1a0-1a44-409c-9011-e97a61ffc1b3",
        "colab": {
          "base_uri": "https://localhost:8080/",
          "height": 54
        }
      },
      "source": [
        "!python experiment.py -i ClassD_frames/BQSquare/ -m checkpoints/videocompressor2048.pkl -g 10"
      ],
      "execution_count": null,
      "outputs": [
        {
          "output_type": "stream",
          "text": [
            "Average\n",
            "psnr = 28.30071068,  bpp = 0.43165739, ms-ssim =0.98874524\n"
          ],
          "name": "stdout"
        }
      ]
    },
    {
      "cell_type": "code",
      "metadata": {
        "id": "8lYmPw8kKHfB",
        "outputId": "01b14e2f-9fcb-4aff-8270-32c2f574cba4",
        "colab": {
          "base_uri": "https://localhost:8080/",
          "height": 54
        }
      },
      "source": [
        "!python experiment.py -i ClassD_frames/BQSquare/ -m checkpoints/videocompressor1024.pkl -g 10"
      ],
      "execution_count": null,
      "outputs": [
        {
          "output_type": "stream",
          "text": [
            "Average\n",
            "psnr = 26.53941011,  bpp = 0.20405710, ms-ssim =0.98539712\n"
          ],
          "name": "stdout"
        }
      ]
    },
    {
      "cell_type": "code",
      "metadata": {
        "id": "tpLHMPMlKHfP",
        "outputId": "a1a6b676-3ff3-4171-b932-b48e4374ccca",
        "colab": {
          "base_uri": "https://localhost:8080/",
          "height": 54
        }
      },
      "source": [
        "!python experiment.py -i ClassD_frames/BQSquare/ -m checkpoints/videocompressor512.pkl -g 10"
      ],
      "execution_count": null,
      "outputs": [
        {
          "output_type": "stream",
          "text": [
            "Average\n",
            "psnr = 25.89019585,  bpp = 0.09256843, ms-ssim =0.98373768\n"
          ],
          "name": "stdout"
        }
      ]
    },
    {
      "cell_type": "code",
      "metadata": {
        "id": "_-2NJJqRKHfZ",
        "outputId": "ef4159cb-2351-41ba-f26e-547d39390fe1",
        "colab": {
          "base_uri": "https://localhost:8080/",
          "height": 54
        }
      },
      "source": [
        "!python experiment.py -i ClassD_frames/BQSquare/ -m checkpoints/videocompressor256.pkl -g 10"
      ],
      "execution_count": null,
      "outputs": [
        {
          "output_type": "stream",
          "text": [
            "Average\n",
            "psnr = 25.67943048,  bpp = 0.03454105, ms-ssim =0.98259588\n"
          ],
          "name": "stdout"
        }
      ]
    },
    {
      "cell_type": "code",
      "metadata": {
        "id": "_4XVBMrOKHfj",
        "outputId": "fa435eaa-8581-4839-cb37-427f6e1f4fca",
        "colab": {
          "base_uri": "https://localhost:8080/",
          "height": 54
        }
      },
      "source": [
        "!python experiment.py -i ClassD_frames/BQSquare/ -m checkpoints/videocompressor128.pkl -g 10"
      ],
      "execution_count": null,
      "outputs": [
        {
          "output_type": "stream",
          "text": [
            "Average\n",
            "psnr = 25.47794461,  bpp = 0.01712099, ms-ssim =0.98078445\n"
          ],
          "name": "stdout"
        }
      ]
    },
    {
      "cell_type": "code",
      "metadata": {
        "id": "33qdGC75KHfu",
        "outputId": "34c5e57a-984d-4ff7-a2f8-0c572d3fa47f",
        "colab": {
          "base_uri": "https://localhost:8080/",
          "height": 54
        }
      },
      "source": [
        "!python experiment.py -i ClassD_frames/BQSquare/ -m checkpoints/videocompressor256-msssim.pkl -g 10"
      ],
      "execution_count": null,
      "outputs": [
        {
          "output_type": "stream",
          "text": [
            "Average\n",
            "psnr = 25.80643678,  bpp = 0.38994727, ms-ssim =0.98934559\n"
          ],
          "name": "stdout"
        }
      ]
    },
    {
      "cell_type": "code",
      "metadata": {
        "id": "FLpES8CaKHf3",
        "outputId": "923afbf7-bdf2-4e88-fba0-e0008c46b3c7",
        "colab": {
          "base_uri": "https://localhost:8080/",
          "height": 54
        }
      },
      "source": [
        "!python experiment.py -i ClassD_frames/BQSquare/ -m checkpoints/videocompressor128-msssim.pkl -g 10"
      ],
      "execution_count": null,
      "outputs": [
        {
          "output_type": "stream",
          "text": [
            "Average\n",
            "psnr = 24.51316476,  bpp = 0.17154158, ms-ssim =0.98535076\n"
          ],
          "name": "stdout"
        }
      ]
    },
    {
      "cell_type": "code",
      "metadata": {
        "id": "dv0jeUf4KHf-",
        "outputId": "ec15c4a0-743d-4227-aa35-a2a7a17b6b44",
        "colab": {
          "base_uri": "https://localhost:8080/",
          "height": 54
        }
      },
      "source": [
        "!python experiment.py -i ClassD_frames/BQSquare/ -m checkpoints/videocompressor64-msssim.pkl -g 10"
      ],
      "execution_count": null,
      "outputs": [
        {
          "output_type": "stream",
          "text": [
            "Average\n",
            "psnr = 24.62386441,  bpp = 0.11734909, ms-ssim =0.98476521\n"
          ],
          "name": "stdout"
        }
      ]
    },
    {
      "cell_type": "code",
      "metadata": {
        "id": "Z9kesxChKHgG",
        "outputId": "754dcc32-9fa3-4960-f84a-5e91dbcdce93",
        "colab": {
          "base_uri": "https://localhost:8080/",
          "height": 54
        }
      },
      "source": [
        "!python experiment.py -i ClassD_frames/BQSquare/ -m checkpoints/videocompressor32-msssim.pkl -g 10"
      ],
      "execution_count": null,
      "outputs": [
        {
          "output_type": "stream",
          "text": [
            "Average\n",
            "psnr = 24.20737672,  bpp = 0.08569560, ms-ssim =0.98379572\n"
          ],
          "name": "stdout"
        }
      ]
    },
    {
      "cell_type": "code",
      "metadata": {
        "id": "ys8OlFOBKHgQ",
        "outputId": "d921b2b9-4ec5-4ea5-acd1-659f78bd7ee2",
        "colab": {
          "base_uri": "https://localhost:8080/",
          "height": 54
        }
      },
      "source": [
        "!python experiment.py -i ClassD_frames/BQSquare/ -m checkpoints/videocompressor16-msssim.pkl -g 10"
      ],
      "execution_count": null,
      "outputs": [
        {
          "output_type": "stream",
          "text": [
            "Average\n",
            "psnr = 23.95834446,  bpp = 0.05959760, ms-ssim =0.98238143\n"
          ],
          "name": "stdout"
        }
      ]
    },
    {
      "cell_type": "code",
      "metadata": {
        "id": "M39KwmhDKHgb",
        "outputId": "39edc150-9efb-4aa1-f0b0-fe9b4a49a372",
        "colab": {
          "base_uri": "https://localhost:8080/",
          "height": 54
        }
      },
      "source": [
        "!python experiment.py -i ClassD_frames/BQSquare/ -m checkpoints/videocompressor8-msssim.pkl -g 10"
      ],
      "execution_count": null,
      "outputs": [
        {
          "output_type": "stream",
          "text": [
            "Average\n",
            "psnr = 23.44767380,  bpp = 0.03512104, ms-ssim =0.97984616\n"
          ],
          "name": "stdout"
        }
      ]
    },
    {
      "cell_type": "code",
      "metadata": {
        "id": "ywkhBYvpKG2E"
      },
      "source": [
        ""
      ],
      "execution_count": null,
      "outputs": []
    },
    {
      "cell_type": "code",
      "metadata": {
        "id": "HNyJweYNKIqY"
      },
      "source": [
        ""
      ],
      "execution_count": null,
      "outputs": []
    },
    {
      "cell_type": "code",
      "metadata": {
        "id": "3umbiZszKJH4",
        "outputId": "10e56fbe-8289-4e35-c3e8-4a62d49cec07",
        "colab": {
          "base_uri": "https://localhost:8080/",
          "height": 54
        }
      },
      "source": [
        "!python experiment.py -i ClassD_frames/RaceHorsesD/ -m checkpoints/videocompressor8192.pkl -g 10"
      ],
      "execution_count": null,
      "outputs": [
        {
          "output_type": "stream",
          "text": [
            "Average\n",
            "psnr = 30.81879663,  bpp = 1.14798458, ms-ssim =0.98384238\n"
          ],
          "name": "stdout"
        }
      ]
    },
    {
      "cell_type": "code",
      "metadata": {
        "id": "wZaDhkvSKJIC",
        "outputId": "e16719aa-f5a5-4b6e-a614-4a38e26d2dce",
        "colab": {
          "base_uri": "https://localhost:8080/",
          "height": 54
        }
      },
      "source": [
        "!python experiment.py -i ClassD_frames/RaceHorsesD/ -m checkpoints/videocompressor4096.pkl -g 10"
      ],
      "execution_count": null,
      "outputs": [
        {
          "output_type": "stream",
          "text": [
            "Average\n",
            "psnr = 30.40778947,  bpp = 0.89516982, ms-ssim =0.98053133\n"
          ],
          "name": "stdout"
        }
      ]
    },
    {
      "cell_type": "code",
      "metadata": {
        "id": "2oRjkanoKJIJ",
        "outputId": "fc1017d9-750d-4488-e6a5-c04a4f68debb",
        "colab": {
          "base_uri": "https://localhost:8080/",
          "height": 54
        }
      },
      "source": [
        "!python experiment.py -i ClassD_frames/RaceHorsesD/ -m checkpoints/videocompressor2048.pkl -g 10"
      ],
      "execution_count": null,
      "outputs": [
        {
          "output_type": "stream",
          "text": [
            "Average\n",
            "psnr = 29.07980299,  bpp = 0.61653316, ms-ssim =0.97149120\n"
          ],
          "name": "stdout"
        }
      ]
    },
    {
      "cell_type": "code",
      "metadata": {
        "id": "7nl5-xRRKJIP",
        "outputId": "e8f4e15e-f545-4f5d-dac0-4a665d8ef5b2",
        "colab": {
          "base_uri": "https://localhost:8080/",
          "height": 54
        }
      },
      "source": [
        "!python experiment.py -i ClassD_frames/RaceHorsesD/ -m checkpoints/videocompressor1024.pkl -g 10"
      ],
      "execution_count": null,
      "outputs": [
        {
          "output_type": "stream",
          "text": [
            "Average\n",
            "psnr = 27.51776195,  bpp = 0.36211074, ms-ssim =0.95886751\n"
          ],
          "name": "stdout"
        }
      ]
    },
    {
      "cell_type": "code",
      "metadata": {
        "id": "slxWjZYYKJIX",
        "outputId": "8599c2a4-69c6-49f2-f99a-b3b53b020d98",
        "colab": {
          "base_uri": "https://localhost:8080/",
          "height": 54
        }
      },
      "source": [
        "!python experiment.py -i ClassD_frames/RaceHorsesD/ -m checkpoints/videocompressor512.pkl -g 10"
      ],
      "execution_count": null,
      "outputs": [
        {
          "output_type": "stream",
          "text": [
            "Average\n",
            "psnr = 26.04842567,  bpp = 0.21424973, ms-ssim =0.94337220\n"
          ],
          "name": "stdout"
        }
      ]
    },
    {
      "cell_type": "code",
      "metadata": {
        "id": "lP7Ue4n3KJIe",
        "outputId": "8b768dd7-edf2-429a-d202-9dca5a2e97a4",
        "colab": {
          "base_uri": "https://localhost:8080/",
          "height": 54
        }
      },
      "source": [
        "!python experiment.py -i ClassD_frames/RaceHorsesD/ -m checkpoints/videocompressor256.pkl -g 10"
      ],
      "execution_count": null,
      "outputs": [
        {
          "output_type": "stream",
          "text": [
            "Average\n",
            "psnr = 24.75762701,  bpp = 0.12622460, ms-ssim =0.92515870\n"
          ],
          "name": "stdout"
        }
      ]
    },
    {
      "cell_type": "code",
      "metadata": {
        "id": "CkIRrHBCKJIj",
        "outputId": "77de8af2-2aea-4f41-e878-dfbcc0b48f05",
        "colab": {
          "base_uri": "https://localhost:8080/",
          "height": 54
        }
      },
      "source": [
        "!python experiment.py -i ClassD_frames/RaceHorsesD/ -m checkpoints/videocompressor128.pkl -g 10"
      ],
      "execution_count": null,
      "outputs": [
        {
          "output_type": "stream",
          "text": [
            "Average\n",
            "psnr = 23.44554329,  bpp = 0.06827470, ms-ssim =0.89808769\n"
          ],
          "name": "stdout"
        }
      ]
    },
    {
      "cell_type": "code",
      "metadata": {
        "id": "ySEstmVZKJIn",
        "outputId": "ad86741a-de8c-4fa3-c668-f6adbf5d3a4d",
        "colab": {
          "base_uri": "https://localhost:8080/",
          "height": 54
        }
      },
      "source": [
        "!python experiment.py -i ClassD_frames/RaceHorsesD/ -m checkpoints/videocompressor256-msssim.pkl -g 10"
      ],
      "execution_count": null,
      "outputs": [
        {
          "output_type": "stream",
          "text": [
            "Average\n",
            "psnr = 26.88548827,  bpp = 0.59852293, ms-ssim =0.97755359\n"
          ],
          "name": "stdout"
        }
      ]
    },
    {
      "cell_type": "code",
      "metadata": {
        "id": "pGF1h9lpKJIt",
        "outputId": "746e1d5d-7e49-469e-f1ff-e2f2e1bac4db",
        "colab": {
          "base_uri": "https://localhost:8080/",
          "height": 54
        }
      },
      "source": [
        "!python experiment.py -i ClassD_frames/RaceHorsesD/ -m checkpoints/videocompressor128-msssim.pkl -g 10"
      ],
      "execution_count": null,
      "outputs": [
        {
          "output_type": "stream",
          "text": [
            "Average\n",
            "psnr = 24.77387500,  bpp = 0.31342754, ms-ssim =0.95532034\n"
          ],
          "name": "stdout"
        }
      ]
    },
    {
      "cell_type": "code",
      "metadata": {
        "id": "_weVq5XMKJIz",
        "outputId": "7bde2525-6a78-4d01-da72-b88976bd2e87",
        "colab": {
          "base_uri": "https://localhost:8080/",
          "height": 54
        }
      },
      "source": [
        "!python experiment.py -i ClassD_frames/RaceHorsesD/ -m checkpoints/videocompressor64-msssim.pkl -g 10"
      ],
      "execution_count": null,
      "outputs": [
        {
          "output_type": "stream",
          "text": [
            "Average\n",
            "psnr = 24.46053576,  bpp = 0.22379267, ms-ssim =0.94951554\n"
          ],
          "name": "stdout"
        }
      ]
    },
    {
      "cell_type": "code",
      "metadata": {
        "id": "UN_hgiUAKJI8",
        "outputId": "576b4c89-2761-4ebf-b55b-f032652ba789",
        "colab": {
          "base_uri": "https://localhost:8080/",
          "height": 54
        }
      },
      "source": [
        "!python experiment.py -i ClassD_frames/RaceHorsesD/ -m checkpoints/videocompressor32-msssim.pkl -g 10"
      ],
      "execution_count": null,
      "outputs": [
        {
          "output_type": "stream",
          "text": [
            "Average\n",
            "psnr = 24.46572304,  bpp = 0.18378314, ms-ssim =0.94154689\n"
          ],
          "name": "stdout"
        }
      ]
    },
    {
      "cell_type": "code",
      "metadata": {
        "id": "ruxtjk4XKJJB",
        "outputId": "acf023b9-4d3c-465d-c8fe-5855bb75badb",
        "colab": {
          "base_uri": "https://localhost:8080/",
          "height": 54
        }
      },
      "source": [
        "!python experiment.py -i ClassD_frames/RaceHorsesD/ -m checkpoints/videocompressor16-msssim.pkl -g 10"
      ],
      "execution_count": null,
      "outputs": [
        {
          "output_type": "stream",
          "text": [
            "Average\n",
            "psnr = 24.32814646,  bpp = 0.14695434, ms-ssim =0.93794125\n"
          ],
          "name": "stdout"
        }
      ]
    },
    {
      "cell_type": "code",
      "metadata": {
        "id": "I-orPdFSKJJH",
        "outputId": "49858a10-4a94-46f9-b110-b9fba5e1f1a5",
        "colab": {
          "base_uri": "https://localhost:8080/",
          "height": 54
        }
      },
      "source": [
        "!python experiment.py -i ClassD_frames/RaceHorsesD/ -m checkpoints/videocompressor8-msssim.pkl -g 10"
      ],
      "execution_count": null,
      "outputs": [
        {
          "output_type": "stream",
          "text": [
            "Average\n",
            "psnr = 23.94828439,  bpp = 0.10287362, ms-ssim =0.93008380\n"
          ],
          "name": "stdout"
        }
      ]
    },
    {
      "cell_type": "code",
      "metadata": {
        "id": "0ILGeMJAKItU"
      },
      "source": [
        ""
      ],
      "execution_count": null,
      "outputs": []
    }
  ]
}