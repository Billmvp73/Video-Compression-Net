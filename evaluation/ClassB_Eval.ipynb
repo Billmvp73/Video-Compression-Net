{
  "nbformat": 4,
  "nbformat_minor": 0,
  "metadata": {
    "colab": {
      "name": "ClassB_Eval.ipynb",
      "provenance": []
    },
    "kernelspec": {
      "name": "python3",
      "display_name": "Python 3"
    },
    "accelerator": "GPU"
  },
  "cells": [
    {
      "cell_type": "code",
      "metadata": {
        "id": "V03kdcL79nzE",
        "outputId": "9a28b755-2256-4e38-9197-72c1be00917c",
        "colab": {
          "base_uri": "https://localhost:8080/",
          "height": 992
        }
      },
      "source": [
        "!pip install tensorflow-gpu==1.15"
      ],
      "execution_count": null,
      "outputs": [
        {
          "output_type": "stream",
          "text": [
            "Collecting tensorflow-gpu==1.15\n",
            "\u001b[?25l  Downloading https://files.pythonhosted.org/packages/a5/ad/933140e74973fb917a194ab814785e7c23680ca5dee6d663a509fe9579b6/tensorflow_gpu-1.15.0-cp36-cp36m-manylinux2010_x86_64.whl (411.5MB)\n",
            "\u001b[K     |████████████████████████████████| 411.5MB 39kB/s \n",
            "\u001b[?25hCollecting gast==0.2.2\n",
            "  Downloading https://files.pythonhosted.org/packages/4e/35/11749bf99b2d4e3cceb4d55ca22590b0d7c2c62b9de38ac4a4a7f4687421/gast-0.2.2.tar.gz\n",
            "Collecting keras-applications>=1.0.8\n",
            "\u001b[?25l  Downloading https://files.pythonhosted.org/packages/71/e3/19762fdfc62877ae9102edf6342d71b28fbfd9dea3d2f96a882ce099b03f/Keras_Applications-1.0.8-py3-none-any.whl (50kB)\n",
            "\u001b[K     |████████████████████████████████| 51kB 7.7MB/s \n",
            "\u001b[?25hRequirement already satisfied: wrapt>=1.11.1 in /usr/local/lib/python3.6/dist-packages (from tensorflow-gpu==1.15) (1.12.1)\n",
            "Collecting tensorboard<1.16.0,>=1.15.0\n",
            "\u001b[?25l  Downloading https://files.pythonhosted.org/packages/1e/e9/d3d747a97f7188f48aa5eda486907f3b345cd409f0a0850468ba867db246/tensorboard-1.15.0-py3-none-any.whl (3.8MB)\n",
            "\u001b[K     |████████████████████████████████| 3.8MB 50.7MB/s \n",
            "\u001b[?25hRequirement already satisfied: grpcio>=1.8.6 in /usr/local/lib/python3.6/dist-packages (from tensorflow-gpu==1.15) (1.32.0)\n",
            "Collecting tensorflow-estimator==1.15.1\n",
            "\u001b[?25l  Downloading https://files.pythonhosted.org/packages/de/62/2ee9cd74c9fa2fa450877847ba560b260f5d0fb70ee0595203082dafcc9d/tensorflow_estimator-1.15.1-py2.py3-none-any.whl (503kB)\n",
            "\u001b[K     |████████████████████████████████| 512kB 49.4MB/s \n",
            "\u001b[?25hRequirement already satisfied: astor>=0.6.0 in /usr/local/lib/python3.6/dist-packages (from tensorflow-gpu==1.15) (0.8.1)\n",
            "Requirement already satisfied: six>=1.10.0 in /usr/local/lib/python3.6/dist-packages (from tensorflow-gpu==1.15) (1.15.0)\n",
            "Requirement already satisfied: protobuf>=3.6.1 in /usr/local/lib/python3.6/dist-packages (from tensorflow-gpu==1.15) (3.12.4)\n",
            "Requirement already satisfied: termcolor>=1.1.0 in /usr/local/lib/python3.6/dist-packages (from tensorflow-gpu==1.15) (1.1.0)\n",
            "Requirement already satisfied: wheel>=0.26 in /usr/local/lib/python3.6/dist-packages (from tensorflow-gpu==1.15) (0.35.1)\n",
            "Requirement already satisfied: numpy<2.0,>=1.16.0 in /usr/local/lib/python3.6/dist-packages (from tensorflow-gpu==1.15) (1.18.5)\n",
            "Requirement already satisfied: keras-preprocessing>=1.0.5 in /usr/local/lib/python3.6/dist-packages (from tensorflow-gpu==1.15) (1.1.2)\n",
            "Requirement already satisfied: absl-py>=0.7.0 in /usr/local/lib/python3.6/dist-packages (from tensorflow-gpu==1.15) (0.10.0)\n",
            "Requirement already satisfied: opt-einsum>=2.3.2 in /usr/local/lib/python3.6/dist-packages (from tensorflow-gpu==1.15) (3.3.0)\n",
            "Requirement already satisfied: google-pasta>=0.1.6 in /usr/local/lib/python3.6/dist-packages (from tensorflow-gpu==1.15) (0.2.0)\n",
            "Requirement already satisfied: h5py in /usr/local/lib/python3.6/dist-packages (from keras-applications>=1.0.8->tensorflow-gpu==1.15) (2.10.0)\n",
            "Requirement already satisfied: markdown>=2.6.8 in /usr/local/lib/python3.6/dist-packages (from tensorboard<1.16.0,>=1.15.0->tensorflow-gpu==1.15) (3.2.2)\n",
            "Requirement already satisfied: setuptools>=41.0.0 in /usr/local/lib/python3.6/dist-packages (from tensorboard<1.16.0,>=1.15.0->tensorflow-gpu==1.15) (50.3.0)\n",
            "Requirement already satisfied: werkzeug>=0.11.15 in /usr/local/lib/python3.6/dist-packages (from tensorboard<1.16.0,>=1.15.0->tensorflow-gpu==1.15) (1.0.1)\n",
            "Requirement already satisfied: importlib-metadata; python_version < \"3.8\" in /usr/local/lib/python3.6/dist-packages (from markdown>=2.6.8->tensorboard<1.16.0,>=1.15.0->tensorflow-gpu==1.15) (2.0.0)\n",
            "Requirement already satisfied: zipp>=0.5 in /usr/local/lib/python3.6/dist-packages (from importlib-metadata; python_version < \"3.8\"->markdown>=2.6.8->tensorboard<1.16.0,>=1.15.0->tensorflow-gpu==1.15) (3.2.0)\n",
            "Building wheels for collected packages: gast\n",
            "  Building wheel for gast (setup.py) ... \u001b[?25l\u001b[?25hdone\n",
            "  Created wheel for gast: filename=gast-0.2.2-cp36-none-any.whl size=7542 sha256=100509713ef4cd7b399974152ef9b831752658bf88fbbc750a576f3cec92fd26\n",
            "  Stored in directory: /root/.cache/pip/wheels/5c/2e/7e/a1d4d4fcebe6c381f378ce7743a3ced3699feb89bcfbdadadd\n",
            "Successfully built gast\n",
            "\u001b[31mERROR: tensorflow 2.3.0 has requirement gast==0.3.3, but you'll have gast 0.2.2 which is incompatible.\u001b[0m\n",
            "\u001b[31mERROR: tensorflow 2.3.0 has requirement tensorboard<3,>=2.3.0, but you'll have tensorboard 1.15.0 which is incompatible.\u001b[0m\n",
            "\u001b[31mERROR: tensorflow 2.3.0 has requirement tensorflow-estimator<2.4.0,>=2.3.0, but you'll have tensorflow-estimator 1.15.1 which is incompatible.\u001b[0m\n",
            "\u001b[31mERROR: tensorflow-probability 0.11.0 has requirement gast>=0.3.2, but you'll have gast 0.2.2 which is incompatible.\u001b[0m\n",
            "Installing collected packages: gast, keras-applications, tensorboard, tensorflow-estimator, tensorflow-gpu\n",
            "  Found existing installation: gast 0.3.3\n",
            "    Uninstalling gast-0.3.3:\n",
            "      Successfully uninstalled gast-0.3.3\n",
            "  Found existing installation: tensorboard 2.3.0\n",
            "    Uninstalling tensorboard-2.3.0:\n",
            "      Successfully uninstalled tensorboard-2.3.0\n",
            "  Found existing installation: tensorflow-estimator 2.3.0\n",
            "    Uninstalling tensorflow-estimator-2.3.0:\n",
            "      Successfully uninstalled tensorflow-estimator-2.3.0\n",
            "Successfully installed gast-0.2.2 keras-applications-1.0.8 tensorboard-1.15.0 tensorflow-estimator-1.15.1 tensorflow-gpu-1.15.0\n"
          ],
          "name": "stdout"
        }
      ]
    },
    {
      "cell_type": "code",
      "metadata": {
        "id": "H3qlKkfs8dXy",
        "outputId": "bbfea1a0-ce8b-4ed5-cd9d-c1774cfd62ee",
        "colab": {
          "base_uri": "https://localhost:8080/",
          "height": 166
        }
      },
      "source": [
        "!pip install tensorflow-compression"
      ],
      "execution_count": null,
      "outputs": [
        {
          "output_type": "stream",
          "text": [
            "Collecting tensorflow-compression\n",
            "\u001b[?25l  Downloading https://files.pythonhosted.org/packages/78/7c/6303a295ac9e9040eaf11e1f7ed8c18cf94e4698c17e36541b4143fce1d5/tensorflow_compression-1.3-cp36-cp36m-manylinux2010_x86_64.whl (121kB)\n",
            "\r\u001b[K     |██▊                             | 10kB 20.9MB/s eta 0:00:01\r\u001b[K     |█████▍                          | 20kB 3.0MB/s eta 0:00:01\r\u001b[K     |████████                        | 30kB 4.0MB/s eta 0:00:01\r\u001b[K     |██████████▉                     | 40kB 4.3MB/s eta 0:00:01\r\u001b[K     |█████████████▌                  | 51kB 3.5MB/s eta 0:00:01\r\u001b[K     |████████████████▏               | 61kB 3.9MB/s eta 0:00:01\r\u001b[K     |██████████████████▉             | 71kB 4.3MB/s eta 0:00:01\r\u001b[K     |█████████████████████▋          | 81kB 4.5MB/s eta 0:00:01\r\u001b[K     |████████████████████████▎       | 92kB 4.9MB/s eta 0:00:01\r\u001b[K     |███████████████████████████     | 102kB 4.7MB/s eta 0:00:01\r\u001b[K     |█████████████████████████████▋  | 112kB 4.7MB/s eta 0:00:01\r\u001b[K     |████████████████████████████████| 122kB 4.7MB/s \n",
            "\u001b[?25hRequirement already satisfied: scipy>=1 in /usr/local/lib/python3.6/dist-packages (from tensorflow-compression) (1.4.1)\n",
            "Requirement already satisfied: numpy>=1.13.3 in /usr/local/lib/python3.6/dist-packages (from scipy>=1->tensorflow-compression) (1.18.5)\n",
            "Installing collected packages: tensorflow-compression\n",
            "Successfully installed tensorflow-compression-1.3\n"
          ],
          "name": "stdout"
        }
      ]
    },
    {
      "cell_type": "code",
      "metadata": {
        "id": "l9MMLUpf9Qk_",
        "outputId": "5fe6773a-473f-489d-d4a3-e234c5407460",
        "colab": {
          "base_uri": "https://localhost:8080/",
          "height": 35
        }
      },
      "source": [
        "%cd /content/drive/My Drive/Video_Compression_Using_Deep_Neural_Network/JCT-VC"
      ],
      "execution_count": null,
      "outputs": [
        {
          "output_type": "stream",
          "text": [
            "/content/drive/My Drive/Video_Compression_Using_Deep_Neural_Network/JCT-VC\n"
          ],
          "name": "stdout"
        }
      ]
    },
    {
      "cell_type": "code",
      "metadata": {
        "id": "_1yoGhnf902j"
      },
      "source": [
        ""
      ],
      "execution_count": null,
      "outputs": []
    },
    {
      "cell_type": "code",
      "metadata": {
        "id": "uVYPbfdPOSJc"
      },
      "source": [
        ""
      ],
      "execution_count": null,
      "outputs": []
    },
    {
      "cell_type": "markdown",
      "metadata": {
        "id": "RrmmAlxuGwbo"
      },
      "source": [
        "# Ours"
      ]
    },
    {
      "cell_type": "code",
      "metadata": {
        "id": "vdbdP-1NfeRf",
        "outputId": "f0aa0b2c-95a5-457e-e05b-4ef244fdc73b",
        "colab": {
          "base_uri": "https://localhost:8080/",
          "height": 53
        }
      },
      "source": [
        "!python experiment.py -i ClassB_frames/BasketballDrive/ -m checkpoints/videocompressor8192.pkl -g 12"
      ],
      "execution_count": null,
      "outputs": [
        {
          "output_type": "stream",
          "text": [
            "Average\n",
            "psnr = 35.51208076,  bpp = 0.82739826, ms-ssim =0.97424636\n"
          ],
          "name": "stdout"
        }
      ]
    },
    {
      "cell_type": "code",
      "metadata": {
        "id": "5e3GhvuzfeR8",
        "outputId": "5a16a347-dbf8-449c-c58d-42e5a9b0c328",
        "colab": {
          "base_uri": "https://localhost:8080/",
          "height": 53
        }
      },
      "source": [
        "!python experiment.py -i ClassB_frames/BasketballDrive/ -m checkpoints/videocompressor4096.pkl -g 12"
      ],
      "execution_count": null,
      "outputs": [
        {
          "output_type": "stream",
          "text": [
            "Average\n",
            "psnr = 34.63755341,  bpp = 0.41573462, ms-ssim =0.96483341\n"
          ],
          "name": "stdout"
        }
      ]
    },
    {
      "cell_type": "code",
      "metadata": {
        "id": "X0EFTzv7feSM",
        "outputId": "6aa47134-383d-4c56-e7c8-48c2a30224e7",
        "colab": {
          "base_uri": "https://localhost:8080/",
          "height": 53
        }
      },
      "source": [
        "!python experiment.py -i ClassB_frames/BasketballDrive/ -m checkpoints/videocompressor2048.pkl -g 12"
      ],
      "execution_count": null,
      "outputs": [
        {
          "output_type": "stream",
          "text": [
            "Average\n",
            "psnr = 33.42007370,  bpp = 0.26713964, ms-ssim =0.95230221\n"
          ],
          "name": "stdout"
        }
      ]
    },
    {
      "cell_type": "code",
      "metadata": {
        "id": "fy_-AnCKfeSa",
        "outputId": "305d54f6-2c75-4529-881c-d5b5b4220c36",
        "colab": {
          "base_uri": "https://localhost:8080/",
          "height": 53
        }
      },
      "source": [
        "!python experiment.py -i ClassB_frames/BasketballDrive/ -m checkpoints/videocompressor1024.pkl -g 12"
      ],
      "execution_count": null,
      "outputs": [
        {
          "output_type": "stream",
          "text": [
            "Average\n",
            "psnr = 32.34766884,  bpp = 0.19075356, ms-ssim =0.93883694\n"
          ],
          "name": "stdout"
        }
      ]
    },
    {
      "cell_type": "code",
      "metadata": {
        "id": "wmK0jAjlfeSp",
        "outputId": "f866a340-a2d5-4a54-8d13-e6a6e7118e5d",
        "colab": {
          "base_uri": "https://localhost:8080/",
          "height": 53
        }
      },
      "source": [
        "!python experiment.py -i ClassB_frames/BasketballDrive/ -m checkpoints/videocompressor512.pkl -g 12"
      ],
      "execution_count": null,
      "outputs": [
        {
          "output_type": "stream",
          "text": [
            "Average\n",
            "psnr = 30.82079029,  bpp = 0.13428575, ms-ssim =0.91932544\n"
          ],
          "name": "stdout"
        }
      ]
    },
    {
      "cell_type": "code",
      "metadata": {
        "id": "LUhx-71cfeS3",
        "outputId": "13aa2a7c-bc5c-4b81-c639-b695dd0123a9",
        "colab": {
          "base_uri": "https://localhost:8080/",
          "height": 53
        }
      },
      "source": [
        "!python experiment.py -i ClassB_frames/BasketballDrive/ -m checkpoints/videocompressor256.pkl -g 12"
      ],
      "execution_count": null,
      "outputs": [
        {
          "output_type": "stream",
          "text": [
            "Average\n",
            "psnr = 29.14596767,  bpp = 0.09284194, ms-ssim =0.89256655\n"
          ],
          "name": "stdout"
        }
      ]
    },
    {
      "cell_type": "code",
      "metadata": {
        "id": "QaZZns99feTE",
        "outputId": "0cef7c20-f3e5-487c-e58a-f808414b845f",
        "colab": {
          "base_uri": "https://localhost:8080/",
          "height": 53
        }
      },
      "source": [
        "!python experiment.py -i ClassB_frames/BasketballDrive/ -m checkpoints/videocompressor128.pkl -g 12"
      ],
      "execution_count": null,
      "outputs": [
        {
          "output_type": "stream",
          "text": [
            "Average\n",
            "psnr = 25.07712650,  bpp = 0.05531659, ms-ssim =0.85280507\n"
          ],
          "name": "stdout"
        }
      ]
    },
    {
      "cell_type": "code",
      "metadata": {
        "id": "t8nIKPNefeTQ",
        "outputId": "9a18c1c7-df30-4e82-f796-2f66f35e99f4",
        "colab": {
          "base_uri": "https://localhost:8080/",
          "height": 54
        }
      },
      "source": [
        "!python experiment.py -i ClassB_frames/BasketballDrive/ -m checkpoints/videocompressor256-msssim.pkl -g 12"
      ],
      "execution_count": null,
      "outputs": [
        {
          "output_type": "stream",
          "text": [
            "Average\n",
            "psnr = 32.65917969,  bpp = 0.51737642, ms-ssim =0.97549856\n"
          ],
          "name": "stdout"
        }
      ]
    },
    {
      "cell_type": "code",
      "metadata": {
        "id": "14qTuG20feTY",
        "outputId": "77126e24-3143-4b34-a4a3-d8f6d00093d2",
        "colab": {
          "base_uri": "https://localhost:8080/",
          "height": 54
        }
      },
      "source": [
        "!python experiment.py -i ClassB_frames/BasketballDrive/ -m checkpoints/videocompressor128-msssim.pkl -g 12"
      ],
      "execution_count": null,
      "outputs": [
        {
          "output_type": "stream",
          "text": [
            "Average\n",
            "psnr = 26.17689762,  bpp = 0.26600866, ms-ssim =0.94875013\n"
          ],
          "name": "stdout"
        }
      ]
    },
    {
      "cell_type": "code",
      "metadata": {
        "id": "1n4mKqFOfeTk",
        "outputId": "cbc31b0d-1000-4c85-ef01-0fd32467dff1",
        "colab": {
          "base_uri": "https://localhost:8080/",
          "height": 54
        }
      },
      "source": [
        "!python experiment.py -i ClassB_frames/BasketballDrive/ -m checkpoints/videocompressor64-msssim.pkl -g 12"
      ],
      "execution_count": null,
      "outputs": [
        {
          "output_type": "stream",
          "text": [
            "Average\n",
            "psnr = 26.13146553,  bpp = 0.19936675, ms-ssim =0.94533365\n"
          ],
          "name": "stdout"
        }
      ]
    },
    {
      "cell_type": "code",
      "metadata": {
        "id": "3Vtf2z5kfeTv",
        "outputId": "900116e9-530d-4818-c560-8e8012fc3e05",
        "colab": {
          "base_uri": "https://localhost:8080/",
          "height": 53
        }
      },
      "source": [
        "!python experiment.py -i ClassB_frames/BasketballDrive/ -m checkpoints/videocompressor32-msssim.pkl -g 12"
      ],
      "execution_count": null,
      "outputs": [
        {
          "output_type": "stream",
          "text": [
            "Average\n",
            "psnr = 26.49288101,  bpp = 0.16247552, ms-ssim =0.94007354\n"
          ],
          "name": "stdout"
        }
      ]
    },
    {
      "cell_type": "code",
      "metadata": {
        "id": "dNvbv5u-feT8",
        "outputId": "ee66dc8d-4dbe-40cc-fd9a-cef900010026",
        "colab": {
          "base_uri": "https://localhost:8080/",
          "height": 53
        }
      },
      "source": [
        "!python experiment.py -i ClassB_frames/BasketballDrive/ -m checkpoints/videocompressor16-msssim.pkl -g 12"
      ],
      "execution_count": null,
      "outputs": [
        {
          "output_type": "stream",
          "text": [
            "Average\n",
            "psnr = 26.12423935,  bpp = 0.12419353, ms-ssim =0.93408741\n"
          ],
          "name": "stdout"
        }
      ]
    },
    {
      "cell_type": "code",
      "metadata": {
        "id": "nigri1bGfeUG",
        "outputId": "2b25e2cc-f952-49d4-86e7-a3e082e5fe45",
        "colab": {
          "base_uri": "https://localhost:8080/",
          "height": 53
        }
      },
      "source": [
        "!python experiment.py -i ClassB_frames/BasketballDrive/ -m checkpoints/videocompressor8-msssim.pkl -g 12"
      ],
      "execution_count": null,
      "outputs": [
        {
          "output_type": "stream",
          "text": [
            "Average\n",
            "psnr = 25.77417240,  bpp = 0.08863450, ms-ssim =0.92394196\n"
          ],
          "name": "stdout"
        }
      ]
    },
    {
      "cell_type": "code",
      "metadata": {
        "id": "DhEjIK3JgA6i"
      },
      "source": [
        ""
      ],
      "execution_count": null,
      "outputs": []
    },
    {
      "cell_type": "code",
      "metadata": {
        "id": "UFEDXWSagB4T",
        "outputId": "8e8888cc-fb2c-4863-f444-a4ebbef888f5",
        "colab": {
          "base_uri": "https://localhost:8080/",
          "height": 53
        }
      },
      "source": [
        "!python experiment.py -i ClassB_frames/BQTerrace/ -m checkpoints/videocompressor8192.pkl -g 12"
      ],
      "execution_count": null,
      "outputs": [
        {
          "output_type": "stream",
          "text": [
            "Average\n",
            "psnr = 33.21353760,  bpp = 0.89496068, ms-ssim =0.98422855\n"
          ],
          "name": "stdout"
        }
      ]
    },
    {
      "cell_type": "code",
      "metadata": {
        "id": "XUUDEaGVgB4i",
        "outputId": "15cbeb45-e47f-4c47-b65e-6a9e78a7ec1e",
        "colab": {
          "base_uri": "https://localhost:8080/",
          "height": 53
        }
      },
      "source": [
        "!python experiment.py -i ClassB_frames/BQTerrace/ -m checkpoints/videocompressor4096.pkl -g 12"
      ],
      "execution_count": null,
      "outputs": [
        {
          "output_type": "stream",
          "text": [
            "Average\n",
            "psnr = 32.49511414,  bpp = 0.60169202, ms-ssim =0.97843657\n"
          ],
          "name": "stdout"
        }
      ]
    },
    {
      "cell_type": "code",
      "metadata": {
        "id": "OpY3gqb5gB4t",
        "outputId": "99bd38e7-b156-4b35-c1b4-f5ca23b06957",
        "colab": {
          "base_uri": "https://localhost:8080/",
          "height": 53
        }
      },
      "source": [
        "!python experiment.py -i ClassB_frames/BQTerrace/ -m checkpoints/videocompressor2048.pkl -g 12"
      ],
      "execution_count": null,
      "outputs": [
        {
          "output_type": "stream",
          "text": [
            "Average\n",
            "psnr = 31.08584805,  bpp = 0.37369034, ms-ssim =0.97141788\n"
          ],
          "name": "stdout"
        }
      ]
    },
    {
      "cell_type": "code",
      "metadata": {
        "id": "1oBwr6j0gB46",
        "outputId": "98bc81ec-2376-4409-a252-72beda54dc6b",
        "colab": {
          "base_uri": "https://localhost:8080/",
          "height": 53
        }
      },
      "source": [
        "!python experiment.py -i ClassB_frames/BQTerrace/ -m checkpoints/videocompressor1024.pkl -g 12"
      ],
      "execution_count": null,
      "outputs": [
        {
          "output_type": "stream",
          "text": [
            "Average\n",
            "psnr = 29.45482616,  bpp = 0.19639866, ms-ssim =0.96446614\n"
          ],
          "name": "stdout"
        }
      ]
    },
    {
      "cell_type": "code",
      "metadata": {
        "id": "KEMKL_vcgB5E",
        "outputId": "36e38fa9-00c3-47d1-ee78-7c65b0aecbb6",
        "colab": {
          "base_uri": "https://localhost:8080/",
          "height": 53
        }
      },
      "source": [
        "!python experiment.py -i ClassB_frames/BQTerrace/ -m checkpoints/videocompressor512.pkl -g 12"
      ],
      "execution_count": null,
      "outputs": [
        {
          "output_type": "stream",
          "text": [
            "Average\n",
            "psnr = 28.11529102,  bpp = 0.09448820, ms-ssim =0.95644612\n"
          ],
          "name": "stdout"
        }
      ]
    },
    {
      "cell_type": "code",
      "metadata": {
        "id": "xBsv9vAzgB5R",
        "outputId": "eab094fb-0ccb-466e-849d-4308ec4c4cd1",
        "colab": {
          "base_uri": "https://localhost:8080/",
          "height": 53
        }
      },
      "source": [
        "!python experiment.py -i ClassB_frames/BQTerrace/ -m checkpoints/videocompressor256.pkl -g 12"
      ],
      "execution_count": null,
      "outputs": [
        {
          "output_type": "stream",
          "text": [
            "Average\n",
            "psnr = 27.28640537,  bpp = 0.03939237, ms-ssim =0.95126011\n"
          ],
          "name": "stdout"
        }
      ]
    },
    {
      "cell_type": "code",
      "metadata": {
        "id": "4-9_W41TgB5c",
        "outputId": "18b433c0-9de4-4ff1-d67c-64099c1bb394",
        "colab": {
          "base_uri": "https://localhost:8080/",
          "height": 53
        }
      },
      "source": [
        "!python experiment.py -i ClassB_frames/BQTerrace/ -m checkpoints/videocompressor128.pkl -g 12"
      ],
      "execution_count": null,
      "outputs": [
        {
          "output_type": "stream",
          "text": [
            "Average\n",
            "psnr = 27.28067169,  bpp = 0.01695408, ms-ssim =0.95110021\n"
          ],
          "name": "stdout"
        }
      ]
    },
    {
      "cell_type": "code",
      "metadata": {
        "id": "SWofP10-gB5m",
        "outputId": "2e155d69-2c7e-4569-80eb-5a40998475e0",
        "colab": {
          "base_uri": "https://localhost:8080/",
          "height": 54
        }
      },
      "source": [
        "!python experiment.py -i ClassB_frames/BQTerrace/ -m checkpoints/videocompressor256-msssim.pkl -g 12"
      ],
      "execution_count": null,
      "outputs": [
        {
          "output_type": "stream",
          "text": [
            "Average\n",
            "psnr = 28.55336552,  bpp = 0.47968353, ms-ssim =0.98000871\n"
          ],
          "name": "stdout"
        }
      ]
    },
    {
      "cell_type": "code",
      "metadata": {
        "id": "tc-MSSvngB5s",
        "outputId": "3f841779-df01-4976-aaff-b23c539688d9",
        "colab": {
          "base_uri": "https://localhost:8080/",
          "height": 54
        }
      },
      "source": [
        "!python experiment.py -i ClassB_frames/BQTerrace/ -m checkpoints/videocompressor128-msssim.pkl -g 12"
      ],
      "execution_count": null,
      "outputs": [
        {
          "output_type": "stream",
          "text": [
            "Average\n",
            "psnr = 26.84686775,  bpp = 0.20895499, ms-ssim =0.96664920\n"
          ],
          "name": "stdout"
        }
      ]
    },
    {
      "cell_type": "code",
      "metadata": {
        "id": "wBsMIyoCgB53",
        "outputId": "fc7dc81e-3ff9-400b-daf3-e3567c9c979d",
        "colab": {
          "base_uri": "https://localhost:8080/",
          "height": 54
        }
      },
      "source": [
        "!python experiment.py -i ClassB_frames/BQTerrace/ -m checkpoints/videocompressor64-msssim.pkl -g 12"
      ],
      "execution_count": null,
      "outputs": [
        {
          "output_type": "stream",
          "text": [
            "Average\n",
            "psnr = 26.71323490,  bpp = 0.14160834, ms-ssim =0.96383527\n"
          ],
          "name": "stdout"
        }
      ]
    },
    {
      "cell_type": "code",
      "metadata": {
        "id": "e6EbyJ1CgB5_",
        "outputId": "a26af81a-a1ed-4d8e-814b-65a20d90efad",
        "colab": {
          "base_uri": "https://localhost:8080/",
          "height": 53
        }
      },
      "source": [
        "!python experiment.py -i ClassB_frames/BQTerrace/ -m checkpoints/videocompressor32-msssim.pkl -g 12"
      ],
      "execution_count": null,
      "outputs": [
        {
          "output_type": "stream",
          "text": [
            "Average\n",
            "psnr = 26.59187069,  bpp = 0.10464483, ms-ssim =0.95783425\n"
          ],
          "name": "stdout"
        }
      ]
    },
    {
      "cell_type": "code",
      "metadata": {
        "id": "_iLJnbUrgB6J",
        "outputId": "812093c5-3896-4b09-cda9-d33638a9172e",
        "colab": {
          "base_uri": "https://localhost:8080/",
          "height": 53
        }
      },
      "source": [
        "!python experiment.py -i ClassB_frames/BQTerrace/ -m checkpoints/videocompressor16-msssim.pkl -g 12"
      ],
      "execution_count": null,
      "outputs": [
        {
          "output_type": "stream",
          "text": [
            "Average\n",
            "psnr = 26.53750248,  bpp = 0.07049495, ms-ssim =0.95574396\n"
          ],
          "name": "stdout"
        }
      ]
    },
    {
      "cell_type": "code",
      "metadata": {
        "id": "RMKL7b0ggB6S",
        "outputId": "8410462d-7b39-4869-c73a-3375729bca59",
        "colab": {
          "base_uri": "https://localhost:8080/",
          "height": 53
        }
      },
      "source": [
        "!python experiment.py -i ClassB_frames/BQTerrace/ -m checkpoints/videocompressor8-msssim.pkl -g 12"
      ],
      "execution_count": null,
      "outputs": [
        {
          "output_type": "stream",
          "text": [
            "Average\n",
            "psnr = 26.41503448,  bpp = 0.04038872, ms-ssim =0.95295364\n"
          ],
          "name": "stdout"
        }
      ]
    },
    {
      "cell_type": "code",
      "metadata": {
        "id": "VHBwk1vNgNSG"
      },
      "source": [
        ""
      ],
      "execution_count": null,
      "outputs": []
    },
    {
      "cell_type": "code",
      "metadata": {
        "id": "rU8R_GDSgRKp",
        "outputId": "178ea1b1-f9e0-42a5-b5c5-1a9c51dd1d4d",
        "colab": {
          "base_uri": "https://localhost:8080/",
          "height": 53
        }
      },
      "source": [
        "!python experiment.py -i ClassB_frames/Cactus/ -m checkpoints/videocompressor8192.pkl -g 12"
      ],
      "execution_count": null,
      "outputs": [
        {
          "output_type": "stream",
          "text": [
            "Average\n",
            "psnr = 34.61216507,  bpp = 0.72686574, ms-ssim =0.97346683\n"
          ],
          "name": "stdout"
        }
      ]
    },
    {
      "cell_type": "code",
      "metadata": {
        "id": "PPWSoYVYgRKz",
        "outputId": "c9a00991-5cb9-4fad-e8c8-579cf2098c9d",
        "colab": {
          "base_uri": "https://localhost:8080/",
          "height": 53
        }
      },
      "source": [
        "!python experiment.py -i ClassB_frames/Cactus/ -m checkpoints/videocompressor4096.pkl -g 12"
      ],
      "execution_count": null,
      "outputs": [
        {
          "output_type": "stream",
          "text": [
            "Average\n",
            "psnr = 33.63663368,  bpp = 0.36720262, ms-ssim =0.96466127\n"
          ],
          "name": "stdout"
        }
      ]
    },
    {
      "cell_type": "code",
      "metadata": {
        "id": "xshQuTeDgRK5",
        "outputId": "c4719e47-10a3-458a-adf7-c060a025d8e1",
        "colab": {
          "base_uri": "https://localhost:8080/",
          "height": 53
        }
      },
      "source": [
        "!python experiment.py -i ClassB_frames/Cactus/ -m checkpoints/videocompressor2048.pkl -g 12"
      ],
      "execution_count": null,
      "outputs": [
        {
          "output_type": "stream",
          "text": [
            "Average\n",
            "psnr = 32.62033768,  bpp = 0.20497461, ms-ssim =0.95787196\n"
          ],
          "name": "stdout"
        }
      ]
    },
    {
      "cell_type": "code",
      "metadata": {
        "id": "_JZcXOXYgRK_",
        "outputId": "c159ac30-8e7a-4473-d41e-99bb50b2b152",
        "colab": {
          "base_uri": "https://localhost:8080/",
          "height": 53
        }
      },
      "source": [
        "!python experiment.py -i ClassB_frames/Cactus/ -m checkpoints/videocompressor1024.pkl -g 12"
      ],
      "execution_count": null,
      "outputs": [
        {
          "output_type": "stream",
          "text": [
            "Average\n",
            "psnr = 31.73138123,  bpp = 0.11555566, ms-ssim =0.95313656\n"
          ],
          "name": "stdout"
        }
      ]
    },
    {
      "cell_type": "code",
      "metadata": {
        "id": "YIQZ0W4ngRLF",
        "outputId": "4e84c31b-f7e7-4c42-a55b-37934b031932",
        "colab": {
          "base_uri": "https://localhost:8080/",
          "height": 53
        }
      },
      "source": [
        "!python experiment.py -i ClassB_frames/Cactus/ -m checkpoints/videocompressor512.pkl -g 12"
      ],
      "execution_count": null,
      "outputs": [
        {
          "output_type": "stream",
          "text": [
            "Average\n",
            "psnr = 30.90048561,  bpp = 0.06591684, ms-ssim =0.94740772\n"
          ],
          "name": "stdout"
        }
      ]
    },
    {
      "cell_type": "code",
      "metadata": {
        "id": "3V61L8YAgRLL",
        "outputId": "e9a99fb8-b303-4627-cfa6-dd33a1b655d7",
        "colab": {
          "base_uri": "https://localhost:8080/",
          "height": 53
        }
      },
      "source": [
        "!python experiment.py -i ClassB_frames/Cactus/ -m checkpoints/videocompressor256.pkl -g 12"
      ],
      "execution_count": null,
      "outputs": [
        {
          "output_type": "stream",
          "text": [
            "Average\n",
            "psnr = 30.13477612,  bpp = 0.03865443, ms-ssim =0.93883177\n"
          ],
          "name": "stdout"
        }
      ]
    },
    {
      "cell_type": "code",
      "metadata": {
        "id": "kZF6dOnBgRLR",
        "outputId": "c172ee82-7a55-4c16-c472-eac655e3f88c",
        "colab": {
          "base_uri": "https://localhost:8080/",
          "height": 53
        }
      },
      "source": [
        "!python experiment.py -i ClassB_frames/Cactus/ -m checkpoints/videocompressor128.pkl -g 12"
      ],
      "execution_count": null,
      "outputs": [
        {
          "output_type": "stream",
          "text": [
            "Average\n",
            "psnr = 29.43075390,  bpp = 0.02411379, ms-ssim =0.92893157\n"
          ],
          "name": "stdout"
        }
      ]
    },
    {
      "cell_type": "code",
      "metadata": {
        "id": "75SVuKpkgRLW",
        "outputId": "5bbf04a6-f9e9-4bbf-e98c-4954f6ef33b4",
        "colab": {
          "base_uri": "https://localhost:8080/",
          "height": 54
        }
      },
      "source": [
        "!python experiment.py -i ClassB_frames/Cactus/ -m checkpoints/videocompressor256-msssim.pkl -g 12"
      ],
      "execution_count": null,
      "outputs": [
        {
          "output_type": "stream",
          "text": [
            "Average\n",
            "psnr = 32.10491409,  bpp = 0.48417235, ms-ssim =0.97213744\n"
          ],
          "name": "stdout"
        }
      ]
    },
    {
      "cell_type": "code",
      "metadata": {
        "id": "UaS6nDSegRLd",
        "outputId": "c5e4cd54-a969-46c9-e889-d674760f9282",
        "colab": {
          "base_uri": "https://localhost:8080/",
          "height": 54
        }
      },
      "source": [
        "!python experiment.py -i ClassB_frames/Cactus/ -m checkpoints/videocompressor128-msssim.pkl -g 12"
      ],
      "execution_count": null,
      "outputs": [
        {
          "output_type": "stream",
          "text": [
            "Average\n",
            "psnr = 30.59396496,  bpp = 0.22319587, ms-ssim =0.96403955\n"
          ],
          "name": "stdout"
        }
      ]
    },
    {
      "cell_type": "code",
      "metadata": {
        "id": "Z7EIQcQZgRLk",
        "outputId": "5471d562-2886-44c9-b541-18b5c7c243e2",
        "colab": {
          "base_uri": "https://localhost:8080/",
          "height": 54
        }
      },
      "source": [
        "!python experiment.py -i ClassB_frames/Cactus/ -m checkpoints/videocompressor64-msssim.pkl -g 12"
      ],
      "execution_count": null,
      "outputs": [
        {
          "output_type": "stream",
          "text": [
            "Average\n",
            "psnr = 30.41552944,  bpp = 0.15045929, ms-ssim =0.96101193\n"
          ],
          "name": "stdout"
        }
      ]
    },
    {
      "cell_type": "code",
      "metadata": {
        "id": "INRfW7ZKgRLs",
        "outputId": "4abadc47-af67-4306-ec3e-3be6436f30b2",
        "colab": {
          "base_uri": "https://localhost:8080/",
          "height": 53
        }
      },
      "source": [
        "!python experiment.py -i ClassB_frames/Cactus/ -m checkpoints/videocompressor32-msssim.pkl -g 12"
      ],
      "execution_count": null,
      "outputs": [
        {
          "output_type": "stream",
          "text": [
            "Average\n",
            "psnr = 30.24753685,  bpp = 0.11120395, ms-ssim =0.95465001\n"
          ],
          "name": "stdout"
        }
      ]
    },
    {
      "cell_type": "code",
      "metadata": {
        "id": "-tiBbMh3gRLy",
        "outputId": "b0e481ca-e3ea-41e0-db20-c2a90c45f19d",
        "colab": {
          "base_uri": "https://localhost:8080/",
          "height": 53
        }
      },
      "source": [
        "!python experiment.py -i ClassB_frames/Cactus/ -m checkpoints/videocompressor16-msssim.pkl -g 12"
      ],
      "execution_count": null,
      "outputs": [
        {
          "output_type": "stream",
          "text": [
            "Average\n",
            "psnr = 30.04183235,  bpp = 0.07287751, ms-ssim =0.95166729\n"
          ],
          "name": "stdout"
        }
      ]
    },
    {
      "cell_type": "code",
      "metadata": {
        "id": "nyrCKOkpgRL3",
        "outputId": "e98ca5fe-1f39-4db5-d46b-019e4fdd2d75",
        "colab": {
          "base_uri": "https://localhost:8080/",
          "height": 53
        }
      },
      "source": [
        "!python experiment.py -i ClassB_frames/Cactus/ -m checkpoints/videocompressor8-msssim.pkl -g 12"
      ],
      "execution_count": null,
      "outputs": [
        {
          "output_type": "stream",
          "text": [
            "Average\n",
            "psnr = 29.59250278,  bpp = 0.04427397, ms-ssim =0.94682774\n"
          ],
          "name": "stdout"
        }
      ]
    },
    {
      "cell_type": "code",
      "metadata": {
        "id": "4fkLWfNcgTDl"
      },
      "source": [
        ""
      ],
      "execution_count": null,
      "outputs": []
    },
    {
      "cell_type": "code",
      "metadata": {
        "id": "cLyivlSCgUFr",
        "outputId": "9d850990-0471-4a96-9072-b00c238a7403",
        "colab": {
          "base_uri": "https://localhost:8080/",
          "height": 53
        }
      },
      "source": [
        "!python experiment.py -i ClassB_frames/Kimono/ -m checkpoints/videocompressor8192.pkl -g 12"
      ],
      "execution_count": null,
      "outputs": [
        {
          "output_type": "stream",
          "text": [
            "Average\n",
            "psnr = 37.92245598,  bpp = 0.59604578, ms-ssim =0.97993132\n"
          ],
          "name": "stdout"
        }
      ]
    },
    {
      "cell_type": "code",
      "metadata": {
        "id": "l9nibFFtgUFz",
        "outputId": "44e25375-a83d-4667-ff4c-c74d47d031ea",
        "colab": {
          "base_uri": "https://localhost:8080/",
          "height": 53
        }
      },
      "source": [
        "!python experiment.py -i ClassB_frames/Kimono/ -m checkpoints/videocompressor4096.pkl -g 12"
      ],
      "execution_count": null,
      "outputs": [
        {
          "output_type": "stream",
          "text": [
            "Average\n",
            "psnr = 36.59876175,  bpp = 0.29288224, ms-ssim =0.97090719\n"
          ],
          "name": "stdout"
        }
      ]
    },
    {
      "cell_type": "code",
      "metadata": {
        "id": "Zwtiwj8NgUF5",
        "outputId": "cfe74b84-5592-4803-aae5-98c8bea244c3",
        "colab": {
          "base_uri": "https://localhost:8080/",
          "height": 53
        }
      },
      "source": [
        "!python experiment.py -i ClassB_frames/Kimono/ -m checkpoints/videocompressor2048.pkl -g 12"
      ],
      "execution_count": null,
      "outputs": [
        {
          "output_type": "stream",
          "text": [
            "Average\n",
            "psnr = 35.52649841,  bpp = 0.19668522, ms-ssim =0.96290143\n"
          ],
          "name": "stdout"
        }
      ]
    },
    {
      "cell_type": "code",
      "metadata": {
        "id": "W-dEDfaogUGA",
        "outputId": "dba9b0bf-621b-4f8d-9ab5-327f79633de3",
        "colab": {
          "base_uri": "https://localhost:8080/",
          "height": 53
        }
      },
      "source": [
        "!python experiment.py -i ClassB_frames/Kimono/ -m checkpoints/videocompressor1024.pkl -g 12"
      ],
      "execution_count": null,
      "outputs": [
        {
          "output_type": "stream",
          "text": [
            "Average\n",
            "psnr = 34.52901802,  bpp = 0.13834676, ms-ssim =0.95388435\n"
          ],
          "name": "stdout"
        }
      ]
    },
    {
      "cell_type": "code",
      "metadata": {
        "id": "9ToKJrSagUGF",
        "outputId": "369d0de7-6b7a-432d-cf1f-bc7b59fa73d3",
        "colab": {
          "base_uri": "https://localhost:8080/",
          "height": 53
        }
      },
      "source": [
        "!python experiment.py -i ClassB_frames/Kimono/ -m checkpoints/videocompressor512.pkl -g 12"
      ],
      "execution_count": null,
      "outputs": [
        {
          "output_type": "stream",
          "text": [
            "Average\n",
            "psnr = 33.50212326,  bpp = 0.09586877, ms-ssim =0.94274286\n"
          ],
          "name": "stdout"
        }
      ]
    },
    {
      "cell_type": "code",
      "metadata": {
        "id": "vf3t2cyygUGK",
        "outputId": "95c3fca1-7d2f-43f0-bbc4-5564f4e7b6df",
        "colab": {
          "base_uri": "https://localhost:8080/",
          "height": 53
        }
      },
      "source": [
        "!python experiment.py -i ClassB_frames/Kimono/ -m checkpoints/videocompressor256.pkl -g 12"
      ],
      "execution_count": null,
      "outputs": [
        {
          "output_type": "stream",
          "text": [
            "Average\n",
            "psnr = 32.42147083,  bpp = 0.06971698, ms-ssim =0.92778676\n"
          ],
          "name": "stdout"
        }
      ]
    },
    {
      "cell_type": "code",
      "metadata": {
        "id": "o_Lbk7HpgUGO",
        "outputId": "91162624-c08a-41bf-be6c-7ef03e68c305",
        "colab": {
          "base_uri": "https://localhost:8080/",
          "height": 53
        }
      },
      "source": [
        "!python experiment.py -i ClassB_frames/Kimono/ -m checkpoints/videocompressor128.pkl -g 12"
      ],
      "execution_count": null,
      "outputs": [
        {
          "output_type": "stream",
          "text": [
            "Average\n",
            "psnr = 31.26108551,  bpp = 0.04939796, ms-ssim =0.90869220\n"
          ],
          "name": "stdout"
        }
      ]
    },
    {
      "cell_type": "code",
      "metadata": {
        "id": "9AuB-gfEgUGT",
        "outputId": "4b87d9e7-61a3-4843-b689-154145d66d4c",
        "colab": {
          "base_uri": "https://localhost:8080/",
          "height": 54
        }
      },
      "source": [
        "!python experiment.py -i ClassB_frames/Kimono/ -m checkpoints/videocompressor256-msssim.pkl -g 12"
      ],
      "execution_count": null,
      "outputs": [
        {
          "output_type": "stream",
          "text": [
            "Average\n",
            "psnr = 36.83402176,  bpp = 0.50500059, ms-ssim =0.98277947\n"
          ],
          "name": "stdout"
        }
      ]
    },
    {
      "cell_type": "code",
      "metadata": {
        "id": "QDgSIbSSgUGY",
        "outputId": "b357a6e4-97f3-4f1e-a4ed-7aa627eb28ac",
        "colab": {
          "base_uri": "https://localhost:8080/",
          "height": 54
        }
      },
      "source": [
        "!python experiment.py -i ClassB_frames/Kimono/ -m checkpoints/videocompressor128-msssim.pkl -g 12"
      ],
      "execution_count": null,
      "outputs": [
        {
          "output_type": "stream",
          "text": [
            "Average\n",
            "psnr = 34.62215004,  bpp = 0.26570658, ms-ssim =0.97463553\n"
          ],
          "name": "stdout"
        }
      ]
    },
    {
      "cell_type": "code",
      "metadata": {
        "id": "5If4DXM9gUGd",
        "outputId": "8da72c5c-0ece-4ad8-9d8b-5449f27824f7",
        "colab": {
          "base_uri": "https://localhost:8080/",
          "height": 54
        }
      },
      "source": [
        "!python experiment.py -i ClassB_frames/Kimono/ -m checkpoints/videocompressor64-msssim.pkl -g 12"
      ],
      "execution_count": null,
      "outputs": [
        {
          "output_type": "stream",
          "text": [
            "Average\n",
            "psnr = 34.20915298,  bpp = 0.19590319, ms-ssim =0.97128540\n"
          ],
          "name": "stdout"
        }
      ]
    },
    {
      "cell_type": "code",
      "metadata": {
        "id": "9JUYC3dSgUGi",
        "outputId": "a75aca5b-b49f-476a-bbbd-857bbec3adf8",
        "colab": {
          "base_uri": "https://localhost:8080/",
          "height": 53
        }
      },
      "source": [
        "!python experiment.py -i ClassB_frames/Kimono/ -m checkpoints/videocompressor32-msssim.pkl -g 12"
      ],
      "execution_count": null,
      "outputs": [
        {
          "output_type": "stream",
          "text": [
            "Average\n",
            "psnr = 34.19263229,  bpp = 0.15912688, ms-ssim =0.96516806\n"
          ],
          "name": "stdout"
        }
      ]
    },
    {
      "cell_type": "code",
      "metadata": {
        "id": "djXoOZ21gUGn",
        "outputId": "94ea6a3c-f165-4cf5-acc3-9eace45a05cf",
        "colab": {
          "base_uri": "https://localhost:8080/",
          "height": 53
        }
      },
      "source": [
        "!python experiment.py -i ClassB_frames/Kimono/ -m checkpoints/videocompressor16-msssim.pkl -g 12"
      ],
      "execution_count": null,
      "outputs": [
        {
          "output_type": "stream",
          "text": [
            "Average\n",
            "psnr = 33.85055008,  bpp = 0.12117294, ms-ssim =0.96142694\n"
          ],
          "name": "stdout"
        }
      ]
    },
    {
      "cell_type": "code",
      "metadata": {
        "id": "-8eaCDH6gUGt",
        "outputId": "93b67d23-5daf-4de8-c1c9-34fef5e287ad",
        "colab": {
          "base_uri": "https://localhost:8080/",
          "height": 53
        }
      },
      "source": [
        "!python experiment.py -i ClassB_frames/Kimono/ -m checkpoints/videocompressor8-msssim.pkl -g 12"
      ],
      "execution_count": null,
      "outputs": [
        {
          "output_type": "stream",
          "text": [
            "Average\n",
            "psnr = 33.16786652,  bpp = 0.08407863, ms-ssim =0.95343838\n"
          ],
          "name": "stdout"
        }
      ]
    },
    {
      "cell_type": "code",
      "metadata": {
        "id": "HvYtWFX8gWOd"
      },
      "source": [
        ""
      ],
      "execution_count": null,
      "outputs": []
    },
    {
      "cell_type": "code",
      "metadata": {
        "id": "PlMMDIyrgWz6",
        "outputId": "c792426d-7a1f-4a6a-9af7-0a4bc2919967",
        "colab": {
          "base_uri": "https://localhost:8080/",
          "height": 53
        }
      },
      "source": [
        "!python experiment.py -i ClassB_frames/ParkScene/ -m checkpoints/videocompressor8192.pkl -g 12"
      ],
      "execution_count": null,
      "outputs": [
        {
          "output_type": "stream",
          "text": [
            "Average\n",
            "psnr = 36.07289085,  bpp = 0.65287845, ms-ssim =0.97815487\n"
          ],
          "name": "stdout"
        }
      ]
    },
    {
      "cell_type": "code",
      "metadata": {
        "id": "4DMqcyfGgW0E",
        "outputId": "8fa6352a-36da-491f-ee05-e580e848face",
        "colab": {
          "base_uri": "https://localhost:8080/",
          "height": 53
        }
      },
      "source": [
        "!python experiment.py -i ClassB_frames/ParkScene/ -m checkpoints/videocompressor4096.pkl -g 12"
      ],
      "execution_count": null,
      "outputs": [
        {
          "output_type": "stream",
          "text": [
            "Average\n",
            "psnr = 34.78440018,  bpp = 0.36502244, ms-ssim =0.96925766\n"
          ],
          "name": "stdout"
        }
      ]
    },
    {
      "cell_type": "code",
      "metadata": {
        "id": "iuJJXDkfgW0J",
        "outputId": "190437df-48a7-4768-b6af-087a9805710f",
        "colab": {
          "base_uri": "https://localhost:8080/",
          "height": 53
        }
      },
      "source": [
        "!python experiment.py -i ClassB_frames/ParkScene/ -m checkpoints/videocompressor2048.pkl -g 12"
      ],
      "execution_count": null,
      "outputs": [
        {
          "output_type": "stream",
          "text": [
            "Average\n",
            "psnr = 33.45492134,  bpp = 0.21419144, ms-ssim =0.96055765\n"
          ],
          "name": "stdout"
        }
      ]
    },
    {
      "cell_type": "code",
      "metadata": {
        "id": "_0Lggd7VgW0T",
        "outputId": "024946ba-6bd6-4e2a-b296-04468fd87daa",
        "colab": {
          "base_uri": "https://localhost:8080/",
          "height": 53
        }
      },
      "source": [
        "!python experiment.py -i ClassB_frames/ParkScene/ -m checkpoints/videocompressor1024.pkl -g 12"
      ],
      "execution_count": null,
      "outputs": [
        {
          "output_type": "stream",
          "text": [
            "Average\n",
            "psnr = 32.52778130,  bpp = 0.12058732, ms-ssim =0.95321687\n"
          ],
          "name": "stdout"
        }
      ]
    },
    {
      "cell_type": "code",
      "metadata": {
        "id": "At7SGAgHgW0Y",
        "outputId": "2e01a55d-8232-48cc-db12-9fb52fd432bd",
        "colab": {
          "base_uri": "https://localhost:8080/",
          "height": 53
        }
      },
      "source": [
        "!python experiment.py -i ClassB_frames/ParkScene/ -m checkpoints/videocompressor512.pkl -g 12"
      ],
      "execution_count": null,
      "outputs": [
        {
          "output_type": "stream",
          "text": [
            "Average\n",
            "psnr = 31.80796318,  bpp = 0.06518304, ms-ssim =0.94667748\n"
          ],
          "name": "stdout"
        }
      ]
    },
    {
      "cell_type": "code",
      "metadata": {
        "id": "4lUW_wwsgW0c",
        "outputId": "ed21c43d-2e27-45d8-ed7e-861ef6db8226",
        "colab": {
          "base_uri": "https://localhost:8080/",
          "height": 53
        }
      },
      "source": [
        "!python experiment.py -i ClassB_frames/ParkScene/ -m checkpoints/videocompressor256.pkl -g 12"
      ],
      "execution_count": null,
      "outputs": [
        {
          "output_type": "stream",
          "text": [
            "Average\n",
            "psnr = 31.15166950,  bpp = 0.03784180, ms-ssim =0.93868916\n"
          ],
          "name": "stdout"
        }
      ]
    },
    {
      "cell_type": "code",
      "metadata": {
        "id": "nhh29R8bgW0g",
        "outputId": "49dd40d3-d897-45da-d1f0-3ded49c409fd",
        "colab": {
          "base_uri": "https://localhost:8080/",
          "height": 53
        }
      },
      "source": [
        "!python experiment.py -i ClassB_frames/ParkScene/ -m checkpoints/videocompressor128.pkl -g 12"
      ],
      "execution_count": null,
      "outputs": [
        {
          "output_type": "stream",
          "text": [
            "Average\n",
            "psnr = 30.51656246,  bpp = 0.02367395, ms-ssim =0.92953991\n"
          ],
          "name": "stdout"
        }
      ]
    },
    {
      "cell_type": "code",
      "metadata": {
        "id": "OtTTedOjgW0m",
        "outputId": "590cd5e1-882c-4f9c-c792-a320f95347b9",
        "colab": {
          "base_uri": "https://localhost:8080/",
          "height": 54
        }
      },
      "source": [
        "!python experiment.py -i ClassB_frames/ParkScene/ -m checkpoints/videocompressor256-msssim.pkl -g 12"
      ],
      "execution_count": null,
      "outputs": [
        {
          "output_type": "stream",
          "text": [
            "Average\n",
            "psnr = 33.36699486,  bpp = 0.46761702, ms-ssim =0.97632253\n"
          ],
          "name": "stdout"
        }
      ]
    },
    {
      "cell_type": "code",
      "metadata": {
        "id": "yzKsGC5ogW0s",
        "outputId": "a1db0b43-bcd4-46be-cc15-288939f29a77",
        "colab": {
          "base_uri": "https://localhost:8080/",
          "height": 54
        }
      },
      "source": [
        "!python experiment.py -i ClassB_frames/ParkScene/ -m checkpoints/videocompressor128-msssim.pkl -g 12"
      ],
      "execution_count": null,
      "outputs": [
        {
          "output_type": "stream",
          "text": [
            "Average\n",
            "psnr = 31.88318653,  bpp = 0.21907268, ms-ssim =0.96804413\n"
          ],
          "name": "stdout"
        }
      ]
    },
    {
      "cell_type": "code",
      "metadata": {
        "id": "FqsCqdK4gW0w",
        "outputId": "860592d3-cc71-4cb1-a242-ec1d3c30e2aa",
        "colab": {
          "base_uri": "https://localhost:8080/",
          "height": 54
        }
      },
      "source": [
        "!python experiment.py -i ClassB_frames/ParkScene/ -m checkpoints/videocompressor64-msssim.pkl -g 12"
      ],
      "execution_count": null,
      "outputs": [
        {
          "output_type": "stream",
          "text": [
            "Average\n",
            "psnr = 30.88318653,  bpp = 0.14884398, ms-ssim =0.96482190\n"
          ],
          "name": "stdout"
        }
      ]
    },
    {
      "cell_type": "code",
      "metadata": {
        "id": "cqcA4apWgW01",
        "outputId": "8a14c287-3ac6-46ca-bd03-f00944e68aca",
        "colab": {
          "base_uri": "https://localhost:8080/",
          "height": 53
        }
      },
      "source": [
        "!python experiment.py -i ClassB_frames/ParkScene/ -m checkpoints/videocompressor32-msssim.pkl -g 12"
      ],
      "execution_count": null,
      "outputs": [
        {
          "output_type": "stream",
          "text": [
            "Average\n",
            "psnr = 31.56434784,  bpp = 0.11259528, ms-ssim =0.95825056\n"
          ],
          "name": "stdout"
        }
      ]
    },
    {
      "cell_type": "code",
      "metadata": {
        "id": "3cYkt4tlgW04",
        "outputId": "04f1c045-8b75-476e-fdb1-4b61604b736e",
        "colab": {
          "base_uri": "https://localhost:8080/",
          "height": 53
        }
      },
      "source": [
        "!python experiment.py -i ClassB_frames/ParkScene/ -m checkpoints/videocompressor16-msssim.pkl -g 12"
      ],
      "execution_count": null,
      "outputs": [
        {
          "output_type": "stream",
          "text": [
            "Average\n",
            "psnr = 31.36139088,  bpp = 0.07543924, ms-ssim =0.95471428\n"
          ],
          "name": "stdout"
        }
      ]
    },
    {
      "cell_type": "code",
      "metadata": {
        "id": "9yrXR-iqgW07",
        "outputId": "1cbab5f4-ebf5-49ec-fbd6-02e48bc25a6f",
        "colab": {
          "base_uri": "https://localhost:8080/",
          "height": 53
        }
      },
      "source": [
        "!python experiment.py -i ClassB_frames/ParkScene/ -m checkpoints/videocompressor8-msssim.pkl -g 12"
      ],
      "execution_count": null,
      "outputs": [
        {
          "output_type": "stream",
          "text": [
            "Average\n",
            "psnr = 30.96591816,  bpp = 0.04613326, ms-ssim =0.94940911\n"
          ],
          "name": "stdout"
        }
      ]
    },
    {
      "cell_type": "code",
      "metadata": {
        "id": "pZkUQbotg-M_"
      },
      "source": [
        ""
      ],
      "execution_count": null,
      "outputs": []
    },
    {
      "cell_type": "markdown",
      "metadata": {
        "id": "2sZIJClBD6Jp"
      },
      "source": [
        "**Crop to required size** <br/>\n",
        "sh crop.sh infile outfile inWidth inHeight requiredWidth requiredHeight"
      ]
    },
    {
      "cell_type": "markdown",
      "metadata": {
        "id": "QYcTrX9_PQFV"
      },
      "source": [
        "**H.264** <br/>\n",
        "`sh 264.sh inputfile outputfile Width Height framerate crf gop`"
      ]
    },
    {
      "cell_type": "markdown",
      "metadata": {
        "id": "8CUKIDbVPVyT"
      },
      "source": [
        "**H.265** <br/>\n",
        "`sh 265.sh inputfile outputfile Width Height framerate crf gop`"
      ]
    },
    {
      "cell_type": "markdown",
      "metadata": {
        "id": "iVBqy5QfPj43"
      },
      "source": [
        "**Extract pngs** <br/>\n",
        " sh extract_png.sh inputfile outputfile Width Height framerate\n"
      ]
    },
    {
      "cell_type": "markdown",
      "metadata": {
        "id": "o_aIegSyH8RZ"
      },
      "source": [
        "!sh extract_compressed_pngs.sh UVG_mkv/Beauty_H264_15.mkv UVG_compressed_PNGS/Beauty/H264_15/im%d.png"
      ]
    },
    {
      "cell_type": "code",
      "metadata": {
        "id": "w2NqO2x1H_li"
      },
      "source": [
        ""
      ],
      "execution_count": null,
      "outputs": []
    },
    {
      "cell_type": "code",
      "metadata": {
        "id": "IpRD9m1gH__Q"
      },
      "source": [
        ""
      ],
      "execution_count": null,
      "outputs": []
    },
    {
      "cell_type": "code",
      "metadata": {
        "id": "Dyk6rrGrIARk"
      },
      "source": [
        ""
      ],
      "execution_count": null,
      "outputs": []
    },
    {
      "cell_type": "code",
      "metadata": {
        "id": "mfHiH1GbA1Ny"
      },
      "source": [
        "# H.264 and H.265 yuv to mkv"
      ],
      "execution_count": null,
      "outputs": []
    },
    {
      "cell_type": "code",
      "metadata": {
        "id": "_unEdh07A1ZP",
        "outputId": "4ad7c1c3-4227-46fb-9e33-56e0d8d1a9d5",
        "colab": {
          "base_uri": "https://localhost:8080/",
          "height": 35
        }
      },
      "source": [
        "!sh JCT_VC_264.sh ClassB_cropped/BasketballDrive.yuv ClassB_mkv/BasketballDrive_H264_15.mkv 1920 1072 50 15 10"
      ],
      "execution_count": null,
      "outputs": [
        {
          "output_type": "stream",
          "text": [
            "[libx264 @ 0x55bcab361900] PSNR Mean Y:40.642 U:43.742 V:44.655 Avg:41.519 Global:41.294 kb/s:77509.09\n"
          ],
          "name": "stdout"
        }
      ]
    },
    {
      "cell_type": "code",
      "metadata": {
        "id": "S9SiqDCGIXE_",
        "outputId": "048e6277-6b66-4a20-d3cf-139ec19d36ba",
        "colab": {
          "base_uri": "https://localhost:8080/",
          "height": 35
        }
      },
      "source": [
        "!sh JCT_VC_264.sh ClassB_cropped/BasketballDrive.yuv ClassB_mkv/BasketballDrive_H264_19.mkv 1920 1072 50 19 10"
      ],
      "execution_count": null,
      "outputs": [
        {
          "output_type": "stream",
          "text": [
            "[libx264 @ 0x558421c23900] PSNR Mean Y:38.274 U:42.738 V:43.099 Avg:39.338 Global:39.177 kb/s:30371.79\n"
          ],
          "name": "stdout"
        }
      ]
    },
    {
      "cell_type": "code",
      "metadata": {
        "id": "iUGZc4r5IaM4",
        "outputId": "f1ff5792-8e5f-413b-b9ec-bee2420fc526",
        "colab": {
          "base_uri": "https://localhost:8080/",
          "height": 35
        }
      },
      "source": [
        "!sh JCT_VC_264.sh ClassB_cropped/BasketballDrive.yuv ClassB_mkv/BasketballDrive_H264_23.mkv 1920 1072 50 23 10"
      ],
      "execution_count": null,
      "outputs": [
        {
          "output_type": "stream",
          "text": [
            "[libx264 @ 0x55a7b6751900] PSNR Mean Y:36.586 U:41.788 V:41.647 Avg:37.722 Global:37.588 kb/s:12911.05\n"
          ],
          "name": "stdout"
        }
      ]
    },
    {
      "cell_type": "code",
      "metadata": {
        "id": "iStRC-YBIddR",
        "outputId": "2707bbb4-3d76-4453-b652-16d562478f8f",
        "colab": {
          "base_uri": "https://localhost:8080/",
          "height": 35
        }
      },
      "source": [
        "!sh JCT_VC_264.sh ClassB_cropped/BasketballDrive.yuv ClassB_mkv/BasketballDrive_H264_27.mkv 1920 1072 50 27 10"
      ],
      "execution_count": null,
      "outputs": [
        {
          "output_type": "stream",
          "text": [
            "[libx264 @ 0x557747d0b900] PSNR Mean Y:34.844 U:40.867 V:40.342 Avg:36.059 Global:35.919 kb/s:6847.90\n"
          ],
          "name": "stdout"
        }
      ]
    },
    {
      "cell_type": "code",
      "metadata": {
        "id": "JCseJgO2Id-K"
      },
      "source": [
        ""
      ],
      "execution_count": null,
      "outputs": []
    },
    {
      "cell_type": "code",
      "metadata": {
        "id": "raiMYK4kIi8u",
        "outputId": "d1064b4f-ce61-4b42-c641-03311e4b1613",
        "colab": {
          "base_uri": "https://localhost:8080/",
          "height": 35
        }
      },
      "source": [
        "!sh JCT_VC_265.sh ClassB_cropped/BasketballDrive.yuv ClassB_mkv/BasketballDrive_H265_15.mkv 1920 1072 50 15 10"
      ],
      "execution_count": null,
      "outputs": [
        {
          "output_type": "stream",
          "text": [
            "encoded 100 frames in 52.04s (1.92 fps), 77957.57 kb/s, Avg QP:20.14, Global PSNR: 42.278\n"
          ],
          "name": "stdout"
        }
      ]
    },
    {
      "cell_type": "code",
      "metadata": {
        "id": "qsuIxXE6Ii86",
        "outputId": "6f40dd68-715e-4867-82e9-b00413521799",
        "colab": {
          "base_uri": "https://localhost:8080/",
          "height": 35
        }
      },
      "source": [
        "!sh JCT_VC_265.sh ClassB_cropped/BasketballDrive.yuv ClassB_mkv/BasketballDrive_H265_19.mkv 1920 1072 50 19 10"
      ],
      "execution_count": null,
      "outputs": [
        {
          "output_type": "stream",
          "text": [
            "encoded 100 frames in 35.54s (2.81 fps), 29006.32 kb/s, Avg QP:24.14, Global PSNR: 40.296\n"
          ],
          "name": "stdout"
        }
      ]
    },
    {
      "cell_type": "code",
      "metadata": {
        "id": "E78_lO1hIi9E",
        "outputId": "a476c56b-a21a-4064-f458-524f3d8c0c6c",
        "colab": {
          "base_uri": "https://localhost:8080/",
          "height": 35
        }
      },
      "source": [
        "!sh JCT_VC_265.sh ClassB_cropped/BasketballDrive.yuv ClassB_mkv/BasketballDrive_H265_23.mkv 1920 1072 50 23 10"
      ],
      "execution_count": null,
      "outputs": [
        {
          "output_type": "stream",
          "text": [
            "encoded 100 frames in 26.50s (3.77 fps), 12367.55 kb/s, Avg QP:28.27, Global PSNR: 38.932\n"
          ],
          "name": "stdout"
        }
      ]
    },
    {
      "cell_type": "code",
      "metadata": {
        "id": "O8b682OqIi9M",
        "outputId": "50bc07bf-d187-4ae1-e844-762536b264e8",
        "colab": {
          "base_uri": "https://localhost:8080/",
          "height": 35
        }
      },
      "source": [
        "!sh JCT_VC_265.sh ClassB_cropped/BasketballDrive.yuv ClassB_mkv/BasketballDrive_H265_27.mkv 1920 1072 50 27 10"
      ],
      "execution_count": null,
      "outputs": [
        {
          "output_type": "stream",
          "text": [
            "encoded 100 frames in 21.53s (4.64 fps), 6434.98 kb/s, Avg QP:32.39, Global PSNR: 37.575\n"
          ],
          "name": "stdout"
        }
      ]
    },
    {
      "cell_type": "code",
      "metadata": {
        "id": "7ryBBJ1XIeCS"
      },
      "source": [
        ""
      ],
      "execution_count": null,
      "outputs": []
    },
    {
      "cell_type": "code",
      "metadata": {
        "id": "7fHf8TxtJGgV",
        "outputId": "1ac38e83-4e49-4571-b718-4ab22738d986",
        "colab": {
          "base_uri": "https://localhost:8080/",
          "height": 35
        }
      },
      "source": [
        "!sh JCT_VC_264.sh ClassB_cropped/BQTerrace.yuv ClassB_mkv/BQTerrace_H264_15.mkv 1920 1072 60 15 10"
      ],
      "execution_count": null,
      "outputs": [
        {
          "output_type": "stream",
          "text": [
            "[libx264 @ 0x559a955df900] PSNR Mean Y:37.701 U:41.264 V:43.245 Avg:38.726 Global:38.533 kb/s:79182.39\n"
          ],
          "name": "stdout"
        }
      ]
    },
    {
      "cell_type": "code",
      "metadata": {
        "id": "ZHOJoDxIJGgy",
        "outputId": "b427eea6-d288-4a4b-8ddc-7538aa5872a3",
        "colab": {
          "base_uri": "https://localhost:8080/",
          "height": 35
        }
      },
      "source": [
        "!sh JCT_VC_264.sh ClassB_cropped/BQTerrace.yuv ClassB_mkv/BQTerrace_H264_19.mkv 1920 1072 60 19 10"
      ],
      "execution_count": null,
      "outputs": [
        {
          "output_type": "stream",
          "text": [
            "[libx264 @ 0x560adb8bd900] PSNR Mean Y:35.057 U:40.118 V:42.269 Avg:36.291 Global:36.165 kb/s:31683.28\n"
          ],
          "name": "stdout"
        }
      ]
    },
    {
      "cell_type": "code",
      "metadata": {
        "id": "1ps6xSEmJGhG",
        "outputId": "54576cf8-d05f-4c5d-e085-6acb060a1a4f",
        "colab": {
          "base_uri": "https://localhost:8080/",
          "height": 35
        }
      },
      "source": [
        "!sh JCT_VC_264.sh ClassB_cropped/BQTerrace.yuv ClassB_mkv/BQTerrace_H264_23.mkv 1920 1072 60 23 10"
      ],
      "execution_count": null,
      "outputs": [
        {
          "output_type": "stream",
          "text": [
            "[libx264 @ 0x5651fa243900] PSNR Mean Y:33.106 U:39.207 V:41.440 Avg:34.453 Global:34.382 kb/s:13105.22\n"
          ],
          "name": "stdout"
        }
      ]
    },
    {
      "cell_type": "code",
      "metadata": {
        "id": "t4Xre5jnJGhU",
        "outputId": "0578630b-47c0-4e7f-901c-0f938c6e0f86",
        "colab": {
          "base_uri": "https://localhost:8080/",
          "height": 35
        }
      },
      "source": [
        "!sh JCT_VC_264.sh ClassB_cropped/BQTerrace.yuv ClassB_mkv/BQTerrace_H264_27.mkv 1920 1072 60 27 10"
      ],
      "execution_count": null,
      "outputs": [
        {
          "output_type": "stream",
          "text": [
            "[libx264 @ 0x561339793900] PSNR Mean Y:31.185 U:38.353 V:40.654 Avg:32.623 Global:32.564 kb/s:7044.72\n"
          ],
          "name": "stdout"
        }
      ]
    },
    {
      "cell_type": "code",
      "metadata": {
        "id": "535hMtOTJGhk"
      },
      "source": [
        ""
      ],
      "execution_count": null,
      "outputs": []
    },
    {
      "cell_type": "code",
      "metadata": {
        "id": "y17rb7cyJGhw",
        "outputId": "b9f70c7d-01c2-4177-8815-97dbcbcdaf55",
        "colab": {
          "base_uri": "https://localhost:8080/",
          "height": 35
        }
      },
      "source": [
        "!sh JCT_VC_265.sh ClassB_cropped/BQTerrace.yuv ClassB_mkv/BQTerrace_H265_15.mkv 1920 1072 60 15 10"
      ],
      "execution_count": null,
      "outputs": [
        {
          "output_type": "stream",
          "text": [
            "encoded 100 frames in 42.88s (2.33 fps), 91010.43 kb/s, Avg QP:22.60, Global PSNR: 39.830\n"
          ],
          "name": "stdout"
        }
      ]
    },
    {
      "cell_type": "code",
      "metadata": {
        "id": "lSnnkHnsJGh8",
        "outputId": "f920ecac-a660-471e-acb3-c195470a4d2a",
        "colab": {
          "base_uri": "https://localhost:8080/",
          "height": 35
        }
      },
      "source": [
        "!sh JCT_VC_265.sh ClassB_cropped/BQTerrace.yuv ClassB_mkv/BQTerrace_H265_19.mkv 1920 1072 60 19 10"
      ],
      "execution_count": null,
      "outputs": [
        {
          "output_type": "stream",
          "text": [
            "encoded 100 frames in 29.95s (3.34 fps), 37490.64 kb/s, Avg QP:26.61, Global PSNR: 37.434\n"
          ],
          "name": "stdout"
        }
      ]
    },
    {
      "cell_type": "code",
      "metadata": {
        "id": "5SXoRDAzJGiF",
        "outputId": "6e06e797-bc03-4e2d-d915-e1722cb71dc5",
        "colab": {
          "base_uri": "https://localhost:8080/",
          "height": 35
        }
      },
      "source": [
        "!sh JCT_VC_265.sh ClassB_cropped/BQTerrace.yuv ClassB_mkv/BQTerrace_H265_23.mkv 1920 1072 60 23 10"
      ],
      "execution_count": null,
      "outputs": [
        {
          "output_type": "stream",
          "text": [
            "encoded 100 frames in 21.86s (4.58 fps), 14816.55 kb/s, Avg QP:30.69, Global PSNR: 35.776\n"
          ],
          "name": "stdout"
        }
      ]
    },
    {
      "cell_type": "code",
      "metadata": {
        "id": "ngEXk0PdJGiN",
        "outputId": "f05a9f18-aca6-470a-8f11-01d8d91c5df7",
        "colab": {
          "base_uri": "https://localhost:8080/",
          "height": 35
        }
      },
      "source": [
        "!sh JCT_VC_265.sh ClassB_cropped/BQTerrace.yuv ClassB_mkv/BQTerrace_H265_27.mkv 1920 1072 60 27 10"
      ],
      "execution_count": null,
      "outputs": [
        {
          "output_type": "stream",
          "text": [
            "encoded 100 frames in 16.46s (6.08 fps), 7270.93 kb/s, Avg QP:34.80, Global PSNR: 34.267\n"
          ],
          "name": "stdout"
        }
      ]
    },
    {
      "cell_type": "code",
      "metadata": {
        "id": "3Nd9b4ncIeGP"
      },
      "source": [
        ""
      ],
      "execution_count": null,
      "outputs": []
    },
    {
      "cell_type": "code",
      "metadata": {
        "id": "WoRsQQPyJmu9",
        "outputId": "926212e3-02c7-431c-8272-c855582a6d58",
        "colab": {
          "base_uri": "https://localhost:8080/",
          "height": 35
        }
      },
      "source": [
        "!sh JCT_VC_264.sh ClassB_cropped/Cactus.yuv ClassB_mkv/Cactus_H264_15.mkv 1920 1072 50 15 10"
      ],
      "execution_count": null,
      "outputs": [
        {
          "output_type": "stream",
          "text": [
            "[libx264 @ 0x55e54cfd3900] PSNR Mean Y:38.887 U:40.186 V:42.799 Avg:39.546 Global:39.388 kb/s:71228.04\n"
          ],
          "name": "stdout"
        }
      ]
    },
    {
      "cell_type": "code",
      "metadata": {
        "id": "cYt9Rkz9JmvX",
        "outputId": "6bd8fbd5-f52c-46df-e7d9-887916630c34",
        "colab": {
          "base_uri": "https://localhost:8080/",
          "height": 35
        }
      },
      "source": [
        "!sh JCT_VC_264.sh ClassB_cropped/Cactus.yuv ClassB_mkv/Cactus_H264_19.mkv 1920 1072 50 19 10"
      ],
      "execution_count": null,
      "outputs": [
        {
          "output_type": "stream",
          "text": [
            "[libx264 @ 0x55accdbd3900] PSNR Mean Y:36.771 U:38.908 V:41.438 Avg:37.599 Global:37.518 kb/s:27289.40\n"
          ],
          "name": "stdout"
        }
      ]
    },
    {
      "cell_type": "code",
      "metadata": {
        "id": "Ls32n1vwJmvl",
        "outputId": "2850175d-0448-4c52-cc62-11c7baa75727",
        "colab": {
          "base_uri": "https://localhost:8080/",
          "height": 35
        }
      },
      "source": [
        "!sh JCT_VC_264.sh ClassB_cropped/Cactus.yuv ClassB_mkv/Cactus_H264_23.mkv 1920 1072 50 23 10"
      ],
      "execution_count": null,
      "outputs": [
        {
          "output_type": "stream",
          "text": [
            "[libx264 @ 0x561574997900] PSNR Mean Y:35.099 U:38.177 V:40.265 Avg:36.068 Global:36.025 kb/s:12553.69\n"
          ],
          "name": "stdout"
        }
      ]
    },
    {
      "cell_type": "code",
      "metadata": {
        "id": "s_imjkFuJmvx",
        "outputId": "1aa6f9bb-0380-4b29-ff0f-d392f44a438e",
        "colab": {
          "base_uri": "https://localhost:8080/",
          "height": 35
        }
      },
      "source": [
        "!sh JCT_VC_264.sh ClassB_cropped/Cactus.yuv ClassB_mkv/Cactus_H264_27.mkv 1920 1072 50 27 10"
      ],
      "execution_count": null,
      "outputs": [
        {
          "output_type": "stream",
          "text": [
            "[libx264 @ 0x559a0a979900] PSNR Mean Y:33.242 U:37.548 V:39.137 Avg:34.366 Global:34.330 kb/s:6895.38\n"
          ],
          "name": "stdout"
        }
      ]
    },
    {
      "cell_type": "code",
      "metadata": {
        "id": "W5pjWkSfJmv8"
      },
      "source": [
        ""
      ],
      "execution_count": null,
      "outputs": []
    },
    {
      "cell_type": "code",
      "metadata": {
        "id": "p5S3ikgpJmwF",
        "outputId": "0b5b94aa-23d9-4b3f-8c63-70507b1bbbb4",
        "colab": {
          "base_uri": "https://localhost:8080/",
          "height": 35
        }
      },
      "source": [
        "!sh JCT_VC_265.sh ClassB_cropped/Cactus.yuv ClassB_mkv/Cactus_H265_15.mkv 1920 1072 50 15 10"
      ],
      "execution_count": null,
      "outputs": [
        {
          "output_type": "stream",
          "text": [
            "encoded 100 frames in 51.83s (1.93 fps), 85642.19 kb/s, Avg QP:21.17, Global PSNR: 40.545\n"
          ],
          "name": "stdout"
        }
      ]
    },
    {
      "cell_type": "code",
      "metadata": {
        "id": "OXeF6O0rJmwQ",
        "outputId": "c6887189-6b01-4dc0-b5b3-91c0eecfc0ad",
        "colab": {
          "base_uri": "https://localhost:8080/",
          "height": 35
        }
      },
      "source": [
        "!sh JCT_VC_265.sh ClassB_cropped/Cactus.yuv ClassB_mkv/Cactus_H265_19.mkv 1920 1072 50 19 10"
      ],
      "execution_count": null,
      "outputs": [
        {
          "output_type": "stream",
          "text": [
            "encoded 100 frames in 33.04s (3.03 fps), 31769.88 kb/s, Avg QP:25.07, Global PSNR: 38.492\n"
          ],
          "name": "stdout"
        }
      ]
    },
    {
      "cell_type": "code",
      "metadata": {
        "id": "MXoBY1HuJmwZ",
        "outputId": "5c82b4de-8faa-4e09-f95c-d6983718afe8",
        "colab": {
          "base_uri": "https://localhost:8080/",
          "height": 35
        }
      },
      "source": [
        "!sh JCT_VC_265.sh ClassB_cropped/Cactus.yuv ClassB_mkv/Cactus_H265_23.mkv 1920 1072 50 23 10"
      ],
      "execution_count": null,
      "outputs": [
        {
          "output_type": "stream",
          "text": [
            "encoded 100 frames in 23.42s (4.27 fps), 13331.66 kb/s, Avg QP:29.43, Global PSNR: 37.018\n"
          ],
          "name": "stdout"
        }
      ]
    },
    {
      "cell_type": "code",
      "metadata": {
        "id": "O8fhvipRJmwh",
        "outputId": "054b961d-f6a5-464e-dcf9-7bedabd8e048",
        "colab": {
          "base_uri": "https://localhost:8080/",
          "height": 35
        }
      },
      "source": [
        "!sh JCT_VC_265.sh ClassB_cropped/Cactus.yuv ClassB_mkv/Cactus_H265_27.mkv 1920 1072 50 27 10"
      ],
      "execution_count": null,
      "outputs": [
        {
          "output_type": "stream",
          "text": [
            "encoded 100 frames in 19.46s (5.14 fps), 7056.44 kb/s, Avg QP:33.84, Global PSNR: 35.476\n"
          ],
          "name": "stdout"
        }
      ]
    },
    {
      "cell_type": "code",
      "metadata": {
        "id": "7UtZFZD9JojT"
      },
      "source": [
        ""
      ],
      "execution_count": null,
      "outputs": []
    },
    {
      "cell_type": "code",
      "metadata": {
        "id": "1fPWkKPNJqMG",
        "outputId": "cb1c0d5c-c0ce-4ea4-b8d9-b75a594bcdb4",
        "colab": {
          "base_uri": "https://localhost:8080/",
          "height": 35
        }
      },
      "source": [
        "!sh JCT_VC_264.sh ClassB_cropped/Kimono.yuv ClassB_mkv/Kimono_H264_15.mkv 1920 1072 24 15 10"
      ],
      "execution_count": null,
      "outputs": [
        {
          "output_type": "stream",
          "text": [
            "[libx264 @ 0x5585ebdf3900] PSNR Mean Y:43.177 U:44.323 V:46.020 Avg:43.722 Global:43.608 kb/s:35827.64\n"
          ],
          "name": "stdout"
        }
      ]
    },
    {
      "cell_type": "code",
      "metadata": {
        "id": "8KbgoZ5mJqMR",
        "outputId": "25d91c6e-1a48-4596-a4a8-830a857407f3",
        "colab": {
          "base_uri": "https://localhost:8080/",
          "height": 35
        }
      },
      "source": [
        "!sh JCT_VC_264.sh ClassB_cropped/Kimono.yuv ClassB_mkv/Kimono_H264_19.mkv 1920 1072 24 19 10"
      ],
      "execution_count": null,
      "outputs": [
        {
          "output_type": "stream",
          "text": [
            "[libx264 @ 0x562a6c605900] PSNR Mean Y:41.194 U:43.064 V:44.703 Avg:41.900 Global:41.834 kb/s:15491.25\n"
          ],
          "name": "stdout"
        }
      ]
    },
    {
      "cell_type": "code",
      "metadata": {
        "id": "4OqRTLkMJqMc",
        "outputId": "a7281f94-53c6-48bd-8bc3-d7f54f4011db",
        "colab": {
          "base_uri": "https://localhost:8080/",
          "height": 35
        }
      },
      "source": [
        "!sh JCT_VC_264.sh ClassB_cropped/Kimono.yuv ClassB_mkv/Kimono_H264_23.mkv 1920 1072 24 23 10"
      ],
      "execution_count": null,
      "outputs": [
        {
          "output_type": "stream",
          "text": [
            "[libx264 @ 0x558dc49b7900] PSNR Mean Y:39.487 U:42.031 V:43.477 Avg:40.313 Global:40.267 kb/s:7367.99\n"
          ],
          "name": "stdout"
        }
      ]
    },
    {
      "cell_type": "code",
      "metadata": {
        "id": "K6rA3BV4JqMm",
        "outputId": "93b0c553-5ed1-4e6f-8fad-e9730eb516cd",
        "colab": {
          "base_uri": "https://localhost:8080/",
          "height": 35
        }
      },
      "source": [
        "!sh JCT_VC_264.sh ClassB_cropped/Kimono.yuv ClassB_mkv/Kimono_H264_27.mkv 1920 1072 24 27 10"
      ],
      "execution_count": null,
      "outputs": [
        {
          "output_type": "stream",
          "text": [
            "[libx264 @ 0x556b6fe7f900] PSNR Mean Y:37.588 U:41.110 V:42.450 Avg:38.576 Global:38.524 kb/s:4086.32\n"
          ],
          "name": "stdout"
        }
      ]
    },
    {
      "cell_type": "code",
      "metadata": {
        "id": "AduYi2RfJqMy"
      },
      "source": [
        ""
      ],
      "execution_count": null,
      "outputs": []
    },
    {
      "cell_type": "code",
      "metadata": {
        "id": "HdlMlI_QJqM4",
        "outputId": "e76aac6a-e726-4250-8794-094f4c3ec625",
        "colab": {
          "base_uri": "https://localhost:8080/",
          "height": 35
        }
      },
      "source": [
        "!sh JCT_VC_265.sh ClassB_cropped/Kimono.yuv ClassB_mkv/Kimono_H265_15.mkv 1920 1072 24 15 10"
      ],
      "execution_count": null,
      "outputs": [
        {
          "output_type": "stream",
          "text": [
            "encoded 100 frames in 59.72s (1.67 fps), 37004.11 kb/s, Avg QP:17.58, Global PSNR: 44.673\n"
          ],
          "name": "stdout"
        }
      ]
    },
    {
      "cell_type": "code",
      "metadata": {
        "id": "ih0IVpk-JqNA",
        "outputId": "3e329b45-1fc8-4a67-e796-e811c03861f7",
        "colab": {
          "base_uri": "https://localhost:8080/",
          "height": 35
        }
      },
      "source": [
        "!sh JCT_VC_265.sh ClassB_cropped/Kimono.yuv ClassB_mkv/Kimono_H265_19.mkv 1920 1072 24 19 10"
      ],
      "execution_count": null,
      "outputs": [
        {
          "output_type": "stream",
          "text": [
            "encoded 100 frames in 40.48s (2.47 fps), 15151.29 kb/s, Avg QP:21.58, Global PSNR: 43.000\n"
          ],
          "name": "stdout"
        }
      ]
    },
    {
      "cell_type": "code",
      "metadata": {
        "id": "ldKwKCq-JqNH",
        "outputId": "3962fdce-8de6-4d77-96ec-c9a0ed164519",
        "colab": {
          "base_uri": "https://localhost:8080/",
          "height": 35
        }
      },
      "source": [
        "!sh JCT_VC_265.sh ClassB_cropped/Kimono.yuv ClassB_mkv/Kimono_H265_23.mkv 1920 1072 24 23 10"
      ],
      "execution_count": null,
      "outputs": [
        {
          "output_type": "stream",
          "text": [
            "encoded 100 frames in 31.76s (3.15 fps), 7145.01 kb/s, Avg QP:25.68, Global PSNR: 41.702\n"
          ],
          "name": "stdout"
        }
      ]
    },
    {
      "cell_type": "code",
      "metadata": {
        "id": "REgxdB88JqNO",
        "outputId": "6e80678e-e20e-48c7-d19f-80661691d460",
        "colab": {
          "base_uri": "https://localhost:8080/",
          "height": 35
        }
      },
      "source": [
        "!sh JCT_VC_265.sh ClassB_cropped/Kimono.yuv ClassB_mkv/Kimono_H265_27.mkv 1920 1072 24 27 10"
      ],
      "execution_count": null,
      "outputs": [
        {
          "output_type": "stream",
          "text": [
            "encoded 100 frames in 27.02s (3.70 fps), 4104.11 kb/s, Avg QP:29.87, Global PSNR: 40.316\n"
          ],
          "name": "stdout"
        }
      ]
    },
    {
      "cell_type": "code",
      "metadata": {
        "id": "Ah0inlcOJo8T"
      },
      "source": [
        ""
      ],
      "execution_count": null,
      "outputs": []
    },
    {
      "cell_type": "code",
      "metadata": {
        "id": "GNkNLRsdJsvj",
        "outputId": "7048f69b-8e1d-4495-fd72-3175bfabb326",
        "colab": {
          "base_uri": "https://localhost:8080/",
          "height": 35
        }
      },
      "source": [
        "!sh JCT_VC_264.sh ClassB_cropped/ParkScene.yuv ClassB_mkv/ParkScene_H264_15.mkv 1920 1072 24 15 10"
      ],
      "execution_count": null,
      "outputs": [
        {
          "output_type": "stream",
          "text": [
            "[libx264 @ 0x55e1d3b61900] PSNR Mean Y:41.832 U:42.934 V:43.925 Avg:42.291 Global:42.148 kb/s:40161.26\n"
          ],
          "name": "stdout"
        }
      ]
    },
    {
      "cell_type": "code",
      "metadata": {
        "id": "Yf5pK7tUJsv7",
        "outputId": "b1a95800-3f67-48f3-f3cb-886fe70365ea",
        "colab": {
          "base_uri": "https://localhost:8080/",
          "height": 35
        }
      },
      "source": [
        "!sh JCT_VC_264.sh ClassB_cropped/ParkScene.yuv ClassB_mkv/ParkScene_H264_19.mkv 1920 1072 24 19 10"
      ],
      "execution_count": null,
      "outputs": [
        {
          "output_type": "stream",
          "text": [
            "[libx264 @ 0x55bd2710b900] PSNR Mean Y:39.247 U:41.096 V:42.267 Avg:39.904 Global:39.817 kb/s:18386.82\n"
          ],
          "name": "stdout"
        }
      ]
    },
    {
      "cell_type": "code",
      "metadata": {
        "id": "H-bMqVBcJswM",
        "outputId": "b5528d74-c34b-4678-c659-44086ee1bcfa",
        "colab": {
          "base_uri": "https://localhost:8080/",
          "height": 35
        }
      },
      "source": [
        "!sh JCT_VC_264.sh ClassB_cropped/ParkScene.yuv ClassB_mkv/ParkScene_H264_23.mkv 1920 1072 24 23 10"
      ],
      "execution_count": null,
      "outputs": [
        {
          "output_type": "stream",
          "text": [
            "[libx264 @ 0x555d0403d900] PSNR Mean Y:36.957 U:39.648 V:40.898 Avg:37.796 Global:37.737 kb/s:8536.40\n"
          ],
          "name": "stdout"
        }
      ]
    },
    {
      "cell_type": "code",
      "metadata": {
        "id": "lvur9-2BJswY",
        "outputId": "24ba8d9e-e59e-49a2-ffbd-ff9e1800c767",
        "colab": {
          "base_uri": "https://localhost:8080/",
          "height": 35
        }
      },
      "source": [
        "!sh JCT_VC_264.sh ClassB_cropped/ParkScene.yuv ClassB_mkv/ParkScene_H264_27.mkv 1920 1072 24 27 10"
      ],
      "execution_count": null,
      "outputs": [
        {
          "output_type": "stream",
          "text": [
            "[libx264 @ 0x559ab2a4b900] PSNR Mean Y:34.706 U:38.550 V:39.896 Avg:35.749 Global:35.697 kb/s:4563.52\n"
          ],
          "name": "stdout"
        }
      ]
    },
    {
      "cell_type": "code",
      "metadata": {
        "id": "ljRnCRYWJswj"
      },
      "source": [
        ""
      ],
      "execution_count": null,
      "outputs": []
    },
    {
      "cell_type": "code",
      "metadata": {
        "id": "eHTJSaleJswt",
        "outputId": "a69115fd-58c3-48b6-ab51-d5317556f7c8",
        "colab": {
          "base_uri": "https://localhost:8080/",
          "height": 35
        }
      },
      "source": [
        "!sh JCT_VC_265.sh ClassB_cropped/ParkScene.yuv ClassB_mkv/ParkScene_H265_15.mkv 1920 1072 24 15 10"
      ],
      "execution_count": null,
      "outputs": [
        {
          "output_type": "stream",
          "text": [
            "encoded 100 frames in 54.22s (1.84 fps), 47794.14 kb/s, Avg QP:18.15, Global PSNR: 43.270\n"
          ],
          "name": "stdout"
        }
      ]
    },
    {
      "cell_type": "code",
      "metadata": {
        "id": "LiF5TuHeJsw5",
        "outputId": "a18a0b82-fd8b-488f-96ef-6717f6889bbb",
        "colab": {
          "base_uri": "https://localhost:8080/",
          "height": 35
        }
      },
      "source": [
        "!sh JCT_VC_265.sh ClassB_cropped/ParkScene.yuv ClassB_mkv/ParkScene_H265_19.mkv 1920 1072 24 19 10"
      ],
      "execution_count": null,
      "outputs": [
        {
          "output_type": "stream",
          "text": [
            "encoded 100 frames in 38.02s (2.63 fps), 23023.72 kb/s, Avg QP:22.14, Global PSNR: 40.818\n"
          ],
          "name": "stdout"
        }
      ]
    },
    {
      "cell_type": "code",
      "metadata": {
        "id": "N4vlNJD8JsxD",
        "outputId": "b22a7a68-611c-465e-98d0-8da54d80d679",
        "colab": {
          "base_uri": "https://localhost:8080/",
          "height": 35
        }
      },
      "source": [
        "!sh JCT_VC_265.sh ClassB_cropped/ParkScene.yuv ClassB_mkv/ParkScene_H265_23.mkv 1920 1072 24 23 10"
      ],
      "execution_count": null,
      "outputs": [
        {
          "output_type": "stream",
          "text": [
            "encoded 100 frames in 29.05s (3.44 fps), 10549.19 kb/s, Avg QP:26.17, Global PSNR: 38.753\n"
          ],
          "name": "stdout"
        }
      ]
    },
    {
      "cell_type": "code",
      "metadata": {
        "id": "m0scBkXhJsxN",
        "outputId": "92b88bcb-b43b-43b9-d98a-354c8c6c9fd5",
        "colab": {
          "base_uri": "https://localhost:8080/",
          "height": 35
        }
      },
      "source": [
        "!sh JCT_VC_265.sh ClassB_cropped/ParkScene.yuv ClassB_mkv/ParkScene_H265_27.mkv 1920 1072 24 27 10"
      ],
      "execution_count": null,
      "outputs": [
        {
          "output_type": "stream",
          "text": [
            "encoded 100 frames in 22.63s (4.42 fps), 5339.47 kb/s, Avg QP:30.40, Global PSNR: 36.830\n"
          ],
          "name": "stdout"
        }
      ]
    },
    {
      "cell_type": "code",
      "metadata": {
        "id": "c1GhM3mIJpWh"
      },
      "source": [
        ""
      ],
      "execution_count": null,
      "outputs": []
    },
    {
      "cell_type": "code",
      "metadata": {
        "id": "TDr9iDNhR1Rm"
      },
      "source": [
        ""
      ],
      "execution_count": null,
      "outputs": []
    },
    {
      "cell_type": "code",
      "metadata": {
        "id": "_Bw1uiOoR1Zt",
        "outputId": "fd91e314-097d-483d-9bec-5ef6ea463687",
        "colab": {
          "base_uri": "https://localhost:8080/",
          "height": 54
        }
      },
      "source": [
        "!sh JCT_VC_extract_png.sh ClassB_cropped/BasketballDrive.yuv ClassB_frames/BasketballDrive/im%d.png 1920 1072 50"
      ],
      "execution_count": null,
      "outputs": [
        {
          "output_type": "stream",
          "text": [
            "frame=    4 fps=0.0 q=-0.0 size=N/A time=00:00:00.08 bitrate=N/A speed=0.0902x    \rframe=    5 fps=3.4 q=-0.0 size=N/A time=00:00:00.12 bitrate=N/A speed=0.081x    \rframe=    6 fps=2.9 q=-0.0 size=N/A time=00:00:00.16 bitrate=N/A speed=0.0781x    \rframe=    7 fps=2.7 q=-0.0 size=N/A time=00:00:00.20 bitrate=N/A speed=0.0777x    \rframe=    8 fps=2.5 q=-0.0 size=N/A time=00:00:00.24 bitrate=N/A speed=0.0751x    \rframe=    9 fps=2.4 q=-0.0 size=N/A time=00:00:00.28 bitrate=N/A speed=0.0748x    \rframe=   10 fps=2.3 q=-0.0 size=N/A time=00:00:00.32 bitrate=N/A speed=0.0729x    \rframe=   12 fps=2.2 q=-0.0 size=N/A time=00:00:00.40 bitrate=N/A speed=0.0749x    \rframe=   13 fps=2.2 q=-0.0 size=N/A time=00:00:00.44 bitrate=N/A speed=0.0753x    \rframe=   14 fps=2.2 q=-0.0 size=N/A time=00:00:00.48 bitrate=N/A speed=0.0755x    \rframe=   16 fps=2.2 q=-0.0 size=N/A time=00:00:00.56 bitrate=N/A speed=0.0764x    \rframe=   18 fps=2.2 q=-0.0 size=N/A time=00:00:00.64 bitrate=N/A speed=0.0789x    \rframe=   19 fps=2.2 q=-0.0 size=N/A time=00:00:00.68 bitrate=N/A speed=0.0785x    \rframe=   21 fps=2.2 q=-0.0 size=N/A time=00:00:00.76 bitrate=N/A speed=0.0779x    \rframe=   22 fps=2.1 q=-0.0 size=N/A time=00:00:00.80 bitrate=N/A speed=0.0762x    \rframe=   23 fps=2.1 q=-0.0 size=N/A time=00:00:00.84 bitrate=N/A speed=0.076x    \rframe=   24 fps=2.1 q=-0.0 size=N/A time=00:00:00.88 bitrate=N/A speed=0.0761x    \rframe=   25 fps=2.1 q=-0.0 size=N/A time=00:00:00.92 bitrate=N/A speed=0.0758x    \rframe=   26 fps=2.0 q=-0.0 size=N/A time=00:00:00.96 bitrate=N/A speed=0.0752x    \rframe=   27 fps=2.0 q=-0.0 size=N/A time=00:00:01.00 bitrate=N/A speed=0.0744x    \rframe=   28 fps=2.0 q=-0.0 size=N/A time=00:00:01.04 bitrate=N/A speed=0.0734x    \rframe=   29 fps=2.0 q=-0.0 size=N/A time=00:00:01.08 bitrate=N/A speed=0.0731x    \rframe=   30 fps=2.0 q=-0.0 size=N/A time=00:00:01.12 bitrate=N/A speed=0.0732x    \rframe=   31 fps=2.0 q=-0.0 size=N/A time=00:00:01.16 bitrate=N/A speed=0.073x    \rframe=   32 fps=1.9 q=-0.0 size=N/A time=00:00:01.20 bitrate=N/A speed=0.0723x    \rframe=   33 fps=1.9 q=-0.0 size=N/A time=00:00:01.24 bitrate=N/A speed=0.0718x    \rframe=   34 fps=1.8 q=-0.0 size=N/A time=00:00:01.28 bitrate=N/A speed=0.0694x    \rframe=   36 fps=1.8 q=-0.0 size=N/A time=00:00:01.36 bitrate=N/A speed=0.0698x    \rframe=   38 fps=1.9 q=-0.0 size=N/A time=00:00:01.44 bitrate=N/A speed=0.0709x    \rframe=   39 fps=1.9 q=-0.0 size=N/A time=00:00:01.48 bitrate=N/A speed=0.0704x    \rframe=   40 fps=1.8 q=-0.0 size=N/A time=00:00:01.52 bitrate=N/A speed=0.0703x    \rframe=   41 fps=1.8 q=-0.0 size=N/A time=00:00:01.56 bitrate=N/A speed=0.0702x    \rframe=   42 fps=1.8 q=-0.0 size=N/A time=00:00:01.60 bitrate=N/A speed=0.0704x    \rframe=   43 fps=1.8 q=-0.0 size=N/A time=00:00:01.64 bitrate=N/A speed=0.07x    \rframe=   44 fps=1.8 q=-0.0 size=N/A time=00:00:01.68 bitrate=N/A speed=0.0699x    \rframe=   45 fps=1.8 q=-0.0 size=N/A time=00:00:01.72 bitrate=N/A speed=0.07x    \rframe=   47 fps=1.7 q=-0.0 size=N/A time=00:00:01.80 bitrate=N/A speed=0.0663x    \rframe=   48 fps=1.7 q=-0.0 size=N/A time=00:00:01.84 bitrate=N/A speed=0.0663x    \rframe=   49 fps=1.7 q=-0.0 size=N/A time=00:00:01.88 bitrate=N/A speed=0.0663x    \rframe=   51 fps=1.7 q=-0.0 size=N/A time=00:00:01.96 bitrate=N/A speed=0.0661x    \rframe=   52 fps=1.7 q=-0.0 size=N/A time=00:00:02.00 bitrate=N/A speed=0.0658x    \rframe=   53 fps=1.7 q=-0.0 size=N/A time=00:00:02.04 bitrate=N/A speed=0.0658x    \rframe=   54 fps=1.7 q=-0.0 size=N/A time=00:00:02.08 bitrate=N/A speed=0.0659x    \rframe=   56 fps=1.7 q=-0.0 size=N/A time=00:00:02.16 bitrate=N/A speed=0.0665x    \rframe=   58 fps=1.7 q=-0.0 size=N/A time=00:00:02.24 bitrate=N/A speed=0.0667x    \rframe=   59 fps=1.7 q=-0.0 size=N/A time=00:00:02.28 bitrate=N/A speed=0.0664x    \rframe=   60 fps=1.7 q=-0.0 size=N/A time=00:00:02.32 bitrate=N/A speed=0.0664x    \rframe=   61 fps=1.7 q=-0.0 size=N/A time=00:00:02.36 bitrate=N/A speed=0.0662x    \rframe=   62 fps=1.7 q=-0.0 size=N/A time=00:00:02.40 bitrate=N/A speed=0.065x    \rframe=   63 fps=1.7 q=-0.0 size=N/A time=00:00:02.44 bitrate=N/A speed=0.0652x    \rframe=   64 fps=1.7 q=-0.0 size=N/A time=00:00:02.48 bitrate=N/A speed=0.0652x    \rframe=   65 fps=1.7 q=-0.0 size=N/A time=00:00:02.52 bitrate=N/A speed=0.0652x    \rframe=   66 fps=1.7 q=-0.0 size=N/A time=00:00:02.56 bitrate=N/A speed=0.0649x    \rframe=   67 fps=1.7 q=-0.0 size=N/A time=00:00:02.60 bitrate=N/A speed=0.0644x    \rframe=   68 fps=1.7 q=-0.0 size=N/A time=00:00:02.64 bitrate=N/A speed=0.0646x    \rframe=   69 fps=1.7 q=-0.0 size=N/A time=00:00:02.68 bitrate=N/A speed=0.0644x    \rframe=   70 fps=1.7 q=-0.0 size=N/A time=00:00:02.72 bitrate=N/A speed=0.0644x    \rframe=   71 fps=1.7 q=-0.0 size=N/A time=00:00:02.76 bitrate=N/A speed=0.0644x    \rframe=   72 fps=1.6 q=-0.0 size=N/A time=00:00:02.80 bitrate=N/A speed=0.0638x    \rframe=   73 fps=1.6 q=-0.0 size=N/A time=00:00:02.84 bitrate=N/A speed=0.0639x    \rframe=   74 fps=1.6 q=-0.0 size=N/A time=00:00:02.88 bitrate=N/A speed=0.0638x    \rframe=   75 fps=1.6 q=-0.0 size=N/A time=00:00:02.92 bitrate=N/A speed=0.0638x    \rframe=   77 fps=1.6 q=-0.0 size=N/A time=00:00:03.00 bitrate=N/A speed=0.0643x    \rframe=   78 fps=1.7 q=-0.0 size=N/A time=00:00:03.04 bitrate=N/A speed=0.0644x    \rframe=   79 fps=1.7 q=-0.0 size=N/A time=00:00:03.08 bitrate=N/A speed=0.0645x    \rframe=   80 fps=1.6 q=-0.0 size=N/A time=00:00:03.12 bitrate=N/A speed=0.0642x    \rframe=   81 fps=1.6 q=-0.0 size=N/A time=00:00:03.16 bitrate=N/A speed=0.0641x    \rframe=   83 fps=1.7 q=-0.0 size=N/A time=00:00:03.24 bitrate=N/A speed=0.0646x    \rframe=   84 fps=1.7 q=-0.0 size=N/A time=00:00:03.28 bitrate=N/A speed=0.0647x    \rframe=   85 fps=1.6 q=-0.0 size=N/A time=00:00:03.32 bitrate=N/A speed=0.0643x    \rframe=   86 fps=1.6 q=-0.0 size=N/A time=00:00:03.36 bitrate=N/A speed=0.0643x    \rframe=   87 fps=1.6 q=-0.0 size=N/A time=00:00:03.40 bitrate=N/A speed=0.0641x    \rframe=   88 fps=1.6 q=-0.0 size=N/A time=00:00:03.44 bitrate=N/A speed=0.064x    \rframe=   89 fps=1.6 q=-0.0 size=N/A time=00:00:03.48 bitrate=N/A speed=0.0641x    \rframe=   91 fps=1.7 q=-0.0 size=N/A time=00:00:03.56 bitrate=N/A speed=0.0646x    \rframe=   92 fps=1.6 q=-0.0 size=N/A time=00:00:03.60 bitrate=N/A speed=0.0645x    \rframe=   93 fps=1.6 q=-0.0 size=N/A time=00:00:03.64 bitrate=N/A speed=0.0645x    \rframe=   94 fps=1.6 q=-0.0 size=N/A time=00:00:03.68 bitrate=N/A speed=0.0645x    \rframe=   95 fps=1.6 q=-0.0 size=N/A time=00:00:03.72 bitrate=N/A speed=0.0645x    \rframe=   96 fps=1.6 q=-0.0 size=N/A time=00:00:03.76 bitrate=N/A speed=0.0644x    \rframe=   97 fps=1.6 q=-0.0 size=N/A time=00:00:03.80 bitrate=N/A speed=0.0642x    \rframe=   98 fps=1.6 q=-0.0 size=N/A time=00:00:03.84 bitrate=N/A speed=0.0641x    \rframe=   99 fps=1.6 q=-0.0 size=N/A time=00:00:03.88 bitrate=N/A speed=0.064x    \rframe=  100 fps=1.6 q=-0.0 Lsize=N/A time=00:00:04.00 bitrate=N/A speed=0.0638x    \n",
            "video:451379kB audio:0kB subtitle:0kB other streams:0kB global headers:0kB muxing overhead: unknown\n"
          ],
          "name": "stdout"
        }
      ]
    },
    {
      "cell_type": "code",
      "metadata": {
        "id": "WvXsCeW9S2MH",
        "outputId": "d36caa61-ce30-4b5d-cc00-820956c257b0",
        "colab": {
          "base_uri": "https://localhost:8080/",
          "height": 54
        }
      },
      "source": [
        "!sh JCT_VC_extract_png.sh ClassB_cropped/BQTerrace.yuv ClassB_frames/BQTerrace/im%d.png 1920 1072 60"
      ],
      "execution_count": null,
      "outputs": [
        {
          "output_type": "stream",
          "text": [
            "frame=    4 fps=0.0 q=-0.0 size=N/A time=00:00:00.08 bitrate=N/A speed=0.0948x    \rframe=    6 fps=3.3 q=-0.0 size=N/A time=00:00:00.16 bitrate=N/A speed=0.0884x    \rframe=    7 fps=2.9 q=-0.0 size=N/A time=00:00:00.20 bitrate=N/A speed=0.0826x    \rframe=    9 fps=2.8 q=-0.0 size=N/A time=00:00:00.28 bitrate=N/A speed=0.088x    \rframe=   10 fps=2.2 q=-0.0 size=N/A time=00:00:00.32 bitrate=N/A speed=0.0698x    \rframe=   11 fps=2.1 q=-0.0 size=N/A time=00:00:00.36 bitrate=N/A speed=0.0691x    \rframe=   12 fps=2.1 q=-0.0 size=N/A time=00:00:00.40 bitrate=N/A speed=0.0691x    \rframe=   13 fps=1.9 q=-0.0 size=N/A time=00:00:00.44 bitrate=N/A speed=0.0659x    \rframe=   15 fps=1.9 q=-0.0 size=N/A time=00:00:00.52 bitrate=N/A speed=0.0652x    \rframe=   17 fps=1.9 q=-0.0 size=N/A time=00:00:00.60 bitrate=N/A speed=0.0675x    \rframe=   18 fps=1.9 q=-0.0 size=N/A time=00:00:00.64 bitrate=N/A speed=0.0679x    \rframe=   19 fps=1.9 q=-0.0 size=N/A time=00:00:00.68 bitrate=N/A speed=0.068x    \rframe=   20 fps=1.9 q=-0.0 size=N/A time=00:00:00.72 bitrate=N/A speed=0.0675x    \rframe=   21 fps=1.9 q=-0.0 size=N/A time=00:00:00.76 bitrate=N/A speed=0.0677x    \rframe=   22 fps=1.8 q=-0.0 size=N/A time=00:00:00.80 bitrate=N/A speed=0.0656x    \rframe=   24 fps=1.8 q=-0.0 size=N/A time=00:00:00.88 bitrate=N/A speed=0.066x    \rframe=   26 fps=1.8 q=-0.0 size=N/A time=00:00:00.96 bitrate=N/A speed=0.067x    \rframe=   28 fps=1.8 q=-0.0 size=N/A time=00:00:01.04 bitrate=N/A speed=0.0678x    \rframe=   30 fps=1.8 q=-0.0 size=N/A time=00:00:01.12 bitrate=N/A speed=0.0685x    \rframe=   32 fps=1.8 q=-0.0 size=N/A time=00:00:01.20 bitrate=N/A speed=0.0683x    \rframe=   33 fps=1.8 q=-0.0 size=N/A time=00:00:01.24 bitrate=N/A speed=0.0684x    \rframe=   34 fps=1.8 q=-0.0 size=N/A time=00:00:01.28 bitrate=N/A speed=0.0685x    \rframe=   35 fps=1.8 q=-0.0 size=N/A time=00:00:01.32 bitrate=N/A speed=0.0671x    \rframe=   37 fps=1.8 q=-0.0 size=N/A time=00:00:01.40 bitrate=N/A speed=0.0676x    \rframe=   38 fps=1.8 q=-0.0 size=N/A time=00:00:01.44 bitrate=N/A speed=0.0671x    \rframe=   39 fps=1.8 q=-0.0 size=N/A time=00:00:01.48 bitrate=N/A speed=0.0666x    \rframe=   40 fps=1.8 q=-0.0 size=N/A time=00:00:01.52 bitrate=N/A speed=0.0668x    \rframe=   41 fps=1.8 q=-0.0 size=N/A time=00:00:01.56 bitrate=N/A speed=0.0666x    \rframe=   42 fps=1.7 q=-0.0 size=N/A time=00:00:01.60 bitrate=N/A speed=0.0662x    \rframe=   43 fps=1.7 q=-0.0 size=N/A time=00:00:01.64 bitrate=N/A speed=0.0659x    \rframe=   44 fps=1.7 q=-0.0 size=N/A time=00:00:01.68 bitrate=N/A speed=0.0661x    \rframe=   45 fps=1.7 q=-0.0 size=N/A time=00:00:01.72 bitrate=N/A speed=0.0656x    \rframe=   46 fps=1.7 q=-0.0 size=N/A time=00:00:01.76 bitrate=N/A speed=0.0653x    \rframe=   47 fps=1.7 q=-0.0 size=N/A time=00:00:01.80 bitrate=N/A speed=0.0652x    \rframe=   48 fps=1.7 q=-0.0 size=N/A time=00:00:01.84 bitrate=N/A speed=0.0653x    \rframe=   50 fps=1.7 q=-0.0 size=N/A time=00:00:01.92 bitrate=N/A speed=0.0658x    \rframe=   52 fps=1.7 q=-0.0 size=N/A time=00:00:02.00 bitrate=N/A speed=0.0659x    \rframe=   54 fps=1.7 q=-0.0 size=N/A time=00:00:02.08 bitrate=N/A speed=0.0658x    \rframe=   56 fps=1.7 q=-0.0 size=N/A time=00:00:02.16 bitrate=N/A speed=0.0664x    \rframe=   57 fps=1.7 q=-0.0 size=N/A time=00:00:02.20 bitrate=N/A speed=0.0662x    \rframe=   58 fps=1.7 q=-0.0 size=N/A time=00:00:02.24 bitrate=N/A speed=0.0661x    \rframe=   60 fps=1.7 q=-0.0 size=N/A time=00:00:02.32 bitrate=N/A speed=0.0668x    \rframe=   61 fps=1.7 q=-0.0 size=N/A time=00:00:02.36 bitrate=N/A speed=0.0669x    \rframe=   63 fps=1.7 q=-0.0 size=N/A time=00:00:02.44 bitrate=N/A speed=0.0672x    \rframe=   64 fps=1.7 q=-0.0 size=N/A time=00:00:02.48 bitrate=N/A speed=0.0673x    \rframe=   65 fps=1.7 q=-0.0 size=N/A time=00:00:02.52 bitrate=N/A speed=0.0671x    \rframe=   66 fps=1.7 q=-0.0 size=N/A time=00:00:02.56 bitrate=N/A speed=0.067x    \rframe=   67 fps=1.7 q=-0.0 size=N/A time=00:00:02.60 bitrate=N/A speed=0.0668x    \rframe=   68 fps=1.7 q=-0.0 size=N/A time=00:00:02.64 bitrate=N/A speed=0.0666x    \rframe=   69 fps=1.7 q=-0.0 size=N/A time=00:00:02.68 bitrate=N/A speed=0.0666x    \rframe=   71 fps=1.7 q=-0.0 size=N/A time=00:00:02.76 bitrate=N/A speed=0.0666x    \rframe=   72 fps=1.7 q=-0.0 size=N/A time=00:00:02.80 bitrate=N/A speed=0.0667x    \rframe=   73 fps=1.7 q=-0.0 size=N/A time=00:00:02.84 bitrate=N/A speed=0.0663x    \rframe=   74 fps=1.7 q=-0.0 size=N/A time=00:00:02.88 bitrate=N/A speed=0.0663x    \rframe=   75 fps=1.7 q=-0.0 size=N/A time=00:00:02.92 bitrate=N/A speed=0.0662x    \rframe=   77 fps=1.7 q=-0.0 size=N/A time=00:00:03.00 bitrate=N/A speed=0.0664x    \rframe=   78 fps=1.7 q=-0.0 size=N/A time=00:00:03.04 bitrate=N/A speed=0.0661x    \rframe=   79 fps=1.7 q=-0.0 size=N/A time=00:00:03.08 bitrate=N/A speed=0.0661x    \rframe=   80 fps=1.7 q=-0.0 size=N/A time=00:00:03.12 bitrate=N/A speed=0.0661x    \rframe=   82 fps=1.7 q=-0.0 size=N/A time=00:00:03.20 bitrate=N/A speed=0.0665x    \rframe=   84 fps=1.7 q=-0.0 size=N/A time=00:00:03.28 bitrate=N/A speed=0.067x    \rframe=   85 fps=1.7 q=-0.0 size=N/A time=00:00:03.32 bitrate=N/A speed=0.0667x    \rframe=   87 fps=1.7 q=-0.0 size=N/A time=00:00:03.40 bitrate=N/A speed=0.0666x    \rframe=   89 fps=1.7 q=-0.0 size=N/A time=00:00:03.48 bitrate=N/A speed=0.067x    \rframe=   90 fps=1.7 q=-0.0 size=N/A time=00:00:03.52 bitrate=N/A speed=0.0671x    \rframe=   91 fps=1.7 q=-0.0 size=N/A time=00:00:03.56 bitrate=N/A speed=0.067x    \rframe=   92 fps=1.7 q=-0.0 size=N/A time=00:00:03.60 bitrate=N/A speed=0.0671x    \rframe=   93 fps=1.7 q=-0.0 size=N/A time=00:00:03.64 bitrate=N/A speed=0.0671x    \rframe=   94 fps=1.7 q=-0.0 size=N/A time=00:00:03.68 bitrate=N/A speed=0.0668x    \rframe=   95 fps=1.7 q=-0.0 size=N/A time=00:00:03.72 bitrate=N/A speed=0.0668x    \rframe=   96 fps=1.7 q=-0.0 size=N/A time=00:00:03.76 bitrate=N/A speed=0.0665x    \rframe=   97 fps=1.7 q=-0.0 size=N/A time=00:00:03.80 bitrate=N/A speed=0.0663x    \rframe=   98 fps=1.7 q=-0.0 size=N/A time=00:00:03.84 bitrate=N/A speed=0.0663x    \rframe=   99 fps=1.7 q=-0.0 size=N/A time=00:00:03.88 bitrate=N/A speed=0.0665x    \rframe=  100 fps=1.7 q=-0.0 size=N/A time=00:00:03.92 bitrate=N/A speed=0.0666x    \rframe=  100 fps=1.6 q=-0.0 Lsize=N/A time=00:00:04.00 bitrate=N/A speed=0.066x    \n",
            "video:451906kB audio:0kB subtitle:0kB other streams:0kB global headers:0kB muxing overhead: unknown\n"
          ],
          "name": "stdout"
        }
      ]
    },
    {
      "cell_type": "code",
      "metadata": {
        "id": "Jpl7urxzS3Fz",
        "outputId": "145b7a2d-08bc-4f97-89d3-8f6f1fb5e39a",
        "colab": {
          "base_uri": "https://localhost:8080/",
          "height": 54
        }
      },
      "source": [
        "!sh JCT_VC_extract_png.sh ClassB_cropped/Cactus.yuv ClassB_frames/Cactus/im%d.png 1920 1072 50"
      ],
      "execution_count": null,
      "outputs": [
        {
          "output_type": "stream",
          "text": [
            "frame=    4 fps=0.0 q=-0.0 size=N/A time=00:00:00.08 bitrate=N/A speed=0.0875x    \rframe=    5 fps=3.0 q=-0.0 size=N/A time=00:00:00.12 bitrate=N/A speed=0.0714x    \rframe=    7 fps=2.5 q=-0.0 size=N/A time=00:00:00.20 bitrate=N/A speed=0.071x    \rframe=    8 fps=2.4 q=-0.0 size=N/A time=00:00:00.24 bitrate=N/A speed=0.072x    \rframe=    9 fps=2.2 q=-0.0 size=N/A time=00:00:00.28 bitrate=N/A speed=0.0682x    \rframe=   11 fps=2.2 q=-0.0 size=N/A time=00:00:00.36 bitrate=N/A speed=0.0723x    \rframe=   12 fps=2.1 q=-0.0 size=N/A time=00:00:00.40 bitrate=N/A speed=0.0708x    \rframe=   14 fps=2.1 q=-0.0 size=N/A time=00:00:00.48 bitrate=N/A speed=0.0703x    \rframe=   15 fps=2.0 q=-0.0 size=N/A time=00:00:00.52 bitrate=N/A speed=0.0695x    \rframe=   16 fps=2.0 q=-0.0 size=N/A time=00:00:00.56 bitrate=N/A speed=0.0699x    \rframe=   17 fps=1.9 q=-0.0 size=N/A time=00:00:00.60 bitrate=N/A speed=0.0677x    \rframe=   18 fps=1.9 q=-0.0 size=N/A time=00:00:00.64 bitrate=N/A speed=0.0664x    \rframe=   19 fps=1.9 q=-0.0 size=N/A time=00:00:00.68 bitrate=N/A speed=0.0667x    \rframe=   20 fps=1.9 q=-0.0 size=N/A time=00:00:00.72 bitrate=N/A speed=0.0668x    \rframe=   22 fps=1.8 q=-0.0 size=N/A time=00:00:00.80 bitrate=N/A speed=0.0663x    \rframe=   24 fps=1.8 q=-0.0 size=N/A time=00:00:00.88 bitrate=N/A speed=0.0659x    \rframe=   25 fps=1.8 q=-0.0 size=N/A time=00:00:00.92 bitrate=N/A speed=0.066x    \rframe=   26 fps=1.8 q=-0.0 size=N/A time=00:00:00.96 bitrate=N/A speed=0.0661x    \rframe=   27 fps=1.8 q=-0.0 size=N/A time=00:00:01.00 bitrate=N/A speed=0.0663x    \rframe=   28 fps=1.8 q=-0.0 size=N/A time=00:00:01.04 bitrate=N/A speed=0.0668x    \rframe=   29 fps=1.7 q=-0.0 size=N/A time=00:00:01.08 bitrate=N/A speed=0.0628x    \rframe=   30 fps=1.7 q=-0.0 size=N/A time=00:00:01.12 bitrate=N/A speed=0.063x    \rframe=   31 fps=1.7 q=-0.0 size=N/A time=00:00:01.16 bitrate=N/A speed=0.0632x    \rframe=   32 fps=1.7 q=-0.0 size=N/A time=00:00:01.20 bitrate=N/A speed=0.0634x    \rframe=   33 fps=1.7 q=-0.0 size=N/A time=00:00:01.24 bitrate=N/A speed=0.0636x    \rframe=   34 fps=1.7 q=-0.0 size=N/A time=00:00:01.28 bitrate=N/A speed=0.0633x    \rframe=   35 fps=1.7 q=-0.0 size=N/A time=00:00:01.32 bitrate=N/A speed=0.0625x    \rframe=   36 fps=1.7 q=-0.0 size=N/A time=00:00:01.36 bitrate=N/A speed=0.0627x    \rframe=   37 fps=1.6 q=-0.0 size=N/A time=00:00:01.40 bitrate=N/A speed=0.0622x    \rframe=   38 fps=1.6 q=-0.0 size=N/A time=00:00:01.44 bitrate=N/A speed=0.0619x    \rframe=   39 fps=1.6 q=-0.0 size=N/A time=00:00:01.48 bitrate=N/A speed=0.0612x    \rframe=   40 fps=1.6 q=-0.0 size=N/A time=00:00:01.52 bitrate=N/A speed=0.0604x    \rframe=   41 fps=1.6 q=-0.0 size=N/A time=00:00:01.56 bitrate=N/A speed=0.0605x    \rframe=   42 fps=1.6 q=-0.0 size=N/A time=00:00:01.60 bitrate=N/A speed=0.0603x    \rframe=   44 fps=1.6 q=-0.0 size=N/A time=00:00:01.68 bitrate=N/A speed=0.0613x    \rframe=   45 fps=1.6 q=-0.0 size=N/A time=00:00:01.72 bitrate=N/A speed=0.0617x    \rframe=   47 fps=1.6 q=-0.0 size=N/A time=00:00:01.80 bitrate=N/A speed=0.0621x    \rframe=   48 fps=1.6 q=-0.0 size=N/A time=00:00:01.84 bitrate=N/A speed=0.0616x    \rframe=   49 fps=1.6 q=-0.0 size=N/A time=00:00:01.88 bitrate=N/A speed=0.0609x    \rframe=   51 fps=1.6 q=-0.0 size=N/A time=00:00:01.96 bitrate=N/A speed=0.0613x    \rframe=   53 fps=1.6 q=-0.0 size=N/A time=00:00:02.04 bitrate=N/A speed=0.0614x    \rframe=   54 fps=1.6 q=-0.0 size=N/A time=00:00:02.08 bitrate=N/A speed=0.0616x    \rframe=   56 fps=1.6 q=-0.0 size=N/A time=00:00:02.16 bitrate=N/A speed=0.0616x    \rframe=   57 fps=1.6 q=-0.0 size=N/A time=00:00:02.20 bitrate=N/A speed=0.0613x    \rframe=   58 fps=1.6 q=-0.0 size=N/A time=00:00:02.24 bitrate=N/A speed=0.0616x    \rframe=   59 fps=1.6 q=-0.0 size=N/A time=00:00:02.28 bitrate=N/A speed=0.0616x    \rframe=   60 fps=1.6 q=-0.0 size=N/A time=00:00:02.32 bitrate=N/A speed=0.0613x    \rframe=   61 fps=1.6 q=-0.0 size=N/A time=00:00:02.36 bitrate=N/A speed=0.061x    \rframe=   62 fps=1.6 q=-0.0 size=N/A time=00:00:02.40 bitrate=N/A speed=0.0611x    \rframe=   63 fps=1.6 q=-0.0 size=N/A time=00:00:02.44 bitrate=N/A speed=0.061x    \rframe=   64 fps=1.6 q=-0.0 size=N/A time=00:00:02.48 bitrate=N/A speed=0.0612x    \rframe=   66 fps=1.6 q=-0.0 size=N/A time=00:00:02.56 bitrate=N/A speed=0.0615x    \rframe=   67 fps=1.6 q=-0.0 size=N/A time=00:00:02.60 bitrate=N/A speed=0.0614x    \rframe=   69 fps=1.6 q=-0.0 size=N/A time=00:00:02.68 bitrate=N/A speed=0.0616x    \rframe=   70 fps=1.6 q=-0.0 size=N/A time=00:00:02.72 bitrate=N/A speed=0.0616x    \rframe=   71 fps=1.6 q=-0.0 size=N/A time=00:00:02.76 bitrate=N/A speed=0.0618x    \rframe=   72 fps=1.6 q=-0.0 size=N/A time=00:00:02.80 bitrate=N/A speed=0.0616x    \rframe=   73 fps=1.6 q=-0.0 size=N/A time=00:00:02.84 bitrate=N/A speed=0.0615x    \rframe=   74 fps=1.6 q=-0.0 size=N/A time=00:00:02.88 bitrate=N/A speed=0.0616x    \rframe=   76 fps=1.6 q=-0.0 size=N/A time=00:00:02.96 bitrate=N/A speed=0.0621x    \rframe=   78 fps=1.6 q=-0.0 size=N/A time=00:00:03.04 bitrate=N/A speed=0.0626x    \rframe=   79 fps=1.6 q=-0.0 size=N/A time=00:00:03.08 bitrate=N/A speed=0.0626x    \rframe=   80 fps=1.6 q=-0.0 size=N/A time=00:00:03.12 bitrate=N/A speed=0.0626x    \rframe=   81 fps=1.6 q=-0.0 size=N/A time=00:00:03.16 bitrate=N/A speed=0.0626x    \rframe=   82 fps=1.6 q=-0.0 size=N/A time=00:00:03.20 bitrate=N/A speed=0.0624x    \rframe=   83 fps=1.6 q=-0.0 size=N/A time=00:00:03.24 bitrate=N/A speed=0.0623x    \rframe=   84 fps=1.6 q=-0.0 size=N/A time=00:00:03.28 bitrate=N/A speed=0.0622x    \rframe=   86 fps=1.6 q=-0.0 size=N/A time=00:00:03.36 bitrate=N/A speed=0.0626x    \rframe=   87 fps=1.6 q=-0.0 size=N/A time=00:00:03.40 bitrate=N/A speed=0.0624x    \rframe=   88 fps=1.6 q=-0.0 size=N/A time=00:00:03.44 bitrate=N/A speed=0.0625x    \rframe=   90 fps=1.6 q=-0.0 size=N/A time=00:00:03.52 bitrate=N/A speed=0.0628x    \rframe=   91 fps=1.6 q=-0.0 size=N/A time=00:00:03.56 bitrate=N/A speed=0.0629x    \rframe=   92 fps=1.6 q=-0.0 size=N/A time=00:00:03.60 bitrate=N/A speed=0.0631x    \rframe=   93 fps=1.6 q=-0.0 size=N/A time=00:00:03.64 bitrate=N/A speed=0.0631x    \rframe=   94 fps=1.6 q=-0.0 size=N/A time=00:00:03.68 bitrate=N/A speed=0.0632x    \rframe=   95 fps=1.6 q=-0.0 size=N/A time=00:00:03.72 bitrate=N/A speed=0.0633x    \rframe=   96 fps=1.6 q=-0.0 size=N/A time=00:00:03.76 bitrate=N/A speed=0.0633x    \rframe=   97 fps=1.6 q=-0.0 size=N/A time=00:00:03.80 bitrate=N/A speed=0.0629x    \rframe=   98 fps=1.6 q=-0.0 size=N/A time=00:00:03.84 bitrate=N/A speed=0.063x    \rframe=   99 fps=1.6 q=-0.0 size=N/A time=00:00:03.88 bitrate=N/A speed=0.0629x    \rframe=  100 fps=1.6 q=-0.0 size=N/A time=00:00:03.92 bitrate=N/A speed=0.063x    \rframe=  100 fps=1.6 q=-0.0 Lsize=N/A time=00:00:04.00 bitrate=N/A speed=0.0627x    \n",
            "video:511076kB audio:0kB subtitle:0kB other streams:0kB global headers:0kB muxing overhead: unknown\n"
          ],
          "name": "stdout"
        }
      ]
    },
    {
      "cell_type": "code",
      "metadata": {
        "id": "v09hT-Y0S3K9",
        "outputId": "7b808c55-a816-4293-f1c7-d520eb05f552",
        "colab": {
          "base_uri": "https://localhost:8080/",
          "height": 54
        }
      },
      "source": [
        "!sh JCT_VC_extract_png.sh ClassB_cropped/Kimono.yuv ClassB_frames/Kimono/im%d.png 1920 1072 24"
      ],
      "execution_count": null,
      "outputs": [
        {
          "output_type": "stream",
          "text": [
            "frame=    4 fps=3.8 q=-0.0 size=N/A time=00:00:00.08 bitrate=N/A speed=0.0762x    \rframe=    5 fps=3.0 q=-0.0 size=N/A time=00:00:00.12 bitrate=N/A speed=0.072x    \rframe=    6 fps=2.4 q=-0.0 size=N/A time=00:00:00.16 bitrate=N/A speed=0.0637x    \rframe=    7 fps=2.2 q=-0.0 size=N/A time=00:00:00.20 bitrate=N/A speed=0.0641x    \rframe=    8 fps=2.1 q=-0.0 size=N/A time=00:00:00.24 bitrate=N/A speed=0.0623x    \rframe=   10 fps=2.0 q=-0.0 size=N/A time=00:00:00.32 bitrate=N/A speed=0.0644x    \rframe=   11 fps=2.0 q=-0.0 size=N/A time=00:00:00.36 bitrate=N/A speed=0.064x    \rframe=   13 fps=2.0 q=-0.0 size=N/A time=00:00:00.44 bitrate=N/A speed=0.0671x    \rframe=   14 fps=1.8 q=-0.0 size=N/A time=00:00:00.48 bitrate=N/A speed=0.0618x    \rframe=   15 fps=1.7 q=-0.0 size=N/A time=00:00:00.52 bitrate=N/A speed=0.0595x    \rframe=   16 fps=1.7 q=-0.0 size=N/A time=00:00:00.56 bitrate=N/A speed=0.0605x    \rframe=   17 fps=1.7 q=-0.0 size=N/A time=00:00:00.60 bitrate=N/A speed=0.0612x    \rframe=   19 fps=1.8 q=-0.0 size=N/A time=00:00:00.68 bitrate=N/A speed=0.0629x    \rframe=   20 fps=1.5 q=-0.0 size=N/A time=00:00:00.72 bitrate=N/A speed=0.0548x    \rframe=   21 fps=1.5 q=-0.0 size=N/A time=00:00:00.76 bitrate=N/A speed=0.0548x    \rframe=   23 fps=1.6 q=-0.0 size=N/A time=00:00:00.84 bitrate=N/A speed=0.0572x    \rframe=   25 fps=1.6 q=-0.0 size=N/A time=00:00:00.92 bitrate=N/A speed=0.0594x    \rframe=   27 fps=1.7 q=-0.0 size=N/A time=00:00:01.00 bitrate=N/A speed=0.0613x    \rframe=   28 fps=1.6 q=-0.0 size=N/A time=00:00:01.04 bitrate=N/A speed=0.0601x    \rframe=   29 fps=1.6 q=-0.0 size=N/A time=00:00:01.08 bitrate=N/A speed=0.0604x    \rframe=   30 fps=1.6 q=-0.0 size=N/A time=00:00:01.12 bitrate=N/A speed=0.0609x    \rframe=   32 fps=1.7 q=-0.0 size=N/A time=00:00:01.20 bitrate=N/A speed=0.0629x    \rframe=   34 fps=1.7 q=-0.0 size=N/A time=00:00:01.28 bitrate=N/A speed=0.0634x    \rframe=   36 fps=1.7 q=-0.0 size=N/A time=00:00:01.36 bitrate=N/A speed=0.0647x    \rframe=   38 fps=1.7 q=-0.0 size=N/A time=00:00:01.44 bitrate=N/A speed=0.0657x    \rframe=   39 fps=1.7 q=-0.0 size=N/A time=00:00:01.48 bitrate=N/A speed=0.0657x    \rframe=   40 fps=1.7 q=-0.0 size=N/A time=00:00:01.52 bitrate=N/A speed=0.0652x    \rframe=   41 fps=1.7 q=-0.0 size=N/A time=00:00:01.56 bitrate=N/A speed=0.0654x    \rframe=   42 fps=1.7 q=-0.0 size=N/A time=00:00:01.60 bitrate=N/A speed=0.065x    \rframe=   43 fps=1.7 q=-0.0 size=N/A time=00:00:01.64 bitrate=N/A speed=0.0647x    \rframe=   45 fps=1.7 q=-0.0 size=N/A time=00:00:01.72 bitrate=N/A speed=0.0655x    \rframe=   46 fps=1.7 q=-0.0 size=N/A time=00:00:01.76 bitrate=N/A speed=0.0643x    \rframe=   47 fps=1.7 q=-0.0 size=N/A time=00:00:01.80 bitrate=N/A speed=0.0638x    \rframe=   48 fps=1.7 q=-0.0 size=N/A time=00:00:01.84 bitrate=N/A speed=0.0636x    \rframe=   49 fps=1.6 q=-0.0 size=N/A time=00:00:01.88 bitrate=N/A speed=0.0632x    \rframe=   51 fps=1.7 q=-0.0 size=N/A time=00:00:01.96 bitrate=N/A speed=0.064x    \rframe=   52 fps=1.7 q=-0.0 size=N/A time=00:00:02.00 bitrate=N/A speed=0.0638x    \rframe=   53 fps=1.7 q=-0.0 size=N/A time=00:00:02.04 bitrate=N/A speed=0.0635x    \rframe=   54 fps=1.6 q=-0.0 size=N/A time=00:00:02.08 bitrate=N/A speed=0.0634x    \rframe=   55 fps=1.7 q=-0.0 size=N/A time=00:00:02.12 bitrate=N/A speed=0.0637x    \rframe=   56 fps=1.7 q=-0.0 size=N/A time=00:00:02.16 bitrate=N/A speed=0.0639x    \rframe=   57 fps=1.7 q=-0.0 size=N/A time=00:00:02.20 bitrate=N/A speed=0.0637x    \rframe=   59 fps=1.7 q=-0.0 size=N/A time=00:00:02.28 bitrate=N/A speed=0.0639x    \rframe=   60 fps=1.7 q=-0.0 size=N/A time=00:00:02.32 bitrate=N/A speed=0.0639x    \rframe=   62 fps=1.6 q=-0.0 size=N/A time=00:00:02.40 bitrate=N/A speed=0.0638x    \rframe=   64 fps=1.7 q=-0.0 size=N/A time=00:00:02.48 bitrate=N/A speed=0.0643x    \rframe=   66 fps=1.7 q=-0.0 size=N/A time=00:00:02.56 bitrate=N/A speed=0.065x    \rframe=   68 fps=1.7 q=-0.0 size=N/A time=00:00:02.64 bitrate=N/A speed=0.0659x    \rframe=   69 fps=1.7 q=-0.0 size=N/A time=00:00:02.68 bitrate=N/A speed=0.066x    \rframe=   70 fps=1.7 q=-0.0 size=N/A time=00:00:02.72 bitrate=N/A speed=0.066x    \rframe=   71 fps=1.7 q=-0.0 size=N/A time=00:00:02.76 bitrate=N/A speed=0.0659x    \rframe=   73 fps=1.7 q=-0.0 size=N/A time=00:00:02.84 bitrate=N/A speed=0.0662x    \rframe=   75 fps=1.7 q=-0.0 size=N/A time=00:00:02.92 bitrate=N/A speed=0.0665x    \rframe=   77 fps=1.7 q=-0.0 size=N/A time=00:00:03.00 bitrate=N/A speed=0.0669x    \rframe=   79 fps=1.7 q=-0.0 size=N/A time=00:00:03.08 bitrate=N/A speed=0.0672x    \rframe=   81 fps=1.7 q=-0.0 size=N/A time=00:00:03.16 bitrate=N/A speed=0.0674x    \rframe=   82 fps=1.7 q=-0.0 size=N/A time=00:00:03.20 bitrate=N/A speed=0.0673x    \rframe=   83 fps=1.7 q=-0.0 size=N/A time=00:00:03.24 bitrate=N/A speed=0.0671x    \rframe=   84 fps=1.7 q=-0.0 size=N/A time=00:00:03.28 bitrate=N/A speed=0.0671x    \rframe=   85 fps=1.7 q=-0.0 size=N/A time=00:00:03.32 bitrate=N/A speed=0.0672x    \rframe=   86 fps=1.7 q=-0.0 size=N/A time=00:00:03.36 bitrate=N/A speed=0.067x    \rframe=   87 fps=1.7 q=-0.0 size=N/A time=00:00:03.40 bitrate=N/A speed=0.067x    \rframe=   89 fps=1.7 q=-0.0 size=N/A time=00:00:03.48 bitrate=N/A speed=0.0673x    \rframe=   91 fps=1.7 q=-0.0 size=N/A time=00:00:03.56 bitrate=N/A speed=0.0676x    \rframe=   92 fps=1.7 q=-0.0 size=N/A time=00:00:03.60 bitrate=N/A speed=0.0674x    \rframe=   94 fps=1.7 q=-0.0 size=N/A time=00:00:03.68 bitrate=N/A speed=0.0677x    \rframe=   95 fps=1.7 q=-0.0 size=N/A time=00:00:03.72 bitrate=N/A speed=0.0676x    \rframe=   96 fps=1.7 q=-0.0 size=N/A time=00:00:03.76 bitrate=N/A speed=0.0677x    \rframe=   97 fps=1.7 q=-0.0 size=N/A time=00:00:03.80 bitrate=N/A speed=0.0677x    \rframe=   99 fps=1.7 q=-0.0 size=N/A time=00:00:03.88 bitrate=N/A speed=0.0679x    \rframe=  100 fps=1.7 q=-0.0 size=N/A time=00:00:03.92 bitrate=N/A speed=0.068x    \rframe=  100 fps=1.7 q=-0.0 Lsize=N/A time=00:00:04.00 bitrate=N/A speed=0.0675x    \n",
            "video:436825kB audio:0kB subtitle:0kB other streams:0kB global headers:0kB muxing overhead: unknown\n"
          ],
          "name": "stdout"
        }
      ]
    },
    {
      "cell_type": "code",
      "metadata": {
        "id": "WhmlMdB4S3PM",
        "outputId": "35b8c55d-48fa-4b54-a49d-d67c2ee8d0ba",
        "colab": {
          "base_uri": "https://localhost:8080/",
          "height": 54
        }
      },
      "source": [
        "!sh JCT_VC_extract_png.sh ClassB_cropped/ParkScene.yuv ClassB_frames/ParkScene/im%d.png 1920 1072 24"
      ],
      "execution_count": null,
      "outputs": [
        {
          "output_type": "stream",
          "text": [
            "frame=    4 fps=2.6 q=-0.0 size=N/A time=00:00:00.08 bitrate=N/A speed=0.0517x    \rframe=    5 fps=2.3 q=-0.0 size=N/A time=00:00:00.12 bitrate=N/A speed=0.0544x    \rframe=    6 fps=2.0 q=-0.0 size=N/A time=00:00:00.16 bitrate=N/A speed=0.0545x    \rframe=    8 fps=2.0 q=-0.0 size=N/A time=00:00:00.24 bitrate=N/A speed=0.0591x    \rframe=    9 fps=1.9 q=-0.0 size=N/A time=00:00:00.28 bitrate=N/A speed=0.0599x    \rframe=   10 fps=1.8 q=-0.0 size=N/A time=00:00:00.32 bitrate=N/A speed=0.0588x    \rframe=   11 fps=1.8 q=-0.0 size=N/A time=00:00:00.36 bitrate=N/A speed=0.0586x    \rframe=   12 fps=1.7 q=-0.0 size=N/A time=00:00:00.40 bitrate=N/A speed=0.0571x    \rframe=   13 fps=1.7 q=-0.0 size=N/A time=00:00:00.44 bitrate=N/A speed=0.0571x    \rframe=   14 fps=1.7 q=-0.0 size=N/A time=00:00:00.48 bitrate=N/A speed=0.0574x    \rframe=   15 fps=1.7 q=-0.0 size=N/A time=00:00:00.52 bitrate=N/A speed=0.0579x    \rframe=   16 fps=1.7 q=-0.0 size=N/A time=00:00:00.56 bitrate=N/A speed=0.0587x    \rframe=   17 fps=1.7 q=-0.0 size=N/A time=00:00:00.60 bitrate=N/A speed=0.0595x    \rframe=   19 fps=1.7 q=-0.0 size=N/A time=00:00:00.68 bitrate=N/A speed=0.0626x    \rframe=   20 fps=1.7 q=-0.0 size=N/A time=00:00:00.72 bitrate=N/A speed=0.063x    \rframe=   21 fps=1.8 q=-0.0 size=N/A time=00:00:00.76 bitrate=N/A speed=0.0633x    \rframe=   22 fps=1.7 q=-0.0 size=N/A time=00:00:00.80 bitrate=N/A speed=0.0631x    \rframe=   23 fps=1.7 q=-0.0 size=N/A time=00:00:00.84 bitrate=N/A speed=0.0637x    \rframe=   24 fps=1.7 q=-0.0 size=N/A time=00:00:00.88 bitrate=N/A speed=0.0626x    \rframe=   26 fps=1.7 q=-0.0 size=N/A time=00:00:00.96 bitrate=N/A speed=0.0639x    \rframe=   27 fps=1.7 q=-0.0 size=N/A time=00:00:01.00 bitrate=N/A speed=0.0643x    \rframe=   28 fps=1.7 q=-0.0 size=N/A time=00:00:01.04 bitrate=N/A speed=0.0643x    \rframe=   29 fps=1.7 q=-0.0 size=N/A time=00:00:01.08 bitrate=N/A speed=0.0647x    \rframe=   31 fps=1.7 q=-0.0 size=N/A time=00:00:01.16 bitrate=N/A speed=0.0655x    \rframe=   32 fps=1.7 q=-0.0 size=N/A time=00:00:01.20 bitrate=N/A speed=0.0653x    \rframe=   33 fps=1.7 q=-0.0 size=N/A time=00:00:01.24 bitrate=N/A speed=0.0654x    \rframe=   35 fps=1.7 q=-0.0 size=N/A time=00:00:01.32 bitrate=N/A speed=0.0656x    \rframe=   36 fps=1.7 q=-0.0 size=N/A time=00:00:01.36 bitrate=N/A speed=0.0659x    \rframe=   38 fps=1.8 q=-0.0 size=N/A time=00:00:01.44 bitrate=N/A speed=0.0668x    \rframe=   40 fps=1.8 q=-0.0 size=N/A time=00:00:01.52 bitrate=N/A speed=0.067x    \rframe=   41 fps=1.8 q=-0.0 size=N/A time=00:00:01.56 bitrate=N/A speed=0.0671x    \rframe=   43 fps=1.8 q=-0.0 size=N/A time=00:00:01.64 bitrate=N/A speed=0.0677x    \rframe=   44 fps=1.8 q=-0.0 size=N/A time=00:00:01.68 bitrate=N/A speed=0.0672x    \rframe=   46 fps=1.8 q=-0.0 size=N/A time=00:00:01.76 bitrate=N/A speed=0.0673x    \rframe=   47 fps=1.8 q=-0.0 size=N/A time=00:00:01.80 bitrate=N/A speed=0.0674x    \rframe=   48 fps=1.7 q=-0.0 size=N/A time=00:00:01.84 bitrate=N/A speed=0.0669x    \rframe=   49 fps=1.7 q=-0.0 size=N/A time=00:00:01.88 bitrate=N/A speed=0.0671x    \rframe=   50 fps=1.8 q=-0.0 size=N/A time=00:00:01.92 bitrate=N/A speed=0.0673x    \rframe=   51 fps=1.8 q=-0.0 size=N/A time=00:00:01.96 bitrate=N/A speed=0.0674x    \rframe=   53 fps=1.8 q=-0.0 size=N/A time=00:00:02.04 bitrate=N/A speed=0.0679x    \rframe=   54 fps=1.8 q=-0.0 size=N/A time=00:00:02.08 bitrate=N/A speed=0.068x    \rframe=   56 fps=1.8 q=-0.0 size=N/A time=00:00:02.16 bitrate=N/A speed=0.0686x    \rframe=   57 fps=1.8 q=-0.0 size=N/A time=00:00:02.20 bitrate=N/A speed=0.0684x    \rframe=   58 fps=1.8 q=-0.0 size=N/A time=00:00:02.24 bitrate=N/A speed=0.0685x    \rframe=   59 fps=1.8 q=-0.0 size=N/A time=00:00:02.28 bitrate=N/A speed=0.0684x    \rframe=   60 fps=1.8 q=-0.0 size=N/A time=00:00:02.32 bitrate=N/A speed=0.0683x    \rframe=   61 fps=1.8 q=-0.0 size=N/A time=00:00:02.36 bitrate=N/A speed=0.0684x    \rframe=   63 fps=1.8 q=-0.0 size=N/A time=00:00:02.44 bitrate=N/A speed=0.0686x    \rframe=   64 fps=1.8 q=-0.0 size=N/A time=00:00:02.48 bitrate=N/A speed=0.0686x    \rframe=   65 fps=1.8 q=-0.0 size=N/A time=00:00:02.52 bitrate=N/A speed=0.0685x    \rframe=   66 fps=1.8 q=-0.0 size=N/A time=00:00:02.56 bitrate=N/A speed=0.0684x    \rframe=   67 fps=1.8 q=-0.0 size=N/A time=00:00:02.60 bitrate=N/A speed=0.0685x    \rframe=   68 fps=1.8 q=-0.0 size=N/A time=00:00:02.64 bitrate=N/A speed=0.0685x    \rframe=   69 fps=1.8 q=-0.0 size=N/A time=00:00:02.68 bitrate=N/A speed=0.0681x    \rframe=   70 fps=1.7 q=-0.0 size=N/A time=00:00:02.72 bitrate=N/A speed=0.0679x    \rframe=   71 fps=1.7 q=-0.0 size=N/A time=00:00:02.76 bitrate=N/A speed=0.0678x    \rframe=   72 fps=1.7 q=-0.0 size=N/A time=00:00:02.80 bitrate=N/A speed=0.0679x    \rframe=   73 fps=1.7 q=-0.0 size=N/A time=00:00:02.84 bitrate=N/A speed=0.0674x    \rframe=   75 fps=1.7 q=-0.0 size=N/A time=00:00:02.92 bitrate=N/A speed=0.0677x    \rframe=   76 fps=1.7 q=-0.0 size=N/A time=00:00:02.96 bitrate=N/A speed=0.0678x    \rframe=   77 fps=1.7 q=-0.0 size=N/A time=00:00:03.00 bitrate=N/A speed=0.0678x    \rframe=   78 fps=1.7 q=-0.0 size=N/A time=00:00:03.04 bitrate=N/A speed=0.0676x    \rframe=   80 fps=1.8 q=-0.0 size=N/A time=00:00:03.12 bitrate=N/A speed=0.0683x    \rframe=   82 fps=1.8 q=-0.0 size=N/A time=00:00:03.20 bitrate=N/A speed=0.0686x    \rframe=   84 fps=1.8 q=-0.0 size=N/A time=00:00:03.28 bitrate=N/A speed=0.0691x    \rframe=   85 fps=1.8 q=-0.0 size=N/A time=00:00:03.32 bitrate=N/A speed=0.0692x    \rframe=   87 fps=1.8 q=-0.0 size=N/A time=00:00:03.40 bitrate=N/A speed=0.0694x    \rframe=   89 fps=1.8 q=-0.0 size=N/A time=00:00:03.48 bitrate=N/A speed=0.0698x    \rframe=   91 fps=1.8 q=-0.0 size=N/A time=00:00:03.56 bitrate=N/A speed=0.07x    \rframe=   92 fps=1.8 q=-0.0 size=N/A time=00:00:03.60 bitrate=N/A speed=0.0697x    \rframe=   93 fps=1.8 q=-0.0 size=N/A time=00:00:03.64 bitrate=N/A speed=0.0697x    \rframe=   94 fps=1.8 q=-0.0 size=N/A time=00:00:03.68 bitrate=N/A speed=0.0695x    \rframe=   96 fps=1.8 q=-0.0 size=N/A time=00:00:03.76 bitrate=N/A speed=0.0699x    \rframe=   97 fps=1.8 q=-0.0 size=N/A time=00:00:03.80 bitrate=N/A speed=0.0698x    \rframe=   99 fps=1.8 q=-0.0 size=N/A time=00:00:03.88 bitrate=N/A speed=0.0696x    \rframe=  100 fps=1.8 q=-0.0 size=N/A time=00:00:03.92 bitrate=N/A speed=0.0695x    \rframe=  100 fps=1.7 q=-0.0 Lsize=N/A time=00:00:04.00 bitrate=N/A speed=0.0686x    \n",
            "video:447623kB audio:0kB subtitle:0kB other streams:0kB global headers:0kB muxing overhead: unknown\n"
          ],
          "name": "stdout"
        }
      ]
    },
    {
      "cell_type": "code",
      "metadata": {
        "id": "QXNf0L9rS3Sx"
      },
      "source": [
        ""
      ],
      "execution_count": null,
      "outputs": []
    },
    {
      "cell_type": "code",
      "metadata": {
        "id": "in5acTQgUAKY"
      },
      "source": [
        ""
      ],
      "execution_count": null,
      "outputs": []
    },
    {
      "cell_type": "code",
      "metadata": {
        "id": "pR3wtJYLVD6Y"
      },
      "source": [
        ""
      ],
      "execution_count": null,
      "outputs": []
    },
    {
      "cell_type": "code",
      "metadata": {
        "id": "gO6xq4z-VEW3",
        "outputId": "9e0df623-93aa-4e50-da79-4bba035946e8",
        "colab": {
          "base_uri": "https://localhost:8080/",
          "height": 54
        }
      },
      "source": [
        "!sh JCT_VC_extract_compressed_pngs.sh ClassB_mkv/BasketballDrive_H264_15.mkv ClassB_compressed_PNGS/BasketballDrive/H264_15/im%d.png"
      ],
      "execution_count": null,
      "outputs": [
        {
          "output_type": "stream",
          "text": [
            "frame=    4 fps=0.0 q=-0.0 size=N/A time=00:00:00.04 bitrate=N/A speed=0.0606x    \rframe=    8 fps=5.6 q=-0.0 size=N/A time=00:00:00.12 bitrate=N/A speed=0.0838x    \rframe=   11 fps=5.4 q=-0.0 size=N/A time=00:00:00.18 bitrate=N/A speed=0.0882x    \rframe=   14 fps=5.3 q=-0.0 size=N/A time=00:00:00.24 bitrate=N/A speed=0.0901x    \rframe=   17 fps=5.1 q=-0.0 size=N/A time=00:00:00.30 bitrate=N/A speed=0.0899x    \rframe=   20 fps=5.1 q=-0.0 size=N/A time=00:00:00.36 bitrate=N/A speed=0.0913x    \rframe=   23 fps=5.1 q=-0.0 size=N/A time=00:00:00.42 bitrate=N/A speed=0.0931x    \rframe=   26 fps=5.0 q=-0.0 size=N/A time=00:00:00.48 bitrate=N/A speed=0.0916x    \rframe=   29 fps=5.0 q=-0.0 size=N/A time=00:00:00.54 bitrate=N/A speed=0.0932x    \rframe=   32 fps=4.9 q=-0.0 size=N/A time=00:00:00.60 bitrate=N/A speed=0.0915x    \rframe=   36 fps=4.9 q=-0.0 size=N/A time=00:00:00.68 bitrate=N/A speed=0.0928x    \rframe=   39 fps=5.0 q=-0.0 size=N/A time=00:00:00.74 bitrate=N/A speed=0.094x    \rframe=   42 fps=4.9 q=-0.0 size=N/A time=00:00:00.80 bitrate=N/A speed=0.0928x    \rframe=   45 fps=4.9 q=-0.0 size=N/A time=00:00:00.86 bitrate=N/A speed=0.0941x    \rframe=   46 fps=4.7 q=-0.0 size=N/A time=00:00:00.88 bitrate=N/A speed=0.0899x    \rframe=   51 fps=4.8 q=-0.0 size=N/A time=00:00:00.98 bitrate=N/A speed=0.0921x    \rframe=   53 fps=4.7 q=-0.0 size=N/A time=00:00:01.02 bitrate=N/A speed=0.0896x    \rframe=   57 fps=4.7 q=-0.0 size=N/A time=00:00:01.10 bitrate=N/A speed=0.0912x    \rframe=   60 fps=4.7 q=-0.0 size=N/A time=00:00:01.16 bitrate=N/A speed=0.0911x    \rframe=   63 fps=4.7 q=-0.0 size=N/A time=00:00:01.22 bitrate=N/A speed=0.0918x    \rframe=   66 fps=4.7 q=-0.0 size=N/A time=00:00:01.28 bitrate=N/A speed=0.0916x    \rframe=   69 fps=4.7 q=-0.0 size=N/A time=00:00:01.34 bitrate=N/A speed=0.0918x    \rframe=   72 fps=4.7 q=-0.0 size=N/A time=00:00:01.40 bitrate=N/A speed=0.092x    \rframe=   75 fps=4.6 q=-0.0 size=N/A time=00:00:01.46 bitrate=N/A speed=0.0903x    \rframe=   77 fps=4.6 q=-0.0 size=N/A time=00:00:01.50 bitrate=N/A speed=0.0899x    \rframe=   80 fps=4.6 q=-0.0 size=N/A time=00:00:01.56 bitrate=N/A speed=0.0903x    \rframe=   83 fps=4.6 q=-0.0 size=N/A time=00:00:01.62 bitrate=N/A speed=0.0901x    \rframe=   86 fps=4.6 q=-0.0 size=N/A time=00:00:01.68 bitrate=N/A speed=0.0903x    \rframe=   89 fps=4.6 q=-0.0 size=N/A time=00:00:01.74 bitrate=N/A speed=0.0903x    \rframe=   92 fps=4.6 q=-0.0 size=N/A time=00:00:01.80 bitrate=N/A speed=0.0906x    \rframe=   95 fps=4.6 q=-0.0 size=N/A time=00:00:01.86 bitrate=N/A speed=0.0903x    \rframe=   98 fps=4.5 q=-0.0 size=N/A time=00:00:01.92 bitrate=N/A speed=0.0887x    \rframe=  100 fps=4.5 q=-0.0 Lsize=N/A time=00:00:02.00 bitrate=N/A speed=0.0897x    \n",
            "video:365442kB audio:0kB subtitle:0kB other streams:0kB global headers:0kB muxing overhead: unknown\n"
          ],
          "name": "stdout"
        }
      ]
    },
    {
      "cell_type": "code",
      "metadata": {
        "id": "C13_d3SvVS-1",
        "outputId": "112132fd-50c1-406f-b703-3ade12516f2a",
        "colab": {
          "base_uri": "https://localhost:8080/",
          "height": 54
        }
      },
      "source": [
        "!sh JCT_VC_extract_compressed_pngs.sh ClassB_mkv/BasketballDrive_H264_19.mkv ClassB_compressed_PNGS/BasketballDrive/H264_19/im%d.png"
      ],
      "execution_count": null,
      "outputs": [
        {
          "output_type": "stream",
          "text": [
            "frame=    4 fps=0.0 q=-0.0 size=N/A time=00:00:00.04 bitrate=N/A speed=0.0766x    \rframe=    8 fps=6.5 q=-0.0 size=N/A time=00:00:00.12 bitrate=N/A speed=0.0969x    \rframe=   12 fps=6.1 q=-0.0 size=N/A time=00:00:00.20 bitrate=N/A speed=0.102x    \rframe=   15 fps=6.1 q=-0.0 size=N/A time=00:00:00.26 bitrate=N/A speed=0.106x    \rframe=   18 fps=5.9 q=-0.0 size=N/A time=00:00:00.32 bitrate=N/A speed=0.105x    \rframe=   21 fps=5.8 q=-0.0 size=N/A time=00:00:00.38 bitrate=N/A speed=0.105x    \rframe=   24 fps=5.6 q=-0.0 size=N/A time=00:00:00.44 bitrate=N/A speed=0.103x    \rframe=   27 fps=5.6 q=-0.0 size=N/A time=00:00:00.50 bitrate=N/A speed=0.104x    \rframe=   30 fps=5.6 q=-0.0 size=N/A time=00:00:00.56 bitrate=N/A speed=0.104x    \rframe=   33 fps=5.6 q=-0.0 size=N/A time=00:00:00.62 bitrate=N/A speed=0.105x    \rframe=   36 fps=5.4 q=-0.0 size=N/A time=00:00:00.68 bitrate=N/A speed=0.102x    \rframe=   40 fps=5.4 q=-0.0 size=N/A time=00:00:00.76 bitrate=N/A speed=0.102x    \rframe=   44 fps=5.3 q=-0.0 size=N/A time=00:00:00.84 bitrate=N/A speed=0.102x    \rframe=   48 fps=5.3 q=-0.0 size=N/A time=00:00:00.92 bitrate=N/A speed=0.102x    \rframe=   51 fps=5.4 q=-0.0 size=N/A time=00:00:00.98 bitrate=N/A speed=0.103x    \rframe=   54 fps=5.3 q=-0.0 size=N/A time=00:00:01.04 bitrate=N/A speed=0.101x    \rframe=   58 fps=5.3 q=-0.0 size=N/A time=00:00:01.12 bitrate=N/A speed=0.101x    \rframe=   62 fps=5.2 q=-0.0 size=N/A time=00:00:01.20 bitrate=N/A speed=0.101x    \rframe=   65 fps=5.3 q=-0.0 size=N/A time=00:00:01.26 bitrate=N/A speed=0.102x    \rframe=   68 fps=5.2 q=-0.0 size=N/A time=00:00:01.32 bitrate=N/A speed=0.101x    \rframe=   72 fps=5.2 q=-0.0 size=N/A time=00:00:01.40 bitrate=N/A speed=0.102x    \rframe=   75 fps=5.3 q=-0.0 size=N/A time=00:00:01.46 bitrate=N/A speed=0.102x    \rframe=   78 fps=5.2 q=-0.0 size=N/A time=00:00:01.52 bitrate=N/A speed=0.102x    \rframe=   81 fps=5.2 q=-0.0 size=N/A time=00:00:01.58 bitrate=N/A speed=0.102x    \rframe=   83 fps=5.1 q=-0.0 size=N/A time=00:00:01.62 bitrate=N/A speed= 0.1x    \rframe=   88 fps=5.2 q=-0.0 size=N/A time=00:00:01.72 bitrate=N/A speed=0.101x    \rframe=   92 fps=5.2 q=-0.0 size=N/A time=00:00:01.80 bitrate=N/A speed=0.102x    \rframe=   95 fps=5.2 q=-0.0 size=N/A time=00:00:01.86 bitrate=N/A speed=0.102x    \rframe=   98 fps=5.2 q=-0.0 size=N/A time=00:00:01.92 bitrate=N/A speed=0.102x    \rframe=  100 fps=5.1 q=-0.0 Lsize=N/A time=00:00:02.00 bitrate=N/A speed=0.102x    \n",
            "video:309900kB audio:0kB subtitle:0kB other streams:0kB global headers:0kB muxing overhead: unknown\n"
          ],
          "name": "stdout"
        }
      ]
    },
    {
      "cell_type": "code",
      "metadata": {
        "id": "2zOJzxABVTlZ",
        "outputId": "765c9989-52ca-49cc-c87a-7ca3025f0825",
        "colab": {
          "base_uri": "https://localhost:8080/",
          "height": 54
        }
      },
      "source": [
        "!sh JCT_VC_extract_compressed_pngs.sh ClassB_mkv/BasketballDrive_H264_23.mkv ClassB_compressed_PNGS/BasketballDrive/H264_23/im%d.png"
      ],
      "execution_count": null,
      "outputs": [
        {
          "output_type": "stream",
          "text": [
            "frame=    4 fps=0.0 q=-0.0 size=N/A time=00:00:00.04 bitrate=N/A speed=0.0693x    \rframe=    8 fps=6.2 q=-0.0 size=N/A time=00:00:00.12 bitrate=N/A speed=0.0937x    \rframe=   12 fps=6.2 q=-0.0 size=N/A time=00:00:00.20 bitrate=N/A speed=0.103x    \rframe=   15 fps=5.9 q=-0.0 size=N/A time=00:00:00.26 bitrate=N/A speed=0.102x    \rframe=   19 fps=6.2 q=-0.0 size=N/A time=00:00:00.34 bitrate=N/A speed=0.111x    \rframe=   22 fps=6.2 q=-0.0 size=N/A time=00:00:00.40 bitrate=N/A speed=0.112x    \rframe=   26 fps=6.2 q=-0.0 size=N/A time=00:00:00.48 bitrate=N/A speed=0.114x    \rframe=   30 fps=6.2 q=-0.0 size=N/A time=00:00:00.56 bitrate=N/A speed=0.115x    \rframe=   34 fps=6.2 q=-0.0 size=N/A time=00:00:00.64 bitrate=N/A speed=0.116x    \rframe=   38 fps=6.2 q=-0.0 size=N/A time=00:00:00.72 bitrate=N/A speed=0.117x    \rframe=   42 fps=6.2 q=-0.0 size=N/A time=00:00:00.80 bitrate=N/A speed=0.118x    \rframe=   46 fps=6.3 q=-0.0 size=N/A time=00:00:00.88 bitrate=N/A speed=0.12x    \rframe=   48 fps=6.0 q=-0.0 size=N/A time=00:00:00.92 bitrate=N/A speed=0.115x    \rframe=   53 fps=6.1 q=-0.0 size=N/A time=00:00:01.02 bitrate=N/A speed=0.117x    \rframe=   57 fps=6.1 q=-0.0 size=N/A time=00:00:01.10 bitrate=N/A speed=0.118x    \rframe=   61 fps=6.1 q=-0.0 size=N/A time=00:00:01.18 bitrate=N/A speed=0.118x    \rframe=   65 fps=6.1 q=-0.0 size=N/A time=00:00:01.26 bitrate=N/A speed=0.119x    \rframe=   69 fps=6.1 q=-0.0 size=N/A time=00:00:01.34 bitrate=N/A speed=0.119x    \rframe=   73 fps=6.1 q=-0.0 size=N/A time=00:00:01.42 bitrate=N/A speed=0.119x    \rframe=   77 fps=6.1 q=-0.0 size=N/A time=00:00:01.50 bitrate=N/A speed=0.118x    \rframe=   80 fps=6.1 q=-0.0 size=N/A time=00:00:01.56 bitrate=N/A speed=0.118x    \rframe=   83 fps=6.0 q=-0.0 size=N/A time=00:00:01.62 bitrate=N/A speed=0.118x    \rframe=   87 fps=6.0 q=-0.0 size=N/A time=00:00:01.70 bitrate=N/A speed=0.118x    \rframe=   91 fps=6.1 q=-0.0 size=N/A time=00:00:01.78 bitrate=N/A speed=0.118x    \rframe=   95 fps=6.0 q=-0.0 size=N/A time=00:00:01.86 bitrate=N/A speed=0.118x    \rframe=   99 fps=6.1 q=-0.0 size=N/A time=00:00:01.94 bitrate=N/A speed=0.119x    \rframe=  100 fps=5.9 q=-0.0 Lsize=N/A time=00:00:02.00 bitrate=N/A speed=0.118x    \n",
            "video:252703kB audio:0kB subtitle:0kB other streams:0kB global headers:0kB muxing overhead: unknown\n"
          ],
          "name": "stdout"
        }
      ]
    },
    {
      "cell_type": "code",
      "metadata": {
        "id": "Rzcmrww0VTp_",
        "outputId": "58fab2fe-b4a0-43c1-d6a5-0ed1f405c73f",
        "colab": {
          "base_uri": "https://localhost:8080/",
          "height": 54
        }
      },
      "source": [
        "!sh JCT_VC_extract_compressed_pngs.sh ClassB_mkv/BasketballDrive_H264_27.mkv ClassB_compressed_PNGS/BasketballDrive/H264_27/im%d.png"
      ],
      "execution_count": null,
      "outputs": [
        {
          "output_type": "stream",
          "text": [
            "frame=    6 fps=0.0 q=-0.0 size=N/A time=00:00:00.08 bitrate=N/A speed=0.112x    \rframe=   10 fps=7.6 q=-0.0 size=N/A time=00:00:00.16 bitrate=N/A speed=0.122x    \rframe=   14 fps=7.5 q=-0.0 size=N/A time=00:00:00.24 bitrate=N/A speed=0.128x    \rframe=   18 fps=7.3 q=-0.0 size=N/A time=00:00:00.32 bitrate=N/A speed=0.13x    \rframe=   22 fps=7.4 q=-0.0 size=N/A time=00:00:00.40 bitrate=N/A speed=0.134x    \rframe=   26 fps=7.3 q=-0.0 size=N/A time=00:00:00.48 bitrate=N/A speed=0.135x    \rframe=   30 fps=7.4 q=-0.0 size=N/A time=00:00:00.56 bitrate=N/A speed=0.138x    \rframe=   34 fps=7.4 q=-0.0 size=N/A time=00:00:00.64 bitrate=N/A speed=0.138x    \rframe=   38 fps=7.4 q=-0.0 size=N/A time=00:00:00.72 bitrate=N/A speed=0.14x    \rframe=   42 fps=7.4 q=-0.0 size=N/A time=00:00:00.80 bitrate=N/A speed=0.141x    \rframe=   46 fps=7.4 q=-0.0 size=N/A time=00:00:00.88 bitrate=N/A speed=0.142x    \rframe=   50 fps=7.4 q=-0.0 size=N/A time=00:00:00.96 bitrate=N/A speed=0.143x    \rframe=   54 fps=7.4 q=-0.0 size=N/A time=00:00:01.04 bitrate=N/A speed=0.143x    \rframe=   57 fps=7.3 q=-0.0 size=N/A time=00:00:01.10 bitrate=N/A speed=0.14x    \rframe=   61 fps=7.2 q=-0.0 size=N/A time=00:00:01.18 bitrate=N/A speed=0.14x    \rframe=   65 fps=7.2 q=-0.0 size=N/A time=00:00:01.26 bitrate=N/A speed=0.14x    \rframe=   69 fps=7.2 q=-0.0 size=N/A time=00:00:01.34 bitrate=N/A speed=0.139x    \rframe=   73 fps=7.1 q=-0.0 size=N/A time=00:00:01.42 bitrate=N/A speed=0.138x    \rframe=   77 fps=7.1 q=-0.0 size=N/A time=00:00:01.50 bitrate=N/A speed=0.139x    \rframe=   81 fps=7.1 q=-0.0 size=N/A time=00:00:01.58 bitrate=N/A speed=0.139x    \rframe=   84 fps=7.1 q=-0.0 size=N/A time=00:00:01.64 bitrate=N/A speed=0.138x    \rframe=   88 fps=7.1 q=-0.0 size=N/A time=00:00:01.72 bitrate=N/A speed=0.139x    \rframe=   92 fps=7.1 q=-0.0 size=N/A time=00:00:01.80 bitrate=N/A speed=0.139x    \rframe=   96 fps=7.0 q=-0.0 size=N/A time=00:00:01.88 bitrate=N/A speed=0.138x    \rframe=  100 fps=6.9 q=-0.0 Lsize=N/A time=00:00:02.00 bitrate=N/A speed=0.139x    \n",
            "video:216968kB audio:0kB subtitle:0kB other streams:0kB global headers:0kB muxing overhead: unknown\n"
          ],
          "name": "stdout"
        }
      ]
    },
    {
      "cell_type": "code",
      "metadata": {
        "id": "zpb44y6JVTuJ"
      },
      "source": [
        ""
      ],
      "execution_count": null,
      "outputs": []
    },
    {
      "cell_type": "code",
      "metadata": {
        "id": "yoNQgugWVgGw",
        "outputId": "7c2bc55b-adb2-416b-dfc6-57e4e2791fa3",
        "colab": {
          "base_uri": "https://localhost:8080/",
          "height": 54
        }
      },
      "source": [
        "!sh JCT_VC_extract_compressed_pngs.sh ClassB_mkv/BasketballDrive_H265_15.mkv ClassB_compressed_PNGS/BasketballDrive/H265_15/im%d.png"
      ],
      "execution_count": null,
      "outputs": [
        {
          "output_type": "stream",
          "text": [
            "frame=    4 fps=0.0 q=-0.0 size=N/A time=00:00:00.04 bitrate=N/A speed=0.0474x    \rframe=    7 fps=5.2 q=-0.0 size=N/A time=00:00:00.10 bitrate=N/A speed=0.0739x    \rframe=    8 fps=4.2 q=-0.0 size=N/A time=00:00:00.12 bitrate=N/A speed=0.0634x    \rframe=   11 fps=4.4 q=-0.0 size=N/A time=00:00:00.18 bitrate=N/A speed=0.0728x    \rframe=   14 fps=4.5 q=-0.0 size=N/A time=00:00:00.24 bitrate=N/A speed=0.077x    \rframe=   16 fps=4.4 q=-0.0 size=N/A time=00:00:00.28 bitrate=N/A speed=0.0771x    \rframe=   18 fps=4.3 q=-0.0 size=N/A time=00:00:00.32 bitrate=N/A speed=0.077x    \rframe=   21 fps=4.4 q=-0.0 size=N/A time=00:00:00.38 bitrate=N/A speed=0.079x    \rframe=   24 fps=4.3 q=-0.0 size=N/A time=00:00:00.44 bitrate=N/A speed=0.0791x    \rframe=   27 fps=4.4 q=-0.0 size=N/A time=00:00:00.50 bitrate=N/A speed=0.0815x    \rframe=   30 fps=4.4 q=-0.0 size=N/A time=00:00:00.56 bitrate=N/A speed=0.0817x    \rframe=   33 fps=4.4 q=-0.0 size=N/A time=00:00:00.62 bitrate=N/A speed=0.0821x    \rframe=   36 fps=4.4 q=-0.0 size=N/A time=00:00:00.68 bitrate=N/A speed=0.0834x    \rframe=   38 fps=4.4 q=-0.0 size=N/A time=00:00:00.72 bitrate=N/A speed=0.0831x    \rframe=   40 fps=4.3 q=-0.0 size=N/A time=00:00:00.76 bitrate=N/A speed=0.0818x    \rframe=   43 fps=4.3 q=-0.0 size=N/A time=00:00:00.82 bitrate=N/A speed=0.0829x    \rframe=   46 fps=4.3 q=-0.0 size=N/A time=00:00:00.88 bitrate=N/A speed=0.0831x    \rframe=   50 fps=4.3 q=-0.0 size=N/A time=00:00:00.96 bitrate=N/A speed=0.0832x    \rframe=   53 fps=4.4 q=-0.0 size=N/A time=00:00:01.02 bitrate=N/A speed=0.0838x    \rframe=   56 fps=4.4 q=-0.0 size=N/A time=00:00:01.08 bitrate=N/A speed=0.084x    \rframe=   58 fps=4.3 q=-0.0 size=N/A time=00:00:01.12 bitrate=N/A speed=0.0835x    \rframe=   61 fps=4.3 q=-0.0 size=N/A time=00:00:01.18 bitrate=N/A speed=0.0834x    \rframe=   64 fps=4.3 q=-0.0 size=N/A time=00:00:01.24 bitrate=N/A speed=0.0827x    \rframe=   67 fps=4.3 q=-0.0 size=N/A time=00:00:01.30 bitrate=N/A speed=0.0836x    \rframe=   70 fps=4.3 q=-0.0 size=N/A time=00:00:01.36 bitrate=N/A speed=0.0838x    \rframe=   73 fps=4.3 q=-0.0 size=N/A time=00:00:01.42 bitrate=N/A speed=0.0828x    \rframe=   76 fps=4.3 q=-0.0 size=N/A time=00:00:01.48 bitrate=N/A speed=0.0834x    \rframe=   79 fps=4.3 q=-0.0 size=N/A time=00:00:01.54 bitrate=N/A speed=0.0838x    \rframe=   81 fps=4.3 q=-0.0 size=N/A time=00:00:01.58 bitrate=N/A speed=0.0836x    \rframe=   84 fps=4.3 q=-0.0 size=N/A time=00:00:01.64 bitrate=N/A speed=0.0839x    \rframe=   87 fps=4.3 q=-0.0 size=N/A time=00:00:01.70 bitrate=N/A speed=0.0837x    \rframe=   90 fps=4.3 q=-0.0 size=N/A time=00:00:01.76 bitrate=N/A speed=0.0841x    \rframe=   93 fps=4.3 q=-0.0 size=N/A time=00:00:01.82 bitrate=N/A speed=0.0841x    \rframe=   95 fps=4.3 q=-0.0 size=N/A time=00:00:01.86 bitrate=N/A speed=0.0839x    \rframe=   97 fps=4.3 q=-0.0 size=N/A time=00:00:01.90 bitrate=N/A speed=0.0834x    \rframe=  100 fps=4.3 q=-0.0 size=N/A time=00:00:01.96 bitrate=N/A speed=0.0841x    \rframe=  100 fps=4.2 q=-0.0 Lsize=N/A time=00:00:02.00 bitrate=N/A speed=0.0837x    \n",
            "video:353260kB audio:0kB subtitle:0kB other streams:0kB global headers:0kB muxing overhead: unknown\n"
          ],
          "name": "stdout"
        }
      ]
    },
    {
      "cell_type": "code",
      "metadata": {
        "id": "EnDN1713VgG7",
        "outputId": "bf539ca8-f112-4b15-b0d6-2060b2d53da8",
        "colab": {
          "base_uri": "https://localhost:8080/",
          "height": 54
        }
      },
      "source": [
        "!sh JCT_VC_extract_compressed_pngs.sh ClassB_mkv/BasketballDrive_H265_19.mkv ClassB_compressed_PNGS/BasketballDrive/H265_19/im%d.png"
      ],
      "execution_count": null,
      "outputs": [
        {
          "output_type": "stream",
          "text": [
            "frame=    4 fps=0.0 q=-0.0 size=N/A time=00:00:00.04 bitrate=N/A speed=0.0626x    \rframe=    8 fps=5.8 q=-0.0 size=N/A time=00:00:00.12 bitrate=N/A speed=0.0872x    \rframe=   11 fps=5.6 q=-0.0 size=N/A time=00:00:00.18 bitrate=N/A speed=0.092x    \rframe=   14 fps=5.3 q=-0.0 size=N/A time=00:00:00.24 bitrate=N/A speed=0.091x    \rframe=   18 fps=5.1 q=-0.0 size=N/A time=00:00:00.32 bitrate=N/A speed=0.0905x    \rframe=   22 fps=5.1 q=-0.0 size=N/A time=00:00:00.40 bitrate=N/A speed=0.0933x    \rframe=   26 fps=5.1 q=-0.0 size=N/A time=00:00:00.48 bitrate=N/A speed=0.0942x    \rframe=   30 fps=5.1 q=-0.0 size=N/A time=00:00:00.56 bitrate=N/A speed=0.0954x    \rframe=   33 fps=5.2 q=-0.0 size=N/A time=00:00:00.62 bitrate=N/A speed=0.0973x    \rframe=   36 fps=5.0 q=-0.0 size=N/A time=00:00:00.68 bitrate=N/A speed=0.0948x    \rframe=   40 fps=5.1 q=-0.0 size=N/A time=00:00:00.76 bitrate=N/A speed=0.0971x    \rframe=   43 fps=5.0 q=-0.0 size=N/A time=00:00:00.82 bitrate=N/A speed=0.0963x    \rframe=   46 fps=5.1 q=-0.0 size=N/A time=00:00:00.88 bitrate=N/A speed=0.097x    \rframe=   49 fps=5.0 q=-0.0 size=N/A time=00:00:00.94 bitrate=N/A speed=0.0965x    \rframe=   52 fps=5.0 q=-0.0 size=N/A time=00:00:01.00 bitrate=N/A speed=0.0968x    \rframe=   55 fps=5.0 q=-0.0 size=N/A time=00:00:01.06 bitrate=N/A speed=0.0964x    \rframe=   58 fps=5.0 q=-0.0 size=N/A time=00:00:01.12 bitrate=N/A speed=0.0966x    \rframe=   61 fps=5.0 q=-0.0 size=N/A time=00:00:01.18 bitrate=N/A speed=0.0969x    \rframe=   63 fps=4.9 q=-0.0 size=N/A time=00:00:01.22 bitrate=N/A speed=0.0948x    \rframe=   67 fps=4.9 q=-0.0 size=N/A time=00:00:01.30 bitrate=N/A speed=0.0954x    \rframe=   71 fps=4.9 q=-0.0 size=N/A time=00:00:01.38 bitrate=N/A speed=0.0956x    \rframe=   74 fps=4.9 q=-0.0 size=N/A time=00:00:01.44 bitrate=N/A speed=0.0961x    \rframe=   77 fps=4.9 q=-0.0 size=N/A time=00:00:01.50 bitrate=N/A speed=0.095x    \rframe=   81 fps=4.9 q=-0.0 size=N/A time=00:00:01.58 bitrate=N/A speed=0.095x    \rframe=   84 fps=4.9 q=-0.0 size=N/A time=00:00:01.64 bitrate=N/A speed=0.0955x    \rframe=   87 fps=4.9 q=-0.0 size=N/A time=00:00:01.70 bitrate=N/A speed=0.0951x    \rframe=   91 fps=4.9 q=-0.0 size=N/A time=00:00:01.78 bitrate=N/A speed=0.0951x    \rframe=   95 fps=4.9 q=-0.0 size=N/A time=00:00:01.86 bitrate=N/A speed=0.0952x    \rframe=   97 fps=4.8 q=-0.0 size=N/A time=00:00:01.90 bitrate=N/A speed=0.0945x    \rframe=  100 fps=4.7 q=-0.0 Lsize=N/A time=00:00:02.00 bitrate=N/A speed=0.0949x    \n",
            "video:312948kB audio:0kB subtitle:0kB other streams:0kB global headers:0kB muxing overhead: unknown\n"
          ],
          "name": "stdout"
        }
      ]
    },
    {
      "cell_type": "code",
      "metadata": {
        "id": "pVwf6BNpVgHD",
        "outputId": "5075db8d-7eb4-4ae6-ef5a-1d8d1e17e382",
        "colab": {
          "base_uri": "https://localhost:8080/",
          "height": 54
        }
      },
      "source": [
        "!sh JCT_VC_extract_compressed_pngs.sh ClassB_mkv/BasketballDrive_H265_23.mkv ClassB_compressed_PNGS/BasketballDrive/H265_23/im%d.png"
      ],
      "execution_count": null,
      "outputs": [
        {
          "output_type": "stream",
          "text": [
            "frame=    4 fps=0.0 q=-0.0 size=N/A time=00:00:00.04 bitrate=N/A speed=0.0738x    \rframe=    8 fps=6.2 q=-0.0 size=N/A time=00:00:00.12 bitrate=N/A speed=0.093x    \rframe=   12 fps=6.1 q=-0.0 size=N/A time=00:00:00.20 bitrate=N/A speed=0.102x    \rframe=   16 fps=6.0 q=-0.0 size=N/A time=00:00:00.28 bitrate=N/A speed=0.104x    \rframe=   20 fps=6.0 q=-0.0 size=N/A time=00:00:00.36 bitrate=N/A speed=0.108x    \rframe=   23 fps=6.0 q=-0.0 size=N/A time=00:00:00.42 bitrate=N/A speed=0.109x    \rframe=   26 fps=5.9 q=-0.0 size=N/A time=00:00:00.48 bitrate=N/A speed=0.109x    \rframe=   29 fps=5.9 q=-0.0 size=N/A time=00:00:00.54 bitrate=N/A speed=0.109x    \rframe=   33 fps=5.8 q=-0.0 size=N/A time=00:00:00.62 bitrate=N/A speed=0.11x    \rframe=   37 fps=5.8 q=-0.0 size=N/A time=00:00:00.70 bitrate=N/A speed=0.11x    \rframe=   41 fps=5.8 q=-0.0 size=N/A time=00:00:00.78 bitrate=N/A speed=0.11x    \rframe=   45 fps=5.7 q=-0.0 size=N/A time=00:00:00.86 bitrate=N/A speed=0.11x    \rframe=   49 fps=5.7 q=-0.0 size=N/A time=00:00:00.94 bitrate=N/A speed=0.109x    \rframe=   53 fps=5.7 q=-0.0 size=N/A time=00:00:01.02 bitrate=N/A speed=0.11x    \rframe=   56 fps=5.7 q=-0.0 size=N/A time=00:00:01.08 bitrate=N/A speed=0.11x    \rframe=   60 fps=5.7 q=-0.0 size=N/A time=00:00:01.16 bitrate=N/A speed=0.11x    \rframe=   64 fps=5.7 q=-0.0 size=N/A time=00:00:01.24 bitrate=N/A speed=0.11x    \rframe=   68 fps=5.7 q=-0.0 size=N/A time=00:00:01.32 bitrate=N/A speed=0.11x    \rframe=   71 fps=5.7 q=-0.0 size=N/A time=00:00:01.38 bitrate=N/A speed=0.11x    \rframe=   74 fps=5.6 q=-0.0 size=N/A time=00:00:01.44 bitrate=N/A speed=0.11x    \rframe=   77 fps=5.6 q=-0.0 size=N/A time=00:00:01.50 bitrate=N/A speed=0.109x    \rframe=   79 fps=5.5 q=-0.0 size=N/A time=00:00:01.54 bitrate=N/A speed=0.107x    \rframe=   84 fps=5.5 q=-0.0 size=N/A time=00:00:01.64 bitrate=N/A speed=0.108x    \rframe=   88 fps=5.5 q=-0.0 size=N/A time=00:00:01.72 bitrate=N/A speed=0.107x    \rframe=   92 fps=5.5 q=-0.0 size=N/A time=00:00:01.80 bitrate=N/A speed=0.108x    \rframe=   96 fps=5.5 q=-0.0 size=N/A time=00:00:01.88 bitrate=N/A speed=0.108x    \rframe=  100 fps=5.5 q=-0.0 size=N/A time=00:00:01.96 bitrate=N/A speed=0.109x    \rframe=  100 fps=5.4 q=-0.0 Lsize=N/A time=00:00:02.00 bitrate=N/A speed=0.109x    \n",
            "video:285582kB audio:0kB subtitle:0kB other streams:0kB global headers:0kB muxing overhead: unknown\n"
          ],
          "name": "stdout"
        }
      ]
    },
    {
      "cell_type": "code",
      "metadata": {
        "id": "fKpNsZlTVgHO",
        "outputId": "0aa14df8-ae50-4e55-b0d0-103df942c741",
        "colab": {
          "base_uri": "https://localhost:8080/",
          "height": 54
        }
      },
      "source": [
        "!sh JCT_VC_extract_compressed_pngs.sh ClassB_mkv/BasketballDrive_H265_27.mkv ClassB_compressed_PNGS/BasketballDrive/H265_27/im%d.png"
      ],
      "execution_count": null,
      "outputs": [
        {
          "output_type": "stream",
          "text": [
            "frame=    6 fps=0.0 q=-0.0 size=N/A time=00:00:00.08 bitrate=N/A speed=0.0878x    \rframe=   10 fps=6.3 q=-0.0 size=N/A time=00:00:00.16 bitrate=N/A speed=0.101x    \rframe=   14 fps=6.1 q=-0.0 size=N/A time=00:00:00.24 bitrate=N/A speed=0.105x    \rframe=   18 fps=6.2 q=-0.0 size=N/A time=00:00:00.32 bitrate=N/A speed=0.11x    \rframe=   22 fps=6.2 q=-0.0 size=N/A time=00:00:00.40 bitrate=N/A speed=0.112x    \rframe=   26 fps=6.2 q=-0.0 size=N/A time=00:00:00.48 bitrate=N/A speed=0.115x    \rframe=   30 fps=6.3 q=-0.0 size=N/A time=00:00:00.56 bitrate=N/A speed=0.117x    \rframe=   33 fps=6.2 q=-0.0 size=N/A time=00:00:00.62 bitrate=N/A speed=0.116x    \rframe=   37 fps=6.2 q=-0.0 size=N/A time=00:00:00.70 bitrate=N/A speed=0.118x    \rframe=   41 fps=6.2 q=-0.0 size=N/A time=00:00:00.78 bitrate=N/A speed=0.118x    \rframe=   45 fps=6.1 q=-0.0 size=N/A time=00:00:00.86 bitrate=N/A speed=0.117x    \rframe=   49 fps=6.2 q=-0.0 size=N/A time=00:00:00.94 bitrate=N/A speed=0.118x    \rframe=   53 fps=6.1 q=-0.0 size=N/A time=00:00:01.02 bitrate=N/A speed=0.118x    \rframe=   57 fps=6.1 q=-0.0 size=N/A time=00:00:01.10 bitrate=N/A speed=0.118x    \rframe=   61 fps=6.1 q=-0.0 size=N/A time=00:00:01.18 bitrate=N/A speed=0.117x    \rframe=   65 fps=6.1 q=-0.0 size=N/A time=00:00:01.26 bitrate=N/A speed=0.118x    \rframe=   69 fps=6.0 q=-0.0 size=N/A time=00:00:01.34 bitrate=N/A speed=0.117x    \rframe=   73 fps=6.0 q=-0.0 size=N/A time=00:00:01.42 bitrate=N/A speed=0.117x    \rframe=   77 fps=6.0 q=-0.0 size=N/A time=00:00:01.50 bitrate=N/A speed=0.117x    \rframe=   81 fps=6.0 q=-0.0 size=N/A time=00:00:01.58 bitrate=N/A speed=0.117x    \rframe=   84 fps=6.0 q=-0.0 size=N/A time=00:00:01.64 bitrate=N/A speed=0.117x    \rframe=   87 fps=5.9 q=-0.0 size=N/A time=00:00:01.70 bitrate=N/A speed=0.116x    \rframe=   91 fps=5.9 q=-0.0 size=N/A time=00:00:01.78 bitrate=N/A speed=0.116x    \rframe=   94 fps=5.9 q=-0.0 size=N/A time=00:00:01.84 bitrate=N/A speed=0.115x    \rframe=   98 fps=5.9 q=-0.0 size=N/A time=00:00:01.92 bitrate=N/A speed=0.116x    \rframe=  100 fps=5.8 q=-0.0 Lsize=N/A time=00:00:02.00 bitrate=N/A speed=0.116x    \n",
            "video:267527kB audio:0kB subtitle:0kB other streams:0kB global headers:0kB muxing overhead: unknown\n"
          ],
          "name": "stdout"
        }
      ]
    },
    {
      "cell_type": "code",
      "metadata": {
        "id": "4PacATArVT_Q"
      },
      "source": [
        ""
      ],
      "execution_count": null,
      "outputs": []
    },
    {
      "cell_type": "code",
      "metadata": {
        "id": "5nGUEwvZVt9S"
      },
      "source": [
        ""
      ],
      "execution_count": null,
      "outputs": []
    },
    {
      "cell_type": "code",
      "metadata": {
        "id": "tk6ED1-pVuNA",
        "outputId": "79fa462d-e958-418a-d69f-074c6ee039de",
        "colab": {
          "base_uri": "https://localhost:8080/",
          "height": 54
        }
      },
      "source": [
        "!sh JCT_VC_extract_compressed_pngs.sh ClassB_mkv/BQTerrace_H264_15.mkv ClassB_compressed_PNGS/BQTerrace/H264_15/im%d.png"
      ],
      "execution_count": null,
      "outputs": [
        {
          "output_type": "stream",
          "text": [
            "frame=    4 fps=0.0 q=-0.0 size=N/A time=00:00:00.03 bitrate=N/A speed=0.0412x    \rframe=    8 fps=5.8 q=-0.0 size=N/A time=00:00:00.10 bitrate=N/A speed=0.0723x    \rframe=    9 fps=4.8 q=-0.0 size=N/A time=00:00:00.11 bitrate=N/A speed=0.0619x    \rframe=   13 fps=4.8 q=-0.0 size=N/A time=00:00:00.18 bitrate=N/A speed=0.0671x    \rframe=   16 fps=4.8 q=-0.0 size=N/A time=00:00:00.23 bitrate=N/A speed=0.0702x    \rframe=   18 fps=4.7 q=-0.0 size=N/A time=00:00:00.26 bitrate=N/A speed=0.0695x    \rframe=   21 fps=4.5 q=-0.0 size=N/A time=00:00:00.31 bitrate=N/A speed=0.068x    \rframe=   24 fps=4.6 q=-0.0 size=N/A time=00:00:00.36 bitrate=N/A speed=0.0702x    \rframe=   27 fps=4.5 q=-0.0 size=N/A time=00:00:00.41 bitrate=N/A speed=0.0695x    \rframe=   29 fps=4.5 q=-0.0 size=N/A time=00:00:00.45 bitrate=N/A speed=0.0692x    \rframe=   32 fps=4.6 q=-0.0 size=N/A time=00:00:00.50 bitrate=N/A speed=0.0713x    \rframe=   35 fps=4.4 q=-0.0 size=N/A time=00:00:00.55 bitrate=N/A speed=0.0697x    \rframe=   37 fps=4.4 q=-0.0 size=N/A time=00:00:00.58 bitrate=N/A speed=0.0692x    \rframe=   40 fps=4.4 q=-0.0 size=N/A time=00:00:00.63 bitrate=N/A speed=0.07x    \rframe=   43 fps=4.4 q=-0.0 size=N/A time=00:00:00.68 bitrate=N/A speed=0.0695x    \rframe=   46 fps=4.4 q=-0.0 size=N/A time=00:00:00.73 bitrate=N/A speed=0.0701x    \rframe=   49 fps=4.3 q=-0.0 size=N/A time=00:00:00.78 bitrate=N/A speed=0.0695x    \rframe=   52 fps=4.4 q=-0.0 size=N/A time=00:00:00.83 bitrate=N/A speed=0.0707x    \rframe=   55 fps=4.4 q=-0.0 size=N/A time=00:00:00.88 bitrate=N/A speed=0.0699x    \rframe=   59 fps=4.3 q=-0.0 size=N/A time=00:00:00.95 bitrate=N/A speed=0.07x    \rframe=   62 fps=4.4 q=-0.0 size=N/A time=00:00:01.00 bitrate=N/A speed=0.0706x    \rframe=   65 fps=4.3 q=-0.0 size=N/A time=00:00:01.05 bitrate=N/A speed=0.0698x    \rframe=   68 fps=4.3 q=-0.0 size=N/A time=00:00:01.10 bitrate=N/A speed=0.0704x    \rframe=   71 fps=4.3 q=-0.0 size=N/A time=00:00:01.15 bitrate=N/A speed=0.0701x    \rframe=   74 fps=4.4 q=-0.0 size=N/A time=00:00:01.20 bitrate=N/A speed=0.0707x    \rframe=   77 fps=4.3 q=-0.0 size=N/A time=00:00:01.25 bitrate=N/A speed=0.0704x    \rframe=   79 fps=4.3 q=-0.0 size=N/A time=00:00:01.28 bitrate=N/A speed=0.0702x    \rframe=   83 fps=4.3 q=-0.0 size=N/A time=00:00:01.35 bitrate=N/A speed=0.0705x    \rframe=   86 fps=4.4 q=-0.0 size=N/A time=00:00:01.40 bitrate=N/A speed=0.0709x    \rframe=   89 fps=4.3 q=-0.0 size=N/A time=00:00:01.45 bitrate=N/A speed=0.0703x    \rframe=   92 fps=4.4 q=-0.0 size=N/A time=00:00:01.50 bitrate=N/A speed=0.071x    \rframe=   95 fps=4.3 q=-0.0 size=N/A time=00:00:01.55 bitrate=N/A speed=0.0705x    \rframe=   98 fps=4.4 q=-0.0 size=N/A time=00:00:01.60 bitrate=N/A speed=0.0711x    \rframe=  100 fps=4.2 q=-0.0 Lsize=N/A time=00:00:01.66 bitrate=N/A speed=0.0708x    \n",
            "video:403188kB audio:0kB subtitle:0kB other streams:0kB global headers:0kB muxing overhead: unknown\n"
          ],
          "name": "stdout"
        }
      ]
    },
    {
      "cell_type": "code",
      "metadata": {
        "id": "JZkEHvU-VuNS",
        "outputId": "849cf6ea-32ad-4258-ca1f-17a22994c9f4",
        "colab": {
          "base_uri": "https://localhost:8080/",
          "height": 54
        }
      },
      "source": [
        "!sh JCT_VC_extract_compressed_pngs.sh ClassB_mkv/BQTerrace_H264_19.mkv ClassB_compressed_PNGS/BQTerrace/H264_19/im%d.png"
      ],
      "execution_count": null,
      "outputs": [
        {
          "output_type": "stream",
          "text": [
            "frame=    4 fps=0.0 q=-0.0 size=N/A time=00:00:00.03 bitrate=N/A speed=0.0394x    \rframe=    7 fps=5.2 q=-0.0 size=N/A time=00:00:00.08 bitrate=N/A speed=0.0613x    \rframe=   10 fps=5.3 q=-0.0 size=N/A time=00:00:00.13 bitrate=N/A speed=0.0713x    \rframe=   13 fps=4.8 q=-0.0 size=N/A time=00:00:00.18 bitrate=N/A speed=0.0671x    \rframe=   17 fps=4.8 q=-0.0 size=N/A time=00:00:00.25 bitrate=N/A speed=0.0699x    \rframe=   20 fps=4.9 q=-0.0 size=N/A time=00:00:00.30 bitrate=N/A speed=0.0729x    \rframe=   23 fps=4.7 q=-0.0 size=N/A time=00:00:00.35 bitrate=N/A speed=0.0716x    \rframe=   27 fps=4.7 q=-0.0 size=N/A time=00:00:00.41 bitrate=N/A speed=0.0729x    \rframe=   30 fps=4.7 q=-0.0 size=N/A time=00:00:00.46 bitrate=N/A speed=0.0737x    \rframe=   33 fps=4.7 q=-0.0 size=N/A time=00:00:00.51 bitrate=N/A speed=0.0733x    \rframe=   37 fps=4.7 q=-0.0 size=N/A time=00:00:00.58 bitrate=N/A speed=0.0734x    \rframe=   39 fps=4.6 q=-0.0 size=N/A time=00:00:00.61 bitrate=N/A speed=0.0729x    \rframe=   42 fps=4.7 q=-0.0 size=N/A time=00:00:00.66 bitrate=N/A speed=0.0743x    \rframe=   45 fps=4.6 q=-0.0 size=N/A time=00:00:00.71 bitrate=N/A speed=0.0732x    \rframe=   49 fps=4.6 q=-0.0 size=N/A time=00:00:00.78 bitrate=N/A speed=0.0731x    \rframe=   53 fps=4.6 q=-0.0 size=N/A time=00:00:00.85 bitrate=N/A speed=0.0736x    \rframe=   56 fps=4.6 q=-0.0 size=N/A time=00:00:00.90 bitrate=N/A speed=0.0742x    \rframe=   59 fps=4.6 q=-0.0 size=N/A time=00:00:00.95 bitrate=N/A speed=0.0744x    \rframe=   62 fps=4.5 q=-0.0 size=N/A time=00:00:01.00 bitrate=N/A speed=0.0733x    \rframe=   66 fps=4.6 q=-0.0 size=N/A time=00:00:01.06 bitrate=N/A speed=0.0736x    \rframe=   70 fps=4.6 q=-0.0 size=N/A time=00:00:01.13 bitrate=N/A speed=0.0739x    \rframe=   73 fps=4.6 q=-0.0 size=N/A time=00:00:01.18 bitrate=N/A speed=0.0746x    \rframe=   76 fps=4.6 q=-0.0 size=N/A time=00:00:01.23 bitrate=N/A speed=0.0746x    \rframe=   78 fps=4.6 q=-0.0 size=N/A time=00:00:01.26 bitrate=N/A speed=0.074x    \rframe=   81 fps=4.6 q=-0.0 size=N/A time=00:00:01.31 bitrate=N/A speed=0.0746x    \rframe=   84 fps=4.6 q=-0.0 size=N/A time=00:00:01.36 bitrate=N/A speed=0.0748x    \rframe=   87 fps=4.6 q=-0.0 size=N/A time=00:00:01.41 bitrate=N/A speed=0.0746x    \rframe=   89 fps=4.6 q=-0.0 size=N/A time=00:00:01.45 bitrate=N/A speed=0.0742x    \rframe=   92 fps=4.6 q=-0.0 size=N/A time=00:00:01.50 bitrate=N/A speed=0.0746x    \rframe=   95 fps=4.6 q=-0.0 size=N/A time=00:00:01.55 bitrate=N/A speed=0.0743x    \rframe=   98 fps=4.6 q=-0.0 size=N/A time=00:00:01.60 bitrate=N/A speed=0.0748x    \rframe=  100 fps=4.4 q=-0.0 Lsize=N/A time=00:00:01.66 bitrate=N/A speed=0.0741x    \n",
            "video:369410kB audio:0kB subtitle:0kB other streams:0kB global headers:0kB muxing overhead: unknown\n"
          ],
          "name": "stdout"
        }
      ]
    },
    {
      "cell_type": "code",
      "metadata": {
        "id": "JCv7ZkjnVuNk",
        "outputId": "5eb76b51-94ec-4c31-8547-79298139b3b1",
        "colab": {
          "base_uri": "https://localhost:8080/",
          "height": 54
        }
      },
      "source": [
        "!sh JCT_VC_extract_compressed_pngs.sh ClassB_mkv/BQTerrace_H264_23.mkv ClassB_compressed_PNGS/BQTerrace/H264_23/im%d.png"
      ],
      "execution_count": null,
      "outputs": [
        {
          "output_type": "stream",
          "text": [
            "frame=    4 fps=0.0 q=-0.0 size=N/A time=00:00:00.03 bitrate=N/A speed=0.0417x    \rframe=    8 fps=5.6 q=-0.0 size=N/A time=00:00:00.10 bitrate=N/A speed=0.0702x    \rframe=   11 fps=5.1 q=-0.0 size=N/A time=00:00:00.15 bitrate=N/A speed=0.0702x    \rframe=   14 fps=5.1 q=-0.0 size=N/A time=00:00:00.20 bitrate=N/A speed=0.0734x    \rframe=   17 fps=5.0 q=-0.0 size=N/A time=00:00:00.25 bitrate=N/A speed=0.0739x    \rframe=   20 fps=5.0 q=-0.0 size=N/A time=00:00:00.30 bitrate=N/A speed=0.0753x    \rframe=   23 fps=5.0 q=-0.0 size=N/A time=00:00:00.35 bitrate=N/A speed=0.0754x    \rframe=   26 fps=5.0 q=-0.0 size=N/A time=00:00:00.40 bitrate=N/A speed=0.0773x    \rframe=   29 fps=5.1 q=-0.0 size=N/A time=00:00:00.45 bitrate=N/A speed=0.0787x    \rframe=   32 fps=5.0 q=-0.0 size=N/A time=00:00:00.50 bitrate=N/A speed=0.0778x    \rframe=   35 fps=5.0 q=-0.0 size=N/A time=00:00:00.55 bitrate=N/A speed=0.0785x    \rframe=   38 fps=5.0 q=-0.0 size=N/A time=00:00:00.60 bitrate=N/A speed=0.0792x    \rframe=   41 fps=5.0 q=-0.0 size=N/A time=00:00:00.65 bitrate=N/A speed=0.0787x    \rframe=   44 fps=5.0 q=-0.0 size=N/A time=00:00:00.70 bitrate=N/A speed=0.0798x    \rframe=   47 fps=5.0 q=-0.0 size=N/A time=00:00:00.75 bitrate=N/A speed=0.0791x    \rframe=   50 fps=5.0 q=-0.0 size=N/A time=00:00:00.80 bitrate=N/A speed=0.0801x    \rframe=   53 fps=4.9 q=-0.0 size=N/A time=00:00:00.85 bitrate=N/A speed=0.0794x    \rframe=   57 fps=4.9 q=-0.0 size=N/A time=00:00:00.91 bitrate=N/A speed=0.079x    \rframe=   61 fps=4.9 q=-0.0 size=N/A time=00:00:00.98 bitrate=N/A speed=0.0794x    \rframe=   65 fps=5.0 q=-0.0 size=N/A time=00:00:01.05 bitrate=N/A speed=0.08x    \rframe=   68 fps=5.0 q=-0.0 size=N/A time=00:00:01.10 bitrate=N/A speed=0.0806x    \rframe=   71 fps=5.0 q=-0.0 size=N/A time=00:00:01.15 bitrate=N/A speed=0.0803x    \rframe=   74 fps=5.0 q=-0.0 size=N/A time=00:00:01.20 bitrate=N/A speed=0.0808x    \rframe=   77 fps=5.0 q=-0.0 size=N/A time=00:00:01.25 bitrate=N/A speed=0.0806x    \rframe=   81 fps=5.0 q=-0.0 size=N/A time=00:00:01.31 bitrate=N/A speed=0.0808x    \rframe=   85 fps=5.0 q=-0.0 size=N/A time=00:00:01.38 bitrate=N/A speed=0.0811x    \rframe=   87 fps=5.0 q=-0.0 size=N/A time=00:00:01.41 bitrate=N/A speed=0.0806x    \rframe=   91 fps=5.0 q=-0.0 size=N/A time=00:00:01.48 bitrate=N/A speed=0.0808x    \rframe=   95 fps=5.0 q=-0.0 size=N/A time=00:00:01.55 bitrate=N/A speed=0.0812x    \rframe=   98 fps=5.0 q=-0.0 size=N/A time=00:00:01.60 bitrate=N/A speed=0.0816x    \rframe=  100 fps=4.9 q=-0.0 Lsize=N/A time=00:00:01.66 bitrate=N/A speed=0.0812x    \n",
            "video:332151kB audio:0kB subtitle:0kB other streams:0kB global headers:0kB muxing overhead: unknown\n"
          ],
          "name": "stdout"
        }
      ]
    },
    {
      "cell_type": "code",
      "metadata": {
        "id": "ggW_S5PuVuNv",
        "outputId": "29004e3e-e7c5-43dd-9a70-53b74ebc5e49",
        "colab": {
          "base_uri": "https://localhost:8080/",
          "height": 54
        }
      },
      "source": [
        "!sh JCT_VC_extract_compressed_pngs.sh ClassB_mkv/BQTerrace_H264_27.mkv ClassB_compressed_PNGS/BQTerrace/H264_27/im%d.png"
      ],
      "execution_count": null,
      "outputs": [
        {
          "output_type": "stream",
          "text": [
            "frame=    4 fps=0.0 q=-0.0 size=N/A time=00:00:00.03 bitrate=N/A speed=0.0428x    \rframe=    9 fps=5.5 q=-0.0 size=N/A time=00:00:00.11 bitrate=N/A speed=0.0712x    \rframe=   13 fps=5.1 q=-0.0 size=N/A time=00:00:00.18 bitrate=N/A speed=0.0718x    \rframe=   17 fps=5.5 q=-0.0 size=N/A time=00:00:00.25 bitrate=N/A speed=0.0805x    \rframe=   20 fps=5.5 q=-0.0 size=N/A time=00:00:00.30 bitrate=N/A speed=0.082x    \rframe=   24 fps=5.5 q=-0.0 size=N/A time=00:00:00.36 bitrate=N/A speed=0.0843x    \rframe=   28 fps=5.4 q=-0.0 size=N/A time=00:00:00.43 bitrate=N/A speed=0.0842x    \rframe=   32 fps=5.4 q=-0.0 size=N/A time=00:00:00.50 bitrate=N/A speed=0.0842x    \rframe=   36 fps=5.4 q=-0.0 size=N/A time=00:00:00.56 bitrate=N/A speed=0.0848x    \rframe=   40 fps=5.4 q=-0.0 size=N/A time=00:00:00.63 bitrate=N/A speed=0.0853x    \rframe=   44 fps=5.4 q=-0.0 size=N/A time=00:00:00.70 bitrate=N/A speed=0.0862x    \rframe=   48 fps=5.4 q=-0.0 size=N/A time=00:00:00.76 bitrate=N/A speed=0.0869x    \rframe=   51 fps=5.4 q=-0.0 size=N/A time=00:00:00.81 bitrate=N/A speed=0.0866x    \rframe=   55 fps=5.5 q=-0.0 size=N/A time=00:00:00.88 bitrate=N/A speed=0.0881x    \rframe=   58 fps=5.5 q=-0.0 size=N/A time=00:00:00.93 bitrate=N/A speed=0.0881x    \rframe=   62 fps=5.5 q=-0.0 size=N/A time=00:00:01.00 bitrate=N/A speed=0.0886x    \rframe=   65 fps=5.5 q=-0.0 size=N/A time=00:00:01.05 bitrate=N/A speed=0.0885x    \rframe=   69 fps=5.5 q=-0.0 size=N/A time=00:00:01.11 bitrate=N/A speed=0.0889x    \rframe=   72 fps=5.5 q=-0.0 size=N/A time=00:00:01.16 bitrate=N/A speed=0.089x    \rframe=   75 fps=5.5 q=-0.0 size=N/A time=00:00:01.21 bitrate=N/A speed=0.0893x    \rframe=   78 fps=5.5 q=-0.0 size=N/A time=00:00:01.26 bitrate=N/A speed=0.0895x    \rframe=   81 fps=5.5 q=-0.0 size=N/A time=00:00:01.31 bitrate=N/A speed=0.0896x    \rframe=   84 fps=5.5 q=-0.0 size=N/A time=00:00:01.36 bitrate=N/A speed=0.0888x    \rframe=   88 fps=5.5 q=-0.0 size=N/A time=00:00:01.43 bitrate=N/A speed=0.0892x    \rframe=   92 fps=5.5 q=-0.0 size=N/A time=00:00:01.50 bitrate=N/A speed=0.0895x    \rframe=   96 fps=5.5 q=-0.0 size=N/A time=00:00:01.56 bitrate=N/A speed=0.0895x    \rframe=  100 fps=5.5 q=-0.0 size=N/A time=00:00:01.63 bitrate=N/A speed=0.0894x    \rframe=  100 fps=5.4 q=-0.0 Lsize=N/A time=00:00:01.66 bitrate=N/A speed=0.0897x    \n",
            "video:300975kB audio:0kB subtitle:0kB other streams:0kB global headers:0kB muxing overhead: unknown\n"
          ],
          "name": "stdout"
        }
      ]
    },
    {
      "cell_type": "code",
      "metadata": {
        "id": "6xIzTeobVuN6"
      },
      "source": [
        ""
      ],
      "execution_count": null,
      "outputs": []
    },
    {
      "cell_type": "code",
      "metadata": {
        "id": "PwzEtrlxVuOD",
        "outputId": "fbd3c9b5-3383-44bd-b45b-6dfcb31bd452",
        "colab": {
          "base_uri": "https://localhost:8080/",
          "height": 54
        }
      },
      "source": [
        "!sh JCT_VC_extract_compressed_pngs.sh ClassB_mkv/BQTerrace_H265_15.mkv ClassB_compressed_PNGS/BQTerrace/H265_15/im%d.png"
      ],
      "execution_count": null,
      "outputs": [
        {
          "output_type": "stream",
          "text": [
            "frame=    4 fps=3.7 q=-0.0 size=N/A time=00:00:00.03 bitrate=N/A speed=0.0311x    \rframe=    7 fps=4.2 q=-0.0 size=N/A time=00:00:00.08 bitrate=N/A speed=0.05x    \rframe=   10 fps=4.6 q=-0.0 size=N/A time=00:00:00.13 bitrate=N/A speed=0.0611x    \rframe=   12 fps=4.4 q=-0.0 size=N/A time=00:00:00.16 bitrate=N/A speed=0.0612x    \rframe=   14 fps=4.2 q=-0.0 size=N/A time=00:00:00.20 bitrate=N/A speed=0.0602x    \rframe=   16 fps=4.1 q=-0.0 size=N/A time=00:00:00.23 bitrate=N/A speed=0.0603x    \rframe=   19 fps=4.2 q=-0.0 size=N/A time=00:00:00.28 bitrate=N/A speed=0.0629x    \rframe=   21 fps=4.2 q=-0.0 size=N/A time=00:00:00.31 bitrate=N/A speed=0.0631x    \rframe=   24 fps=4.1 q=-0.0 size=N/A time=00:00:00.36 bitrate=N/A speed=0.0631x    \rframe=   27 fps=4.2 q=-0.0 size=N/A time=00:00:00.41 bitrate=N/A speed=0.0648x    \rframe=   30 fps=4.1 q=-0.0 size=N/A time=00:00:00.46 bitrate=N/A speed=0.0641x    \rframe=   33 fps=4.2 q=-0.0 size=N/A time=00:00:00.51 bitrate=N/A speed=0.0651x    \rframe=   35 fps=4.1 q=-0.0 size=N/A time=00:00:00.55 bitrate=N/A speed=0.0649x    \rframe=   37 fps=4.1 q=-0.0 size=N/A time=00:00:00.58 bitrate=N/A speed=0.0646x    \rframe=   40 fps=4.2 q=-0.0 size=N/A time=00:00:00.63 bitrate=N/A speed=0.0658x    \rframe=   42 fps=4.1 q=-0.0 size=N/A time=00:00:00.66 bitrate=N/A speed=0.0655x    \rframe=   44 fps=4.1 q=-0.0 size=N/A time=00:00:00.70 bitrate=N/A speed=0.0654x    \rframe=   46 fps=4.1 q=-0.0 size=N/A time=00:00:00.73 bitrate=N/A speed=0.0652x    \rframe=   49 fps=4.1 q=-0.0 size=N/A time=00:00:00.78 bitrate=N/A speed=0.066x    \rframe=   51 fps=4.1 q=-0.0 size=N/A time=00:00:00.81 bitrate=N/A speed=0.0656x    \rframe=   54 fps=4.1 q=-0.0 size=N/A time=00:00:00.86 bitrate=N/A speed=0.0654x    \rframe=   57 fps=4.1 q=-0.0 size=N/A time=00:00:00.91 bitrate=N/A speed=0.0665x    \rframe=   58 fps=4.0 q=-0.0 size=N/A time=00:00:00.93 bitrate=N/A speed=0.0651x    \rframe=   60 fps=4.0 q=-0.0 size=N/A time=00:00:00.96 bitrate=N/A speed=0.0649x    \rframe=   63 fps=4.1 q=-0.0 size=N/A time=00:00:01.01 bitrate=N/A speed=0.0654x    \rframe=   65 fps=4.1 q=-0.0 size=N/A time=00:00:01.05 bitrate=N/A speed=0.0654x    \rframe=   67 fps=4.0 q=-0.0 size=N/A time=00:00:01.08 bitrate=N/A speed=0.0654x    \rframe=   69 fps=4.0 q=-0.0 size=N/A time=00:00:01.11 bitrate=N/A speed=0.0653x    \rframe=   72 fps=4.1 q=-0.0 size=N/A time=00:00:01.16 bitrate=N/A speed=0.0658x    \rframe=   75 fps=4.0 q=-0.0 size=N/A time=00:00:01.21 bitrate=N/A speed=0.0652x    \rframe=   78 fps=4.1 q=-0.0 size=N/A time=00:00:01.26 bitrate=N/A speed=0.0659x    \rframe=   80 fps=4.0 q=-0.0 size=N/A time=00:00:01.30 bitrate=N/A speed=0.0656x    \rframe=   83 fps=4.0 q=-0.0 size=N/A time=00:00:01.35 bitrate=N/A speed=0.0655x    \rframe=   86 fps=4.1 q=-0.0 size=N/A time=00:00:01.40 bitrate=N/A speed=0.0663x    \rframe=   89 fps=4.0 q=-0.0 size=N/A time=00:00:01.45 bitrate=N/A speed=0.0657x    \rframe=   92 fps=4.1 q=-0.0 size=N/A time=00:00:01.50 bitrate=N/A speed=0.0661x    \rframe=   95 fps=4.0 q=-0.0 size=N/A time=00:00:01.55 bitrate=N/A speed=0.066x    \rframe=   97 fps=4.0 q=-0.0 size=N/A time=00:00:01.58 bitrate=N/A speed=0.0659x    \rframe=   99 fps=4.0 q=-0.0 size=N/A time=00:00:01.61 bitrate=N/A speed=0.0657x    \rframe=  100 fps=3.9 q=-0.0 Lsize=N/A time=00:00:01.66 bitrate=N/A speed=0.0658x    \n",
            "video:409185kB audio:0kB subtitle:0kB other streams:0kB global headers:0kB muxing overhead: unknown\n"
          ],
          "name": "stdout"
        }
      ]
    },
    {
      "cell_type": "code",
      "metadata": {
        "id": "6SV_XTpzVuOO",
        "outputId": "0401f5c4-e66a-43bb-c05a-6895f1fe6569",
        "colab": {
          "base_uri": "https://localhost:8080/",
          "height": 54
        }
      },
      "source": [
        "!sh JCT_VC_extract_compressed_pngs.sh ClassB_mkv/BQTerrace_H265_19.mkv ClassB_compressed_PNGS/BQTerrace/H265_19/im%d.png"
      ],
      "execution_count": null,
      "outputs": [
        {
          "output_type": "stream",
          "text": [
            "frame=    4 fps=0.0 q=-0.0 size=N/A time=00:00:00.03 bitrate=N/A speed=0.0399x    \rframe=    8 fps=5.8 q=-0.0 size=N/A time=00:00:00.10 bitrate=N/A speed=0.0725x    \rframe=   11 fps=4.8 q=-0.0 size=N/A time=00:00:00.15 bitrate=N/A speed=0.0661x    \rframe=   15 fps=4.7 q=-0.0 size=N/A time=00:00:00.21 bitrate=N/A speed=0.0685x    \rframe=   19 fps=4.2 q=-0.0 size=N/A time=00:00:00.28 bitrate=N/A speed=0.0625x    \rframe=   23 fps=4.5 q=-0.0 size=N/A time=00:00:00.35 bitrate=N/A speed=0.0691x    \rframe=   26 fps=4.4 q=-0.0 size=N/A time=00:00:00.40 bitrate=N/A speed=0.0682x    \rframe=   29 fps=4.5 q=-0.0 size=N/A time=00:00:00.45 bitrate=N/A speed=0.0695x    \rframe=   31 fps=4.4 q=-0.0 size=N/A time=00:00:00.48 bitrate=N/A speed=0.0686x    \rframe=   35 fps=4.4 q=-0.0 size=N/A time=00:00:00.55 bitrate=N/A speed=0.0693x    \rframe=   38 fps=4.5 q=-0.0 size=N/A time=00:00:00.60 bitrate=N/A speed=0.071x    \rframe=   40 fps=4.4 q=-0.0 size=N/A time=00:00:00.63 bitrate=N/A speed=0.0705x    \rframe=   43 fps=4.4 q=-0.0 size=N/A time=00:00:00.68 bitrate=N/A speed=0.0697x    \rframe=   46 fps=4.5 q=-0.0 size=N/A time=00:00:00.73 bitrate=N/A speed=0.071x    \rframe=   49 fps=4.4 q=-0.0 size=N/A time=00:00:00.78 bitrate=N/A speed=0.0699x    \rframe=   52 fps=4.4 q=-0.0 size=N/A time=00:00:00.83 bitrate=N/A speed=0.0709x    \rframe=   55 fps=4.4 q=-0.0 size=N/A time=00:00:00.88 bitrate=N/A speed=0.0703x    \rframe=   58 fps=4.4 q=-0.0 size=N/A time=00:00:00.93 bitrate=N/A speed=0.071x    \rframe=   61 fps=4.4 q=-0.0 size=N/A time=00:00:00.98 bitrate=N/A speed=0.0704x    \rframe=   64 fps=4.4 q=-0.0 size=N/A time=00:00:01.03 bitrate=N/A speed=0.0712x    \rframe=   66 fps=4.3 q=-0.0 size=N/A time=00:00:01.06 bitrate=N/A speed=0.0698x    \rframe=   69 fps=4.4 q=-0.0 size=N/A time=00:00:01.11 bitrate=N/A speed=0.0706x    \rframe=   72 fps=4.3 q=-0.0 size=N/A time=00:00:01.16 bitrate=N/A speed=0.0705x    \rframe=   75 fps=4.4 q=-0.0 size=N/A time=00:00:01.21 bitrate=N/A speed=0.0709x    \rframe=   78 fps=4.4 q=-0.0 size=N/A time=00:00:01.26 bitrate=N/A speed=0.0709x    \rframe=   81 fps=4.4 q=-0.0 size=N/A time=00:00:01.31 bitrate=N/A speed=0.0709x    \rframe=   84 fps=4.4 q=-0.0 size=N/A time=00:00:01.36 bitrate=N/A speed=0.0711x    \rframe=   87 fps=4.3 q=-0.0 size=N/A time=00:00:01.41 bitrate=N/A speed=0.0706x    \rframe=   90 fps=4.3 q=-0.0 size=N/A time=00:00:01.46 bitrate=N/A speed=0.0709x    \rframe=   93 fps=4.4 q=-0.0 size=N/A time=00:00:01.51 bitrate=N/A speed=0.0712x    \rframe=   96 fps=4.4 q=-0.0 size=N/A time=00:00:01.56 bitrate=N/A speed=0.0712x    \rframe=   99 fps=4.4 q=-0.0 size=N/A time=00:00:01.61 bitrate=N/A speed=0.0715x    \rframe=  100 fps=4.3 q=-0.0 Lsize=N/A time=00:00:01.66 bitrate=N/A speed=0.0712x    \n",
            "video:387014kB audio:0kB subtitle:0kB other streams:0kB global headers:0kB muxing overhead: unknown\n"
          ],
          "name": "stdout"
        }
      ]
    },
    {
      "cell_type": "code",
      "metadata": {
        "id": "yQflUT12VuOX",
        "outputId": "27795fef-8808-4476-e29b-17e93e6a064b",
        "colab": {
          "base_uri": "https://localhost:8080/",
          "height": 54
        }
      },
      "source": [
        "!sh JCT_VC_extract_compressed_pngs.sh ClassB_mkv/BQTerrace_H265_23.mkv ClassB_compressed_PNGS/BQTerrace/H265_23/im%d.png"
      ],
      "execution_count": null,
      "outputs": [
        {
          "output_type": "stream",
          "text": [
            "frame=    4 fps=0.0 q=-0.0 size=N/A time=00:00:00.03 bitrate=N/A speed=0.0382x    \rframe=    7 fps=5.1 q=-0.0 size=N/A time=00:00:00.08 bitrate=N/A speed=0.0602x    \rframe=   10 fps=5.1 q=-0.0 size=N/A time=00:00:00.13 bitrate=N/A speed=0.0683x    \rframe=   13 fps=4.8 q=-0.0 size=N/A time=00:00:00.18 bitrate=N/A speed=0.0675x    \rframe=   17 fps=4.8 q=-0.0 size=N/A time=00:00:00.25 bitrate=N/A speed=0.0707x    \rframe=   21 fps=4.8 q=-0.0 size=N/A time=00:00:00.31 bitrate=N/A speed=0.0723x    \rframe=   24 fps=4.9 q=-0.0 size=N/A time=00:00:00.36 bitrate=N/A speed=0.0747x    \rframe=   27 fps=4.7 q=-0.0 size=N/A time=00:00:00.41 bitrate=N/A speed=0.0728x    \rframe=   30 fps=4.7 q=-0.0 size=N/A time=00:00:00.46 bitrate=N/A speed=0.0734x    \rframe=   33 fps=4.7 q=-0.0 size=N/A time=00:00:00.51 bitrate=N/A speed=0.0734x    \rframe=   37 fps=4.7 q=-0.0 size=N/A time=00:00:00.58 bitrate=N/A speed=0.0742x    \rframe=   40 fps=4.7 q=-0.0 size=N/A time=00:00:00.63 bitrate=N/A speed=0.0751x    \rframe=   43 fps=4.7 q=-0.0 size=N/A time=00:00:00.68 bitrate=N/A speed=0.0751x    \rframe=   46 fps=4.8 q=-0.0 size=N/A time=00:00:00.73 bitrate=N/A speed=0.0759x    \rframe=   49 fps=4.7 q=-0.0 size=N/A time=00:00:00.78 bitrate=N/A speed=0.0756x    \rframe=   52 fps=4.8 q=-0.0 size=N/A time=00:00:00.83 bitrate=N/A speed=0.0763x    \rframe=   55 fps=4.7 q=-0.0 size=N/A time=00:00:00.88 bitrate=N/A speed=0.0753x    \rframe=   58 fps=4.7 q=-0.0 size=N/A time=00:00:00.93 bitrate=N/A speed=0.0763x    \rframe=   61 fps=4.7 q=-0.0 size=N/A time=00:00:00.98 bitrate=N/A speed=0.0757x    \rframe=   64 fps=4.7 q=-0.0 size=N/A time=00:00:01.03 bitrate=N/A speed=0.0752x    \rframe=   68 fps=4.8 q=-0.0 size=N/A time=00:00:01.10 bitrate=N/A speed=0.077x    \rframe=   71 fps=4.7 q=-0.0 size=N/A time=00:00:01.15 bitrate=N/A speed=0.0767x    \rframe=   74 fps=4.7 q=-0.0 size=N/A time=00:00:01.20 bitrate=N/A speed=0.0769x    \rframe=   77 fps=4.7 q=-0.0 size=N/A time=00:00:01.25 bitrate=N/A speed=0.0767x    \rframe=   79 fps=4.7 q=-0.0 size=N/A time=00:00:01.28 bitrate=N/A speed=0.0763x    \rframe=   83 fps=4.7 q=-0.0 size=N/A time=00:00:01.35 bitrate=N/A speed=0.0764x    \rframe=   86 fps=4.7 q=-0.0 size=N/A time=00:00:01.40 bitrate=N/A speed=0.077x    \rframe=   89 fps=4.7 q=-0.0 size=N/A time=00:00:01.45 bitrate=N/A speed=0.0764x    \rframe=   92 fps=4.6 q=-0.0 size=N/A time=00:00:01.50 bitrate=N/A speed=0.0755x    \rframe=   96 fps=4.7 q=-0.0 size=N/A time=00:00:01.56 bitrate=N/A speed=0.0769x    \rframe=   99 fps=4.7 q=-0.0 size=N/A time=00:00:01.61 bitrate=N/A speed=0.0763x    \rframe=  100 fps=4.6 q=-0.0 Lsize=N/A time=00:00:01.66 bitrate=N/A speed=0.0764x    \n",
            "video:360387kB audio:0kB subtitle:0kB other streams:0kB global headers:0kB muxing overhead: unknown\n"
          ],
          "name": "stdout"
        }
      ]
    },
    {
      "cell_type": "code",
      "metadata": {
        "id": "8m7RoEUsVuOj",
        "outputId": "df54fb83-fba6-40ae-aabd-c0e3d10c8805",
        "colab": {
          "base_uri": "https://localhost:8080/",
          "height": 54
        }
      },
      "source": [
        "!sh JCT_VC_extract_compressed_pngs.sh ClassB_mkv/BQTerrace_H265_27.mkv ClassB_compressed_PNGS/BQTerrace/H265_27/im%d.png"
      ],
      "execution_count": null,
      "outputs": [
        {
          "output_type": "stream",
          "text": [
            "frame=    4 fps=0.0 q=-0.0 size=N/A time=00:00:00.03 bitrate=N/A speed=0.0509x    \rframe=    8 fps=6.0 q=-0.0 size=N/A time=00:00:00.10 bitrate=N/A speed=0.0747x    \rframe=   11 fps=5.8 q=-0.0 size=N/A time=00:00:00.15 bitrate=N/A speed=0.0791x    \rframe=   14 fps=5.5 q=-0.0 size=N/A time=00:00:00.20 bitrate=N/A speed=0.0787x    \rframe=   17 fps=5.4 q=-0.0 size=N/A time=00:00:00.25 bitrate=N/A speed=0.0792x    \rframe=   20 fps=5.4 q=-0.0 size=N/A time=00:00:00.30 bitrate=N/A speed=0.081x    \rframe=   23 fps=5.3 q=-0.0 size=N/A time=00:00:00.35 bitrate=N/A speed=0.0813x    \rframe=   26 fps=5.3 q=-0.0 size=N/A time=00:00:00.40 bitrate=N/A speed=0.0814x    \rframe=   29 fps=5.3 q=-0.0 size=N/A time=00:00:00.45 bitrate=N/A speed=0.0823x    \rframe=   32 fps=5.2 q=-0.0 size=N/A time=00:00:00.50 bitrate=N/A speed=0.0816x    \rframe=   35 fps=5.2 q=-0.0 size=N/A time=00:00:00.55 bitrate=N/A speed=0.0818x    \rframe=   39 fps=5.2 q=-0.0 size=N/A time=00:00:00.61 bitrate=N/A speed=0.0819x    \rframe=   42 fps=5.0 q=-0.0 size=N/A time=00:00:00.66 bitrate=N/A speed=0.0794x    \rframe=   47 fps=5.1 q=-0.0 size=N/A time=00:00:00.75 bitrate=N/A speed=0.0808x    \rframe=   51 fps=5.1 q=-0.0 size=N/A time=00:00:00.81 bitrate=N/A speed=0.0814x    \rframe=   55 fps=5.1 q=-0.0 size=N/A time=00:00:00.88 bitrate=N/A speed=0.0816x    \rframe=   59 fps=5.1 q=-0.0 size=N/A time=00:00:00.95 bitrate=N/A speed=0.082x    \rframe=   63 fps=5.1 q=-0.0 size=N/A time=00:00:01.01 bitrate=N/A speed=0.0822x    \rframe=   67 fps=5.1 q=-0.0 size=N/A time=00:00:01.08 bitrate=N/A speed=0.0827x    \rframe=   70 fps=5.1 q=-0.0 size=N/A time=00:00:01.13 bitrate=N/A speed=0.0833x    \rframe=   73 fps=5.1 q=-0.0 size=N/A time=00:00:01.18 bitrate=N/A speed=0.0824x    \rframe=   76 fps=5.1 q=-0.0 size=N/A time=00:00:01.23 bitrate=N/A speed=0.0829x    \rframe=   79 fps=5.1 q=-0.0 size=N/A time=00:00:01.28 bitrate=N/A speed=0.0829x    \rframe=   83 fps=5.1 q=-0.0 size=N/A time=00:00:01.35 bitrate=N/A speed=0.0831x    \rframe=   87 fps=5.1 q=-0.0 size=N/A time=00:00:01.41 bitrate=N/A speed=0.0836x    \rframe=   91 fps=5.1 q=-0.0 size=N/A time=00:00:01.48 bitrate=N/A speed=0.0837x    \rframe=   93 fps=5.1 q=-0.0 size=N/A time=00:00:01.51 bitrate=N/A speed=0.0832x    \rframe=   97 fps=5.2 q=-0.0 size=N/A time=00:00:01.58 bitrate=N/A speed=0.0844x    \rframe=  100 fps=5.1 q=-0.0 size=N/A time=00:00:01.63 bitrate=N/A speed=0.0837x    \rframe=  100 fps=5.0 q=-0.0 Lsize=N/A time=00:00:01.66 bitrate=N/A speed=0.0838x    \n",
            "video:336070kB audio:0kB subtitle:0kB other streams:0kB global headers:0kB muxing overhead: unknown\n"
          ],
          "name": "stdout"
        }
      ]
    },
    {
      "cell_type": "code",
      "metadata": {
        "id": "6y9uXHo9WF4V"
      },
      "source": [
        ""
      ],
      "execution_count": null,
      "outputs": []
    },
    {
      "cell_type": "code",
      "metadata": {
        "id": "c8A2PqXiWFmo"
      },
      "source": [
        ""
      ],
      "execution_count": null,
      "outputs": []
    },
    {
      "cell_type": "code",
      "metadata": {
        "id": "IhGeuCrfWIUd",
        "outputId": "b67d045a-12bc-47f5-8f97-3544cb4f3ae6",
        "colab": {
          "base_uri": "https://localhost:8080/",
          "height": 54
        }
      },
      "source": [
        "!sh JCT_VC_extract_compressed_pngs.sh ClassB_mkv/Cactus_H264_15.mkv ClassB_compressed_PNGS/Cactus/H264_15/im%d.png"
      ],
      "execution_count": null,
      "outputs": [
        {
          "output_type": "stream",
          "text": [
            "frame=    4 fps=0.0 q=-0.0 size=N/A time=00:00:00.04 bitrate=N/A speed=0.0407x    \rframe=    8 fps=5.3 q=-0.0 size=N/A time=00:00:00.12 bitrate=N/A speed=0.0796x    \rframe=   11 fps=4.8 q=-0.0 size=N/A time=00:00:00.18 bitrate=N/A speed=0.0778x    \rframe=   14 fps=4.8 q=-0.0 size=N/A time=00:00:00.24 bitrate=N/A speed=0.0818x    \rframe=   17 fps=4.7 q=-0.0 size=N/A time=00:00:00.30 bitrate=N/A speed=0.0826x    \rframe=   19 fps=4.6 q=-0.0 size=N/A time=00:00:00.34 bitrate=N/A speed=0.0819x    \rframe=   22 fps=4.5 q=-0.0 size=N/A time=00:00:00.40 bitrate=N/A speed=0.0825x    \rframe=   25 fps=4.5 q=-0.0 size=N/A time=00:00:00.46 bitrate=N/A speed=0.083x    \rframe=   28 fps=4.6 q=-0.0 size=N/A time=00:00:00.52 bitrate=N/A speed=0.0855x    \rframe=   31 fps=4.5 q=-0.0 size=N/A time=00:00:00.58 bitrate=N/A speed=0.0838x    \rframe=   34 fps=4.6 q=-0.0 size=N/A time=00:00:00.64 bitrate=N/A speed=0.0858x    \rframe=   37 fps=4.5 q=-0.0 size=N/A time=00:00:00.70 bitrate=N/A speed=0.0844x    \rframe=   40 fps=4.5 q=-0.0 size=N/A time=00:00:00.76 bitrate=N/A speed=0.086x    \rframe=   43 fps=4.3 q=-0.0 size=N/A time=00:00:00.82 bitrate=N/A speed=0.0816x    \rframe=   48 fps=4.4 q=-0.0 size=N/A time=00:00:00.92 bitrate=N/A speed=0.0839x    \rframe=   52 fps=4.4 q=-0.0 size=N/A time=00:00:01.00 bitrate=N/A speed=0.0849x    \rframe=   55 fps=4.5 q=-0.0 size=N/A time=00:00:01.06 bitrate=N/A speed=0.0858x    \rframe=   58 fps=4.5 q=-0.0 size=N/A time=00:00:01.12 bitrate=N/A speed=0.086x    \rframe=   61 fps=4.4 q=-0.0 size=N/A time=00:00:01.18 bitrate=N/A speed=0.0853x    \rframe=   64 fps=4.5 q=-0.0 size=N/A time=00:00:01.24 bitrate=N/A speed=0.0864x    \rframe=   67 fps=4.5 q=-0.0 size=N/A time=00:00:01.30 bitrate=N/A speed=0.0864x    \rframe=   70 fps=4.4 q=-0.0 size=N/A time=00:00:01.36 bitrate=N/A speed=0.0863x    \rframe=   73 fps=4.5 q=-0.0 size=N/A time=00:00:01.42 bitrate=N/A speed=0.0868x    \rframe=   76 fps=4.4 q=-0.0 size=N/A time=00:00:01.48 bitrate=N/A speed=0.0866x    \rframe=   79 fps=4.4 q=-0.0 size=N/A time=00:00:01.54 bitrate=N/A speed=0.0867x    \rframe=   82 fps=4.5 q=-0.0 size=N/A time=00:00:01.60 bitrate=N/A speed=0.0869x    \rframe=   85 fps=4.5 q=-0.0 size=N/A time=00:00:01.66 bitrate=N/A speed=0.0876x    \rframe=   88 fps=4.5 q=-0.0 size=N/A time=00:00:01.72 bitrate=N/A speed=0.0872x    \rframe=   91 fps=4.4 q=-0.0 size=N/A time=00:00:01.78 bitrate=N/A speed=0.0869x    \rframe=   94 fps=4.4 q=-0.0 size=N/A time=00:00:01.84 bitrate=N/A speed=0.0863x    \rframe=   97 fps=4.4 q=-0.0 size=N/A time=00:00:01.90 bitrate=N/A speed=0.0864x    \rframe=  100 fps=4.3 q=-0.0 Lsize=N/A time=00:00:02.00 bitrate=N/A speed=0.0866x    \n",
            "video:446888kB audio:0kB subtitle:0kB other streams:0kB global headers:0kB muxing overhead: unknown\n"
          ],
          "name": "stdout"
        }
      ]
    },
    {
      "cell_type": "code",
      "metadata": {
        "id": "6tDO_4o9WIUs",
        "outputId": "ee2dd7b9-5b36-4014-ed03-6e26a3e7a866",
        "colab": {
          "base_uri": "https://localhost:8080/",
          "height": 54
        }
      },
      "source": [
        "!sh JCT_VC_extract_compressed_pngs.sh ClassB_mkv/Cactus_H264_19.mkv ClassB_compressed_PNGS/Cactus/H264_19/im%d.png"
      ],
      "execution_count": null,
      "outputs": [
        {
          "output_type": "stream",
          "text": [
            "frame=    4 fps=0.0 q=-0.0 size=N/A time=00:00:00.04 bitrate=N/A speed=0.0473x    \rframe=    8 fps=5.5 q=-0.0 size=N/A time=00:00:00.12 bitrate=N/A speed=0.0832x    \rframe=   11 fps=5.0 q=-0.0 size=N/A time=00:00:00.18 bitrate=N/A speed=0.0823x    \rframe=   13 fps=4.7 q=-0.0 size=N/A time=00:00:00.22 bitrate=N/A speed=0.0797x    \rframe=   16 fps=4.8 q=-0.0 size=N/A time=00:00:00.28 bitrate=N/A speed=0.0838x    \rframe=   19 fps=4.8 q=-0.0 size=N/A time=00:00:00.34 bitrate=N/A speed=0.0851x    \rframe=   22 fps=4.8 q=-0.0 size=N/A time=00:00:00.40 bitrate=N/A speed=0.0869x    \rframe=   25 fps=4.9 q=-0.0 size=N/A time=00:00:00.46 bitrate=N/A speed=0.0896x    \rframe=   27 fps=4.8 q=-0.0 size=N/A time=00:00:00.50 bitrate=N/A speed=0.0883x    \rframe=   30 fps=4.8 q=-0.0 size=N/A time=00:00:00.56 bitrate=N/A speed=0.0889x    \rframe=   34 fps=4.8 q=-0.0 size=N/A time=00:00:00.64 bitrate=N/A speed=0.0901x    \rframe=   38 fps=4.8 q=-0.0 size=N/A time=00:00:00.72 bitrate=N/A speed=0.0914x    \rframe=   42 fps=4.9 q=-0.0 size=N/A time=00:00:00.80 bitrate=N/A speed=0.0926x    \rframe=   45 fps=4.9 q=-0.0 size=N/A time=00:00:00.86 bitrate=N/A speed=0.0928x    \rframe=   48 fps=4.9 q=-0.0 size=N/A time=00:00:00.92 bitrate=N/A speed=0.094x    \rframe=   51 fps=4.9 q=-0.0 size=N/A time=00:00:00.98 bitrate=N/A speed=0.0947x    \rframe=   54 fps=4.9 q=-0.0 size=N/A time=00:00:01.04 bitrate=N/A speed=0.0953x    \rframe=   57 fps=4.9 q=-0.0 size=N/A time=00:00:01.10 bitrate=N/A speed=0.0949x    \rframe=   60 fps=4.9 q=-0.0 size=N/A time=00:00:01.16 bitrate=N/A speed=0.095x    \rframe=   63 fps=4.9 q=-0.0 size=N/A time=00:00:01.22 bitrate=N/A speed=0.095x    \rframe=   66 fps=4.9 q=-0.0 size=N/A time=00:00:01.28 bitrate=N/A speed=0.0951x    \rframe=   69 fps=4.9 q=-0.0 size=N/A time=00:00:01.34 bitrate=N/A speed=0.0959x    \rframe=   72 fps=4.9 q=-0.0 size=N/A time=00:00:01.40 bitrate=N/A speed=0.0955x    \rframe=   75 fps=4.9 q=-0.0 size=N/A time=00:00:01.46 bitrate=N/A speed=0.0962x    \rframe=   78 fps=4.9 q=-0.0 size=N/A time=00:00:01.52 bitrate=N/A speed=0.0963x    \rframe=   80 fps=4.9 q=-0.0 size=N/A time=00:00:01.56 bitrate=N/A speed=0.0958x    \rframe=   83 fps=4.9 q=-0.0 size=N/A time=00:00:01.62 bitrate=N/A speed=0.0956x    \rframe=   87 fps=4.9 q=-0.0 size=N/A time=00:00:01.70 bitrate=N/A speed=0.0955x    \rframe=   91 fps=4.9 q=-0.0 size=N/A time=00:00:01.78 bitrate=N/A speed=0.0963x    \rframe=   94 fps=4.9 q=-0.0 size=N/A time=00:00:01.84 bitrate=N/A speed=0.0965x    \rframe=   97 fps=5.0 q=-0.0 size=N/A time=00:00:01.90 bitrate=N/A speed=0.097x    \rframe=  100 fps=4.9 q=-0.0 size=N/A time=00:00:01.96 bitrate=N/A speed=0.0967x    \rframe=  100 fps=4.8 q=-0.0 Lsize=N/A time=00:00:02.00 bitrate=N/A speed=0.0966x    \n",
            "video:394170kB audio:0kB subtitle:0kB other streams:0kB global headers:0kB muxing overhead: unknown\n"
          ],
          "name": "stdout"
        }
      ]
    },
    {
      "cell_type": "code",
      "metadata": {
        "id": "H2v2YqSCWIU-",
        "outputId": "68c7e478-91d8-4b26-cc45-0a538ad82a6d",
        "colab": {
          "base_uri": "https://localhost:8080/",
          "height": 54
        }
      },
      "source": [
        "!sh JCT_VC_extract_compressed_pngs.sh ClassB_mkv/Cactus_H264_23.mkv ClassB_compressed_PNGS/Cactus/H264_23/im%d.png"
      ],
      "execution_count": null,
      "outputs": [
        {
          "output_type": "stream",
          "text": [
            "frame=    4 fps=0.0 q=-0.0 size=N/A time=00:00:00.04 bitrate=N/A speed=0.0524x    \rframe=    9 fps=5.7 q=-0.0 size=N/A time=00:00:00.14 bitrate=N/A speed=0.0889x    \rframe=   13 fps=5.6 q=-0.0 size=N/A time=00:00:00.22 bitrate=N/A speed=0.0947x    \rframe=   17 fps=5.6 q=-0.0 size=N/A time=00:00:00.30 bitrate=N/A speed=0.0992x    \rframe=   21 fps=5.7 q=-0.0 size=N/A time=00:00:00.38 bitrate=N/A speed=0.103x    \rframe=   24 fps=5.7 q=-0.0 size=N/A time=00:00:00.44 bitrate=N/A speed=0.104x    \rframe=   27 fps=5.6 q=-0.0 size=N/A time=00:00:00.50 bitrate=N/A speed=0.104x    \rframe=   31 fps=5.7 q=-0.0 size=N/A time=00:00:00.58 bitrate=N/A speed=0.106x    \rframe=   33 fps=5.4 q=-0.0 size=N/A time=00:00:00.62 bitrate=N/A speed=0.102x    \rframe=   38 fps=5.6 q=-0.0 size=N/A time=00:00:00.72 bitrate=N/A speed=0.106x    \rframe=   42 fps=5.6 q=-0.0 size=N/A time=00:00:00.80 bitrate=N/A speed=0.107x    \rframe=   46 fps=5.6 q=-0.0 size=N/A time=00:00:00.88 bitrate=N/A speed=0.108x    \rframe=   49 fps=5.5 q=-0.0 size=N/A time=00:00:00.94 bitrate=N/A speed=0.106x    \rframe=   53 fps=5.6 q=-0.0 size=N/A time=00:00:01.02 bitrate=N/A speed=0.109x    \rframe=   56 fps=5.6 q=-0.0 size=N/A time=00:00:01.08 bitrate=N/A speed=0.109x    \rframe=   59 fps=5.7 q=-0.0 size=N/A time=00:00:01.14 bitrate=N/A speed=0.109x    \rframe=   62 fps=5.7 q=-0.0 size=N/A time=00:00:01.20 bitrate=N/A speed=0.11x    \rframe=   65 fps=5.7 q=-0.0 size=N/A time=00:00:01.26 bitrate=N/A speed=0.11x    \rframe=   67 fps=5.5 q=-0.0 size=N/A time=00:00:01.30 bitrate=N/A speed=0.107x    \rframe=   72 fps=5.6 q=-0.0 size=N/A time=00:00:01.40 bitrate=N/A speed=0.109x    \rframe=   76 fps=5.6 q=-0.0 size=N/A time=00:00:01.48 bitrate=N/A speed=0.109x    \rframe=   80 fps=5.6 q=-0.0 size=N/A time=00:00:01.56 bitrate=N/A speed=0.109x    \rframe=   84 fps=5.6 q=-0.0 size=N/A time=00:00:01.64 bitrate=N/A speed=0.109x    \rframe=   88 fps=5.6 q=-0.0 size=N/A time=00:00:01.72 bitrate=N/A speed=0.11x    \rframe=   91 fps=5.6 q=-0.0 size=N/A time=00:00:01.78 bitrate=N/A speed=0.11x    \rframe=   94 fps=5.6 q=-0.0 size=N/A time=00:00:01.84 bitrate=N/A speed=0.11x    \rframe=   97 fps=5.6 q=-0.0 size=N/A time=00:00:01.90 bitrate=N/A speed=0.11x    \rframe=  100 fps=5.6 q=-0.0 size=N/A time=00:00:01.96 bitrate=N/A speed=0.11x    \rframe=  100 fps=5.5 q=-0.0 Lsize=N/A time=00:00:02.00 bitrate=N/A speed=0.11x    \n",
            "video:336970kB audio:0kB subtitle:0kB other streams:0kB global headers:0kB muxing overhead: unknown\n"
          ],
          "name": "stdout"
        }
      ]
    },
    {
      "cell_type": "code",
      "metadata": {
        "id": "xDIVN27lWIVK",
        "outputId": "a11cc3b8-dfad-49b3-a2f4-17786144da03",
        "colab": {
          "base_uri": "https://localhost:8080/",
          "height": 54
        }
      },
      "source": [
        "!sh JCT_VC_extract_compressed_pngs.sh ClassB_mkv/Cactus_H264_27.mkv ClassB_compressed_PNGS/Cactus/H264_27/im%d.png"
      ],
      "execution_count": null,
      "outputs": [
        {
          "output_type": "stream",
          "text": [
            "frame=    4 fps=0.0 q=-0.0 size=N/A time=00:00:00.04 bitrate=N/A speed=0.0641x    \rframe=    9 fps=6.3 q=-0.0 size=N/A time=00:00:00.14 bitrate=N/A speed=0.0972x    \rframe=   13 fps=5.8 q=-0.0 size=N/A time=00:00:00.22 bitrate=N/A speed=0.099x    \rframe=   17 fps=6.2 q=-0.0 size=N/A time=00:00:00.30 bitrate=N/A speed=0.109x    \rframe=   20 fps=6.1 q=-0.0 size=N/A time=00:00:00.36 bitrate=N/A speed=0.11x    \rframe=   24 fps=6.2 q=-0.0 size=N/A time=00:00:00.44 bitrate=N/A speed=0.113x    \rframe=   28 fps=6.2 q=-0.0 size=N/A time=00:00:00.52 bitrate=N/A speed=0.116x    \rframe=   32 fps=6.3 q=-0.0 size=N/A time=00:00:00.60 bitrate=N/A speed=0.118x    \rframe=   36 fps=6.3 q=-0.0 size=N/A time=00:00:00.68 bitrate=N/A speed=0.119x    \rframe=   40 fps=6.3 q=-0.0 size=N/A time=00:00:00.76 bitrate=N/A speed=0.121x    \rframe=   44 fps=6.4 q=-0.0 size=N/A time=00:00:00.84 bitrate=N/A speed=0.122x    \rframe=   48 fps=6.4 q=-0.0 size=N/A time=00:00:00.92 bitrate=N/A speed=0.123x    \rframe=   51 fps=6.4 q=-0.0 size=N/A time=00:00:00.98 bitrate=N/A speed=0.123x    \rframe=   53 fps=6.1 q=-0.0 size=N/A time=00:00:01.02 bitrate=N/A speed=0.117x    \rframe=   58 fps=6.2 q=-0.0 size=N/A time=00:00:01.12 bitrate=N/A speed=0.12x    \rframe=   62 fps=6.2 q=-0.0 size=N/A time=00:00:01.20 bitrate=N/A speed=0.121x    \rframe=   66 fps=6.3 q=-0.0 size=N/A time=00:00:01.28 bitrate=N/A speed=0.122x    \rframe=   69 fps=6.3 q=-0.0 size=N/A time=00:00:01.34 bitrate=N/A speed=0.121x    \rframe=   73 fps=6.3 q=-0.0 size=N/A time=00:00:01.42 bitrate=N/A speed=0.123x    \rframe=   77 fps=6.3 q=-0.0 size=N/A time=00:00:01.50 bitrate=N/A speed=0.123x    \rframe=   80 fps=6.3 q=-0.0 size=N/A time=00:00:01.56 bitrate=N/A speed=0.122x    \rframe=   84 fps=6.3 q=-0.0 size=N/A time=00:00:01.64 bitrate=N/A speed=0.123x    \rframe=   88 fps=6.2 q=-0.0 size=N/A time=00:00:01.72 bitrate=N/A speed=0.122x    \rframe=   92 fps=6.3 q=-0.0 size=N/A time=00:00:01.80 bitrate=N/A speed=0.122x    \rframe=   96 fps=6.3 q=-0.0 size=N/A time=00:00:01.88 bitrate=N/A speed=0.123x    \rframe=  100 fps=6.3 q=-0.0 size=N/A time=00:00:01.96 bitrate=N/A speed=0.123x    \rframe=  100 fps=6.1 q=-0.0 Lsize=N/A time=00:00:02.00 bitrate=N/A speed=0.123x    \n",
            "video:296551kB audio:0kB subtitle:0kB other streams:0kB global headers:0kB muxing overhead: unknown\n"
          ],
          "name": "stdout"
        }
      ]
    },
    {
      "cell_type": "code",
      "metadata": {
        "id": "tCDMQVg_WIVT"
      },
      "source": [
        ""
      ],
      "execution_count": null,
      "outputs": []
    },
    {
      "cell_type": "code",
      "metadata": {
        "id": "YFm4DZ2iWIVb",
        "outputId": "d72f0092-2943-4687-d665-e1265fdc1e88",
        "colab": {
          "base_uri": "https://localhost:8080/",
          "height": 54
        }
      },
      "source": [
        "!sh JCT_VC_extract_compressed_pngs.sh ClassB_mkv/Cactus_H265_15.mkv ClassB_compressed_PNGS/Cactus/H265_15/im%d.png"
      ],
      "execution_count": null,
      "outputs": [
        {
          "output_type": "stream",
          "text": [
            "frame=    4 fps=3.2 q=-0.0 size=N/A time=00:00:00.04 bitrate=N/A speed=0.0322x    \rframe=    7 fps=3.9 q=-0.0 size=N/A time=00:00:00.10 bitrate=N/A speed=0.0554x    \rframe=   10 fps=4.3 q=-0.0 size=N/A time=00:00:00.16 bitrate=N/A speed=0.0684x    \rframe=   12 fps=4.1 q=-0.0 size=N/A time=00:00:00.20 bitrate=N/A speed=0.0685x    \rframe=   14 fps=4.1 q=-0.0 size=N/A time=00:00:00.24 bitrate=N/A speed=0.0699x    \rframe=   17 fps=4.1 q=-0.0 size=N/A time=00:00:00.30 bitrate=N/A speed=0.0731x    \rframe=   20 fps=4.1 q=-0.0 size=N/A time=00:00:00.36 bitrate=N/A speed=0.0737x    \rframe=   21 fps=3.8 q=-0.0 size=N/A time=00:00:00.38 bitrate=N/A speed=0.0694x    \rframe=   24 fps=3.9 q=-0.0 size=N/A time=00:00:00.44 bitrate=N/A speed=0.0722x    \rframe=   27 fps=4.1 q=-0.0 size=N/A time=00:00:00.50 bitrate=N/A speed=0.0751x    \rframe=   30 fps=4.1 q=-0.0 size=N/A time=00:00:00.56 bitrate=N/A speed=0.0763x    \rframe=   33 fps=4.0 q=-0.0 size=N/A time=00:00:00.62 bitrate=N/A speed=0.0756x    \rframe=   35 fps=4.0 q=-0.0 size=N/A time=00:00:00.66 bitrate=N/A speed=0.0759x    \rframe=   37 fps=4.0 q=-0.0 size=N/A time=00:00:00.70 bitrate=N/A speed=0.0758x    \rframe=   40 fps=4.1 q=-0.0 size=N/A time=00:00:00.76 bitrate=N/A speed=0.0775x    \rframe=   43 fps=4.0 q=-0.0 size=N/A time=00:00:00.82 bitrate=N/A speed=0.0762x    \rframe=   46 fps=4.1 q=-0.0 size=N/A time=00:00:00.88 bitrate=N/A speed=0.0778x    \rframe=   49 fps=4.0 q=-0.0 size=N/A time=00:00:00.94 bitrate=N/A speed=0.0775x    \rframe=   51 fps=4.0 q=-0.0 size=N/A time=00:00:00.98 bitrate=N/A speed=0.0776x    \rframe=   54 fps=4.1 q=-0.0 size=N/A time=00:00:01.04 bitrate=N/A speed=0.0785x    \rframe=   57 fps=4.1 q=-0.0 size=N/A time=00:00:01.10 bitrate=N/A speed=0.0782x    \rframe=   61 fps=4.1 q=-0.0 size=N/A time=00:00:01.18 bitrate=N/A speed=0.0786x    \rframe=   64 fps=4.1 q=-0.0 size=N/A time=00:00:01.24 bitrate=N/A speed=0.0798x    \rframe=   66 fps=4.1 q=-0.0 size=N/A time=00:00:01.28 bitrate=N/A speed=0.079x    \rframe=   69 fps=4.1 q=-0.0 size=N/A time=00:00:01.34 bitrate=N/A speed=0.0796x    \rframe=   71 fps=4.1 q=-0.0 size=N/A time=00:00:01.38 bitrate=N/A speed=0.0796x    \rframe=   74 fps=4.1 q=-0.0 size=N/A time=00:00:01.44 bitrate=N/A speed=0.0795x    \rframe=   77 fps=4.1 q=-0.0 size=N/A time=00:00:01.50 bitrate=N/A speed=0.08x    \rframe=   79 fps=4.1 q=-0.0 size=N/A time=00:00:01.54 bitrate=N/A speed=0.0798x    \rframe=   82 fps=4.1 q=-0.0 size=N/A time=00:00:01.60 bitrate=N/A speed=0.0796x    \rframe=   85 fps=4.1 q=-0.0 size=N/A time=00:00:01.66 bitrate=N/A speed=0.0802x    \rframe=   88 fps=4.1 q=-0.0 size=N/A time=00:00:01.72 bitrate=N/A speed=0.0796x    \rframe=   90 fps=4.1 q=-0.0 size=N/A time=00:00:01.76 bitrate=N/A speed=0.0794x    \rframe=   92 fps=4.1 q=-0.0 size=N/A time=00:00:01.80 bitrate=N/A speed=0.0793x    \rframe=   96 fps=4.1 q=-0.0 size=N/A time=00:00:01.88 bitrate=N/A speed=0.0796x    \rframe=   98 fps=4.1 q=-0.0 size=N/A time=00:00:01.92 bitrate=N/A speed=0.0796x    \rframe=  100 fps=4.0 q=-0.0 Lsize=N/A time=00:00:02.00 bitrate=N/A speed=0.0801x    \n",
            "video:446114kB audio:0kB subtitle:0kB other streams:0kB global headers:0kB muxing overhead: unknown\n"
          ],
          "name": "stdout"
        }
      ]
    },
    {
      "cell_type": "code",
      "metadata": {
        "id": "RnG0jwq7WIVk",
        "outputId": "0d18877a-08ec-4389-c383-76782f2dcefd",
        "colab": {
          "base_uri": "https://localhost:8080/",
          "height": 54
        }
      },
      "source": [
        "!sh JCT_VC_extract_compressed_pngs.sh ClassB_mkv/Cactus_H265_19.mkv ClassB_compressed_PNGS/Cactus/H265_19/im%d.png"
      ],
      "execution_count": null,
      "outputs": [
        {
          "output_type": "stream",
          "text": [
            "frame=    4 fps=0.0 q=-0.0 size=N/A time=00:00:00.04 bitrate=N/A speed=0.0488x    \rframe=    7 fps=5.3 q=-0.0 size=N/A time=00:00:00.10 bitrate=N/A speed=0.0756x    \rframe=   11 fps=4.8 q=-0.0 size=N/A time=00:00:00.18 bitrate=N/A speed=0.0788x    \rframe=   14 fps=5.0 q=-0.0 size=N/A time=00:00:00.24 bitrate=N/A speed=0.0856x    \rframe=   17 fps=4.7 q=-0.0 size=N/A time=00:00:00.30 bitrate=N/A speed=0.0836x    \rframe=   20 fps=4.8 q=-0.0 size=N/A time=00:00:00.36 bitrate=N/A speed=0.0864x    \rframe=   23 fps=4.6 q=-0.0 size=N/A time=00:00:00.42 bitrate=N/A speed=0.0849x    \rframe=   25 fps=4.6 q=-0.0 size=N/A time=00:00:00.46 bitrate=N/A speed=0.0841x    \rframe=   29 fps=4.6 q=-0.0 size=N/A time=00:00:00.54 bitrate=N/A speed=0.0855x    \rframe=   32 fps=4.7 q=-0.0 size=N/A time=00:00:00.60 bitrate=N/A speed=0.0877x    \rframe=   35 fps=4.7 q=-0.0 size=N/A time=00:00:00.66 bitrate=N/A speed=0.0881x    \rframe=   38 fps=4.7 q=-0.0 size=N/A time=00:00:00.72 bitrate=N/A speed=0.0887x    \rframe=   41 fps=4.6 q=-0.0 size=N/A time=00:00:00.78 bitrate=N/A speed=0.087x    \rframe=   45 fps=4.7 q=-0.0 size=N/A time=00:00:00.86 bitrate=N/A speed=0.089x    \rframe=   48 fps=4.6 q=-0.0 size=N/A time=00:00:00.92 bitrate=N/A speed=0.089x    \rframe=   50 fps=4.6 q=-0.0 size=N/A time=00:00:00.96 bitrate=N/A speed=0.0882x    \rframe=   52 fps=4.6 q=-0.0 size=N/A time=00:00:01.00 bitrate=N/A speed=0.0878x    \rframe=   55 fps=4.6 q=-0.0 size=N/A time=00:00:01.06 bitrate=N/A speed=0.0878x    \rframe=   58 fps=4.5 q=-0.0 size=N/A time=00:00:01.12 bitrate=N/A speed=0.0878x    \rframe=   61 fps=4.6 q=-0.0 size=N/A time=00:00:01.18 bitrate=N/A speed=0.0885x    \rframe=   64 fps=4.5 q=-0.0 size=N/A time=00:00:01.24 bitrate=N/A speed=0.0874x    \rframe=   68 fps=4.6 q=-0.0 size=N/A time=00:00:01.32 bitrate=N/A speed=0.0883x    \rframe=   70 fps=4.5 q=-0.0 size=N/A time=00:00:01.36 bitrate=N/A speed=0.0878x    \rframe=   73 fps=4.5 q=-0.0 size=N/A time=00:00:01.42 bitrate=N/A speed=0.088x    \rframe=   76 fps=4.5 q=-0.0 size=N/A time=00:00:01.48 bitrate=N/A speed=0.0883x    \rframe=   80 fps=4.5 q=-0.0 size=N/A time=00:00:01.56 bitrate=N/A speed=0.0885x    \rframe=   84 fps=4.6 q=-0.0 size=N/A time=00:00:01.64 bitrate=N/A speed=0.089x    \rframe=   87 fps=4.6 q=-0.0 size=N/A time=00:00:01.70 bitrate=N/A speed=0.0897x    \rframe=   89 fps=4.6 q=-0.0 size=N/A time=00:00:01.74 bitrate=N/A speed=0.0891x    \rframe=   92 fps=4.5 q=-0.0 size=N/A time=00:00:01.80 bitrate=N/A speed=0.0889x    \rframe=   95 fps=4.6 q=-0.0 size=N/A time=00:00:01.86 bitrate=N/A speed=0.0897x    \rframe=   97 fps=4.6 q=-0.0 size=N/A time=00:00:01.90 bitrate=N/A speed=0.0894x    \rframe=  100 fps=4.6 q=-0.0 size=N/A time=00:00:01.96 bitrate=N/A speed=0.0895x    \rframe=  100 fps=4.5 q=-0.0 Lsize=N/A time=00:00:02.00 bitrate=N/A speed=0.0892x    \n",
            "video:404957kB audio:0kB subtitle:0kB other streams:0kB global headers:0kB muxing overhead: unknown\n"
          ],
          "name": "stdout"
        }
      ]
    },
    {
      "cell_type": "code",
      "metadata": {
        "id": "jEaUiK7IWIVy",
        "outputId": "9d087cb6-abe5-4baa-9b67-eb84c56e58aa",
        "colab": {
          "base_uri": "https://localhost:8080/",
          "height": 54
        }
      },
      "source": [
        "!sh JCT_VC_extract_compressed_pngs.sh ClassB_mkv/Cactus_H265_23.mkv ClassB_compressed_PNGS/Cactus/H265_23/im%d.png"
      ],
      "execution_count": null,
      "outputs": [
        {
          "output_type": "stream",
          "text": [
            "frame=    4 fps=0.0 q=-0.0 size=N/A time=00:00:00.04 bitrate=N/A speed=0.0479x    \rframe=    8 fps=6.0 q=-0.0 size=N/A time=00:00:00.12 bitrate=N/A speed=0.0899x    \rframe=   11 fps=5.2 q=-0.0 size=N/A time=00:00:00.18 bitrate=N/A speed=0.0857x    \rframe=   15 fps=5.2 q=-0.0 size=N/A time=00:00:00.26 bitrate=N/A speed=0.0908x    \rframe=   19 fps=5.3 q=-0.0 size=N/A time=00:00:00.34 bitrate=N/A speed=0.0956x    \rframe=   22 fps=5.4 q=-0.0 size=N/A time=00:00:00.40 bitrate=N/A speed=0.0983x    \rframe=   23 fps=5.0 q=-0.0 size=N/A time=00:00:00.42 bitrate=N/A speed=0.0911x    \rframe=   28 fps=5.2 q=-0.0 size=N/A time=00:00:00.52 bitrate=N/A speed=0.0969x    \rframe=   32 fps=5.3 q=-0.0 size=N/A time=00:00:00.60 bitrate=N/A speed=0.0985x    \rframe=   35 fps=5.2 q=-0.0 size=N/A time=00:00:00.66 bitrate=N/A speed=0.0984x    \rframe=   38 fps=5.2 q=-0.0 size=N/A time=00:00:00.72 bitrate=N/A speed=0.0984x    \rframe=   41 fps=5.0 q=-0.0 size=N/A time=00:00:00.78 bitrate=N/A speed=0.0944x    \rframe=   46 fps=5.1 q=-0.0 size=N/A time=00:00:00.88 bitrate=N/A speed=0.0969x    \rframe=   50 fps=5.1 q=-0.0 size=N/A time=00:00:00.96 bitrate=N/A speed=0.0981x    \rframe=   53 fps=5.2 q=-0.0 size=N/A time=00:00:01.02 bitrate=N/A speed=0.0992x    \rframe=   56 fps=5.1 q=-0.0 size=N/A time=00:00:01.08 bitrate=N/A speed=0.0993x    \rframe=   59 fps=5.1 q=-0.0 size=N/A time=00:00:01.14 bitrate=N/A speed=0.0985x    \rframe=   63 fps=5.2 q=-0.0 size=N/A time=00:00:01.22 bitrate=N/A speed= 0.1x    \rframe=   66 fps=5.2 q=-0.0 size=N/A time=00:00:01.28 bitrate=N/A speed= 0.1x    \rframe=   69 fps=5.1 q=-0.0 size=N/A time=00:00:01.34 bitrate=N/A speed=0.0998x    \rframe=   72 fps=5.1 q=-0.0 size=N/A time=00:00:01.40 bitrate=N/A speed= 0.1x    \rframe=   75 fps=5.1 q=-0.0 size=N/A time=00:00:01.46 bitrate=N/A speed= 0.1x    \rframe=   78 fps=5.1 q=-0.0 size=N/A time=00:00:01.52 bitrate=N/A speed=0.0996x    \rframe=   81 fps=5.1 q=-0.0 size=N/A time=00:00:01.58 bitrate=N/A speed=0.0997x    \rframe=   84 fps=5.1 q=-0.0 size=N/A time=00:00:01.64 bitrate=N/A speed=0.0995x    \rframe=   88 fps=5.1 q=-0.0 size=N/A time=00:00:01.72 bitrate=N/A speed=0.0997x    \rframe=   92 fps=5.1 q=-0.0 size=N/A time=00:00:01.80 bitrate=N/A speed= 0.1x    \rframe=   94 fps=5.1 q=-0.0 size=N/A time=00:00:01.84 bitrate=N/A speed=0.0994x    \rframe=   98 fps=5.1 q=-0.0 size=N/A time=00:00:01.92 bitrate=N/A speed= 0.1x    \rframe=  100 fps=5.0 q=-0.0 Lsize=N/A time=00:00:02.00 bitrate=N/A speed=0.0997x    \n",
            "video:367630kB audio:0kB subtitle:0kB other streams:0kB global headers:0kB muxing overhead: unknown\n"
          ],
          "name": "stdout"
        }
      ]
    },
    {
      "cell_type": "code",
      "metadata": {
        "id": "u69aLdwZWIV5",
        "outputId": "93e63658-a682-4845-b11d-48a8cf999d46",
        "colab": {
          "base_uri": "https://localhost:8080/",
          "height": 54
        }
      },
      "source": [
        "!sh JCT_VC_extract_compressed_pngs.sh ClassB_mkv/Cactus_H265_27.mkv ClassB_compressed_PNGS/Cactus/H265_27/im%d.png"
      ],
      "execution_count": null,
      "outputs": [
        {
          "output_type": "stream",
          "text": [
            "frame=    4 fps=0.0 q=-0.0 size=N/A time=00:00:00.04 bitrate=N/A speed=0.0588x    \rframe=    9 fps=5.6 q=-0.0 size=N/A time=00:00:00.14 bitrate=N/A speed=0.0875x    \rframe=   13 fps=5.8 q=-0.0 size=N/A time=00:00:00.22 bitrate=N/A speed=0.0983x    \rframe=   17 fps=5.6 q=-0.0 size=N/A time=00:00:00.30 bitrate=N/A speed=0.0986x    \rframe=   20 fps=5.6 q=-0.0 size=N/A time=00:00:00.36 bitrate=N/A speed=0.102x    \rframe=   23 fps=5.4 q=-0.0 size=N/A time=00:00:00.42 bitrate=N/A speed=0.0987x    \rframe=   27 fps=5.5 q=-0.0 size=N/A time=00:00:00.50 bitrate=N/A speed=0.101x    \rframe=   30 fps=5.5 q=-0.0 size=N/A time=00:00:00.56 bitrate=N/A speed=0.102x    \rframe=   33 fps=5.5 q=-0.0 size=N/A time=00:00:00.62 bitrate=N/A speed=0.103x    \rframe=   36 fps=5.5 q=-0.0 size=N/A time=00:00:00.68 bitrate=N/A speed=0.103x    \rframe=   40 fps=5.4 q=-0.0 size=N/A time=00:00:00.76 bitrate=N/A speed=0.102x    \rframe=   43 fps=5.4 q=-0.0 size=N/A time=00:00:00.82 bitrate=N/A speed=0.103x    \rframe=   47 fps=5.4 q=-0.0 size=N/A time=00:00:00.90 bitrate=N/A speed=0.104x    \rframe=   51 fps=5.4 q=-0.0 size=N/A time=00:00:00.98 bitrate=N/A speed=0.103x    \rframe=   55 fps=5.4 q=-0.0 size=N/A time=00:00:01.06 bitrate=N/A speed=0.104x    \rframe=   58 fps=5.4 q=-0.0 size=N/A time=00:00:01.12 bitrate=N/A speed=0.104x    \rframe=   61 fps=5.4 q=-0.0 size=N/A time=00:00:01.18 bitrate=N/A speed=0.104x    \rframe=   65 fps=5.4 q=-0.0 size=N/A time=00:00:01.26 bitrate=N/A speed=0.105x    \rframe=   68 fps=5.4 q=-0.0 size=N/A time=00:00:01.32 bitrate=N/A speed=0.105x    \rframe=   72 fps=5.4 q=-0.0 size=N/A time=00:00:01.40 bitrate=N/A speed=0.105x    \rframe=   76 fps=5.4 q=-0.0 size=N/A time=00:00:01.48 bitrate=N/A speed=0.106x    \rframe=   80 fps=5.5 q=-0.0 size=N/A time=00:00:01.56 bitrate=N/A speed=0.106x    \rframe=   83 fps=5.4 q=-0.0 size=N/A time=00:00:01.62 bitrate=N/A speed=0.106x    \rframe=   87 fps=5.4 q=-0.0 size=N/A time=00:00:01.70 bitrate=N/A speed=0.106x    \rframe=   91 fps=5.5 q=-0.0 size=N/A time=00:00:01.78 bitrate=N/A speed=0.107x    \rframe=   94 fps=5.5 q=-0.0 size=N/A time=00:00:01.84 bitrate=N/A speed=0.107x    \rframe=   98 fps=5.5 q=-0.0 size=N/A time=00:00:01.92 bitrate=N/A speed=0.107x    \rframe=  100 fps=5.3 q=-0.0 Lsize=N/A time=00:00:02.00 bitrate=N/A speed=0.107x    \n",
            "video:345516kB audio:0kB subtitle:0kB other streams:0kB global headers:0kB muxing overhead: unknown\n"
          ],
          "name": "stdout"
        }
      ]
    },
    {
      "cell_type": "code",
      "metadata": {
        "id": "PuYcsvmCWRC3"
      },
      "source": [
        ""
      ],
      "execution_count": null,
      "outputs": []
    },
    {
      "cell_type": "code",
      "metadata": {
        "id": "LYa3OGRfWQ0i"
      },
      "source": [
        ""
      ],
      "execution_count": null,
      "outputs": []
    },
    {
      "cell_type": "code",
      "metadata": {
        "id": "IbFCjnV7WRqB",
        "outputId": "8aa3d142-4886-4f2c-b36e-62f37efacb9b",
        "colab": {
          "base_uri": "https://localhost:8080/",
          "height": 54
        }
      },
      "source": [
        "!sh JCT_VC_extract_compressed_pngs.sh ClassB_mkv/Kimono_H264_15.mkv ClassB_compressed_PNGS/Kimono/H264_15/im%d.png"
      ],
      "execution_count": null,
      "outputs": [
        {
          "output_type": "stream",
          "text": [
            "frame=    4 fps=0.0 q=-0.0 size=N/A time=00:00:00.08 bitrate=N/A speed=0.0981x    \rframe=    9 fps=5.0 q=-0.0 size=N/A time=00:00:00.29 bitrate=N/A speed=0.162x    \rframe=   12 fps=5.0 q=-0.0 size=N/A time=00:00:00.41 bitrate=N/A speed=0.175x    \rframe=   15 fps=4.7 q=-0.0 size=N/A time=00:00:00.54 bitrate=N/A speed=0.171x    \rframe=   18 fps=4.9 q=-0.0 size=N/A time=00:00:00.66 bitrate=N/A speed=0.18x    \rframe=   21 fps=4.7 q=-0.0 size=N/A time=00:00:00.79 bitrate=N/A speed=0.178x    \rframe=   24 fps=4.8 q=-0.0 size=N/A time=00:00:00.91 bitrate=N/A speed=0.183x    \rframe=   27 fps=4.7 q=-0.0 size=N/A time=00:00:01.04 bitrate=N/A speed=0.182x    \rframe=   30 fps=4.8 q=-0.0 size=N/A time=00:00:01.16 bitrate=N/A speed=0.187x    \rframe=   33 fps=4.5 q=-0.0 size=N/A time=00:00:01.29 bitrate=N/A speed=0.177x    \rframe=   37 fps=4.6 q=-0.0 size=N/A time=00:00:01.45 bitrate=N/A speed=0.18x    \rframe=   40 fps=4.6 q=-0.0 size=N/A time=00:00:01.58 bitrate=N/A speed=0.183x    \rframe=   43 fps=4.6 q=-0.0 size=N/A time=00:00:01.70 bitrate=N/A speed=0.181x    \rframe=   46 fps=4.6 q=-0.0 size=N/A time=00:00:01.83 bitrate=N/A speed=0.183x    \rframe=   49 fps=4.6 q=-0.0 size=N/A time=00:00:01.95 bitrate=N/A speed=0.182x    \rframe=   52 fps=4.6 q=-0.0 size=N/A time=00:00:02.08 bitrate=N/A speed=0.184x    \rframe=   55 fps=4.6 q=-0.0 size=N/A time=00:00:02.20 bitrate=N/A speed=0.185x    \rframe=   58 fps=4.5 q=-0.0 size=N/A time=00:00:02.33 bitrate=N/A speed=0.182x    \rframe=   61 fps=4.6 q=-0.0 size=N/A time=00:00:02.45 bitrate=N/A speed=0.184x    \rframe=   64 fps=4.5 q=-0.0 size=N/A time=00:00:02.58 bitrate=N/A speed=0.183x    \rframe=   68 fps=4.5 q=-0.0 size=N/A time=00:00:02.75 bitrate=N/A speed=0.184x    \rframe=   71 fps=4.6 q=-0.0 size=N/A time=00:00:02.87 bitrate=N/A speed=0.185x    \rframe=   74 fps=4.5 q=-0.0 size=N/A time=00:00:03.00 bitrate=N/A speed=0.184x    \rframe=   77 fps=4.5 q=-0.0 size=N/A time=00:00:03.12 bitrate=N/A speed=0.184x    \rframe=   80 fps=4.6 q=-0.0 size=N/A time=00:00:03.25 bitrate=N/A speed=0.185x    \rframe=   83 fps=4.5 q=-0.0 size=N/A time=00:00:03.37 bitrate=N/A speed=0.185x    \rframe=   86 fps=4.5 q=-0.0 size=N/A time=00:00:03.50 bitrate=N/A speed=0.185x    \rframe=   89 fps=4.5 q=-0.0 size=N/A time=00:00:03.62 bitrate=N/A speed=0.185x    \rframe=   92 fps=4.5 q=-0.0 size=N/A time=00:00:03.75 bitrate=N/A speed=0.185x    \rframe=   95 fps=4.6 q=-0.0 size=N/A time=00:00:03.87 bitrate=N/A speed=0.186x    \rframe=   98 fps=4.5 q=-0.0 size=N/A time=00:00:04.00 bitrate=N/A speed=0.185x    \rframe=  100 fps=4.5 q=-0.0 Lsize=N/A time=00:00:04.16 bitrate=N/A speed=0.186x    \n",
            "video:389583kB audio:0kB subtitle:0kB other streams:0kB global headers:0kB muxing overhead: unknown\n"
          ],
          "name": "stdout"
        }
      ]
    },
    {
      "cell_type": "code",
      "metadata": {
        "id": "4JldVOK0WRqM",
        "outputId": "fe1c1730-f321-44d2-b68e-5ed730244d45",
        "colab": {
          "base_uri": "https://localhost:8080/",
          "height": 54
        }
      },
      "source": [
        "!sh JCT_VC_extract_compressed_pngs.sh ClassB_mkv/Kimono_H264_19.mkv ClassB_compressed_PNGS/Kimono/H264_19/im%d.png"
      ],
      "execution_count": null,
      "outputs": [
        {
          "output_type": "stream",
          "text": [
            "frame=    4 fps=0.0 q=-0.0 size=N/A time=00:00:00.08 bitrate=N/A speed=0.0981x    \rframe=    7 fps=5.0 q=-0.0 size=N/A time=00:00:00.20 bitrate=N/A speed=0.147x    \rframe=   11 fps=5.2 q=-0.0 size=N/A time=00:00:00.37 bitrate=N/A speed=0.179x    \rframe=   14 fps=5.1 q=-0.0 size=N/A time=00:00:00.50 bitrate=N/A speed=0.183x    \rframe=   17 fps=5.2 q=-0.0 size=N/A time=00:00:00.62 bitrate=N/A speed=0.191x    \rframe=   20 fps=5.1 q=-0.0 size=N/A time=00:00:00.75 bitrate=N/A speed=0.192x    \rframe=   23 fps=5.1 q=-0.0 size=N/A time=00:00:00.87 bitrate=N/A speed=0.196x    \rframe=   26 fps=5.2 q=-0.0 size=N/A time=00:00:01.00 bitrate=N/A speed= 0.2x    \rframe=   29 fps=5.1 q=-0.0 size=N/A time=00:00:01.12 bitrate=N/A speed=0.198x    \rframe=   33 fps=5.1 q=-0.0 size=N/A time=00:00:01.29 bitrate=N/A speed= 0.2x    \rframe=   37 fps=5.1 q=-0.0 size=N/A time=00:00:01.45 bitrate=N/A speed=0.202x    \rframe=   40 fps=5.1 q=-0.0 size=N/A time=00:00:01.58 bitrate=N/A speed=0.203x    \rframe=   43 fps=5.2 q=-0.0 size=N/A time=00:00:01.70 bitrate=N/A speed=0.205x    \rframe=   46 fps=5.1 q=-0.0 size=N/A time=00:00:01.83 bitrate=N/A speed=0.204x    \rframe=   47 fps=4.9 q=-0.0 size=N/A time=00:00:01.87 bitrate=N/A speed=0.197x    \rframe=   52 fps=5.1 q=-0.0 size=N/A time=00:00:02.08 bitrate=N/A speed=0.203x    \rframe=   55 fps=5.1 q=-0.0 size=N/A time=00:00:02.20 bitrate=N/A speed=0.203x    \rframe=   58 fps=5.1 q=-0.0 size=N/A time=00:00:02.33 bitrate=N/A speed=0.204x    \rframe=   61 fps=5.1 q=-0.0 size=N/A time=00:00:02.45 bitrate=N/A speed=0.205x    \rframe=   64 fps=5.1 q=-0.0 size=N/A time=00:00:02.58 bitrate=N/A speed=0.204x    \rframe=   67 fps=5.1 q=-0.0 size=N/A time=00:00:02.70 bitrate=N/A speed=0.206x    \rframe=   70 fps=5.1 q=-0.0 size=N/A time=00:00:02.83 bitrate=N/A speed=0.205x    \rframe=   73 fps=5.1 q=-0.0 size=N/A time=00:00:02.95 bitrate=N/A speed=0.205x    \rframe=   75 fps=5.0 q=-0.0 size=N/A time=00:00:03.04 bitrate=N/A speed=0.202x    \rframe=   78 fps=5.0 q=-0.0 size=N/A time=00:00:03.16 bitrate=N/A speed=0.203x    \rframe=   82 fps=5.0 q=-0.0 size=N/A time=00:00:03.33 bitrate=N/A speed=0.203x    \rframe=   86 fps=5.0 q=-0.0 size=N/A time=00:00:03.50 bitrate=N/A speed=0.204x    \rframe=   89 fps=5.0 q=-0.0 size=N/A time=00:00:03.62 bitrate=N/A speed=0.205x    \rframe=   92 fps=5.0 q=-0.0 size=N/A time=00:00:03.75 bitrate=N/A speed=0.205x    \rframe=   95 fps=5.0 q=-0.0 size=N/A time=00:00:03.87 bitrate=N/A speed=0.206x    \rframe=   98 fps=4.9 q=-0.0 size=N/A time=00:00:04.00 bitrate=N/A speed=0.201x    \rframe=  100 fps=4.9 q=-0.0 Lsize=N/A time=00:00:04.16 bitrate=N/A speed=0.202x    \n",
            "video:346222kB audio:0kB subtitle:0kB other streams:0kB global headers:0kB muxing overhead: unknown\n"
          ],
          "name": "stdout"
        }
      ]
    },
    {
      "cell_type": "code",
      "metadata": {
        "id": "y7kH5RjHWRqW",
        "outputId": "88f50596-88b9-4e38-992f-f69956c83780",
        "colab": {
          "base_uri": "https://localhost:8080/",
          "height": 54
        }
      },
      "source": [
        "!sh JCT_VC_extract_compressed_pngs.sh ClassB_mkv/Kimono_H264_23.mkv ClassB_compressed_PNGS/Kimono/H264_23/im%d.png"
      ],
      "execution_count": null,
      "outputs": [
        {
          "output_type": "stream",
          "text": [
            "frame=    4 fps=0.0 q=-0.0 size=N/A time=00:00:00.08 bitrate=N/A speed=0.12x    \rframe=    9 fps=6.0 q=-0.0 size=N/A time=00:00:00.29 bitrate=N/A speed=0.193x    \rframe=   13 fps=5.6 q=-0.0 size=N/A time=00:00:00.45 bitrate=N/A speed=0.196x    \rframe=   18 fps=5.7 q=-0.0 size=N/A time=00:00:00.66 bitrate=N/A speed=0.21x    \rframe=   22 fps=5.6 q=-0.0 size=N/A time=00:00:00.83 bitrate=N/A speed=0.214x    \rframe=   26 fps=5.6 q=-0.0 size=N/A time=00:00:01.00 bitrate=N/A speed=0.214x    \rframe=   30 fps=5.5 q=-0.0 size=N/A time=00:00:01.16 bitrate=N/A speed=0.214x    \rframe=   34 fps=5.5 q=-0.0 size=N/A time=00:00:01.33 bitrate=N/A speed=0.216x    \rframe=   38 fps=5.5 q=-0.0 size=N/A time=00:00:01.50 bitrate=N/A speed=0.219x    \rframe=   42 fps=5.5 q=-0.0 size=N/A time=00:00:01.66 bitrate=N/A speed=0.219x    \rframe=   46 fps=5.5 q=-0.0 size=N/A time=00:00:01.83 bitrate=N/A speed=0.221x    \rframe=   50 fps=5.5 q=-0.0 size=N/A time=00:00:02.00 bitrate=N/A speed=0.222x    \rframe=   53 fps=5.6 q=-0.0 size=N/A time=00:00:02.12 bitrate=N/A speed=0.223x    \rframe=   56 fps=5.4 q=-0.0 size=N/A time=00:00:02.25 bitrate=N/A speed=0.215x    \rframe=   61 fps=5.5 q=-0.0 size=N/A time=00:00:02.45 bitrate=N/A speed=0.22x    \rframe=   65 fps=5.5 q=-0.0 size=N/A time=00:00:02.62 bitrate=N/A speed=0.222x    \rframe=   69 fps=5.5 q=-0.0 size=N/A time=00:00:02.79 bitrate=N/A speed=0.223x    \rframe=   73 fps=5.6 q=-0.0 size=N/A time=00:00:02.95 bitrate=N/A speed=0.225x    \rframe=   76 fps=5.6 q=-0.0 size=N/A time=00:00:03.08 bitrate=N/A speed=0.225x    \rframe=   80 fps=5.6 q=-0.0 size=N/A time=00:00:03.25 bitrate=N/A speed=0.226x    \rframe=   84 fps=5.6 q=-0.0 size=N/A time=00:00:03.41 bitrate=N/A speed=0.227x    \rframe=   86 fps=5.4 q=-0.0 size=N/A time=00:00:03.50 bitrate=N/A speed=0.222x    \rframe=   91 fps=5.5 q=-0.0 size=N/A time=00:00:03.70 bitrate=N/A speed=0.224x    \rframe=   95 fps=5.5 q=-0.0 size=N/A time=00:00:03.87 bitrate=N/A speed=0.226x    \rframe=   99 fps=5.6 q=-0.0 size=N/A time=00:00:04.04 bitrate=N/A speed=0.227x    \rframe=  100 fps=5.4 q=-0.0 Lsize=N/A time=00:00:04.16 bitrate=N/A speed=0.226x    \n",
            "video:306890kB audio:0kB subtitle:0kB other streams:0kB global headers:0kB muxing overhead: unknown\n"
          ],
          "name": "stdout"
        }
      ]
    },
    {
      "cell_type": "code",
      "metadata": {
        "id": "z4WE53cmWRqe",
        "outputId": "f957b0bc-9753-4e59-f35a-6da9d2ab2403",
        "colab": {
          "base_uri": "https://localhost:8080/",
          "height": 54
        }
      },
      "source": [
        "!sh JCT_VC_extract_compressed_pngs.sh ClassB_mkv/Kimono_H264_27.mkv ClassB_compressed_PNGS/Kimono/H264_27/im%d.png"
      ],
      "execution_count": null,
      "outputs": [
        {
          "output_type": "stream",
          "text": [
            "frame=    4 fps=0.0 q=-0.0 size=N/A time=00:00:00.08 bitrate=N/A speed=0.107x    \rframe=    9 fps=5.8 q=-0.0 size=N/A time=00:00:00.29 bitrate=N/A speed=0.187x    \rframe=   13 fps=5.9 q=-0.0 size=N/A time=00:00:00.45 bitrate=N/A speed=0.209x    \rframe=   15 fps=5.4 q=-0.0 size=N/A time=00:00:00.54 bitrate=N/A speed=0.197x    \rframe=   20 fps=5.7 q=-0.0 size=N/A time=00:00:00.75 bitrate=N/A speed=0.213x    \rframe=   24 fps=5.8 q=-0.0 size=N/A time=00:00:00.91 bitrate=N/A speed=0.221x    \rframe=   28 fps=5.8 q=-0.0 size=N/A time=00:00:01.08 bitrate=N/A speed=0.226x    \rframe=   32 fps=5.9 q=-0.0 size=N/A time=00:00:01.25 bitrate=N/A speed=0.23x    \rframe=   36 fps=6.0 q=-0.0 size=N/A time=00:00:01.41 bitrate=N/A speed=0.235x    \rframe=   39 fps=5.8 q=-0.0 size=N/A time=00:00:01.54 bitrate=N/A speed=0.231x    \rframe=   43 fps=5.9 q=-0.0 size=N/A time=00:00:01.70 bitrate=N/A speed=0.234x    \rframe=   47 fps=5.9 q=-0.0 size=N/A time=00:00:01.87 bitrate=N/A speed=0.236x    \rframe=   51 fps=5.9 q=-0.0 size=N/A time=00:00:02.04 bitrate=N/A speed=0.237x    \rframe=   54 fps=5.9 q=-0.0 size=N/A time=00:00:02.16 bitrate=N/A speed=0.237x    \rframe=   57 fps=5.8 q=-0.0 size=N/A time=00:00:02.29 bitrate=N/A speed=0.235x    \rframe=   61 fps=5.9 q=-0.0 size=N/A time=00:00:02.45 bitrate=N/A speed=0.236x    \rframe=   65 fps=5.9 q=-0.0 size=N/A time=00:00:02.62 bitrate=N/A speed=0.238x    \rframe=   68 fps=5.9 q=-0.0 size=N/A time=00:00:02.75 bitrate=N/A speed=0.238x    \rframe=   72 fps=5.9 q=-0.0 size=N/A time=00:00:02.91 bitrate=N/A speed=0.239x    \rframe=   76 fps=5.9 q=-0.0 size=N/A time=00:00:03.08 bitrate=N/A speed=0.241x    \rframe=   80 fps=5.9 q=-0.0 size=N/A time=00:00:03.25 bitrate=N/A speed=0.242x    \rframe=   83 fps=5.9 q=-0.0 size=N/A time=00:00:03.37 bitrate=N/A speed=0.242x    \rframe=   87 fps=5.9 q=-0.0 size=N/A time=00:00:03.54 bitrate=N/A speed=0.241x    \rframe=   91 fps=5.9 q=-0.0 size=N/A time=00:00:03.70 bitrate=N/A speed=0.242x    \rframe=   95 fps=6.0 q=-0.0 size=N/A time=00:00:03.87 bitrate=N/A speed=0.243x    \rframe=   99 fps=6.0 q=-0.0 size=N/A time=00:00:04.04 bitrate=N/A speed=0.244x    \rframe=  100 fps=5.8 q=-0.0 Lsize=N/A time=00:00:04.16 bitrate=N/A speed=0.243x    \n",
            "video:280018kB audio:0kB subtitle:0kB other streams:0kB global headers:0kB muxing overhead: unknown\n"
          ],
          "name": "stdout"
        }
      ]
    },
    {
      "cell_type": "code",
      "metadata": {
        "id": "5oyVYINeWRqk"
      },
      "source": [
        ""
      ],
      "execution_count": null,
      "outputs": []
    },
    {
      "cell_type": "code",
      "metadata": {
        "id": "cZy53UOrWRqr",
        "outputId": "59f2faed-ec53-4881-d8fa-be0521f9c275",
        "colab": {
          "base_uri": "https://localhost:8080/",
          "height": 54
        }
      },
      "source": [
        "!sh JCT_VC_extract_compressed_pngs.sh ClassB_mkv/Kimono_H265_15.mkv ClassB_compressed_PNGS/Kimono/H265_15/im%d.png"
      ],
      "execution_count": null,
      "outputs": [
        {
          "output_type": "stream",
          "text": [
            "frame=    4 fps=3.6 q=-0.0 size=N/A time=00:00:00.08 bitrate=N/A speed=0.0747x    \rframe=    7 fps=4.3 q=-0.0 size=N/A time=00:00:00.20 bitrate=N/A speed=0.128x    \rframe=    9 fps=4.2 q=-0.0 size=N/A time=00:00:00.29 bitrate=N/A speed=0.135x    \rframe=   11 fps=4.1 q=-0.0 size=N/A time=00:00:00.37 bitrate=N/A speed=0.141x    \rframe=   14 fps=4.3 q=-0.0 size=N/A time=00:00:00.50 bitrate=N/A speed=0.154x    \rframe=   17 fps=4.2 q=-0.0 size=N/A time=00:00:00.62 bitrate=N/A speed=0.155x    \rframe=   21 fps=4.2 q=-0.0 size=N/A time=00:00:00.79 bitrate=N/A speed=0.157x    \rframe=   24 fps=4.2 q=-0.0 size=N/A time=00:00:00.91 bitrate=N/A speed=0.162x    \rframe=   27 fps=4.3 q=-0.0 size=N/A time=00:00:01.04 bitrate=N/A speed=0.166x    \rframe=   30 fps=4.2 q=-0.0 size=N/A time=00:00:01.16 bitrate=N/A speed=0.164x    \rframe=   33 fps=4.3 q=-0.0 size=N/A time=00:00:01.29 bitrate=N/A speed=0.168x    \rframe=   35 fps=4.2 q=-0.0 size=N/A time=00:00:01.37 bitrate=N/A speed=0.166x    \rframe=   38 fps=4.2 q=-0.0 size=N/A time=00:00:01.50 bitrate=N/A speed=0.166x    \rframe=   41 fps=4.2 q=-0.0 size=N/A time=00:00:01.62 bitrate=N/A speed=0.168x    \rframe=   44 fps=4.2 q=-0.0 size=N/A time=00:00:01.75 bitrate=N/A speed=0.168x    \rframe=   47 fps=4.2 q=-0.0 size=N/A time=00:00:01.87 bitrate=N/A speed=0.168x    \rframe=   49 fps=4.2 q=-0.0 size=N/A time=00:00:01.95 bitrate=N/A speed=0.168x    \rframe=   51 fps=4.2 q=-0.0 size=N/A time=00:00:02.04 bitrate=N/A speed=0.168x    \rframe=   54 fps=4.2 q=-0.0 size=N/A time=00:00:02.16 bitrate=N/A speed=0.169x    \rframe=   57 fps=4.2 q=-0.0 size=N/A time=00:00:02.29 bitrate=N/A speed=0.168x    \rframe=   60 fps=4.2 q=-0.0 size=N/A time=00:00:02.41 bitrate=N/A speed=0.17x    \rframe=   63 fps=4.2 q=-0.0 size=N/A time=00:00:02.54 bitrate=N/A speed=0.169x    \rframe=   66 fps=4.3 q=-0.0 size=N/A time=00:00:02.66 bitrate=N/A speed=0.172x    \rframe=   68 fps=4.2 q=-0.0 size=N/A time=00:00:02.75 bitrate=N/A speed=0.172x    \rframe=   70 fps=4.2 q=-0.0 size=N/A time=00:00:02.83 bitrate=N/A speed=0.171x    \rframe=   73 fps=4.2 q=-0.0 size=N/A time=00:00:02.95 bitrate=N/A speed=0.171x    \rframe=   76 fps=4.2 q=-0.0 size=N/A time=00:00:03.08 bitrate=N/A speed=0.171x    \rframe=   79 fps=4.2 q=-0.0 size=N/A time=00:00:03.20 bitrate=N/A speed=0.171x    \rframe=   82 fps=4.2 q=-0.0 size=N/A time=00:00:03.33 bitrate=N/A speed=0.171x    \rframe=   85 fps=4.2 q=-0.0 size=N/A time=00:00:03.45 bitrate=N/A speed=0.172x    \rframe=   88 fps=4.2 q=-0.0 size=N/A time=00:00:03.58 bitrate=N/A speed=0.172x    \rframe=   90 fps=4.2 q=-0.0 size=N/A time=00:00:03.66 bitrate=N/A speed=0.171x    \rframe=   94 fps=4.2 q=-0.0 size=N/A time=00:00:03.83 bitrate=N/A speed=0.172x    \rframe=   98 fps=4.2 q=-0.0 size=N/A time=00:00:04.00 bitrate=N/A speed=0.172x    \rframe=  100 fps=4.1 q=-0.0 Lsize=N/A time=00:00:04.16 bitrate=N/A speed=0.173x    \n",
            "video:383185kB audio:0kB subtitle:0kB other streams:0kB global headers:0kB muxing overhead: unknown\n"
          ],
          "name": "stdout"
        }
      ]
    },
    {
      "cell_type": "code",
      "metadata": {
        "id": "Vi9Ww4ruWRqy",
        "outputId": "868af018-a91c-432b-aa45-86b638e517bb",
        "colab": {
          "base_uri": "https://localhost:8080/",
          "height": 54
        }
      },
      "source": [
        "!sh JCT_VC_extract_compressed_pngs.sh ClassB_mkv/Kimono_H265_19.mkv ClassB_compressed_PNGS/Kimono/H265_19/im%d.png"
      ],
      "execution_count": null,
      "outputs": [
        {
          "output_type": "stream",
          "text": [
            "frame=    4 fps=0.0 q=-0.0 size=N/A time=00:00:00.08 bitrate=N/A speed=0.0941x    \rframe=    9 fps=5.2 q=-0.0 size=N/A time=00:00:00.29 bitrate=N/A speed=0.168x    \rframe=   13 fps=5.1 q=-0.0 size=N/A time=00:00:00.45 bitrate=N/A speed=0.179x    \rframe=   17 fps=5.0 q=-0.0 size=N/A time=00:00:00.62 bitrate=N/A speed=0.185x    \rframe=   20 fps=5.0 q=-0.0 size=N/A time=00:00:00.75 bitrate=N/A speed=0.188x    \rframe=   22 fps=4.8 q=-0.0 size=N/A time=00:00:00.83 bitrate=N/A speed=0.183x    \rframe=   25 fps=4.9 q=-0.0 size=N/A time=00:00:00.95 bitrate=N/A speed=0.187x    \rframe=   28 fps=4.9 q=-0.0 size=N/A time=00:00:01.08 bitrate=N/A speed=0.189x    \rframe=   31 fps=4.9 q=-0.0 size=N/A time=00:00:01.20 bitrate=N/A speed=0.19x    \rframe=   34 fps=4.9 q=-0.0 size=N/A time=00:00:01.33 bitrate=N/A speed=0.192x    \rframe=   37 fps=4.9 q=-0.0 size=N/A time=00:00:01.45 bitrate=N/A speed=0.193x    \rframe=   39 fps=4.8 q=-0.0 size=N/A time=00:00:01.54 bitrate=N/A speed=0.19x    \rframe=   43 fps=4.9 q=-0.0 size=N/A time=00:00:01.70 bitrate=N/A speed=0.194x    \rframe=   45 fps=4.8 q=-0.0 size=N/A time=00:00:01.79 bitrate=N/A speed=0.192x    \rframe=   48 fps=4.9 q=-0.0 size=N/A time=00:00:01.91 bitrate=N/A speed=0.194x    \rframe=   51 fps=4.7 q=-0.0 size=N/A time=00:00:02.04 bitrate=N/A speed=0.19x    \rframe=   54 fps=4.8 q=-0.0 size=N/A time=00:00:02.16 bitrate=N/A speed=0.191x    \rframe=   57 fps=4.7 q=-0.0 size=N/A time=00:00:02.29 bitrate=N/A speed=0.19x    \rframe=   60 fps=4.8 q=-0.0 size=N/A time=00:00:02.41 bitrate=N/A speed=0.193x    \rframe=   63 fps=4.8 q=-0.0 size=N/A time=00:00:02.54 bitrate=N/A speed=0.192x    \rframe=   66 fps=4.8 q=-0.0 size=N/A time=00:00:02.66 bitrate=N/A speed=0.193x    \rframe=   69 fps=4.8 q=-0.0 size=N/A time=00:00:02.79 bitrate=N/A speed=0.193x    \rframe=   72 fps=4.7 q=-0.0 size=N/A time=00:00:02.91 bitrate=N/A speed=0.191x    \rframe=   76 fps=4.7 q=-0.0 size=N/A time=00:00:03.08 bitrate=N/A speed=0.191x    \rframe=   80 fps=4.7 q=-0.0 size=N/A time=00:00:03.25 bitrate=N/A speed=0.192x    \rframe=   83 fps=4.7 q=-0.0 size=N/A time=00:00:03.37 bitrate=N/A speed=0.193x    \rframe=   86 fps=4.8 q=-0.0 size=N/A time=00:00:03.50 bitrate=N/A speed=0.194x    \rframe=   88 fps=4.7 q=-0.0 size=N/A time=00:00:03.58 bitrate=N/A speed=0.193x    \rframe=   91 fps=4.7 q=-0.0 size=N/A time=00:00:03.70 bitrate=N/A speed=0.193x    \rframe=   94 fps=4.7 q=-0.0 size=N/A time=00:00:03.83 bitrate=N/A speed=0.193x    \rframe=   97 fps=4.7 q=-0.0 size=N/A time=00:00:03.95 bitrate=N/A speed=0.193x    \rframe=  100 fps=4.7 q=-0.0 size=N/A time=00:00:04.08 bitrate=N/A speed=0.194x    \rframe=  100 fps=4.6 q=-0.0 Lsize=N/A time=00:00:04.16 bitrate=N/A speed=0.193x    \n",
            "video:360285kB audio:0kB subtitle:0kB other streams:0kB global headers:0kB muxing overhead: unknown\n"
          ],
          "name": "stdout"
        }
      ]
    },
    {
      "cell_type": "code",
      "metadata": {
        "id": "nWJhgwReWRq5",
        "outputId": "6625309a-594a-4ee7-fa17-66f7137c03e4",
        "colab": {
          "base_uri": "https://localhost:8080/",
          "height": 54
        }
      },
      "source": [
        "!sh JCT_VC_extract_compressed_pngs.sh ClassB_mkv/Kimono_H265_23.mkv ClassB_compressed_PNGS/Kimono/H265_23/im%d.png"
      ],
      "execution_count": null,
      "outputs": [
        {
          "output_type": "stream",
          "text": [
            "frame=    4 fps=0.0 q=-0.0 size=N/A time=00:00:00.08 bitrate=N/A speed=0.113x    \rframe=    9 fps=5.7 q=-0.0 size=N/A time=00:00:00.29 bitrate=N/A speed=0.184x    \rframe=   13 fps=5.7 q=-0.0 size=N/A time=00:00:00.45 bitrate=N/A speed=0.201x    \rframe=   16 fps=5.5 q=-0.0 size=N/A time=00:00:00.58 bitrate=N/A speed= 0.2x    \rframe=   19 fps=5.2 q=-0.0 size=N/A time=00:00:00.70 bitrate=N/A speed=0.196x    \rframe=   23 fps=5.2 q=-0.0 size=N/A time=00:00:00.87 bitrate=N/A speed=0.196x    \rframe=   27 fps=5.2 q=-0.0 size=N/A time=00:00:01.04 bitrate=N/A speed=0.199x    \rframe=   31 fps=5.2 q=-0.0 size=N/A time=00:00:01.20 bitrate=N/A speed=0.202x    \rframe=   34 fps=5.2 q=-0.0 size=N/A time=00:00:01.33 bitrate=N/A speed=0.205x    \rframe=   37 fps=5.2 q=-0.0 size=N/A time=00:00:01.45 bitrate=N/A speed=0.205x    \rframe=   39 fps=4.9 q=-0.0 size=N/A time=00:00:01.54 bitrate=N/A speed=0.195x    \rframe=   44 fps=5.1 q=-0.0 size=N/A time=00:00:01.75 bitrate=N/A speed=0.201x    \rframe=   48 fps=5.1 q=-0.0 size=N/A time=00:00:01.91 bitrate=N/A speed=0.203x    \rframe=   52 fps=5.1 q=-0.0 size=N/A time=00:00:02.08 bitrate=N/A speed=0.205x    \rframe=   55 fps=5.1 q=-0.0 size=N/A time=00:00:02.20 bitrate=N/A speed=0.205x    \rframe=   58 fps=5.1 q=-0.0 size=N/A time=00:00:02.33 bitrate=N/A speed=0.206x    \rframe=   61 fps=5.1 q=-0.0 size=N/A time=00:00:02.45 bitrate=N/A speed=0.206x    \rframe=   65 fps=5.1 q=-0.0 size=N/A time=00:00:02.62 bitrate=N/A speed=0.205x    \rframe=   68 fps=5.1 q=-0.0 size=N/A time=00:00:02.75 bitrate=N/A speed=0.206x    \rframe=   71 fps=5.1 q=-0.0 size=N/A time=00:00:02.87 bitrate=N/A speed=0.205x    \rframe=   74 fps=5.1 q=-0.0 size=N/A time=00:00:03.00 bitrate=N/A speed=0.206x    \rframe=   77 fps=5.1 q=-0.0 size=N/A time=00:00:03.12 bitrate=N/A speed=0.206x    \rframe=   81 fps=5.1 q=-0.0 size=N/A time=00:00:03.29 bitrate=N/A speed=0.207x    \rframe=   85 fps=5.1 q=-0.0 size=N/A time=00:00:03.45 bitrate=N/A speed=0.207x    \rframe=   89 fps=5.1 q=-0.0 size=N/A time=00:00:03.62 bitrate=N/A speed=0.207x    \rframe=   91 fps=5.0 q=-0.0 size=N/A time=00:00:03.70 bitrate=N/A speed=0.203x    \rframe=   96 fps=5.0 q=-0.0 size=N/A time=00:00:03.91 bitrate=N/A speed=0.205x    \rframe=  100 fps=5.0 q=-0.0 size=N/A time=00:00:04.08 bitrate=N/A speed=0.206x    \rframe=  100 fps=5.0 q=-0.0 Lsize=N/A time=00:00:04.16 bitrate=N/A speed=0.206x    \n",
            "video:342763kB audio:0kB subtitle:0kB other streams:0kB global headers:0kB muxing overhead: unknown\n"
          ],
          "name": "stdout"
        }
      ]
    },
    {
      "cell_type": "code",
      "metadata": {
        "id": "VpbsKT0EWRrB",
        "outputId": "bbacd548-cc3a-4b51-d427-7f78e993ef48",
        "colab": {
          "base_uri": "https://localhost:8080/",
          "height": 54
        }
      },
      "source": [
        "!sh JCT_VC_extract_compressed_pngs.sh ClassB_mkv/Kimono_H265_27.mkv ClassB_compressed_PNGS/Kimono/H265_27/im%d.png"
      ],
      "execution_count": null,
      "outputs": [
        {
          "output_type": "stream",
          "text": [
            "frame=    4 fps=0.0 q=-0.0 size=N/A time=00:00:00.08 bitrate=N/A speed=0.108x    \rframe=    8 fps=6.0 q=-0.0 size=N/A time=00:00:00.25 bitrate=N/A speed=0.187x    \rframe=   11 fps=5.7 q=-0.0 size=N/A time=00:00:00.37 bitrate=N/A speed=0.194x    \rframe=   15 fps=5.6 q=-0.0 size=N/A time=00:00:00.54 bitrate=N/A speed=0.204x    \rframe=   18 fps=5.6 q=-0.0 size=N/A time=00:00:00.66 bitrate=N/A speed=0.207x    \rframe=   21 fps=5.4 q=-0.0 size=N/A time=00:00:00.79 bitrate=N/A speed=0.204x    \rframe=   24 fps=5.4 q=-0.0 size=N/A time=00:00:00.91 bitrate=N/A speed=0.208x    \rframe=   27 fps=5.4 q=-0.0 size=N/A time=00:00:01.04 bitrate=N/A speed=0.208x    \rframe=   30 fps=5.5 q=-0.0 size=N/A time=00:00:01.16 bitrate=N/A speed=0.212x    \rframe=   33 fps=5.4 q=-0.0 size=N/A time=00:00:01.29 bitrate=N/A speed=0.212x    \rframe=   36 fps=5.4 q=-0.0 size=N/A time=00:00:01.41 bitrate=N/A speed=0.214x    \rframe=   39 fps=5.3 q=-0.0 size=N/A time=00:00:01.54 bitrate=N/A speed=0.209x    \rframe=   41 fps=5.0 q=-0.0 size=N/A time=00:00:01.62 bitrate=N/A speed=0.196x    \rframe=   45 fps=5.1 q=-0.0 size=N/A time=00:00:01.79 bitrate=N/A speed=0.204x    \rframe=   48 fps=5.0 q=-0.0 size=N/A time=00:00:01.91 bitrate=N/A speed=0.202x    \rframe=   52 fps=5.1 q=-0.0 size=N/A time=00:00:02.08 bitrate=N/A speed=0.203x    \rframe=   56 fps=5.1 q=-0.0 size=N/A time=00:00:02.25 bitrate=N/A speed=0.205x    \rframe=   59 fps=5.1 q=-0.0 size=N/A time=00:00:02.37 bitrate=N/A speed=0.207x    \rframe=   62 fps=5.2 q=-0.0 size=N/A time=00:00:02.50 bitrate=N/A speed=0.208x    \rframe=   65 fps=5.1 q=-0.0 size=N/A time=00:00:02.62 bitrate=N/A speed=0.207x    \rframe=   69 fps=5.1 q=-0.0 size=N/A time=00:00:02.79 bitrate=N/A speed=0.208x    \rframe=   73 fps=5.1 q=-0.0 size=N/A time=00:00:02.95 bitrate=N/A speed=0.208x    \rframe=   77 fps=5.1 q=-0.0 size=N/A time=00:00:03.12 bitrate=N/A speed=0.209x    \rframe=   81 fps=5.2 q=-0.0 size=N/A time=00:00:03.29 bitrate=N/A speed=0.209x    \rframe=   85 fps=5.2 q=-0.0 size=N/A time=00:00:03.45 bitrate=N/A speed=0.21x    \rframe=   89 fps=5.2 q=-0.0 size=N/A time=00:00:03.62 bitrate=N/A speed=0.211x    \rframe=   93 fps=5.1 q=-0.0 size=N/A time=00:00:03.79 bitrate=N/A speed=0.209x    \rframe=   97 fps=5.2 q=-0.0 size=N/A time=00:00:03.95 bitrate=N/A speed=0.212x    \rframe=  100 fps=5.2 q=-0.0 size=N/A time=00:00:04.08 bitrate=N/A speed=0.212x    \rframe=  100 fps=5.1 q=-0.0 Lsize=N/A time=00:00:04.16 bitrate=N/A speed=0.211x    \n",
            "video:332152kB audio:0kB subtitle:0kB other streams:0kB global headers:0kB muxing overhead: unknown\n"
          ],
          "name": "stdout"
        }
      ]
    },
    {
      "cell_type": "code",
      "metadata": {
        "id": "sgpcDFJ0WS_U"
      },
      "source": [
        ""
      ],
      "execution_count": null,
      "outputs": []
    },
    {
      "cell_type": "code",
      "metadata": {
        "id": "wj1ctwuHWSyu"
      },
      "source": [
        ""
      ],
      "execution_count": null,
      "outputs": []
    },
    {
      "cell_type": "code",
      "metadata": {
        "id": "gaC37nouWThE",
        "outputId": "28fa42af-706b-4e8d-fcc8-f64c90628a19",
        "colab": {
          "base_uri": "https://localhost:8080/",
          "height": 54
        }
      },
      "source": [
        "!sh JCT_VC_extract_compressed_pngs.sh ClassB_mkv/ParkScene_H264_15.mkv ClassB_compressed_PNGS/ParkScene/H264_15/im%d.png"
      ],
      "execution_count": null,
      "outputs": [
        {
          "output_type": "stream",
          "text": [
            "frame=    4 fps=3.5 q=-0.0 size=N/A time=00:00:00.08 bitrate=N/A speed=0.0736x    \rframe=    6 fps=3.0 q=-0.0 size=N/A time=00:00:00.16 bitrate=N/A speed=0.0824x    \rframe=   10 fps=3.3 q=-0.0 size=N/A time=00:00:00.33 bitrate=N/A speed=0.111x    \rframe=   14 fps=3.5 q=-0.0 size=N/A time=00:00:00.50 bitrate=N/A speed=0.124x    \rframe=   17 fps=3.7 q=-0.0 size=N/A time=00:00:00.62 bitrate=N/A speed=0.137x    \rframe=   20 fps=3.9 q=-0.0 size=N/A time=00:00:00.75 bitrate=N/A speed=0.144x    \rframe=   22 fps=3.8 q=-0.0 size=N/A time=00:00:00.83 bitrate=N/A speed=0.144x    \rframe=   24 fps=3.8 q=-0.0 size=N/A time=00:00:00.91 bitrate=N/A speed=0.144x    \rframe=   26 fps=3.7 q=-0.0 size=N/A time=00:00:01.00 bitrate=N/A speed=0.141x    \rframe=   29 fps=3.7 q=-0.0 size=N/A time=00:00:01.12 bitrate=N/A speed=0.144x    \rframe=   31 fps=3.7 q=-0.0 size=N/A time=00:00:01.20 bitrate=N/A speed=0.146x    \rframe=   33 fps=3.7 q=-0.0 size=N/A time=00:00:01.29 bitrate=N/A speed=0.145x    \rframe=   35 fps=3.7 q=-0.0 size=N/A time=00:00:01.37 bitrate=N/A speed=0.145x    \rframe=   38 fps=3.8 q=-0.0 size=N/A time=00:00:01.50 bitrate=N/A speed=0.148x    \rframe=   41 fps=3.8 q=-0.0 size=N/A time=00:00:01.62 bitrate=N/A speed=0.152x    \rframe=   44 fps=3.9 q=-0.0 size=N/A time=00:00:01.75 bitrate=N/A speed=0.153x    \rframe=   47 fps=3.8 q=-0.0 size=N/A time=00:00:01.87 bitrate=N/A speed=0.153x    \rframe=   49 fps=3.8 q=-0.0 size=N/A time=00:00:01.95 bitrate=N/A speed=0.152x    \rframe=   52 fps=3.9 q=-0.0 size=N/A time=00:00:02.08 bitrate=N/A speed=0.156x    \rframe=   54 fps=3.8 q=-0.0 size=N/A time=00:00:02.16 bitrate=N/A speed=0.154x    \rframe=   57 fps=3.9 q=-0.0 size=N/A time=00:00:02.29 bitrate=N/A speed=0.157x    \rframe=   59 fps=3.9 q=-0.0 size=N/A time=00:00:02.37 bitrate=N/A speed=0.157x    \rframe=   62 fps=3.9 q=-0.0 size=N/A time=00:00:02.50 bitrate=N/A speed=0.158x    \rframe=   65 fps=3.9 q=-0.0 size=N/A time=00:00:02.62 bitrate=N/A speed=0.159x    \rframe=   68 fps=4.0 q=-0.0 size=N/A time=00:00:02.75 bitrate=N/A speed=0.16x    \rframe=   69 fps=3.9 q=-0.0 size=N/A time=00:00:02.79 bitrate=N/A speed=0.158x    \rframe=   73 fps=4.0 q=-0.0 size=N/A time=00:00:02.95 bitrate=N/A speed=0.161x    \rframe=   75 fps=4.0 q=-0.0 size=N/A time=00:00:03.04 bitrate=N/A speed=0.161x    \rframe=   78 fps=4.0 q=-0.0 size=N/A time=00:00:03.16 bitrate=N/A speed=0.162x    \rframe=   81 fps=4.0 q=-0.0 size=N/A time=00:00:03.29 bitrate=N/A speed=0.162x    \rframe=   83 fps=4.0 q=-0.0 size=N/A time=00:00:03.37 bitrate=N/A speed=0.162x    \rframe=   86 fps=4.0 q=-0.0 size=N/A time=00:00:03.50 bitrate=N/A speed=0.163x    \rframe=   89 fps=4.0 q=-0.0 size=N/A time=00:00:03.62 bitrate=N/A speed=0.164x    \rframe=   91 fps=4.0 q=-0.0 size=N/A time=00:00:03.70 bitrate=N/A speed=0.164x    \rframe=   94 fps=4.0 q=-0.0 size=N/A time=00:00:03.83 bitrate=N/A speed=0.164x    \rframe=   95 fps=4.0 q=-0.0 size=N/A time=00:00:03.87 bitrate=N/A speed=0.162x    \rframe=   98 fps=4.0 q=-0.0 size=N/A time=00:00:04.00 bitrate=N/A speed=0.163x    \rframe=  100 fps=3.9 q=-0.0 Lsize=N/A time=00:00:04.16 bitrate=N/A speed=0.165x    \n",
            "video:410086kB audio:0kB subtitle:0kB other streams:0kB global headers:0kB muxing overhead: unknown\n"
          ],
          "name": "stdout"
        }
      ]
    },
    {
      "cell_type": "code",
      "metadata": {
        "id": "fkPDbtKLWThM",
        "outputId": "e96482ec-93c4-41c8-d964-be6ced2292a1",
        "colab": {
          "base_uri": "https://localhost:8080/",
          "height": 54
        }
      },
      "source": [
        "!sh JCT_VC_extract_compressed_pngs.sh ClassB_mkv/ParkScene_H264_19.mkv ClassB_compressed_PNGS/ParkScene/H264_19/im%d.png"
      ],
      "execution_count": null,
      "outputs": [
        {
          "output_type": "stream",
          "text": [
            "frame=    4 fps=0.0 q=-0.0 size=N/A time=00:00:00.08 bitrate=N/A speed=0.102x    \rframe=    7 fps=5.0 q=-0.0 size=N/A time=00:00:00.20 bitrate=N/A speed=0.149x    \rframe=   11 fps=4.7 q=-0.0 size=N/A time=00:00:00.37 bitrate=N/A speed=0.161x    \rframe=   14 fps=4.8 q=-0.0 size=N/A time=00:00:00.50 bitrate=N/A speed=0.171x    \rframe=   17 fps=4.7 q=-0.0 size=N/A time=00:00:00.62 bitrate=N/A speed=0.175x    \rframe=   20 fps=4.7 q=-0.0 size=N/A time=00:00:00.75 bitrate=N/A speed=0.176x    \rframe=   23 fps=4.7 q=-0.0 size=N/A time=00:00:00.87 bitrate=N/A speed=0.177x    \rframe=   27 fps=4.6 q=-0.0 size=N/A time=00:00:01.04 bitrate=N/A speed=0.178x    \rframe=   30 fps=4.7 q=-0.0 size=N/A time=00:00:01.16 bitrate=N/A speed=0.181x    \rframe=   33 fps=4.4 q=-0.0 size=N/A time=00:00:01.29 bitrate=N/A speed=0.174x    \rframe=   36 fps=4.5 q=-0.0 size=N/A time=00:00:01.41 bitrate=N/A speed=0.178x    \rframe=   39 fps=4.6 q=-0.0 size=N/A time=00:00:01.54 bitrate=N/A speed=0.18x    \rframe=   42 fps=4.5 q=-0.0 size=N/A time=00:00:01.66 bitrate=N/A speed=0.18x    \rframe=   45 fps=4.6 q=-0.0 size=N/A time=00:00:01.79 bitrate=N/A speed=0.181x    \rframe=   47 fps=4.5 q=-0.0 size=N/A time=00:00:01.87 bitrate=N/A speed=0.179x    \rframe=   50 fps=4.5 q=-0.0 size=N/A time=00:00:02.00 bitrate=N/A speed=0.182x    \rframe=   53 fps=4.6 q=-0.0 size=N/A time=00:00:02.12 bitrate=N/A speed=0.184x    \rframe=   56 fps=4.5 q=-0.0 size=N/A time=00:00:02.25 bitrate=N/A speed=0.182x    \rframe=   60 fps=4.6 q=-0.0 size=N/A time=00:00:02.41 bitrate=N/A speed=0.183x    \rframe=   63 fps=4.6 q=-0.0 size=N/A time=00:00:02.54 bitrate=N/A speed=0.184x    \rframe=   66 fps=4.5 q=-0.0 size=N/A time=00:00:02.66 bitrate=N/A speed=0.183x    \rframe=   70 fps=4.6 q=-0.0 size=N/A time=00:00:02.83 bitrate=N/A speed=0.184x    \rframe=   74 fps=4.6 q=-0.0 size=N/A time=00:00:03.00 bitrate=N/A speed=0.185x    \rframe=   77 fps=4.6 q=-0.0 size=N/A time=00:00:03.12 bitrate=N/A speed=0.187x    \rframe=   78 fps=4.5 q=-0.0 size=N/A time=00:00:03.16 bitrate=N/A speed=0.184x    \rframe=   81 fps=4.6 q=-0.0 size=N/A time=00:00:03.29 bitrate=N/A speed=0.185x    \rframe=   83 fps=4.5 q=-0.0 size=N/A time=00:00:03.37 bitrate=N/A speed=0.184x    \rframe=   87 fps=4.6 q=-0.0 size=N/A time=00:00:03.54 bitrate=N/A speed=0.186x    \rframe=   90 fps=4.5 q=-0.0 size=N/A time=00:00:03.66 bitrate=N/A speed=0.185x    \rframe=   93 fps=4.5 q=-0.0 size=N/A time=00:00:03.79 bitrate=N/A speed=0.185x    \rframe=   96 fps=4.5 q=-0.0 size=N/A time=00:00:03.91 bitrate=N/A speed=0.184x    \rframe=   99 fps=4.5 q=-0.0 size=N/A time=00:00:04.04 bitrate=N/A speed=0.186x    \rframe=  100 fps=4.5 q=-0.0 Lsize=N/A time=00:00:04.16 bitrate=N/A speed=0.185x    \n",
            "video:375980kB audio:0kB subtitle:0kB other streams:0kB global headers:0kB muxing overhead: unknown\n"
          ],
          "name": "stdout"
        }
      ]
    },
    {
      "cell_type": "code",
      "metadata": {
        "id": "_CkaXsdXWThR",
        "outputId": "3a032621-8255-4b53-a06d-324e3b2216e7",
        "colab": {
          "base_uri": "https://localhost:8080/",
          "height": 54
        }
      },
      "source": [
        "!sh JCT_VC_extract_compressed_pngs.sh ClassB_mkv/ParkScene_H264_23.mkv ClassB_compressed_PNGS/ParkScene/H264_23/im%d.png"
      ],
      "execution_count": null,
      "outputs": [
        {
          "output_type": "stream",
          "text": [
            "frame=    5 fps=0.0 q=-0.0 size=N/A time=00:00:00.12 bitrate=N/A speed=0.248x    \rframe=    8 fps=5.9 q=-0.0 size=N/A time=00:00:00.25 bitrate=N/A speed=0.183x    \rframe=   11 fps=5.3 q=-0.0 size=N/A time=00:00:00.37 bitrate=N/A speed=0.179x    \rframe=   14 fps=5.3 q=-0.0 size=N/A time=00:00:00.50 bitrate=N/A speed=0.19x    \rframe=   18 fps=5.1 q=-0.0 size=N/A time=00:00:00.66 bitrate=N/A speed=0.189x    \rframe=   21 fps=5.1 q=-0.0 size=N/A time=00:00:00.79 bitrate=N/A speed=0.191x    \rframe=   24 fps=4.8 q=-0.0 size=N/A time=00:00:00.91 bitrate=N/A speed=0.182x    \rframe=   28 fps=5.0 q=-0.0 size=N/A time=00:00:01.08 bitrate=N/A speed=0.195x    \rframe=   31 fps=5.0 q=-0.0 size=N/A time=00:00:01.20 bitrate=N/A speed=0.194x    \rframe=   35 fps=5.0 q=-0.0 size=N/A time=00:00:01.37 bitrate=N/A speed=0.197x    \rframe=   39 fps=5.0 q=-0.0 size=N/A time=00:00:01.54 bitrate=N/A speed=0.199x    \rframe=   41 fps=4.9 q=-0.0 size=N/A time=00:00:01.62 bitrate=N/A speed=0.193x    \rframe=   46 fps=5.0 q=-0.0 size=N/A time=00:00:01.83 bitrate=N/A speed=0.198x    \rframe=   50 fps=5.0 q=-0.0 size=N/A time=00:00:02.00 bitrate=N/A speed=0.199x    \rframe=   54 fps=5.0 q=-0.0 size=N/A time=00:00:02.16 bitrate=N/A speed= 0.2x    \rframe=   56 fps=4.9 q=-0.0 size=N/A time=00:00:02.25 bitrate=N/A speed=0.197x    \rframe=   60 fps=5.0 q=-0.0 size=N/A time=00:00:02.41 bitrate=N/A speed=0.201x    \rframe=   63 fps=5.0 q=-0.0 size=N/A time=00:00:02.54 bitrate=N/A speed= 0.2x    \rframe=   66 fps=5.0 q=-0.0 size=N/A time=00:00:02.66 bitrate=N/A speed=0.201x    \rframe=   69 fps=4.9 q=-0.0 size=N/A time=00:00:02.79 bitrate=N/A speed= 0.2x    \rframe=   72 fps=4.9 q=-0.0 size=N/A time=00:00:02.91 bitrate=N/A speed= 0.2x    \rframe=   75 fps=4.9 q=-0.0 size=N/A time=00:00:03.04 bitrate=N/A speed=0.199x    \rframe=   78 fps=4.9 q=-0.0 size=N/A time=00:00:03.16 bitrate=N/A speed= 0.2x    \rframe=   81 fps=4.9 q=-0.0 size=N/A time=00:00:03.29 bitrate=N/A speed= 0.2x    \rframe=   85 fps=4.9 q=-0.0 size=N/A time=00:00:03.45 bitrate=N/A speed= 0.2x    \rframe=   89 fps=4.9 q=-0.0 size=N/A time=00:00:03.62 bitrate=N/A speed= 0.2x    \rframe=   93 fps=4.9 q=-0.0 size=N/A time=00:00:03.79 bitrate=N/A speed=0.201x    \rframe=   97 fps=4.9 q=-0.0 size=N/A time=00:00:03.95 bitrate=N/A speed=0.202x    \rframe=  100 fps=5.0 q=-0.0 size=N/A time=00:00:04.08 bitrate=N/A speed=0.203x    \rframe=  100 fps=4.8 q=-0.0 Lsize=N/A time=00:00:04.16 bitrate=N/A speed=0.202x    \n",
            "video:337718kB audio:0kB subtitle:0kB other streams:0kB global headers:0kB muxing overhead: unknown\n"
          ],
          "name": "stdout"
        }
      ]
    },
    {
      "cell_type": "code",
      "metadata": {
        "id": "OOcCDQGDWThY",
        "outputId": "bb519c51-812c-476f-ac48-21417bd0cb96",
        "colab": {
          "base_uri": "https://localhost:8080/",
          "height": 54
        }
      },
      "source": [
        "!sh JCT_VC_extract_compressed_pngs.sh ClassB_mkv/ParkScene_H264_27.mkv ClassB_compressed_PNGS/ParkScene/H264_27/im%d.png"
      ],
      "execution_count": null,
      "outputs": [
        {
          "output_type": "stream",
          "text": [
            "frame=    5 fps=0.0 q=-0.0 size=N/A time=00:00:00.12 bitrate=N/A speed=0.236x    \rframe=    8 fps=6.4 q=-0.0 size=N/A time=00:00:00.25 bitrate=N/A speed= 0.2x    \rframe=   12 fps=5.9 q=-0.0 size=N/A time=00:00:00.41 bitrate=N/A speed=0.203x    \rframe=   15 fps=5.7 q=-0.0 size=N/A time=00:00:00.54 bitrate=N/A speed=0.205x    \rframe=   19 fps=6.0 q=-0.0 size=N/A time=00:00:00.70 bitrate=N/A speed=0.222x    \rframe=   22 fps=5.8 q=-0.0 size=N/A time=00:00:00.83 bitrate=N/A speed=0.218x    \rframe=   26 fps=5.8 q=-0.0 size=N/A time=00:00:01.00 bitrate=N/A speed=0.222x    \rframe=   29 fps=5.7 q=-0.0 size=N/A time=00:00:01.12 bitrate=N/A speed=0.222x    \rframe=   33 fps=5.9 q=-0.0 size=N/A time=00:00:01.29 bitrate=N/A speed=0.231x    \rframe=   36 fps=5.8 q=-0.0 size=N/A time=00:00:01.41 bitrate=N/A speed=0.229x    \rframe=   40 fps=5.8 q=-0.0 size=N/A time=00:00:01.58 bitrate=N/A speed=0.23x    \rframe=   44 fps=5.6 q=-0.0 size=N/A time=00:00:01.75 bitrate=N/A speed=0.224x    \rframe=   49 fps=5.7 q=-0.0 size=N/A time=00:00:01.95 bitrate=N/A speed=0.23x    \rframe=   53 fps=5.8 q=-0.0 size=N/A time=00:00:02.12 bitrate=N/A speed=0.231x    \rframe=   57 fps=5.8 q=-0.0 size=N/A time=00:00:02.29 bitrate=N/A speed=0.231x    \rframe=   60 fps=5.7 q=-0.0 size=N/A time=00:00:02.41 bitrate=N/A speed=0.231x    \rframe=   64 fps=5.8 q=-0.0 size=N/A time=00:00:02.58 bitrate=N/A speed=0.233x    \rframe=   67 fps=5.8 q=-0.0 size=N/A time=00:00:02.70 bitrate=N/A speed=0.233x    \rframe=   71 fps=5.8 q=-0.0 size=N/A time=00:00:02.87 bitrate=N/A speed=0.233x    \rframe=   74 fps=5.8 q=-0.0 size=N/A time=00:00:03.00 bitrate=N/A speed=0.234x    \rframe=   76 fps=5.6 q=-0.0 size=N/A time=00:00:03.08 bitrate=N/A speed=0.228x    \rframe=   80 fps=5.7 q=-0.0 size=N/A time=00:00:03.25 bitrate=N/A speed=0.231x    \rframe=   83 fps=5.7 q=-0.0 size=N/A time=00:00:03.37 bitrate=N/A speed=0.232x    \rframe=   86 fps=5.7 q=-0.0 size=N/A time=00:00:03.50 bitrate=N/A speed=0.231x    \rframe=   89 fps=5.6 q=-0.0 size=N/A time=00:00:03.62 bitrate=N/A speed=0.226x    \rframe=   94 fps=5.6 q=-0.0 size=N/A time=00:00:03.83 bitrate=N/A speed=0.23x    \rframe=   98 fps=5.6 q=-0.0 size=N/A time=00:00:04.00 bitrate=N/A speed=0.23x    \rframe=  100 fps=5.4 q=-0.0 Lsize=N/A time=00:00:04.16 bitrate=N/A speed=0.225x    \n",
            "video:305535kB audio:0kB subtitle:0kB other streams:0kB global headers:0kB muxing overhead: unknown\n"
          ],
          "name": "stdout"
        }
      ]
    },
    {
      "cell_type": "code",
      "metadata": {
        "id": "GiMwDc5CWThe"
      },
      "source": [
        ""
      ],
      "execution_count": null,
      "outputs": []
    },
    {
      "cell_type": "code",
      "metadata": {
        "id": "-cA3LK8UWThi",
        "outputId": "3be8282d-9e41-4746-86f7-aa87d0454cad",
        "colab": {
          "base_uri": "https://localhost:8080/",
          "height": 54
        }
      },
      "source": [
        "!sh JCT_VC_extract_compressed_pngs.sh ClassB_mkv/ParkScene_H265_15.mkv ClassB_compressed_PNGS/ParkScene/H265_15/im%d.png"
      ],
      "execution_count": null,
      "outputs": [
        {
          "output_type": "stream",
          "text": [
            "frame=    4 fps=0.0 q=-0.0 size=N/A time=00:00:00.08 bitrate=N/A speed=0.117x    \rframe=    6 fps=4.9 q=-0.0 size=N/A time=00:00:00.16 bitrate=N/A speed=0.137x    \rframe=    9 fps=4.9 q=-0.0 size=N/A time=00:00:00.29 bitrate=N/A speed=0.158x    \rframe=   11 fps=4.6 q=-0.0 size=N/A time=00:00:00.37 bitrate=N/A speed=0.156x    \rframe=   13 fps=4.4 q=-0.0 size=N/A time=00:00:00.45 bitrate=N/A speed=0.156x    \rframe=   14 fps=3.9 q=-0.0 size=N/A time=00:00:00.50 bitrate=N/A speed=0.139x    \rframe=   17 fps=4.0 q=-0.0 size=N/A time=00:00:00.62 bitrate=N/A speed=0.147x    \rframe=   19 fps=3.9 q=-0.0 size=N/A time=00:00:00.70 bitrate=N/A speed=0.146x    \rframe=   21 fps=3.8 q=-0.0 size=N/A time=00:00:00.79 bitrate=N/A speed=0.143x    \rframe=   24 fps=3.9 q=-0.0 size=N/A time=00:00:00.91 bitrate=N/A speed=0.148x    \rframe=   27 fps=3.9 q=-0.0 size=N/A time=00:00:01.04 bitrate=N/A speed=0.152x    \rframe=   29 fps=3.9 q=-0.0 size=N/A time=00:00:01.12 bitrate=N/A speed=0.152x    \rframe=   31 fps=3.9 q=-0.0 size=N/A time=00:00:01.20 bitrate=N/A speed=0.152x    \rframe=   33 fps=3.9 q=-0.0 size=N/A time=00:00:01.29 bitrate=N/A speed=0.152x    \rframe=   36 fps=4.0 q=-0.0 size=N/A time=00:00:01.41 bitrate=N/A speed=0.156x    \rframe=   37 fps=3.8 q=-0.0 size=N/A time=00:00:01.45 bitrate=N/A speed=0.148x    \rframe=   40 fps=3.8 q=-0.0 size=N/A time=00:00:01.58 bitrate=N/A speed=0.151x    \rframe=   43 fps=3.9 q=-0.0 size=N/A time=00:00:01.70 bitrate=N/A speed=0.155x    \rframe=   45 fps=3.9 q=-0.0 size=N/A time=00:00:01.79 bitrate=N/A speed=0.155x    \rframe=   47 fps=3.9 q=-0.0 size=N/A time=00:00:01.87 bitrate=N/A speed=0.155x    \rframe=   50 fps=3.9 q=-0.0 size=N/A time=00:00:02.00 bitrate=N/A speed=0.155x    \rframe=   52 fps=3.9 q=-0.0 size=N/A time=00:00:02.08 bitrate=N/A speed=0.155x    \rframe=   55 fps=3.9 q=-0.0 size=N/A time=00:00:02.20 bitrate=N/A speed=0.157x    \rframe=   58 fps=3.9 q=-0.0 size=N/A time=00:00:02.33 bitrate=N/A speed=0.156x    \rframe=   60 fps=3.9 q=-0.0 size=N/A time=00:00:02.41 bitrate=N/A speed=0.156x    \rframe=   63 fps=3.9 q=-0.0 size=N/A time=00:00:02.54 bitrate=N/A speed=0.158x    \rframe=   65 fps=3.8 q=-0.0 size=N/A time=00:00:02.62 bitrate=N/A speed=0.155x    \rframe=   68 fps=3.9 q=-0.0 size=N/A time=00:00:02.75 bitrate=N/A speed=0.157x    \rframe=   70 fps=3.9 q=-0.0 size=N/A time=00:00:02.83 bitrate=N/A speed=0.157x    \rframe=   73 fps=3.9 q=-0.0 size=N/A time=00:00:02.95 bitrate=N/A speed=0.159x    \rframe=   75 fps=3.9 q=-0.0 size=N/A time=00:00:03.04 bitrate=N/A speed=0.159x    \rframe=   78 fps=3.9 q=-0.0 size=N/A time=00:00:03.16 bitrate=N/A speed=0.158x    \rframe=   80 fps=3.9 q=-0.0 size=N/A time=00:00:03.25 bitrate=N/A speed=0.157x    \rframe=   83 fps=3.9 q=-0.0 size=N/A time=00:00:03.37 bitrate=N/A speed=0.159x    \rframe=   85 fps=3.9 q=-0.0 size=N/A time=00:00:03.45 bitrate=N/A speed=0.159x    \rframe=   87 fps=3.9 q=-0.0 size=N/A time=00:00:03.54 bitrate=N/A speed=0.159x    \rframe=   89 fps=3.9 q=-0.0 size=N/A time=00:00:03.62 bitrate=N/A speed=0.159x    \rframe=   91 fps=3.9 q=-0.0 size=N/A time=00:00:03.70 bitrate=N/A speed=0.159x    \rframe=   93 fps=3.9 q=-0.0 size=N/A time=00:00:03.79 bitrate=N/A speed=0.158x    \rframe=   96 fps=3.9 q=-0.0 size=N/A time=00:00:03.91 bitrate=N/A speed=0.16x    \rframe=   98 fps=3.9 q=-0.0 size=N/A time=00:00:04.00 bitrate=N/A speed=0.16x    \rframe=  100 fps=3.9 q=-0.0 Lsize=N/A time=00:00:04.16 bitrate=N/A speed=0.16x    \n",
            "video:412577kB audio:0kB subtitle:0kB other streams:0kB global headers:0kB muxing overhead: unknown\n"
          ],
          "name": "stdout"
        }
      ]
    },
    {
      "cell_type": "code",
      "metadata": {
        "id": "YEhARwx5WThn",
        "outputId": "25483ef0-29cb-4b10-a1e2-db81782af6c0",
        "colab": {
          "base_uri": "https://localhost:8080/",
          "height": 54
        }
      },
      "source": [
        "!sh JCT_VC_extract_compressed_pngs.sh ClassB_mkv/ParkScene_H265_19.mkv ClassB_compressed_PNGS/ParkScene/H265_19/im%d.png"
      ],
      "execution_count": null,
      "outputs": [
        {
          "output_type": "stream",
          "text": [
            "frame=    4 fps=0.0 q=-0.0 size=N/A time=00:00:00.08 bitrate=N/A speed=0.139x    \rframe=    7 fps=6.3 q=-0.0 size=N/A time=00:00:00.20 bitrate=N/A speed=0.187x    \rframe=    8 fps=4.4 q=-0.0 size=N/A time=00:00:00.25 bitrate=N/A speed=0.137x    \rframe=   11 fps=4.6 q=-0.0 size=N/A time=00:00:00.37 bitrate=N/A speed=0.158x    \rframe=   14 fps=4.8 q=-0.0 size=N/A time=00:00:00.50 bitrate=N/A speed=0.17x    \rframe=   16 fps=4.2 q=-0.0 size=N/A time=00:00:00.58 bitrate=N/A speed=0.151x    \rframe=   19 fps=4.1 q=-0.0 size=N/A time=00:00:00.70 bitrate=N/A speed=0.153x    \rframe=   21 fps=4.1 q=-0.0 size=N/A time=00:00:00.79 bitrate=N/A speed=0.153x    \rframe=   23 fps=4.0 q=-0.0 size=N/A time=00:00:00.87 bitrate=N/A speed=0.153x    \rframe=   26 fps=4.2 q=-0.0 size=N/A time=00:00:01.00 bitrate=N/A speed=0.161x    \rframe=   27 fps=3.9 q=-0.0 size=N/A time=00:00:01.04 bitrate=N/A speed=0.151x    \rframe=   30 fps=4.0 q=-0.0 size=N/A time=00:00:01.16 bitrate=N/A speed=0.156x    \rframe=   33 fps=4.0 q=-0.0 size=N/A time=00:00:01.29 bitrate=N/A speed=0.155x    \rframe=   37 fps=4.1 q=-0.0 size=N/A time=00:00:01.45 bitrate=N/A speed=0.16x    \rframe=   40 fps=4.1 q=-0.0 size=N/A time=00:00:01.58 bitrate=N/A speed=0.162x    \rframe=   43 fps=4.1 q=-0.0 size=N/A time=00:00:01.70 bitrate=N/A speed=0.162x    \rframe=   46 fps=4.2 q=-0.0 size=N/A time=00:00:01.83 bitrate=N/A speed=0.166x    \rframe=   47 fps=4.0 q=-0.0 size=N/A time=00:00:01.87 bitrate=N/A speed=0.161x    \rframe=   50 fps=4.1 q=-0.0 size=N/A time=00:00:02.00 bitrate=N/A speed=0.164x    \rframe=   53 fps=4.2 q=-0.0 size=N/A time=00:00:02.12 bitrate=N/A speed=0.166x    \rframe=   56 fps=4.2 q=-0.0 size=N/A time=00:00:02.25 bitrate=N/A speed=0.167x    \rframe=   59 fps=4.2 q=-0.0 size=N/A time=00:00:02.37 bitrate=N/A speed=0.168x    \rframe=   61 fps=4.1 q=-0.0 size=N/A time=00:00:02.45 bitrate=N/A speed=0.165x    \rframe=   65 fps=4.2 q=-0.0 size=N/A time=00:00:02.62 bitrate=N/A speed=0.17x    \rframe=   68 fps=4.2 q=-0.0 size=N/A time=00:00:02.75 bitrate=N/A speed=0.169x    \rframe=   70 fps=4.2 q=-0.0 size=N/A time=00:00:02.83 bitrate=N/A speed=0.169x    \rframe=   72 fps=4.2 q=-0.0 size=N/A time=00:00:02.91 bitrate=N/A speed=0.168x    \rframe=   75 fps=4.2 q=-0.0 size=N/A time=00:00:03.04 bitrate=N/A speed=0.17x    \rframe=   78 fps=4.2 q=-0.0 size=N/A time=00:00:03.16 bitrate=N/A speed=0.169x    \rframe=   81 fps=4.2 q=-0.0 size=N/A time=00:00:03.29 bitrate=N/A speed=0.17x    \rframe=   84 fps=4.2 q=-0.0 size=N/A time=00:00:03.41 bitrate=N/A speed=0.171x    \rframe=   87 fps=4.2 q=-0.0 size=N/A time=00:00:03.54 bitrate=N/A speed=0.171x    \rframe=   89 fps=4.2 q=-0.0 size=N/A time=00:00:03.62 bitrate=N/A speed=0.17x    \rframe=   92 fps=4.2 q=-0.0 size=N/A time=00:00:03.75 bitrate=N/A speed=0.172x    \rframe=   95 fps=4.2 q=-0.0 size=N/A time=00:00:03.87 bitrate=N/A speed=0.172x    \rframe=   98 fps=4.2 q=-0.0 size=N/A time=00:00:04.00 bitrate=N/A speed=0.173x    \rframe=  100 fps=4.1 q=-0.0 Lsize=N/A time=00:00:04.16 bitrate=N/A speed=0.171x    \n",
            "video:390146kB audio:0kB subtitle:0kB other streams:0kB global headers:0kB muxing overhead: unknown\n"
          ],
          "name": "stdout"
        }
      ]
    },
    {
      "cell_type": "code",
      "metadata": {
        "id": "qTufbXopWThr",
        "outputId": "fb34636f-742e-4916-a7db-bfdc732ed35c",
        "colab": {
          "base_uri": "https://localhost:8080/",
          "height": 54
        }
      },
      "source": [
        "!sh JCT_VC_extract_compressed_pngs.sh ClassB_mkv/ParkScene_H265_23.mkv ClassB_compressed_PNGS/ParkScene/H265_23/im%d.png"
      ],
      "execution_count": null,
      "outputs": [
        {
          "output_type": "stream",
          "text": [
            "frame=    4 fps=0.0 q=-0.0 size=N/A time=00:00:00.08 bitrate=N/A speed=0.159x    \rframe=    8 fps=5.6 q=-0.0 size=N/A time=00:00:00.25 bitrate=N/A speed=0.174x    \rframe=   11 fps=5.7 q=-0.0 size=N/A time=00:00:00.37 bitrate=N/A speed=0.194x    \rframe=   14 fps=5.2 q=-0.0 size=N/A time=00:00:00.50 bitrate=N/A speed=0.185x    \rframe=   16 fps=4.6 q=-0.0 size=N/A time=00:00:00.58 bitrate=N/A speed=0.169x    \rframe=   20 fps=5.0 q=-0.0 size=N/A time=00:00:00.75 bitrate=N/A speed=0.189x    \rframe=   23 fps=4.8 q=-0.0 size=N/A time=00:00:00.87 bitrate=N/A speed=0.182x    \rframe=   27 fps=4.8 q=-0.0 size=N/A time=00:00:01.04 bitrate=N/A speed=0.186x    \rframe=   30 fps=4.7 q=-0.0 size=N/A time=00:00:01.16 bitrate=N/A speed=0.182x    \rframe=   33 fps=4.8 q=-0.0 size=N/A time=00:00:01.29 bitrate=N/A speed=0.186x    \rframe=   36 fps=4.7 q=-0.0 size=N/A time=00:00:01.41 bitrate=N/A speed=0.186x    \rframe=   39 fps=4.3 q=-0.0 size=N/A time=00:00:01.54 bitrate=N/A speed=0.169x    \rframe=   42 fps=4.3 q=-0.0 size=N/A time=00:00:01.66 bitrate=N/A speed=0.172x    \rframe=   44 fps=4.2 q=-0.0 size=N/A time=00:00:01.75 bitrate=N/A speed=0.166x    \rframe=   47 fps=4.2 q=-0.0 size=N/A time=00:00:01.87 bitrate=N/A speed=0.169x    \rframe=   50 fps=4.3 q=-0.0 size=N/A time=00:00:02.00 bitrate=N/A speed=0.172x    \rframe=   53 fps=4.3 q=-0.0 size=N/A time=00:00:02.12 bitrate=N/A speed=0.171x    \rframe=   57 fps=4.3 q=-0.0 size=N/A time=00:00:02.29 bitrate=N/A speed=0.172x    \rframe=   60 fps=4.3 q=-0.0 size=N/A time=00:00:02.41 bitrate=N/A speed=0.174x    \rframe=   62 fps=4.2 q=-0.0 size=N/A time=00:00:02.50 bitrate=N/A speed=0.171x    \rframe=   66 fps=4.3 q=-0.0 size=N/A time=00:00:02.66 bitrate=N/A speed=0.175x    \rframe=   69 fps=4.3 q=-0.0 size=N/A time=00:00:02.79 bitrate=N/A speed=0.175x    \rframe=   73 fps=4.4 q=-0.0 size=N/A time=00:00:02.95 bitrate=N/A speed=0.176x    \rframe=   76 fps=4.3 q=-0.0 size=N/A time=00:00:03.08 bitrate=N/A speed=0.174x    \rframe=   80 fps=4.4 q=-0.0 size=N/A time=00:00:03.25 bitrate=N/A speed=0.178x    \rframe=   83 fps=4.4 q=-0.0 size=N/A time=00:00:03.37 bitrate=N/A speed=0.178x    \rframe=   86 fps=4.4 q=-0.0 size=N/A time=00:00:03.50 bitrate=N/A speed=0.18x    \rframe=   89 fps=4.4 q=-0.0 size=N/A time=00:00:03.62 bitrate=N/A speed=0.179x    \rframe=   92 fps=4.4 q=-0.0 size=N/A time=00:00:03.75 bitrate=N/A speed=0.18x    \rframe=   95 fps=4.4 q=-0.0 size=N/A time=00:00:03.87 bitrate=N/A speed=0.18x    \rframe=   99 fps=4.4 q=-0.0 size=N/A time=00:00:04.04 bitrate=N/A speed=0.18x    \rframe=  100 fps=4.3 q=-0.0 Lsize=N/A time=00:00:04.16 bitrate=N/A speed=0.18x    \n",
            "video:366597kB audio:0kB subtitle:0kB other streams:0kB global headers:0kB muxing overhead: unknown\n"
          ],
          "name": "stdout"
        }
      ]
    },
    {
      "cell_type": "code",
      "metadata": {
        "id": "5P717VAcWThy",
        "outputId": "eb0150cc-9b2e-45b3-d4b0-1f0ccbac4592",
        "colab": {
          "base_uri": "https://localhost:8080/",
          "height": 54
        }
      },
      "source": [
        "!sh JCT_VC_extract_compressed_pngs.sh ClassB_mkv/ParkScene_H265_27.mkv ClassB_compressed_PNGS/ParkScene/H265_27/im%d.png"
      ],
      "execution_count": null,
      "outputs": [
        {
          "output_type": "stream",
          "text": [
            "frame=    4 fps=0.0 q=-0.0 size=N/A time=00:00:00.08 bitrate=N/A speed=0.0976x    \rframe=    9 fps=5.3 q=-0.0 size=N/A time=00:00:00.29 bitrate=N/A speed=0.171x    \rframe=   13 fps=5.2 q=-0.0 size=N/A time=00:00:00.45 bitrate=N/A speed=0.183x    \rframe=   17 fps=5.2 q=-0.0 size=N/A time=00:00:00.62 bitrate=N/A speed=0.191x    \rframe=   21 fps=5.1 q=-0.0 size=N/A time=00:00:00.79 bitrate=N/A speed=0.193x    \rframe=   25 fps=5.1 q=-0.0 size=N/A time=00:00:00.95 bitrate=N/A speed=0.195x    \rframe=   29 fps=5.1 q=-0.0 size=N/A time=00:00:01.12 bitrate=N/A speed=0.198x    \rframe=   32 fps=4.9 q=-0.0 size=N/A time=00:00:01.25 bitrate=N/A speed=0.193x    \rframe=   37 fps=5.1 q=-0.0 size=N/A time=00:00:01.45 bitrate=N/A speed=0.199x    \rframe=   40 fps=5.1 q=-0.0 size=N/A time=00:00:01.58 bitrate=N/A speed=0.202x    \rframe=   43 fps=5.1 q=-0.0 size=N/A time=00:00:01.70 bitrate=N/A speed=0.202x    \rframe=   46 fps=5.0 q=-0.0 size=N/A time=00:00:01.83 bitrate=N/A speed=0.199x    \rframe=   50 fps=5.0 q=-0.0 size=N/A time=00:00:02.00 bitrate=N/A speed= 0.2x    \rframe=   54 fps=5.0 q=-0.0 size=N/A time=00:00:02.16 bitrate=N/A speed=0.201x    \rframe=   57 fps=5.0 q=-0.0 size=N/A time=00:00:02.29 bitrate=N/A speed=0.201x    \rframe=   60 fps=4.9 q=-0.0 size=N/A time=00:00:02.41 bitrate=N/A speed=0.197x    \rframe=   63 fps=4.8 q=-0.0 size=N/A time=00:00:02.54 bitrate=N/A speed=0.195x    \rframe=   66 fps=4.8 q=-0.0 size=N/A time=00:00:02.66 bitrate=N/A speed=0.194x    \rframe=   69 fps=4.8 q=-0.0 size=N/A time=00:00:02.79 bitrate=N/A speed=0.196x    \rframe=   72 fps=4.8 q=-0.0 size=N/A time=00:00:02.91 bitrate=N/A speed=0.195x    \rframe=   75 fps=4.8 q=-0.0 size=N/A time=00:00:03.04 bitrate=N/A speed=0.193x    \rframe=   79 fps=4.9 q=-0.0 size=N/A time=00:00:03.20 bitrate=N/A speed=0.197x    \rframe=   82 fps=4.8 q=-0.0 size=N/A time=00:00:03.33 bitrate=N/A speed=0.197x    \rframe=   85 fps=4.9 q=-0.0 size=N/A time=00:00:03.45 bitrate=N/A speed=0.197x    \rframe=   88 fps=4.9 q=-0.0 size=N/A time=00:00:03.58 bitrate=N/A speed=0.198x    \rframe=   89 fps=4.8 q=-0.0 size=N/A time=00:00:03.62 bitrate=N/A speed=0.194x    \rframe=   93 fps=4.9 q=-0.0 size=N/A time=00:00:03.79 bitrate=N/A speed=0.198x    \rframe=   96 fps=4.8 q=-0.0 size=N/A time=00:00:03.91 bitrate=N/A speed=0.197x    \rframe=   99 fps=4.8 q=-0.0 size=N/A time=00:00:04.04 bitrate=N/A speed=0.198x    \rframe=  100 fps=4.6 q=-0.0 Lsize=N/A time=00:00:04.16 bitrate=N/A speed=0.194x    \n",
            "video:345499kB audio:0kB subtitle:0kB other streams:0kB global headers:0kB muxing overhead: unknown\n"
          ],
          "name": "stdout"
        }
      ]
    },
    {
      "cell_type": "code",
      "metadata": {
        "id": "MOWpLp-hXH4Z"
      },
      "source": [
        ""
      ],
      "execution_count": null,
      "outputs": []
    },
    {
      "cell_type": "code",
      "metadata": {
        "id": "jaZ_8084bcxd"
      },
      "source": [
        ""
      ],
      "execution_count": null,
      "outputs": []
    },
    {
      "cell_type": "code",
      "metadata": {
        "id": "0B5kX_i4bc5f"
      },
      "source": [
        ""
      ],
      "execution_count": null,
      "outputs": []
    },
    {
      "cell_type": "code",
      "metadata": {
        "id": "BcGkI7ICbdRU",
        "outputId": "2524a527-204d-48bf-b59a-0aa4010b0df4",
        "colab": {
          "base_uri": "https://localhost:8080/",
          "height": 54
        }
      },
      "source": [
        "!python psnr_msssim_calc.py -i ClassB_frames/BasketballDrive/ -o ClassB_compressed_PNGS/BasketballDrive/H264_15/ "
      ],
      "execution_count": null,
      "outputs": [
        {
          "output_type": "stream",
          "text": [
            "Average\n",
            "psnr = 37.74590778, ms-ssim =0.98000131\n"
          ],
          "name": "stdout"
        }
      ]
    },
    {
      "cell_type": "code",
      "metadata": {
        "id": "om5jWncpdpSn",
        "outputId": "68b663e4-c89d-42c4-931f-b6af6d924e93",
        "colab": {
          "base_uri": "https://localhost:8080/",
          "height": 54
        }
      },
      "source": [
        "!python psnr_msssim_calc.py -i ClassB_frames/BasketballDrive/ -o ClassB_compressed_PNGS/BasketballDrive/H264_19/ "
      ],
      "execution_count": null,
      "outputs": [
        {
          "output_type": "stream",
          "text": [
            "Average\n",
            "psnr = 36.01097186, ms-ssim =0.97283158\n"
          ],
          "name": "stdout"
        }
      ]
    },
    {
      "cell_type": "code",
      "metadata": {
        "id": "r2KX9Xr5dp6K",
        "outputId": "611ab703-d047-4982-bfae-5d9451bec41f",
        "colab": {
          "base_uri": "https://localhost:8080/",
          "height": 54
        }
      },
      "source": [
        "!python psnr_msssim_calc.py -i ClassB_frames/BasketballDrive/ -o ClassB_compressed_PNGS/BasketballDrive/H264_23/ "
      ],
      "execution_count": null,
      "outputs": [
        {
          "output_type": "stream",
          "text": [
            "Average\n",
            "psnr = 34.71736622, ms-ssim =0.96491161\n"
          ],
          "name": "stdout"
        }
      ]
    },
    {
      "cell_type": "code",
      "metadata": {
        "id": "1NH49Kkgdp_k",
        "outputId": "ecd579c3-d778-4b3c-829a-407b70d2d2c0",
        "colab": {
          "base_uri": "https://localhost:8080/",
          "height": 54
        }
      },
      "source": [
        "!python psnr_msssim_calc.py -i ClassB_frames/BasketballDrive/ -o ClassB_compressed_PNGS/BasketballDrive/H264_27/ "
      ],
      "execution_count": null,
      "outputs": [
        {
          "output_type": "stream",
          "text": [
            "Average\n",
            "psnr = 33.36082300, ms-ssim =0.95339031\n"
          ],
          "name": "stdout"
        }
      ]
    },
    {
      "cell_type": "code",
      "metadata": {
        "id": "rUH8M0gCdqEs"
      },
      "source": [
        ""
      ],
      "execution_count": null,
      "outputs": []
    },
    {
      "cell_type": "code",
      "metadata": {
        "id": "MjLi0Ln6dxTT",
        "outputId": "6a9f5f83-d3c6-46d9-90bf-bc172ff40296",
        "colab": {
          "base_uri": "https://localhost:8080/",
          "height": 54
        }
      },
      "source": [
        "!python psnr_msssim_calc.py -i ClassB_frames/BasketballDrive/ -o ClassB_compressed_PNGS/BasketballDrive/H265_15/ "
      ],
      "execution_count": null,
      "outputs": [
        {
          "output_type": "stream",
          "text": [
            "Average\n",
            "psnr = 38.36485926, ms-ssim =0.98114971\n"
          ],
          "name": "stdout"
        }
      ]
    },
    {
      "cell_type": "code",
      "metadata": {
        "id": "P7Cj5yE7dxTv",
        "outputId": "def1d44c-07bf-4b7e-82ac-1dc9729f42a6",
        "colab": {
          "base_uri": "https://localhost:8080/",
          "height": 54
        }
      },
      "source": [
        "!python psnr_msssim_calc.py -i ClassB_frames/BasketballDrive/ -o ClassB_compressed_PNGS/BasketballDrive/H265_19/ "
      ],
      "execution_count": null,
      "outputs": [
        {
          "output_type": "stream",
          "text": [
            "Average\n",
            "psnr = 36.69061740, ms-ssim =0.97477363\n"
          ],
          "name": "stdout"
        }
      ]
    },
    {
      "cell_type": "code",
      "metadata": {
        "id": "i4JUPkX1dxUD",
        "outputId": "a7389087-49b3-4c2e-d49b-dd30def6228d",
        "colab": {
          "base_uri": "https://localhost:8080/",
          "height": 54
        }
      },
      "source": [
        "!python psnr_msssim_calc.py -i ClassB_frames/BasketballDrive/ -o ClassB_compressed_PNGS/BasketballDrive/H265_23/ "
      ],
      "execution_count": null,
      "outputs": [
        {
          "output_type": "stream",
          "text": [
            "Average\n",
            "psnr = 35.55390183, ms-ssim =0.96899679\n"
          ],
          "name": "stdout"
        }
      ]
    },
    {
      "cell_type": "code",
      "metadata": {
        "id": "TXh-GdnmdxUQ",
        "outputId": "196c3365-bc42-46d8-854b-d4be91e5e5ea",
        "colab": {
          "base_uri": "https://localhost:8080/",
          "height": 54
        }
      },
      "source": [
        "!python psnr_msssim_calc.py -i ClassB_frames/BasketballDrive/ -o ClassB_compressed_PNGS/BasketballDrive/H265_27/ "
      ],
      "execution_count": null,
      "outputs": [
        {
          "output_type": "stream",
          "text": [
            "Average\n",
            "psnr = 34.40919272, ms-ssim =0.96164739\n"
          ],
          "name": "stdout"
        }
      ]
    },
    {
      "cell_type": "code",
      "metadata": {
        "id": "SH5ZXwk3dqKJ"
      },
      "source": [
        ""
      ],
      "execution_count": null,
      "outputs": []
    },
    {
      "cell_type": "code",
      "metadata": {
        "id": "hpvL8Q-XdqtO"
      },
      "source": [
        ""
      ],
      "execution_count": null,
      "outputs": []
    },
    {
      "cell_type": "code",
      "metadata": {
        "id": "PKun5tqEeYCE",
        "outputId": "deed7fd3-dd3e-4971-b011-7efbac61d14f",
        "colab": {
          "base_uri": "https://localhost:8080/",
          "height": 54
        }
      },
      "source": [
        "!python psnr_msssim_calc.py -i ClassB_frames/BQTerrace/ -o ClassB_compressed_PNGS/BQTerrace/H264_15/ "
      ],
      "execution_count": null,
      "outputs": [
        {
          "output_type": "stream",
          "text": [
            "Average\n",
            "psnr = 34.31683922, ms-ssim =0.98324344\n"
          ],
          "name": "stdout"
        }
      ]
    },
    {
      "cell_type": "code",
      "metadata": {
        "id": "AmlyY9_4eYCf",
        "outputId": "62481834-904b-4c89-b1f9-62092e4abe6f",
        "colab": {
          "base_uri": "https://localhost:8080/",
          "height": 54
        }
      },
      "source": [
        "!python psnr_msssim_calc.py -i ClassB_frames/BQTerrace/ -o ClassB_compressed_PNGS/BQTerrace/H264_19/ "
      ],
      "execution_count": null,
      "outputs": [
        {
          "output_type": "stream",
          "text": [
            "Average\n",
            "psnr = 32.26095088, ms-ssim =0.97622398\n"
          ],
          "name": "stdout"
        }
      ]
    },
    {
      "cell_type": "code",
      "metadata": {
        "id": "mKS5_zI9eYCx",
        "outputId": "4d7ed768-501f-47d7-eb25-f7e5175a2c41",
        "colab": {
          "base_uri": "https://localhost:8080/",
          "height": 54
        }
      },
      "source": [
        "!python psnr_msssim_calc.py -i ClassB_frames/BQTerrace/ -o ClassB_compressed_PNGS/BQTerrace/H264_23/ "
      ],
      "execution_count": null,
      "outputs": [
        {
          "output_type": "stream",
          "text": [
            "Average\n",
            "psnr = 30.65608788, ms-ssim =0.96816869\n"
          ],
          "name": "stdout"
        }
      ]
    },
    {
      "cell_type": "code",
      "metadata": {
        "id": "mysRMxIxeYC9",
        "outputId": "a187b8ac-5ec4-4013-c5ff-6c7ece7a1896",
        "colab": {
          "base_uri": "https://localhost:8080/",
          "height": 54
        }
      },
      "source": [
        "!python psnr_msssim_calc.py -i ClassB_frames/BQTerrace/ -o ClassB_compressed_PNGS/BQTerrace/H264_27/ "
      ],
      "execution_count": null,
      "outputs": [
        {
          "output_type": "stream",
          "text": [
            "Average\n",
            "psnr = 29.13234893, ms-ssim =0.95733065\n"
          ],
          "name": "stdout"
        }
      ]
    },
    {
      "cell_type": "code",
      "metadata": {
        "id": "lqraevpQeYDM"
      },
      "source": [
        ""
      ],
      "execution_count": null,
      "outputs": []
    },
    {
      "cell_type": "code",
      "metadata": {
        "id": "rTG3WE7jeYDW",
        "outputId": "807b7f9b-85ae-4082-c72c-60e050a31091",
        "colab": {
          "base_uri": "https://localhost:8080/",
          "height": 54
        }
      },
      "source": [
        "!python psnr_msssim_calc.py -i ClassB_frames/BQTerrace/ -o ClassB_compressed_PNGS/BQTerrace/H265_15/ "
      ],
      "execution_count": null,
      "outputs": [
        {
          "output_type": "stream",
          "text": [
            "Average\n",
            "psnr = 35.24755605, ms-ssim =0.98471333\n"
          ],
          "name": "stdout"
        }
      ]
    },
    {
      "cell_type": "code",
      "metadata": {
        "id": "8yMGk81LeYDi",
        "outputId": "a75ce1e7-e758-40b7-80da-69400c8ba7ff",
        "colab": {
          "base_uri": "https://localhost:8080/",
          "height": 54
        }
      },
      "source": [
        "!python psnr_msssim_calc.py -i ClassB_frames/BQTerrace/ -o ClassB_compressed_PNGS/BQTerrace/H265_19/ "
      ],
      "execution_count": null,
      "outputs": [
        {
          "output_type": "stream",
          "text": [
            "Average\n",
            "psnr = 33.04451736, ms-ssim =0.97807602\n"
          ],
          "name": "stdout"
        }
      ]
    },
    {
      "cell_type": "code",
      "metadata": {
        "id": "NmnRt5QKeYDs",
        "outputId": "eb703b99-67f8-4d64-b152-88bb1a5ff9e7",
        "colab": {
          "base_uri": "https://localhost:8080/",
          "height": 54
        }
      },
      "source": [
        "!python psnr_msssim_calc.py -i ClassB_frames/BQTerrace/ -o ClassB_compressed_PNGS/BQTerrace/H265_23/ "
      ],
      "execution_count": null,
      "outputs": [
        {
          "output_type": "stream",
          "text": [
            "Average\n",
            "psnr = 31.45074924, ms-ssim =0.97216661\n"
          ],
          "name": "stdout"
        }
      ]
    },
    {
      "cell_type": "code",
      "metadata": {
        "id": "ArqXq6CJeYD0",
        "outputId": "7a6608be-16ed-4763-e36e-10e2beec34ba",
        "colab": {
          "base_uri": "https://localhost:8080/",
          "height": 54
        }
      },
      "source": [
        "!python psnr_msssim_calc.py -i ClassB_frames/BQTerrace/ -o ClassB_compressed_PNGS/BQTerrace/H265_27/ "
      ],
      "execution_count": null,
      "outputs": [
        {
          "output_type": "stream",
          "text": [
            "Average\n",
            "psnr = 30.01206350, ms-ssim =0.96458632\n"
          ],
          "name": "stdout"
        }
      ]
    },
    {
      "cell_type": "code",
      "metadata": {
        "id": "9H6Mygf8eWW-"
      },
      "source": [
        ""
      ],
      "execution_count": null,
      "outputs": []
    },
    {
      "cell_type": "code",
      "metadata": {
        "id": "kuBkGTCUeZIc"
      },
      "source": [
        ""
      ],
      "execution_count": null,
      "outputs": []
    },
    {
      "cell_type": "code",
      "metadata": {
        "id": "W-h94D6eeaft",
        "outputId": "c326bf43-83a1-492c-ebe1-824f89bbdaff",
        "colab": {
          "base_uri": "https://localhost:8080/",
          "height": 54
        }
      },
      "source": [
        "!python psnr_msssim_calc.py -i ClassB_frames/Cactus/ -o ClassB_compressed_PNGS/Cactus/H264_15/ "
      ],
      "execution_count": null,
      "outputs": [
        {
          "output_type": "stream",
          "text": [
            "Average\n",
            "psnr = 34.96475379, ms-ssim =0.97243181\n"
          ],
          "name": "stdout"
        }
      ]
    },
    {
      "cell_type": "code",
      "metadata": {
        "id": "UQ5lppK-eaf5",
        "outputId": "970fe3c0-5f39-415f-f6db-4dcc3f09c281",
        "colab": {
          "base_uri": "https://localhost:8080/",
          "height": 54
        }
      },
      "source": [
        "!python psnr_msssim_calc.py -i ClassB_frames/Cactus/ -o ClassB_compressed_PNGS/Cactus/H264_19/ "
      ],
      "execution_count": null,
      "outputs": [
        {
          "output_type": "stream",
          "text": [
            "Average\n",
            "psnr = 33.35558367, ms-ssim =0.96165305\n"
          ],
          "name": "stdout"
        }
      ]
    },
    {
      "cell_type": "code",
      "metadata": {
        "id": "Sq1BGz4BeagJ",
        "outputId": "d64257a2-ebd8-4d1d-c076-950f71638bbf",
        "colab": {
          "base_uri": "https://localhost:8080/",
          "height": 54
        }
      },
      "source": [
        "!python psnr_msssim_calc.py -i ClassB_frames/Cactus/ -o ClassB_compressed_PNGS/Cactus/H264_23/ "
      ],
      "execution_count": null,
      "outputs": [
        {
          "output_type": "stream",
          "text": [
            "Average\n",
            "psnr = 32.11067684, ms-ssim =0.95206853\n"
          ],
          "name": "stdout"
        }
      ]
    },
    {
      "cell_type": "code",
      "metadata": {
        "id": "-rSWqUBFeagW",
        "outputId": "e5db38d6-3293-4498-fc3e-ba6715a0fcfb",
        "colab": {
          "base_uri": "https://localhost:8080/",
          "height": 54
        }
      },
      "source": [
        "!python psnr_msssim_calc.py -i ClassB_frames/Cactus/ -o ClassB_compressed_PNGS/Cactus/H264_27/ "
      ],
      "execution_count": null,
      "outputs": [
        {
          "output_type": "stream",
          "text": [
            "Average\n",
            "psnr = 30.78684998, ms-ssim =0.94070352\n"
          ],
          "name": "stdout"
        }
      ]
    },
    {
      "cell_type": "code",
      "metadata": {
        "id": "WIiUBpVUeagn"
      },
      "source": [
        ""
      ],
      "execution_count": null,
      "outputs": []
    },
    {
      "cell_type": "code",
      "metadata": {
        "id": "Dus58dUweag3",
        "outputId": "0d5d0e66-fef3-4e3b-9514-28f8e41c4dd8",
        "colab": {
          "base_uri": "https://localhost:8080/",
          "height": 54
        }
      },
      "source": [
        "!python psnr_msssim_calc.py -i ClassB_frames/Cactus/ -o ClassB_compressed_PNGS/Cactus/H265_15/ "
      ],
      "execution_count": null,
      "outputs": [
        {
          "output_type": "stream",
          "text": [
            "Average\n",
            "psnr = 35.95700391, ms-ssim =0.97653378\n"
          ],
          "name": "stdout"
        }
      ]
    },
    {
      "cell_type": "code",
      "metadata": {
        "id": "R9lboO6ZeahH",
        "outputId": "1cd5676b-6787-4d5b-8edf-88228c0a21b6",
        "colab": {
          "base_uri": "https://localhost:8080/",
          "height": 54
        }
      },
      "source": [
        "!python psnr_msssim_calc.py -i ClassB_frames/Cactus/ -o ClassB_compressed_PNGS/Cactus/H265_19/ "
      ],
      "execution_count": null,
      "outputs": [
        {
          "output_type": "stream",
          "text": [
            "Average\n",
            "psnr = 34.14669387, ms-ssim =0.96618628\n"
          ],
          "name": "stdout"
        }
      ]
    },
    {
      "cell_type": "code",
      "metadata": {
        "id": "MxPdxR17eahV",
        "outputId": "637edeb9-66f7-4559-ef1e-3dbef6ec38ae",
        "colab": {
          "base_uri": "https://localhost:8080/",
          "height": 54
        }
      },
      "source": [
        "!python psnr_msssim_calc.py -i ClassB_frames/Cactus/ -o ClassB_compressed_PNGS/Cactus/H265_23/ "
      ],
      "execution_count": null,
      "outputs": [
        {
          "output_type": "stream",
          "text": [
            "Average\n",
            "psnr = 32.85960325, ms-ssim =0.95747809\n"
          ],
          "name": "stdout"
        }
      ]
    },
    {
      "cell_type": "code",
      "metadata": {
        "id": "vgNH0TBQeahf",
        "outputId": "5521325a-4e8a-46fd-a460-33a78157df09",
        "colab": {
          "base_uri": "https://localhost:8080/",
          "height": 54
        }
      },
      "source": [
        "!python psnr_msssim_calc.py -i ClassB_frames/Cactus/ -o ClassB_compressed_PNGS/Cactus/H265_27/ "
      ],
      "execution_count": null,
      "outputs": [
        {
          "output_type": "stream",
          "text": [
            "Average\n",
            "psnr = 31.52822495, ms-ssim =0.94747925\n"
          ],
          "name": "stdout"
        }
      ]
    },
    {
      "cell_type": "code",
      "metadata": {
        "id": "H1ote4NdeZ_n"
      },
      "source": [
        ""
      ],
      "execution_count": null,
      "outputs": []
    },
    {
      "cell_type": "code",
      "metadata": {
        "id": "kCt0xTQIebcq"
      },
      "source": [
        ""
      ],
      "execution_count": null,
      "outputs": []
    },
    {
      "cell_type": "code",
      "metadata": {
        "id": "QyYNemLleb_k",
        "outputId": "9da2c035-1c4f-44ae-dfbc-bfc0fa9cbab8",
        "colab": {
          "base_uri": "https://localhost:8080/",
          "height": 54
        }
      },
      "source": [
        "!python psnr_msssim_calc.py -i ClassB_frames/Kimono/ -o ClassB_compressed_PNGS/Kimono/H264_15/ "
      ],
      "execution_count": null,
      "outputs": [
        {
          "output_type": "stream",
          "text": [
            "Average\n",
            "psnr = 38.45584027, ms-ssim =0.98018614\n"
          ],
          "name": "stdout"
        }
      ]
    },
    {
      "cell_type": "code",
      "metadata": {
        "id": "omaxYtqTeb_s",
        "outputId": "8f02f97e-8b39-4471-c5a7-bcfe0dd808e7",
        "colab": {
          "base_uri": "https://localhost:8080/",
          "height": 54
        }
      },
      "source": [
        "!python psnr_msssim_calc.py -i ClassB_frames/Kimono/ -o ClassB_compressed_PNGS/Kimono/H264_19/ "
      ],
      "execution_count": null,
      "outputs": [
        {
          "output_type": "stream",
          "text": [
            "Average\n",
            "psnr = 36.93979994, ms-ssim =0.97232621\n"
          ],
          "name": "stdout"
        }
      ]
    },
    {
      "cell_type": "code",
      "metadata": {
        "id": "VMymTGuEeb_y",
        "outputId": "1af03603-acc0-42d3-ed34-d71d885cfd5d",
        "colab": {
          "base_uri": "https://localhost:8080/",
          "height": 54
        }
      },
      "source": [
        "!python psnr_msssim_calc.py -i ClassB_frames/Kimono/ -o ClassB_compressed_PNGS/Kimono/H264_23/ "
      ],
      "execution_count": null,
      "outputs": [
        {
          "output_type": "stream",
          "text": [
            "Average\n",
            "psnr = 35.62415791, ms-ssim =0.96305718\n"
          ],
          "name": "stdout"
        }
      ]
    },
    {
      "cell_type": "code",
      "metadata": {
        "id": "vLRuUVwyeb_4",
        "outputId": "065d06a0-049f-4893-b9d5-3a2164786311",
        "colab": {
          "base_uri": "https://localhost:8080/",
          "height": 54
        }
      },
      "source": [
        "!python psnr_msssim_calc.py -i ClassB_frames/Kimono/ -o ClassB_compressed_PNGS/Kimono/H264_27/ "
      ],
      "execution_count": null,
      "outputs": [
        {
          "output_type": "stream",
          "text": [
            "Average\n",
            "psnr = 34.20175060, ms-ssim =0.94980118\n"
          ],
          "name": "stdout"
        }
      ]
    },
    {
      "cell_type": "code",
      "metadata": {
        "id": "CybRuR9HecAB"
      },
      "source": [
        ""
      ],
      "execution_count": null,
      "outputs": []
    },
    {
      "cell_type": "code",
      "metadata": {
        "id": "pQI9u6HFecAK",
        "outputId": "9466f7b9-a6f2-498a-ca4d-e8edaa5641cb",
        "colab": {
          "base_uri": "https://localhost:8080/",
          "height": 54
        }
      },
      "source": [
        "!python psnr_msssim_calc.py -i ClassB_frames/Kimono/ -o ClassB_compressed_PNGS/Kimono/H265_15/ "
      ],
      "execution_count": null,
      "outputs": [
        {
          "output_type": "stream",
          "text": [
            "Average\n",
            "psnr = 39.47015699, ms-ssim =0.98408208\n"
          ],
          "name": "stdout"
        }
      ]
    },
    {
      "cell_type": "code",
      "metadata": {
        "id": "Hw0JRFLkecAR",
        "outputId": "e16f38b2-20fe-474b-dd96-c3c63a6cd608",
        "colab": {
          "base_uri": "https://localhost:8080/",
          "height": 54
        }
      },
      "source": [
        "!python psnr_msssim_calc.py -i ClassB_frames/Kimono/ -o ClassB_compressed_PNGS/Kimono/H265_19/ "
      ],
      "execution_count": null,
      "outputs": [
        {
          "output_type": "stream",
          "text": [
            "Average\n",
            "psnr = 37.84431219, ms-ssim =0.97662945\n"
          ],
          "name": "stdout"
        }
      ]
    },
    {
      "cell_type": "code",
      "metadata": {
        "id": "RIZnbq0aecAW",
        "outputId": "77ae3c26-2e89-4d24-cfca-c6a9b82ac56f",
        "colab": {
          "base_uri": "https://localhost:8080/",
          "height": 54
        }
      },
      "source": [
        "!python psnr_msssim_calc.py -i ClassB_frames/Kimono/ -o ClassB_compressed_PNGS/Kimono/H265_23/ "
      ],
      "execution_count": null,
      "outputs": [
        {
          "output_type": "stream",
          "text": [
            "Average\n",
            "psnr = 36.51853546, ms-ssim =0.96853507\n"
          ],
          "name": "stdout"
        }
      ]
    },
    {
      "cell_type": "code",
      "metadata": {
        "id": "ncD7QOreecAb",
        "outputId": "43e9f8ae-eacf-4590-edda-04eb1cc2c5a5",
        "colab": {
          "base_uri": "https://localhost:8080/",
          "height": 54
        }
      },
      "source": [
        "!python psnr_msssim_calc.py -i ClassB_frames/Kimono/ -o ClassB_compressed_PNGS/Kimono/H265_27/ "
      ],
      "execution_count": null,
      "outputs": [
        {
          "output_type": "stream",
          "text": [
            "Average\n",
            "psnr = 35.21056557, ms-ssim =0.95872683\n"
          ],
          "name": "stdout"
        }
      ]
    },
    {
      "cell_type": "code",
      "metadata": {
        "id": "7GQzOcSjebjz"
      },
      "source": [
        ""
      ],
      "execution_count": null,
      "outputs": []
    },
    {
      "cell_type": "code",
      "metadata": {
        "id": "xM9-ZGS9ecwM"
      },
      "source": [
        ""
      ],
      "execution_count": null,
      "outputs": []
    },
    {
      "cell_type": "code",
      "metadata": {
        "id": "NpgrwZi9edz-",
        "outputId": "eb2b7c4b-81ab-4ac6-86de-f2b89e182c4a",
        "colab": {
          "base_uri": "https://localhost:8080/",
          "height": 54
        }
      },
      "source": [
        "!python psnr_msssim_calc.py -i ClassB_frames/ParkScene/ -o ClassB_compressed_PNGS/ParkScene/H264_15/ "
      ],
      "execution_count": null,
      "outputs": [
        {
          "output_type": "stream",
          "text": [
            "Average\n",
            "psnr = 37.31081343, ms-ssim =0.97983385\n"
          ],
          "name": "stdout"
        }
      ]
    },
    {
      "cell_type": "code",
      "metadata": {
        "id": "IjafVgMEed0E",
        "outputId": "e6c92429-d26b-4dd4-faae-f8bee47fc55b",
        "colab": {
          "base_uri": "https://localhost:8080/",
          "height": 54
        }
      },
      "source": [
        "!python psnr_msssim_calc.py -i ClassB_frames/ParkScene/ -o ClassB_compressed_PNGS/ParkScene/H264_19/ "
      ],
      "execution_count": null,
      "outputs": [
        {
          "output_type": "stream",
          "text": [
            "Average\n",
            "psnr = 35.33710114, ms-ssim =0.97015427\n"
          ],
          "name": "stdout"
        }
      ]
    },
    {
      "cell_type": "code",
      "metadata": {
        "id": "Vwk5gn5wed0L",
        "outputId": "41357714-dac8-47dd-a1d3-be3eb3a90344",
        "colab": {
          "base_uri": "https://localhost:8080/",
          "height": 54
        }
      },
      "source": [
        "!python psnr_msssim_calc.py -i ClassB_frames/ParkScene/ -o ClassB_compressed_PNGS/ParkScene/H264_23/ "
      ],
      "execution_count": null,
      "outputs": [
        {
          "output_type": "stream",
          "text": [
            "Average\n",
            "psnr = 33.67459440, ms-ssim =0.95951591\n"
          ],
          "name": "stdout"
        }
      ]
    },
    {
      "cell_type": "code",
      "metadata": {
        "id": "PveEvp-fed0T",
        "outputId": "b0a2bdf9-926d-402f-a0fa-a9149e64f9e0",
        "colab": {
          "base_uri": "https://localhost:8080/",
          "height": 54
        }
      },
      "source": [
        "!python psnr_msssim_calc.py -i ClassB_frames/ParkScene/ -o ClassB_compressed_PNGS/ParkScene/H264_27/ "
      ],
      "execution_count": null,
      "outputs": [
        {
          "output_type": "stream",
          "text": [
            "Average\n",
            "psnr = 32.07353663, ms-ssim =0.94565090\n"
          ],
          "name": "stdout"
        }
      ]
    },
    {
      "cell_type": "code",
      "metadata": {
        "id": "bZ2LcPVked0Y"
      },
      "source": [
        ""
      ],
      "execution_count": null,
      "outputs": []
    },
    {
      "cell_type": "code",
      "metadata": {
        "id": "Cm_gsaS4ed0g",
        "outputId": "42f4502b-c636-402c-b08d-cfecf997b5b4",
        "colab": {
          "base_uri": "https://localhost:8080/",
          "height": 54
        }
      },
      "source": [
        "!python psnr_msssim_calc.py -i ClassB_frames/ParkScene/ -o ClassB_compressed_PNGS/ParkScene/H265_15/ "
      ],
      "execution_count": null,
      "outputs": [
        {
          "output_type": "stream",
          "text": [
            "Average\n",
            "psnr = 38.40998936, ms-ssim =0.98361215\n"
          ],
          "name": "stdout"
        }
      ]
    },
    {
      "cell_type": "code",
      "metadata": {
        "id": "yI81um3Wed0k",
        "outputId": "108aeceb-e4b9-4875-d7c6-7ae56db5b0b0",
        "colab": {
          "base_uri": "https://localhost:8080/",
          "height": 54
        }
      },
      "source": [
        "!python psnr_msssim_calc.py -i ClassB_frames/ParkScene/ -o ClassB_compressed_PNGS/ParkScene/H265_19/ "
      ],
      "execution_count": null,
      "outputs": [
        {
          "output_type": "stream",
          "text": [
            "Average\n",
            "psnr = 36.26094675, ms-ssim =0.97428154\n"
          ],
          "name": "stdout"
        }
      ]
    },
    {
      "cell_type": "code",
      "metadata": {
        "id": "PTnwjffved0o",
        "outputId": "d29698cb-b59e-495f-b2ed-671037f76c18",
        "colab": {
          "base_uri": "https://localhost:8080/",
          "height": 54
        }
      },
      "source": [
        "!python psnr_msssim_calc.py -i ClassB_frames/ParkScene/ -o ClassB_compressed_PNGS/ParkScene/H265_23/ "
      ],
      "execution_count": null,
      "outputs": [
        {
          "output_type": "stream",
          "text": [
            "Average\n",
            "psnr = 34.50144482, ms-ssim =0.96407463\n"
          ],
          "name": "stdout"
        }
      ]
    },
    {
      "cell_type": "code",
      "metadata": {
        "id": "5typVLRded0t",
        "outputId": "9d406a6b-6a79-4a32-8abc-b576d0f99a63",
        "colab": {
          "base_uri": "https://localhost:8080/",
          "height": 54
        }
      },
      "source": [
        "!python psnr_msssim_calc.py -i ClassB_frames/ParkScene/ -o ClassB_compressed_PNGS/ParkScene/H265_27/ "
      ],
      "execution_count": null,
      "outputs": [
        {
          "output_type": "stream",
          "text": [
            "Average\n",
            "psnr = 32.84755150, ms-ssim =0.95190045\n"
          ],
          "name": "stdout"
        }
      ]
    },
    {
      "cell_type": "code",
      "metadata": {
        "id": "lAAUu5agec03"
      },
      "source": [
        ""
      ],
      "execution_count": null,
      "outputs": []
    }
  ]
}